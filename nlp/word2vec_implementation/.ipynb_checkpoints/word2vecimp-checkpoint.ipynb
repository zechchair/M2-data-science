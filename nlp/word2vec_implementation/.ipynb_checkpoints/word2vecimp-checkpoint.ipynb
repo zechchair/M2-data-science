{
 "cells": [
  {
   "cell_type": "code",
   "execution_count": 3,
   "id": "e316a979-a8e4-44ea-a63c-f868af1e3157",
   "metadata": {},
   "outputs": [
    {
     "data": {
      "text/html": [
       "\n",
       "                <script type=\"application/javascript\" id=\"jupyter_black\">\n",
       "                (function() {\n",
       "                    if (window.IPython === undefined) {\n",
       "                        return\n",
       "                    }\n",
       "                    var msg = \"WARNING: it looks like you might have loaded \" +\n",
       "                        \"jupyter_black in a non-lab notebook with \" +\n",
       "                        \"`is_lab=True`. Please double check, and if \" +\n",
       "                        \"loading with `%load_ext` please review the README!\"\n",
       "                    console.log(msg)\n",
       "                    alert(msg)\n",
       "                })()\n",
       "                </script>\n",
       "                "
      ],
      "text/plain": [
       "<IPython.core.display.HTML object>"
      ]
     },
     "metadata": {},
     "output_type": "display_data"
    }
   ],
   "source": [
    "%load_ext jupyter_black"
   ]
  },
  {
   "cell_type": "code",
   "execution_count": 4,
   "id": "4d46fa24-1855-4dc9-be9b-85b1fb57e5ce",
   "metadata": {},
   "outputs": [],
   "source": [
    "corpus = [\"natural language processing and machine learning is fun and exciting\"]"
   ]
  },
  {
   "cell_type": "code",
   "execution_count": 9,
   "id": "845a1326-11f6-4b76-9829-da8c6aea8c67",
   "metadata": {},
   "outputs": [],
   "source": [
    "tokenized = [item.split() for item in corpus]"
   ]
  },
  {
   "cell_type": "code",
   "execution_count": 7,
   "id": "9916a96c-d472-471e-839c-19adebd07bd6",
   "metadata": {},
   "outputs": [],
   "source": [
    "settings = {\n",
    "    \"window_size\": 2,  # context window +- center word\n",
    "    \"n\": 10,  # dimensions of word embeddings, also refer to size of hidden layer\n",
    "    \"epochs\": 50,  # number of training epochs\n",
    "    \"learning_rate\": 0.01,  # learning rate\n",
    "}"
   ]
  },
  {
   "cell_type": "code",
   "execution_count": null,
   "id": "9bafc28c-0315-4a0f-a1ed-9e3fb4448a00",
   "metadata": {},
   "outputs": [
    {
     "name": "stdout",
     "output_type": "stream",
     "text": [
      "Collecting package metadata (current_repodata.json): | "
     ]
    }
   ],
   "source": [
    "!conda install pandas --y"
   ]
  },
  {
   "cell_type": "code",
   "execution_count": null,
   "id": "39bfd550-2276-4dc4-9699-09b8b1437c62",
   "metadata": {},
   "outputs": [],
   "source": []
  }
 ],
 "metadata": {
  "kernelspec": {
   "display_name": "default:Python",
   "language": "python",
   "name": "conda-env-default-py"
  },
  "language_info": {
   "codemirror_mode": {
    "name": "ipython",
    "version": 3
   },
   "file_extension": ".py",
   "mimetype": "text/x-python",
   "name": "python",
   "nbconvert_exporter": "python",
   "pygments_lexer": "ipython3",
   "version": "3.9.13"
  },
  "widgets": {
   "application/vnd.jupyter.widget-state+json": {
    "state": {},
    "version_major": 2,
    "version_minor": 0
   }
  }
 },
 "nbformat": 4,
 "nbformat_minor": 5
}
