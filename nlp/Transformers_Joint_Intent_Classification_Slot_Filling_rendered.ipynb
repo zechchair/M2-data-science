{
  "cells": [
    {
      "cell_type": "markdown",
      "metadata": {
        "id": "bBb1hsPFt8lV"
      },
      "source": [
        "# Joint Intent Classification and Slot Filling with Transformers\n",
        "\n",
        "The goal of this notebook is to fine-tune a pretrained transformer-based neural network model to convert a user query expressed in English into\n",
        "a representation that is structured enough to be processed by an automated service.\n",
        "\n",
        "Here is an example of interpretation computed by such a Natural Language Understanding system:\n",
        "\n",
        "```python\n",
        ">>> nlu(\"Book a table for two at Le Ritz for Friday night\",\n",
        "        tokenizer, joint_model, intent_names, slot_names)\n",
        "```\n",
        "```\n",
        "{\n",
        "    'intent': 'BookRestaurant',\n",
        "    'slots': {\n",
        "        'party_size_number': 'two',\n",
        "        'restaurant_name': 'Le Ritz',\n",
        "        'timeRange': 'Friday night'\n",
        "    }\n",
        "}\n",
        "```\n",
        "\n",
        "Intent classification is a simple sequence classification problem. The trick is to treat the structured knowledge extraction part (\"Slot Filling\") as token-level classification problem using BIO-annotations:\n",
        "\n",
        "```python\n",
        ">>> show_predictions(\"Book a table for two at Le Ritz for Friday night!\",\n",
        "...                  tokenizer, joint_model, intent_names, slot_names)\n",
        "```\n",
        "```\n",
        "## Intent: BookRestaurant\n",
        "## Slots:\n",
        "      Book : O\n",
        "         a : O\n",
        "     table : O\n",
        "       for : O\n",
        "       two : B-party_size_number\n",
        "        at : O\n",
        "        Le : B-restaurant_name\n",
        "         R : I-restaurant_name\n",
        "     ##itz : I-restaurant_name\n",
        "       for : O\n",
        "    Friday : B-timeRange\n",
        "     night : I-timeRange\n",
        "         ! : O\n",
        "```\n",
        "\n",
        "We will show how to train a such as join \"sequence classification\" and \"token classification\" joint model on a [voice command dataset]() published by snips.ai.\n",
        "\n",
        "\n",
        "This notebook is a partial reproduction of some of the results presented in this paper:\n",
        "\n",
        "BERT for Joint Intent Classification and Slot Filling\n",
        "Qian Chen, Zhu Zhuo, Wen Wang\n",
        "\n",
        "https://arxiv.org/abs/1902.10909"
      ]
    },
    {
      "cell_type": "code",
      "execution_count": 1,
      "metadata": {
        "colab": {
          "base_uri": "https://localhost:8080/",
          "height": 35
        },
        "id": "meK0JpbEPAAA",
        "outputId": "7762859c-18c7-42c4-b22e-5bd940500da0"
      },
      "outputs": [
        {
          "data": {
            "application/vnd.google.colaboratory.intrinsic+json": {
              "type": "string"
            },
            "text/plain": [
              "'2.4.1'"
            ]
          },
          "execution_count": 1,
          "metadata": {
            "tags": []
          },
          "output_type": "execute_result"
        }
      ],
      "source": [
        "import tensorflow as tf\n",
        "tf.__version__"
      ]
    },
    {
      "cell_type": "code",
      "execution_count": 2,
      "metadata": {
        "colab": {
          "base_uri": "https://localhost:8080/"
        },
        "id": "0pualy2lUWAs",
        "outputId": "bfcf9fcd-a573-4e4b-93ef-985137442fd7"
      },
      "outputs": [
        {
          "name": "stdout",
          "output_type": "stream",
          "text": [
            "Wed Mar 17 23:11:37 2021       \n",
            "+-----------------------------------------------------------------------------+\n",
            "| NVIDIA-SMI 460.56       Driver Version: 460.32.03    CUDA Version: 11.2     |\n",
            "|-------------------------------+----------------------+----------------------+\n",
            "| GPU  Name        Persistence-M| Bus-Id        Disp.A | Volatile Uncorr. ECC |\n",
            "| Fan  Temp  Perf  Pwr:Usage/Cap|         Memory-Usage | GPU-Util  Compute M. |\n",
            "|                               |                      |               MIG M. |\n",
            "|===============================+======================+======================|\n",
            "|   0  Tesla T4            Off  | 00000000:00:04.0 Off |                    0 |\n",
            "| N/A   56C    P8    10W /  70W |      0MiB / 15109MiB |      0%      Default |\n",
            "|                               |                      |                  N/A |\n",
            "+-------------------------------+----------------------+----------------------+\n",
            "                                                                               \n",
            "+-----------------------------------------------------------------------------+\n",
            "| Processes:                                                                  |\n",
            "|  GPU   GI   CI        PID   Type   Process name                  GPU Memory |\n",
            "|        ID   ID                                                   Usage      |\n",
            "|=============================================================================|\n",
            "|  No running processes found                                                 |\n",
            "+-----------------------------------------------------------------------------+\n"
          ]
        }
      ],
      "source": [
        "!nvidia-smi"
      ]
    },
    {
      "cell_type": "code",
      "execution_count": 3,
      "metadata": {
        "id": "S7meRWCzubcW"
      },
      "outputs": [],
      "source": [
        "# TODO: update this notebook to work with the latest version of transformers\n",
        "%pip install -q transformers==2.11.0"
      ]
    },
    {
      "cell_type": "markdown",
      "metadata": {
        "id": "GmHZ3QTAcvOt"
      },
      "source": [
        "## The Data\n",
        "\n",
        "We will use a speech command dataset collected, annotated and published by French startup SNIPS.ai (bought in 2019 by Audio device manufacturer Sonos).\n",
        "\n",
        "The original dataset comes in [YAML format with inline markdown annotations](https://snips-nlu.readthedocs.io/en/latest/dataset.html).\n",
        "\n",
        "Instead we will use a preprocessed variant with token level B-I-O annotations closer the representation our model will predict. This variant of the SNIPS\n",
        "dataset was prepared by [Su Zhu](https://github.com/sz128).\n",
        "\n"
      ]
    },
    {
      "cell_type": "code",
      "execution_count": 4,
      "metadata": {
        "id": "xuJFBFbWOW7t"
      },
      "outputs": [],
      "source": [
        "from urllib.request import urlretrieve\n",
        "from pathlib import Path\n",
        "\n",
        "\n",
        "SNIPS_DATA_BASE_URL = (\n",
        "    \"https://github.com/ogrisel/slot_filling_and_intent_detection_of_SLU/blob/\"\n",
        "    \"master/data/snips/\"\n",
        ")\n",
        "for filename in [\"train\", \"valid\", \"test\", \"vocab.intent\", \"vocab.slot\"]:\n",
        "    path = Path(filename)\n",
        "    if not path.exists():\n",
        "        print(f\"Downloading {filename}...\")\n",
        "        urlretrieve(SNIPS_DATA_BASE_URL + filename + \"?raw=true\", path)"
      ]
    },
    {
      "cell_type": "markdown",
      "metadata": {
        "id": "-Xo3f5tNjJCL"
      },
      "source": [
        "Let's have a look at the first lines from the training set:"
      ]
    },
    {
      "cell_type": "code",
      "execution_count": 5,
      "metadata": {
        "colab": {
          "base_uri": "https://localhost:8080/"
        },
        "id": "o4mCRg2UQr1f",
        "outputId": "3988ad09-b04e-4de2-864e-b80eb5afb74d"
      },
      "outputs": [
        {
          "data": {
            "text/plain": [
              "['Add:O Don:B-entity_name and:I-entity_name Sherri:I-entity_name to:O my:B-playlist_owner Meditate:B-playlist to:I-playlist Sounds:I-playlist of:I-playlist Nature:I-playlist playlist:O <=> AddToPlaylist',\n",
              " 'put:O United:B-entity_name Abominations:I-entity_name onto:O my:B-playlist_owner rare:B-playlist groove:I-playlist playlist:O <=> AddToPlaylist',\n",
              " 'add:O the:O tune:B-music_item by:O misato:B-artist watanabe:I-artist to:O the:O Trapeo:B-playlist playlist:O <=> AddToPlaylist',\n",
              " 'add:O this:O artist:B-music_item to:O my:B-playlist_owner this:B-playlist is:I-playlist miguel:I-playlist bosé:I-playlist playlist:O <=> AddToPlaylist',\n",
              " 'add:O heresy:B-entity_name and:I-entity_name the:I-entity_name hotel:I-entity_name choir:I-entity_name to:O the:O evening:B-playlist acoustic:I-playlist playlist:O <=> AddToPlaylist']"
            ]
          },
          "execution_count": 5,
          "metadata": {
            "tags": []
          },
          "output_type": "execute_result"
        }
      ],
      "source": [
        "lines_train = Path(\"train\").read_text(\"utf-8\").strip().splitlines()\n",
        "lines_train[:5]"
      ]
    },
    {
      "cell_type": "markdown",
      "metadata": {
        "id": "ezTIAec5jNlq"
      },
      "source": [
        "Some remarks:\n",
        "\n",
        "- The class label for the voice command appears at the end of each line (after the \"<=>\" marker).\n",
        "- Each word-level token is annotated with B-I-O labels using the \":\" separator.\n",
        "- B/I/O stand for \"Beginning\" / \"Inside\" / \"Outside\"\n",
        "- \"Add:O\" means that the token \"Add\" is \"Outside\" of any annotation span\n",
        "- \"Don:B-entity_name\" means that \"Don\" is the \"Beginning\" of an annotation of type \"entity-name\".\n",
        "- \"and:I-entity_name\" means that \"and\" is \"Inside\" the previously started annotation of type \"entity-name\".\n",
        "\n",
        "\n",
        "Let's write a parsing function and test it on the first line:"
      ]
    },
    {
      "cell_type": "code",
      "execution_count": 6,
      "metadata": {
        "id": "PMzOqdGRWP2u"
      },
      "outputs": [],
      "source": [
        "def parse_line(line):\n",
        "    utterance_data, intent_label = line.split(\" <=> \")\n",
        "    items = utterance_data.split()\n",
        "    words = [item.rsplit(\":\", 1)[0]for item in items]\n",
        "    word_labels = [item.rsplit(\":\", 1)[1]for item in items]\n",
        "    return {\n",
        "        \"intent_label\": intent_label,\n",
        "        \"words\": \" \".join(words),\n",
        "        \"word_labels\": \" \".join(word_labels),\n",
        "        \"length\": len(words),\n",
        "    }"
      ]
    },
    {
      "cell_type": "code",
      "execution_count": 7,
      "metadata": {
        "colab": {
          "base_uri": "https://localhost:8080/"
        },
        "id": "-Sg-hZOJXUPG",
        "outputId": "635c3bc4-e208-4569-bfed-6f46cefa0458"
      },
      "outputs": [
        {
          "data": {
            "text/plain": [
              "{'intent_label': 'AddToPlaylist',\n",
              " 'length': 12,\n",
              " 'word_labels': 'O B-entity_name I-entity_name I-entity_name O B-playlist_owner B-playlist I-playlist I-playlist I-playlist I-playlist O',\n",
              " 'words': 'Add Don and Sherri to my Meditate to Sounds of Nature playlist'}"
            ]
          },
          "execution_count": 7,
          "metadata": {
            "tags": []
          },
          "output_type": "execute_result"
        }
      ],
      "source": [
        "parse_line(lines_train[0])"
      ]
    },
    {
      "cell_type": "markdown",
      "metadata": {
        "id": "hQAwISaFX0zZ"
      },
      "source": [
        "This utterance is a voice command of type \"AddToPlaylist\" with to annotations:\n",
        "\n",
        "- an entity-name: \"Don and Sherri\",\n",
        "- a playlist: \"Medidate to Sounds of Nature\".\n",
        "\n",
        "\n",
        "The goal of this project is to build a baseline Natural Understanding model to analyse such voice commands and predict:\n",
        "\n",
        "- the intent of the speaker: the sentence level class label (\"AddToPlaylist\");\n",
        "- extract the interesting \"slots\" (typed named entities) from the sentence by performing word level classification using the B-I-O tags as target classes. This second task is often referred to as \"NER\" (Named Entity Recognition) in the Natural Language Processing literature. Alternatively this is also known as \"slot filling\" when we expect a fixed set of named entity per sentence of a given class.\n",
        "\n",
        "The list of possible classes for the sentence level and the word level classification problems are given as:\n",
        "\n",
        "\n"
      ]
    },
    {
      "cell_type": "code",
      "execution_count": 8,
      "metadata": {
        "colab": {
          "base_uri": "https://localhost:8080/"
        },
        "id": "q98BNyqOmM1b",
        "outputId": "16911831-ea54-4895-92f5-cc2c07042b1a"
      },
      "outputs": [
        {
          "name": "stdout",
          "output_type": "stream",
          "text": [
            "AddToPlaylist\n",
            "BookRestaurant\n",
            "GetWeather\n",
            "PlayMusic\n",
            "RateBook\n",
            "SearchCreativeWork\n",
            "SearchScreeningEvent\n",
            "\n"
          ]
        }
      ],
      "source": [
        "print(Path(\"vocab.intent\").read_text(\"utf-8\"))"
      ]
    },
    {
      "cell_type": "code",
      "execution_count": 9,
      "metadata": {
        "colab": {
          "base_uri": "https://localhost:8080/"
        },
        "id": "u3h7lLfDmXyn",
        "outputId": "8afa77a3-d7ed-4d23-8074-e6b960457d7a"
      },
      "outputs": [
        {
          "name": "stdout",
          "output_type": "stream",
          "text": [
            "B-album\n",
            "B-artist\n",
            "B-best_rating\n",
            "B-city\n",
            "B-condition_description\n",
            "B-condition_temperature\n",
            "B-country\n",
            "B-cuisine\n",
            "B-current_location\n",
            "B-entity_name\n",
            "B-facility\n",
            "B-genre\n",
            "B-geographic_poi\n",
            "B-location_name\n",
            "B-movie_name\n",
            "B-movie_type\n",
            "B-music_item\n",
            "B-object_location_type\n",
            "B-object_name\n",
            "B-object_part_of_series_type\n",
            "B-object_select\n",
            "B-object_type\n",
            "B-party_size_description\n",
            "B-party_size_number\n",
            "B-playlist\n",
            "B-playlist_owner\n",
            "B-poi\n",
            "B-rating_unit\n",
            "B-rating_value\n",
            "B-restaurant_name\n",
            "B-restaurant_type\n",
            "B-served_dish\n",
            "B-service\n",
            "B-sort\n",
            "B-spatial_relation\n",
            "B-state\n",
            "B-timeRange\n",
            "B-track\n",
            "B-year\n",
            "I-album\n",
            "I-artist\n",
            "I-city\n",
            "I-country\n",
            "I-cuisine\n",
            "I-current_location\n",
            "I-entity_name\n",
            "I-facility\n",
            "I-genre\n",
            "I-geographic_poi\n",
            "I-location_name\n",
            "I-movie_name\n",
            "I-movie_type\n",
            "I-music_item\n",
            "I-object_location_type\n",
            "I-object_name\n",
            "I-object_part_of_series_type\n",
            "I-object_select\n",
            "I-object_type\n",
            "I-party_size_description\n",
            "I-playlist\n",
            "I-playlist_owner\n",
            "I-poi\n",
            "I-restaurant_name\n",
            "I-restaurant_type\n",
            "I-served_dish\n",
            "I-service\n",
            "I-sort\n",
            "I-spatial_relation\n",
            "I-state\n",
            "I-timeRange\n",
            "I-track\n",
            "O\n",
            "\n"
          ]
        }
      ],
      "source": [
        "print(Path(\"vocab.slot\").read_text(\"utf-8\"))"
      ]
    },
    {
      "cell_type": "markdown",
      "metadata": {
        "id": "aIflBkyomf9R"
      },
      "source": [
        "\"POI\" stands for \"Point of Interest\".\n",
        "\n",
        "Let's parse all the lines and store the results in pandas DataFrames:"
      ]
    },
    {
      "cell_type": "code",
      "execution_count": 10,
      "metadata": {
        "colab": {
          "base_uri": "https://localhost:8080/",
          "height": 424
        },
        "id": "rI3gFdEvQvbG",
        "outputId": "6b6341cd-c008-422a-c0f1-316566f2693d"
      },
      "outputs": [
        {
          "data": {
            "text/html": [
              "<div>\n",
              "<style scoped>\n",
              "    .dataframe tbody tr th:only-of-type {\n",
              "        vertical-align: middle;\n",
              "    }\n",
              "\n",
              "    .dataframe tbody tr th {\n",
              "        vertical-align: top;\n",
              "    }\n",
              "\n",
              "    .dataframe thead th {\n",
              "        text-align: right;\n",
              "    }\n",
              "</style>\n",
              "<table border=\"1\" class=\"dataframe\">\n",
              "  <thead>\n",
              "    <tr style=\"text-align: right;\">\n",
              "      <th></th>\n",
              "      <th>intent_label</th>\n",
              "      <th>words</th>\n",
              "      <th>word_labels</th>\n",
              "      <th>length</th>\n",
              "    </tr>\n",
              "  </thead>\n",
              "  <tbody>\n",
              "    <tr>\n",
              "      <th>0</th>\n",
              "      <td>AddToPlaylist</td>\n",
              "      <td>Add Don and Sherri to my Meditate to Sounds of...</td>\n",
              "      <td>O B-entity_name I-entity_name I-entity_name O ...</td>\n",
              "      <td>12</td>\n",
              "    </tr>\n",
              "    <tr>\n",
              "      <th>1</th>\n",
              "      <td>AddToPlaylist</td>\n",
              "      <td>put United Abominations onto my rare groove pl...</td>\n",
              "      <td>O B-entity_name I-entity_name O B-playlist_own...</td>\n",
              "      <td>8</td>\n",
              "    </tr>\n",
              "    <tr>\n",
              "      <th>2</th>\n",
              "      <td>AddToPlaylist</td>\n",
              "      <td>add the tune by misato watanabe to the Trapeo ...</td>\n",
              "      <td>O O B-music_item O B-artist I-artist O O B-pla...</td>\n",
              "      <td>10</td>\n",
              "    </tr>\n",
              "    <tr>\n",
              "      <th>3</th>\n",
              "      <td>AddToPlaylist</td>\n",
              "      <td>add this artist to my this is miguel bosé play...</td>\n",
              "      <td>O O B-music_item O B-playlist_owner B-playlist...</td>\n",
              "      <td>10</td>\n",
              "    </tr>\n",
              "    <tr>\n",
              "      <th>4</th>\n",
              "      <td>AddToPlaylist</td>\n",
              "      <td>add heresy and the hotel choir to the evening ...</td>\n",
              "      <td>O B-entity_name I-entity_name I-entity_name I-...</td>\n",
              "      <td>11</td>\n",
              "    </tr>\n",
              "    <tr>\n",
              "      <th>...</th>\n",
              "      <td>...</td>\n",
              "      <td>...</td>\n",
              "      <td>...</td>\n",
              "      <td>...</td>\n",
              "    </tr>\n",
              "    <tr>\n",
              "      <th>13079</th>\n",
              "      <td>SearchScreeningEvent</td>\n",
              "      <td>find a Consolidated Theatres showing The Good ...</td>\n",
              "      <td>O O B-location_name I-location_name O B-movie_...</td>\n",
              "      <td>10</td>\n",
              "    </tr>\n",
              "    <tr>\n",
              "      <th>13080</th>\n",
              "      <td>SearchScreeningEvent</td>\n",
              "      <td>where can i see animated movies in the neighbo...</td>\n",
              "      <td>O O O O B-movie_type I-movie_type B-spatial_re...</td>\n",
              "      <td>9</td>\n",
              "    </tr>\n",
              "    <tr>\n",
              "      <th>13081</th>\n",
              "      <td>SearchScreeningEvent</td>\n",
              "      <td>Showtimes for animated movies in the area .</td>\n",
              "      <td>O O B-movie_type I-movie_type B-spatial_relati...</td>\n",
              "      <td>8</td>\n",
              "    </tr>\n",
              "    <tr>\n",
              "      <th>13082</th>\n",
              "      <td>SearchScreeningEvent</td>\n",
              "      <td>Which animated movies are playing at Megaplex ...</td>\n",
              "      <td>O B-movie_type I-movie_type O O O B-location_n...</td>\n",
              "      <td>11</td>\n",
              "    </tr>\n",
              "    <tr>\n",
              "      <th>13083</th>\n",
              "      <td>SearchScreeningEvent</td>\n",
              "      <td>What movie schedules start at sunset ?</td>\n",
              "      <td>O B-object_type I-object_type O O B-timeRange O</td>\n",
              "      <td>7</td>\n",
              "    </tr>\n",
              "  </tbody>\n",
              "</table>\n",
              "<p>13084 rows × 4 columns</p>\n",
              "</div>"
            ],
            "text/plain": [
              "               intent_label  ... length\n",
              "0             AddToPlaylist  ...     12\n",
              "1             AddToPlaylist  ...      8\n",
              "2             AddToPlaylist  ...     10\n",
              "3             AddToPlaylist  ...     10\n",
              "4             AddToPlaylist  ...     11\n",
              "...                     ...  ...    ...\n",
              "13079  SearchScreeningEvent  ...     10\n",
              "13080  SearchScreeningEvent  ...      9\n",
              "13081  SearchScreeningEvent  ...      8\n",
              "13082  SearchScreeningEvent  ...     11\n",
              "13083  SearchScreeningEvent  ...      7\n",
              "\n",
              "[13084 rows x 4 columns]"
            ]
          },
          "execution_count": 10,
          "metadata": {
            "tags": []
          },
          "output_type": "execute_result"
        }
      ],
      "source": [
        "import pandas as pd\n",
        "\n",
        "parsed = [parse_line(line) for line in lines_train]\n",
        "\n",
        "df_train = pd.DataFrame([p for p in parsed if p is not None])\n",
        "df_train"
      ]
    },
    {
      "cell_type": "code",
      "execution_count": 11,
      "metadata": {
        "colab": {
          "base_uri": "https://localhost:8080/",
          "height": 424
        },
        "id": "3_GM_JxEVoMH",
        "outputId": "7b3918f7-c3f5-4c5d-ab6c-947fa843a6fd"
      },
      "outputs": [
        {
          "data": {
            "text/html": [
              "<div>\n",
              "<style scoped>\n",
              "    .dataframe tbody tr th:only-of-type {\n",
              "        vertical-align: middle;\n",
              "    }\n",
              "\n",
              "    .dataframe tbody tr th {\n",
              "        vertical-align: top;\n",
              "    }\n",
              "\n",
              "    .dataframe thead th {\n",
              "        text-align: right;\n",
              "    }\n",
              "</style>\n",
              "<table border=\"1\" class=\"dataframe\">\n",
              "  <thead>\n",
              "    <tr style=\"text-align: right;\">\n",
              "      <th></th>\n",
              "      <th>intent_label</th>\n",
              "      <th>words</th>\n",
              "      <th>word_labels</th>\n",
              "      <th>length</th>\n",
              "    </tr>\n",
              "  </thead>\n",
              "  <tbody>\n",
              "    <tr>\n",
              "      <th>0</th>\n",
              "      <td>AddToPlaylist</td>\n",
              "      <td>Add Don and Sherri to my Meditate to Sounds of...</td>\n",
              "      <td>O B-entity_name I-entity_name I-entity_name O ...</td>\n",
              "      <td>12</td>\n",
              "    </tr>\n",
              "    <tr>\n",
              "      <th>1</th>\n",
              "      <td>AddToPlaylist</td>\n",
              "      <td>put United Abominations onto my rare groove pl...</td>\n",
              "      <td>O B-entity_name I-entity_name O B-playlist_own...</td>\n",
              "      <td>8</td>\n",
              "    </tr>\n",
              "    <tr>\n",
              "      <th>2</th>\n",
              "      <td>AddToPlaylist</td>\n",
              "      <td>add the tune by misato watanabe to the Trapeo ...</td>\n",
              "      <td>O O B-music_item O B-artist I-artist O O B-pla...</td>\n",
              "      <td>10</td>\n",
              "    </tr>\n",
              "    <tr>\n",
              "      <th>3</th>\n",
              "      <td>AddToPlaylist</td>\n",
              "      <td>add this artist to my this is miguel bosé play...</td>\n",
              "      <td>O O B-music_item O B-playlist_owner B-playlist...</td>\n",
              "      <td>10</td>\n",
              "    </tr>\n",
              "    <tr>\n",
              "      <th>4</th>\n",
              "      <td>AddToPlaylist</td>\n",
              "      <td>add heresy and the hotel choir to the evening ...</td>\n",
              "      <td>O B-entity_name I-entity_name I-entity_name I-...</td>\n",
              "      <td>11</td>\n",
              "    </tr>\n",
              "    <tr>\n",
              "      <th>...</th>\n",
              "      <td>...</td>\n",
              "      <td>...</td>\n",
              "      <td>...</td>\n",
              "      <td>...</td>\n",
              "    </tr>\n",
              "    <tr>\n",
              "      <th>13079</th>\n",
              "      <td>SearchScreeningEvent</td>\n",
              "      <td>find a Consolidated Theatres showing The Good ...</td>\n",
              "      <td>O O B-location_name I-location_name O B-movie_...</td>\n",
              "      <td>10</td>\n",
              "    </tr>\n",
              "    <tr>\n",
              "      <th>13080</th>\n",
              "      <td>SearchScreeningEvent</td>\n",
              "      <td>where can i see animated movies in the neighbo...</td>\n",
              "      <td>O O O O B-movie_type I-movie_type B-spatial_re...</td>\n",
              "      <td>9</td>\n",
              "    </tr>\n",
              "    <tr>\n",
              "      <th>13081</th>\n",
              "      <td>SearchScreeningEvent</td>\n",
              "      <td>Showtimes for animated movies in the area .</td>\n",
              "      <td>O O B-movie_type I-movie_type B-spatial_relati...</td>\n",
              "      <td>8</td>\n",
              "    </tr>\n",
              "    <tr>\n",
              "      <th>13082</th>\n",
              "      <td>SearchScreeningEvent</td>\n",
              "      <td>Which animated movies are playing at Megaplex ...</td>\n",
              "      <td>O B-movie_type I-movie_type O O O B-location_n...</td>\n",
              "      <td>11</td>\n",
              "    </tr>\n",
              "    <tr>\n",
              "      <th>13083</th>\n",
              "      <td>SearchScreeningEvent</td>\n",
              "      <td>What movie schedules start at sunset ?</td>\n",
              "      <td>O B-object_type I-object_type O O B-timeRange O</td>\n",
              "      <td>7</td>\n",
              "    </tr>\n",
              "  </tbody>\n",
              "</table>\n",
              "<p>13084 rows × 4 columns</p>\n",
              "</div>"
            ],
            "text/plain": [
              "               intent_label  ... length\n",
              "0             AddToPlaylist  ...     12\n",
              "1             AddToPlaylist  ...      8\n",
              "2             AddToPlaylist  ...     10\n",
              "3             AddToPlaylist  ...     10\n",
              "4             AddToPlaylist  ...     11\n",
              "...                     ...  ...    ...\n",
              "13079  SearchScreeningEvent  ...     10\n",
              "13080  SearchScreeningEvent  ...      9\n",
              "13081  SearchScreeningEvent  ...      8\n",
              "13082  SearchScreeningEvent  ...     11\n",
              "13083  SearchScreeningEvent  ...      7\n",
              "\n",
              "[13084 rows x 4 columns]"
            ]
          },
          "execution_count": 11,
          "metadata": {
            "tags": []
          },
          "output_type": "execute_result"
        }
      ],
      "source": [
        "df_train"
      ]
    },
    {
      "cell_type": "code",
      "execution_count": 12,
      "metadata": {
        "colab": {
          "base_uri": "https://localhost:8080/",
          "height": 300
        },
        "id": "wnu1f-TVuDa7",
        "outputId": "73c03d0d-a1ba-4f69-bc7c-620d91b76978"
      },
      "outputs": [
        {
          "data": {
            "text/html": [
              "<div>\n",
              "<style scoped>\n",
              "    .dataframe tbody tr th:only-of-type {\n",
              "        vertical-align: middle;\n",
              "    }\n",
              "\n",
              "    .dataframe tbody tr th {\n",
              "        vertical-align: top;\n",
              "    }\n",
              "\n",
              "    .dataframe thead th {\n",
              "        text-align: right;\n",
              "    }\n",
              "</style>\n",
              "<table border=\"1\" class=\"dataframe\">\n",
              "  <thead>\n",
              "    <tr style=\"text-align: right;\">\n",
              "      <th></th>\n",
              "      <th>words</th>\n",
              "      <th>word_labels</th>\n",
              "      <th>length</th>\n",
              "    </tr>\n",
              "    <tr>\n",
              "      <th>intent_label</th>\n",
              "      <th></th>\n",
              "      <th></th>\n",
              "      <th></th>\n",
              "    </tr>\n",
              "  </thead>\n",
              "  <tbody>\n",
              "    <tr>\n",
              "      <th>AddToPlaylist</th>\n",
              "      <td>1842</td>\n",
              "      <td>1842</td>\n",
              "      <td>1842</td>\n",
              "    </tr>\n",
              "    <tr>\n",
              "      <th>BookRestaurant</th>\n",
              "      <td>1873</td>\n",
              "      <td>1873</td>\n",
              "      <td>1873</td>\n",
              "    </tr>\n",
              "    <tr>\n",
              "      <th>GetWeather</th>\n",
              "      <td>1900</td>\n",
              "      <td>1900</td>\n",
              "      <td>1900</td>\n",
              "    </tr>\n",
              "    <tr>\n",
              "      <th>PlayMusic</th>\n",
              "      <td>1900</td>\n",
              "      <td>1900</td>\n",
              "      <td>1900</td>\n",
              "    </tr>\n",
              "    <tr>\n",
              "      <th>RateBook</th>\n",
              "      <td>1856</td>\n",
              "      <td>1856</td>\n",
              "      <td>1856</td>\n",
              "    </tr>\n",
              "    <tr>\n",
              "      <th>SearchCreativeWork</th>\n",
              "      <td>1854</td>\n",
              "      <td>1854</td>\n",
              "      <td>1854</td>\n",
              "    </tr>\n",
              "    <tr>\n",
              "      <th>SearchScreeningEvent</th>\n",
              "      <td>1859</td>\n",
              "      <td>1859</td>\n",
              "      <td>1859</td>\n",
              "    </tr>\n",
              "  </tbody>\n",
              "</table>\n",
              "</div>"
            ],
            "text/plain": [
              "                      words  word_labels  length\n",
              "intent_label                                    \n",
              "AddToPlaylist          1842         1842    1842\n",
              "BookRestaurant         1873         1873    1873\n",
              "GetWeather             1900         1900    1900\n",
              "PlayMusic              1900         1900    1900\n",
              "RateBook               1856         1856    1856\n",
              "SearchCreativeWork     1854         1854    1854\n",
              "SearchScreeningEvent   1859         1859    1859"
            ]
          },
          "execution_count": 12,
          "metadata": {
            "tags": []
          },
          "output_type": "execute_result"
        }
      ],
      "source": [
        "df_train.groupby(\"intent_label\").count()"
      ]
    },
    {
      "cell_type": "code",
      "execution_count": 13,
      "metadata": {
        "colab": {
          "base_uri": "https://localhost:8080/",
          "height": 281
        },
        "id": "qqtvWMGSpL9K",
        "outputId": "e55916cf-401c-4620-f8d8-fd84cf5be775"
      },
      "outputs": [
        {
          "data": {
            "image/png": "[encoded data removed]",
            "text/plain": [
              "<Figure size 432x288 with 1 Axes>"
            ]
          },
          "metadata": {
            "needs_background": "light",
            "tags": []
          },
          "output_type": "display_data"
        }
      ],
      "source": [
        "df_train.hist(\"length\", bins=30);"
      ]
    },
    {
      "cell_type": "code",
      "execution_count": 14,
      "metadata": {
        "id": "GP9IFg7KZZb4"
      },
      "outputs": [],
      "source": [
        "lines_valid = Path(\"valid\").read_text(\"utf-8\").strip().splitlines()\n",
        "lines_test = Path(\"test\").read_text(\"utf-8\").strip().splitlines()\n",
        "\n",
        "df_valid = pd.DataFrame([parse_line(line) for line in lines_valid])\n",
        "df_test = pd.DataFrame([parse_line(line) for line in lines_test])"
      ]
    },
    {
      "cell_type": "markdown",
      "metadata": {
        "id": "8-RqFpLgqI6u"
      },
      "source": [
        "\n",
        "## A First Model: Intent Classification (Sentence Level)\n",
        "\n",
        "Let's ignore the slot filling task for now and let's try to build a sentence level classifier by fine-tuning a pre-trained Transformer-based model using the `huggingface/transformers` package that provides both TF2/Keras and Pytorch APIs.\n",
        "\n",
        "### The BERT Tokenizer\n",
        "\n",
        "First let's load a pre-trained tokenizer and test it on a test sentence from the training set:"
      ]
    },
    {
      "cell_type": "code",
      "execution_count": 15,
      "metadata": {
        "id": "8waNlSO-tkkP"
      },
      "outputs": [],
      "source": [
        "from transformers import BertTokenizer\n",
        "\n",
        "model_name = \"bert-base-cased\"\n",
        "tokenizer = BertTokenizer.from_pretrained(model_name)"
      ]
    },
    {
      "cell_type": "code",
      "execution_count": 16,
      "metadata": {
        "colab": {
          "base_uri": "https://localhost:8080/",
          "height": 35
        },
        "id": "kfIeG0rvuywQ",
        "outputId": "ee7122fe-641a-4891-a830-b07243926da7"
      },
      "outputs": [
        {
          "data": {
            "application/vnd.google.colaboratory.intrinsic+json": {
              "type": "string"
            },
            "text/plain": [
              "'Add Don and Sherri to my Meditate to Sounds of Nature playlist'"
            ]
          },
          "execution_count": 16,
          "metadata": {
            "tags": []
          },
          "output_type": "execute_result"
        }
      ],
      "source": [
        "first_sentence = df_train.iloc[0][\"words\"]\n",
        "first_sentence"
      ]
    },
    {
      "cell_type": "code",
      "execution_count": 17,
      "metadata": {
        "colab": {
          "base_uri": "https://localhost:8080/"
        },
        "id": "T1NdNH7btohS",
        "outputId": "c8382dc1-f08c-4d32-ff4c-65257abd06be"
      },
      "outputs": [
        {
          "data": {
            "text/plain": [
              "['Ad',\n",
              " '##d',\n",
              " 'Don',\n",
              " 'and',\n",
              " 'She',\n",
              " '##rri',\n",
              " 'to',\n",
              " 'my',\n",
              " 'Me',\n",
              " '##dit',\n",
              " '##ate',\n",
              " 'to',\n",
              " 'Sounds',\n",
              " 'of',\n",
              " 'Nature',\n",
              " 'play',\n",
              " '##list']"
            ]
          },
          "execution_count": 17,
          "metadata": {
            "tags": []
          },
          "output_type": "execute_result"
        }
      ],
      "source": [
        "tokenizer.tokenize(first_sentence)"
      ]
    },
    {
      "cell_type": "markdown",
      "metadata": {
        "id": "mV0nkrwDvVlc"
      },
      "source": [
        "Notice that BERT uses subword tokens so the length of the tokenized sentence is likely to be larger than the number of words in the sentence.\n",
        "\n",
        "**Question**:\n",
        "\n",
        "- why is it particulary interesting to use subword tokenization for general purpose language models such as BERT?\n",
        "\n",
        "\n",
        "Each token string is mapped to a unique integer id that makes it fast to lookup the right column in the input layer token embedding:"
      ]
    },
    {
      "cell_type": "code",
      "execution_count": 18,
      "metadata": {
        "colab": {
          "base_uri": "https://localhost:8080/"
        },
        "id": "RwsN-er9nsOu",
        "outputId": "5e3dc5dc-c219-4980-c0ba-a7c33d136ace"
      },
      "outputs": [
        {
          "data": {
            "text/plain": [
              "[101,\n",
              " 24930,\n",
              " 1181,\n",
              " 1790,\n",
              " 1105,\n",
              " 1153,\n",
              " 14791,\n",
              " 1106,\n",
              " 1139,\n",
              " 2508,\n",
              " 17903,\n",
              " 2193,\n",
              " 1106,\n",
              " 10560,\n",
              " 1104,\n",
              " 7009,\n",
              " 1505,\n",
              " 7276,\n",
              " 102]"
            ]
          },
          "execution_count": 18,
          "metadata": {
            "tags": []
          },
          "output_type": "execute_result"
        }
      ],
      "source": [
        "tokenizer.encode(first_sentence)"
      ]
    },
    {
      "cell_type": "code",
      "execution_count": 19,
      "metadata": {
        "colab": {
          "base_uri": "https://localhost:8080/",
          "height": 35
        },
        "id": "ugYcq8YWl8Hz",
        "outputId": "879b8fa4-2ffb-4790-d257-798d4f3f9e5e"
      },
      "outputs": [
        {
          "data": {
            "application/vnd.google.colaboratory.intrinsic+json": {
              "type": "string"
            },
            "text/plain": [
              "'[CLS] Add Don and Sherri to my Meditate to Sounds of Nature playlist [SEP]'"
            ]
          },
          "execution_count": 19,
          "metadata": {
            "tags": []
          },
          "output_type": "execute_result"
        }
      ],
      "source": [
        "tokenizer.decode(tokenizer.encode(first_sentence))"
      ]
    },
    {
      "cell_type": "markdown",
      "metadata": {
        "id": "DXvGt8fAmW6o"
      },
      "source": [
        "Remarks:\n",
        "\n",
        "- The first token `[CLS]` is used by the pre-training task for sequence classification.\n",
        "- The last token `[SEP]` is a separator for the pre-training task that classifiies if a pair of sentences are consecutive in a corpus or not (next sentence prediction).\n",
        "- Here we want to use BERT to compute a representation of a single voice command at a time\n",
        "- We could reuse the representation of the `[CLS]` token for sequence classification.\n",
        "- Alternatively we can pool the representations of all the tokens of the voice command (e.g. global average) and use that as the input of the final sequence classification layer."
      ]
    },
    {
      "cell_type": "code",
      "execution_count": 20,
      "metadata": {
        "colab": {
          "base_uri": "https://localhost:8080/",
          "height": 281
        },
        "id": "HDRfHq45uXtE",
        "outputId": "d1bc367e-ebdb-48b5-dce6-14e07559f6a5"
      },
      "outputs": [
        {
          "data": {
            "image/png": "[encoded data removed]",
            "text/plain": [
              "<Figure size 432x288 with 1 Axes>"
            ]
          },
          "metadata": {
            "needs_background": "light",
            "tags": []
          },
          "output_type": "display_data"
        }
      ],
      "source": [
        "import matplotlib.pyplot as plt\n",
        "\n",
        "train_sequence_lengths = [len(tokenizer.encode(text))\n",
        "                          for text in df_train[\"words\"]]\n",
        "plt.hist(train_sequence_lengths, bins=30)\n",
        "plt.title(f\"max sequence length: {max(train_sequence_lengths)}\");"
      ]
    },
    {
      "cell_type": "markdown",
      "metadata": {
        "id": "MKOfepFGnja_"
      },
      "source": [
        "To perform transfer learning, we will need to work with padded sequences so they all have the same sizes. The above histograms, shows that after tokenization, 43 tokens are enough to represent all the voice commands in the training set."
      ]
    },
    {
      "cell_type": "markdown",
      "metadata": {
        "id": "e80rCfLZo0ms"
      },
      "source": [
        "The mapping can be introspected in the `tokenizer.vocab` attribute:"
      ]
    },
    {
      "cell_type": "code",
      "execution_count": 21,
      "metadata": {
        "colab": {
          "base_uri": "https://localhost:8080/"
        },
        "id": "UCOHf8d0whpc",
        "outputId": "4339eef5-69e3-4b49-e730-3442bb0f4d82"
      },
      "outputs": [
        {
          "data": {
            "text/plain": [
              "28996"
            ]
          },
          "execution_count": 21,
          "metadata": {
            "tags": []
          },
          "output_type": "execute_result"
        }
      ],
      "source": [
        "tokenizer.vocab_size"
      ]
    },
    {
      "cell_type": "code",
      "execution_count": 22,
      "metadata": {
        "colab": {
          "base_uri": "https://localhost:8080/"
        },
        "id": "pss68U70wAZz",
        "outputId": "1b1ae60d-ffa1-4db3-8ae2-e001d7b70082"
      },
      "outputs": [
        {
          "data": {
            "text/plain": [
              "[('[PAD]', 0),\n",
              " ('[unused1]', 1),\n",
              " ('[unused2]', 2),\n",
              " ('[unused3]', 3),\n",
              " ('[unused4]', 4),\n",
              " ('[unused5]', 5),\n",
              " ('[unused6]', 6),\n",
              " ('[unused7]', 7),\n",
              " ('[unused8]', 8),\n",
              " ('[unused9]', 9)]"
            ]
          },
          "execution_count": 22,
          "metadata": {
            "tags": []
          },
          "output_type": "execute_result"
        }
      ],
      "source": [
        "bert_vocab_items = list(tokenizer.vocab.items())\n",
        "bert_vocab_items[:10]"
      ]
    },
    {
      "cell_type": "code",
      "execution_count": 23,
      "metadata": {
        "colab": {
          "base_uri": "https://localhost:8080/"
        },
        "id": "ubB7K2f5waCL",
        "outputId": "56cbd066-0646-4cb4-c7bc-3dac04668350"
      },
      "outputs": [
        {
          "data": {
            "text/plain": [
              "[('[UNK]', 100),\n",
              " ('[CLS]', 101),\n",
              " ('[SEP]', 102),\n",
              " ('[MASK]', 103),\n",
              " ('[unused100]', 104),\n",
              " ('[unused101]', 105),\n",
              " ('!', 106),\n",
              " ('\"', 107),\n",
              " ('#', 108),\n",
              " ('$', 109)]"
            ]
          },
          "execution_count": 23,
          "metadata": {
            "tags": []
          },
          "output_type": "execute_result"
        }
      ],
      "source": [
        "bert_vocab_items[100:110]"
      ]
    },
    {
      "cell_type": "code",
      "execution_count": 24,
      "metadata": {
        "colab": {
          "base_uri": "https://localhost:8080/"
        },
        "id": "bNO1Qaeywqfr",
        "outputId": "a413c1ca-365f-45ee-cfc7-7b1375f01d82"
      },
      "outputs": [
        {
          "data": {
            "text/plain": [
              "[('く', 900),\n",
              " ('け', 901),\n",
              " ('こ', 902),\n",
              " ('さ', 903),\n",
              " ('し', 904),\n",
              " ('す', 905),\n",
              " ('せ', 906),\n",
              " ('そ', 907),\n",
              " ('た', 908),\n",
              " ('ち', 909)]"
            ]
          },
          "execution_count": 24,
          "metadata": {
            "tags": []
          },
          "output_type": "execute_result"
        }
      ],
      "source": [
        "bert_vocab_items[900:910]"
      ]
    },
    {
      "cell_type": "code",
      "execution_count": 25,
      "metadata": {
        "colab": {
          "base_uri": "https://localhost:8080/"
        },
        "id": "eMoPJlKDweL9",
        "outputId": "2ed31f93-46e7-4788-84c9-0a4d3697a3fd"
      },
      "outputs": [
        {
          "data": {
            "text/plain": [
              "[('－', 1100),\n",
              " ('／', 1101),\n",
              " ('：', 1102),\n",
              " ('the', 1103),\n",
              " ('of', 1104),\n",
              " ('and', 1105),\n",
              " ('to', 1106),\n",
              " ('in', 1107),\n",
              " ('was', 1108),\n",
              " ('The', 1109)]"
            ]
          },
          "execution_count": 25,
          "metadata": {
            "tags": []
          },
          "output_type": "execute_result"
        }
      ],
      "source": [
        "bert_vocab_items[1100:1110]"
      ]
    },
    {
      "cell_type": "code",
      "execution_count": 26,
      "metadata": {
        "colab": {
          "base_uri": "https://localhost:8080/"
        },
        "id": "mKBIx7vFw4Y0",
        "outputId": "a4a66d70-3e41-4d4a-d02e-3c9b55337ba6"
      },
      "outputs": [
        {
          "data": {
            "text/plain": [
              "[('attested', 20000),\n",
              " ('Hillary', 20001),\n",
              " ('##DM', 20002),\n",
              " ('gal', 20003),\n",
              " ('wander', 20004),\n",
              " ('Salle', 20005),\n",
              " ('##laming', 20006),\n",
              " ('Perez', 20007),\n",
              " ('Pit', 20008),\n",
              " ('##LP', 20009)]"
            ]
          },
          "execution_count": 26,
          "metadata": {
            "tags": []
          },
          "output_type": "execute_result"
        }
      ],
      "source": [
        "bert_vocab_items[20000:20010]"
      ]
    },
    {
      "cell_type": "code",
      "execution_count": 27,
      "metadata": {
        "colab": {
          "base_uri": "https://localhost:8080/"
        },
        "id": "CFJWO27XwyZJ",
        "outputId": "62eae51c-3db7-461a-80f3-f5811a971af3"
      },
      "outputs": [
        {
          "data": {
            "text/plain": [
              "[('##한', 28986),\n",
              " ('##ﬁ', 28987),\n",
              " ('##ﬂ', 28988),\n",
              " ('##！', 28989),\n",
              " ('##（', 28990),\n",
              " ('##）', 28991),\n",
              " ('##，', 28992),\n",
              " ('##－', 28993),\n",
              " ('##／', 28994),\n",
              " ('##：', 28995)]"
            ]
          },
          "execution_count": 27,
          "metadata": {
            "tags": []
          },
          "output_type": "execute_result"
        }
      ],
      "source": [
        "bert_vocab_items[-10:]"
      ]
    },
    {
      "cell_type": "markdown",
      "metadata": {
        "id": "HjuoLlvexSZP"
      },
      "source": [
        "Couple of remarks:\n",
        "\n",
        "- 30K is a reasonable vocabulary size and is small enough to be used in a softmax output layer;\n",
        "- it can represent multi-lingual sentences, including non-Western alphabets;\n",
        "- subword tokenization makes it possible to deal with typos and morphological variations with a small vocabulary side and without any language-specific preprocessing;\n",
        "- subword tokenization makes it unlikely to use the `[UNK]` special token as rare words can often be represented as a sequence of frequent enough short subwords in a meaningful way."
      ]
    },
    {
      "cell_type": "markdown",
      "metadata": {
        "id": "q399LhkCjCa8"
      },
      "source": [
        "### Encoding the Dataset with the Tokenizer\n",
        "\n",
        "Let's now encode the full train / valid and test sets with our tokenizer to get a padded integer numpy arrays:"
      ]
    },
    {
      "cell_type": "code",
      "execution_count": 28,
      "metadata": {
        "colab": {
          "base_uri": "https://localhost:8080/"
        },
        "id": "KI7fXQKmpQFY",
        "outputId": "343cac02-45bf-4594-8256-bed1f7eec879"
      },
      "outputs": [
        {
          "data": {
            "text/plain": [
              "array([[  101, 24930,  1181, ...,     0,     0,     0],\n",
              "       [  101,  1508,  1244, ...,     0,     0,     0],\n",
              "       [  101,  5194,  1103, ...,     0,     0,     0],\n",
              "       ...,\n",
              "       [  101, 27640,  1116, ...,     0,     0,     0],\n",
              "       [  101,  5979,  6608, ...,     0,     0,     0],\n",
              "       [  101,  1327,  2523, ...,     0,     0,     0]], dtype=int32)"
            ]
          },
          "execution_count": 28,
          "metadata": {
            "tags": []
          },
          "output_type": "execute_result"
        }
      ],
      "source": [
        "import numpy as np\n",
        "\n",
        "\n",
        "def encode_dataset(tokenizer, text_sequences, max_length):\n",
        "    token_ids = np.zeros(shape=(len(text_sequences), max_length),\n",
        "                         dtype=np.int32)\n",
        "    for i, text_sequence in enumerate(text_sequences):\n",
        "        encoded = tokenizer.encode(text_sequence)\n",
        "        token_ids[i, 0:len(encoded)] = encoded\n",
        "    attention_masks = (token_ids != 0).astype(np.int32)\n",
        "    return {\"input_ids\": token_ids, \"attention_masks\": attention_masks}\n",
        "\n",
        "\n",
        "encoded_train = encode_dataset(tokenizer, df_train[\"words\"], 45)\n",
        "encoded_train[\"input_ids\"]"
      ]
    },
    {
      "cell_type": "code",
      "execution_count": 29,
      "metadata": {
        "colab": {
          "base_uri": "https://localhost:8080/"
        },
        "id": "MPZjHqv3rdY-",
        "outputId": "afee1eab-eb6c-498a-9321-00be2437d153"
      },
      "outputs": [
        {
          "data": {
            "text/plain": [
              "array([[1, 1, 1, ..., 0, 0, 0],\n",
              "       [1, 1, 1, ..., 0, 0, 0],\n",
              "       [1, 1, 1, ..., 0, 0, 0],\n",
              "       ...,\n",
              "       [1, 1, 1, ..., 0, 0, 0],\n",
              "       [1, 1, 1, ..., 0, 0, 0],\n",
              "       [1, 1, 1, ..., 0, 0, 0]], dtype=int32)"
            ]
          },
          "execution_count": 29,
          "metadata": {
            "tags": []
          },
          "output_type": "execute_result"
        }
      ],
      "source": [
        "encoded_train[\"attention_masks\"]"
      ]
    },
    {
      "cell_type": "code",
      "execution_count": 30,
      "metadata": {
        "id": "YLiTJg4Sqwuk"
      },
      "outputs": [],
      "source": [
        "encoded_valid = encode_dataset(tokenizer, df_valid[\"words\"], 45)\n",
        "encoded_test = encode_dataset(tokenizer, df_test[\"words\"], 45)"
      ]
    },
    {
      "cell_type": "markdown",
      "metadata": {
        "id": "xIgGo8ECtvfy"
      },
      "source": [
        "### Encoding the Sequence Classification Targets\n",
        "\n",
        "To do so we build a simple mapping from the auxiliary files:"
      ]
    },
    {
      "cell_type": "code",
      "execution_count": 31,
      "metadata": {
        "colab": {
          "base_uri": "https://localhost:8080/"
        },
        "id": "xqcSXpgOwcbX",
        "outputId": "5f89a1d0-a86b-4cb4-d563-cbecfeccfd23"
      },
      "outputs": [
        {
          "data": {
            "text/plain": [
              "{'AddToPlaylist': 0,\n",
              " 'BookRestaurant': 1,\n",
              " 'GetWeather': 2,\n",
              " 'PlayMusic': 3,\n",
              " 'RateBook': 4,\n",
              " 'SearchCreativeWork': 5,\n",
              " 'SearchScreeningEvent': 6}"
            ]
          },
          "execution_count": 31,
          "metadata": {
            "tags": []
          },
          "output_type": "execute_result"
        }
      ],
      "source": [
        "intent_names = Path(\"vocab.intent\").read_text(\"utf-8\").split()\n",
        "intent_map = dict((label, idx) for idx, label in enumerate(intent_names))\n",
        "intent_map"
      ]
    },
    {
      "cell_type": "code",
      "execution_count": 32,
      "metadata": {
        "colab": {
          "base_uri": "https://localhost:8080/"
        },
        "id": "wFjLpaFxxQk6",
        "outputId": "eade98a9-1595-416d-af1f-c208f43a2a07"
      },
      "outputs": [
        {
          "data": {
            "text/plain": [
              "array([0, 0, 0, ..., 6, 6, 6])"
            ]
          },
          "execution_count": 32,
          "metadata": {
            "tags": []
          },
          "output_type": "execute_result"
        }
      ],
      "source": [
        "intent_train = df_train[\"intent_label\"].map(intent_map).values\n",
        "intent_train"
      ]
    },
    {
      "cell_type": "code",
      "execution_count": 33,
      "metadata": {
        "id": "aRbvVXuPndoN"
      },
      "outputs": [],
      "source": [
        "intent_valid = df_valid[\"intent_label\"].map(intent_map).values\n",
        "intent_test = df_test[\"intent_label\"].map(intent_map).values"
      ]
    },
    {
      "cell_type": "markdown",
      "metadata": {
        "id": "b5TuDZR26jwq"
      },
      "source": [
        "### Loading and Feeding a Pretrained BERT model\n",
        "\n",
        "Let's load a pretrained BERT model using the [huggingface transformers](https://github.com/huggingface/transformers) package:"
      ]
    },
    {
      "cell_type": "code",
      "execution_count": 34,
      "metadata": {
        "colab": {
          "base_uri": "https://localhost:8080/"
        },
        "id": "73ZrDDm-0wYS",
        "outputId": "6d324120-7505-4b73-e119-b92e48b1d5d0"
      },
      "outputs": [
        {
          "name": "stdout",
          "output_type": "stream",
          "text": [
            "Model: \"tf_bert_model\"\n",
            "_________________________________________________________________\n",
            "Layer (type)                 Output Shape              Param #   \n",
            "=================================================================\n",
            "bert (TFBertMainLayer)       multiple                  108310272 \n",
            "=================================================================\n",
            "Total params: 108,310,272\n",
            "Trainable params: 108,310,272\n",
            "Non-trainable params: 0\n",
            "_________________________________________________________________\n"
          ]
        }
      ],
      "source": [
        "from transformers import TFAutoModel\n",
        "\n",
        "base_bert_model = TFAutoModel.from_pretrained(\"bert-base-cased\")\n",
        "base_bert_model.summary()"
      ]
    },
    {
      "cell_type": "code",
      "execution_count": 35,
      "metadata": {
        "colab": {
          "base_uri": "https://localhost:8080/"
        },
        "id": "TwgRCE2h6QUT",
        "outputId": "e14e34a6-812d-4762-e069-5ccb381b177d"
      },
      "outputs": [
        {
          "data": {
            "text/plain": [
              "{'attention_masks': array([[1, 1, 1, ..., 0, 0, 0],\n",
              "        [1, 1, 1, ..., 0, 0, 0],\n",
              "        [1, 1, 1, ..., 0, 0, 0],\n",
              "        ...,\n",
              "        [1, 1, 1, ..., 0, 0, 0],\n",
              "        [1, 1, 1, ..., 0, 0, 0],\n",
              "        [1, 1, 1, ..., 0, 0, 0]], dtype=int32),\n",
              " 'input_ids': array([[  101,   142, 13894, ...,     0,     0,     0],\n",
              "        [  101,  2825,   179, ...,     0,     0,     0],\n",
              "        [  101, 24930,  1181, ...,     0,     0,     0],\n",
              "        ...,\n",
              "        [  101,  1525,   170, ...,     0,     0,     0],\n",
              "        [  101,  4630,  1143, ...,     0,     0,     0],\n",
              "        [  101,  1327,  1159, ...,     0,     0,     0]], dtype=int32)}"
            ]
          },
          "execution_count": 35,
          "metadata": {
            "tags": []
          },
          "output_type": "execute_result"
        }
      ],
      "source": [
        "encoded_valid"
      ]
    },
    {
      "cell_type": "code",
      "execution_count": 36,
      "metadata": {
        "colab": {
          "base_uri": "https://localhost:8080/"
        },
        "id": "htMv_pQt5aYl",
        "outputId": "97e0e96e-a2ce-4432-83d1-2e84489341aa"
      },
      "outputs": [
        {
          "data": {
            "text/plain": [
              "2"
            ]
          },
          "execution_count": 36,
          "metadata": {
            "tags": []
          },
          "output_type": "execute_result"
        }
      ],
      "source": [
        "outputs = base_bert_model(encoded_valid)\n",
        "len(outputs)"
      ]
    },
    {
      "cell_type": "markdown",
      "metadata": {
        "id": "pkwN4INi8eSh"
      },
      "source": [
        "The **first ouput** of the BERT model is a tensor with shape: `(batch_size, seq_len, output_dim)` which computes **features for each token in the input sequence**:"
      ]
    },
    {
      "cell_type": "code",
      "execution_count": 37,
      "metadata": {
        "colab": {
          "base_uri": "https://localhost:8080/"
        },
        "id": "0PoQyA_A7CS4",
        "outputId": "e4ad1a8a-d27d-43c9-84cf-12b824ed138d"
      },
      "outputs": [
        {
          "data": {
            "text/plain": [
              "TensorShape([700, 45, 768])"
            ]
          },
          "execution_count": 37,
          "metadata": {
            "tags": []
          },
          "output_type": "execute_result"
        }
      ],
      "source": [
        "outputs[0].shape"
      ]
    },
    {
      "cell_type": "markdown",
      "metadata": {
        "id": "kxjU9Wpi8vyM"
      },
      "source": [
        "The **second output** of the BERT model is a tensor with shape `(batch_size, output_dim)` which is the vector representation of the special token `[CLS]`. This vector is typically used as a **pooled representation for the sequence as a whole**. This is will be used as the features of our Intent classifier:"
      ]
    },
    {
      "cell_type": "code",
      "execution_count": 38,
      "metadata": {
        "colab": {
          "base_uri": "https://localhost:8080/"
        },
        "id": "gbg9Yd6MTlQQ",
        "outputId": "2c7fc6b8-cd59-4b1b-83bf-a006a37cd753"
      },
      "outputs": [
        {
          "data": {
            "text/plain": [
              "TensorShape([700, 768])"
            ]
          },
          "execution_count": 38,
          "metadata": {
            "tags": []
          },
          "output_type": "execute_result"
        }
      ],
      "source": [
        "outputs[1].shape"
      ]
    },
    {
      "cell_type": "markdown",
      "metadata": {
        "id": "LT0LFK4z8BkJ"
      },
      "source": [
        "### Exercise\n",
        "\n",
        "Use the following code template to build and train a **sequence classification model** using to predict the **intent class**.\n",
        "\n",
        "Use the `self.bert` pre-trained model in the `call` method and only consider the pooled features (ignore the token-wise features for now)."
      ]
    },
    {
      "cell_type": "code",
      "execution_count": 39,
      "metadata": {
        "id": "u5WN9-UmiJCO"
      },
      "outputs": [],
      "source": [
        "import tensorflow as tf\n",
        "from transformers import TFAutoModel\n",
        "from tensorflow.keras.layers import Dropout, Dense\n",
        "from tensorflow.keras.optimizers import Adam\n",
        "from tensorflow.keras.losses import SparseCategoricalCrossentropy\n",
        "from tensorflow.keras.metrics import SparseCategoricalAccuracy\n",
        "\n",
        "\n",
        "class IntentClassificationModel(tf.keras.Model):\n",
        "\n",
        "    def __init__(self, intent_num_labels=None, model_name=\"bert-base-cased\",\n",
        "                 dropout_prob=0.1):\n",
        "        super().__init__(name=\"joint_intent_slot\")\n",
        "        # Let's preload the pretrained model BERT in the constructor of our\n",
        "        # classifier model\n",
        "        self.bert = TFAutoModel.from_pretrained(model_name)\n",
        "\n",
        "        # TODO: define a (Dense) classification layer to compute the \n",
        "        # for each sequence in a batch the batch of samples. The number of\n",
        "        # output classes is given by the intent_num_labels parameter.\n",
        "\n",
        "        # Use the default linear activation (no softmax) to compute logits.\n",
        "        # The softmax normalization will be computed in the loss function\n",
        "        # instead of the model itself.\n",
        "\n",
        "    def call(self, inputs, training=False):\n",
        "        # Use the pretrained model to extract features from our encoded inputs:\n",
        "        sequence_output, pooled_output = self.bert(inputs, training=training)\n",
        "\n",
        "        # The second output of the main BERT layer has shape:\n",
        "        # (batch_size, output_dim)\n",
        "        # and gives a \"pooled\" representation for the full sequence from the\n",
        "        # hidden state that corresponds to the \"[CLS]\" token.\n",
        "        \n",
        "        # TODO: use the classifier layer to compute the logits from the pooled\n",
        "        # features.\n",
        "        intent_logits = None\n",
        "        return intent_logits\n",
        "\n",
        "\n",
        "intent_model = IntentClassificationModel(intent_num_labels=len(intent_map))\n",
        "\n",
        "intent_model.compile(optimizer=Adam(learning_rate=3e-5, epsilon=1e-08),\n",
        "                     loss=SparseCategoricalCrossentropy(from_logits=True),\n",
        "                     metrics=[SparseCategoricalAccuracy('accuracy')])\n",
        "\n",
        "# TODO: uncomment to train the model:\n",
        "\n",
        "# history = intent_model.fit(encoded_train, intent_train, epochs=2, batch_size=32,\n",
        "#                            validation_data=(encoded_valid, intent_valid))"
      ]
    },
    {
      "cell_type": "markdown",
      "metadata": {
        "id": "w1JswzolE2uD"
      },
      "source": [
        "### Solution"
      ]
    },
    {
      "cell_type": "code",
      "execution_count": 40,
      "metadata": {
        "id": "SafriXfa9nGU"
      },
      "outputs": [],
      "source": [
        "import tensorflow as tf\n",
        "from transformers import TFAutoModel\n",
        "from tensorflow.keras.layers import Dropout, Dense\n",
        "from tensorflow.keras.optimizers import Adam\n",
        "from tensorflow.keras.losses import SparseCategoricalCrossentropy\n",
        "from tensorflow.keras.metrics import SparseCategoricalAccuracy\n",
        "\n",
        "\n",
        "class IntentClassificationModel(tf.keras.Model):\n",
        "\n",
        "    def __init__(self, intent_num_labels=None, model_name=\"bert-base-cased\",\n",
        "                 dropout_prob=0.1):\n",
        "        super().__init__(name=\"joint_intent_slot\")\n",
        "        self.bert = TFAutoModel.from_pretrained(model_name)\n",
        "        self.dropout = Dropout(dropout_prob)\n",
        "\n",
        "        # Use the default linear activation (no softmax) to compute logits.\n",
        "        # The softmax normalization will be computed in the loss function\n",
        "        # instead of the model itself.\n",
        "        self.intent_classifier = Dense(intent_num_labels)\n",
        "\n",
        "    def call(self, inputs, training=False):\n",
        "        sequence_output, pooled_output = self.bert(inputs, training=training)\n",
        "        pooled_output = self.dropout(pooled_output, training=training)\n",
        "        \n",
        "        intent_logits = self.intent_classifier(pooled_output)\n",
        "        return intent_logits\n",
        "\n",
        "\n",
        "intent_model = IntentClassificationModel(intent_num_labels=len(intent_map))"
      ]
    },
    {
      "cell_type": "markdown",
      "metadata": {
        "id": "I_QgWEnBi9lE"
      },
      "source": [
        "Our classification model outputs logits instead of probabilities. The final softmax normalization layer is implicit, that is included in the loss function instead of the model directly.\n",
        "\n",
        "We need to configure the loss function `SparseCategoricalCrossentropy(from_logits=True)` accordingly:"
      ]
    },
    {
      "cell_type": "code",
      "execution_count": 41,
      "metadata": {
        "id": "1GLdN82steHF"
      },
      "outputs": [],
      "source": [
        "intent_model.compile(optimizer=Adam(learning_rate=3e-5, epsilon=1e-08),\n",
        "                     loss=SparseCategoricalCrossentropy(from_logits=True),\n",
        "                     metrics=[SparseCategoricalAccuracy('accuracy')])"
      ]
    },
    {
      "cell_type": "code",
      "execution_count": 42,
      "metadata": {
        "colab": {
          "base_uri": "https://localhost:8080/"
        },
        "id": "9bXYT1U4tKtW",
        "outputId": "3265903e-2044-4d19-88a2-783018090ae1"
      },
      "outputs": [
        {
          "name": "stdout",
          "output_type": "stream",
          "text": [
            "Epoch 1/2\n",
            "409/409 [==============================] - 142s 312ms/step - loss: 0.5822 - accuracy: 0.7923 - val_loss: 0.0447 - val_accuracy: 0.9886\n",
            "Epoch 2/2\n",
            "409/409 [==============================] - 130s 319ms/step - loss: 0.0298 - accuracy: 0.9909 - val_loss: 0.0469 - val_accuracy: 0.9886\n"
          ]
        }
      ],
      "source": [
        "history = intent_model.fit(encoded_train, intent_train, epochs=2, batch_size=32,\n",
        "                           validation_data=(encoded_valid, intent_valid))"
      ]
    },
    {
      "cell_type": "code",
      "execution_count": 43,
      "metadata": {
        "colab": {
          "base_uri": "https://localhost:8080/",
          "height": 35
        },
        "id": "e45VM_ud0GJr",
        "outputId": "3d255937-0a1b-4f2b-9e65-d62e0b39cd98"
      },
      "outputs": [
        {
          "data": {
            "application/vnd.google.colaboratory.intrinsic+json": {
              "type": "string"
            },
            "text/plain": [
              "'BookRestaurant'"
            ]
          },
          "execution_count": 43,
          "metadata": {
            "tags": []
          },
          "output_type": "execute_result"
        }
      ],
      "source": [
        "def classify(text, tokenizer, model, intent_names):\n",
        "    inputs = tf.constant(tokenizer.encode(text))[None, :]  # batch_size = 1\n",
        "    class_id = model(inputs).numpy().argmax(axis=1)[0]\n",
        "    return intent_names[class_id]\n",
        "\n",
        "\n",
        "classify(\"Book a table for two at La Tour d'Argent for Friday night.\",\n",
        "         tokenizer, intent_model, intent_names)"
      ]
    },
    {
      "cell_type": "code",
      "execution_count": 44,
      "metadata": {
        "colab": {
          "base_uri": "https://localhost:8080/",
          "height": 35
        },
        "id": "m5OE9SGzFNp6",
        "outputId": "dd1c7e05-f09f-48cc-ad0a-6ce22c76157d"
      },
      "outputs": [
        {
          "data": {
            "application/vnd.google.colaboratory.intrinsic+json": {
              "type": "string"
            },
            "text/plain": [
              "'PlayMusic'"
            ]
          },
          "execution_count": 44,
          "metadata": {
            "tags": []
          },
          "output_type": "execute_result"
        }
      ],
      "source": [
        "classify(\"I would like to listen to Anima by Thom Yorke.\",\n",
        "         tokenizer, intent_model, intent_names)"
      ]
    },
    {
      "cell_type": "code",
      "execution_count": 45,
      "metadata": {
        "colab": {
          "base_uri": "https://localhost:8080/",
          "height": 35
        },
        "id": "xEm-hmgnJprH",
        "outputId": "6fc32fa4-5766-4c6e-b2dc-03840158f559"
      },
      "outputs": [
        {
          "data": {
            "application/vnd.google.colaboratory.intrinsic+json": {
              "type": "string"
            },
            "text/plain": [
              "'GetWeather'"
            ]
          },
          "execution_count": 45,
          "metadata": {
            "tags": []
          },
          "output_type": "execute_result"
        }
      ],
      "source": [
        "classify(\"Will it snow tomorrow in Saclay?\",\n",
        "         tokenizer, intent_model, intent_names)"
      ]
    },
    {
      "cell_type": "code",
      "execution_count": 46,
      "metadata": {
        "colab": {
          "base_uri": "https://localhost:8080/",
          "height": 35
        },
        "id": "BSpUejyXJ8jc",
        "outputId": "3fd6eaa0-536e-467d-fb6d-597e5fccd57c"
      },
      "outputs": [
        {
          "data": {
            "application/vnd.google.colaboratory.intrinsic+json": {
              "type": "string"
            },
            "text/plain": [
              "'GetWeather'"
            ]
          },
          "execution_count": 46,
          "metadata": {
            "tags": []
          },
          "output_type": "execute_result"
        }
      ],
      "source": [
        "classify(\"Where can I see to the last Star Wars near Odéon tonight?\",\n",
        "         tokenizer, intent_model, intent_names)"
      ]
    },
    {
      "cell_type": "markdown",
      "metadata": {
        "id": "won6WWQULT3E"
      },
      "source": [
        "## Join Intent Classification and Slot Filling\n",
        "\n",
        "Let's now refine our Natural Language Understanding system by trying the retrieve the important structured elements of each voici command.\n",
        "\n",
        "To do so we will perform word level (or token level) classification of the BIO labels.\n",
        "\n",
        "Since we have word level tags but BERT uses a wordpiece tokenizer, we need to align the BIO labels with the BERT tokens.\n",
        "\n",
        "\n",
        "Let's load the list of possible word token labels and augment it with an additional padding label to be able to ignore special tokens:"
      ]
    },
    {
      "cell_type": "code",
      "execution_count": 47,
      "metadata": {
        "colab": {
          "base_uri": "https://localhost:8080/"
        },
        "id": "PgYp8XkWMkpx",
        "outputId": "ca3b67f2-c03d-45dc-840a-9a21cc6b863a"
      },
      "outputs": [
        {
          "data": {
            "text/plain": [
              "{'B-album': 1,\n",
              " 'B-artist': 2,\n",
              " 'B-best_rating': 3,\n",
              " 'B-city': 4,\n",
              " 'B-condition_description': 5,\n",
              " 'B-condition_temperature': 6,\n",
              " 'B-country': 7,\n",
              " 'B-cuisine': 8,\n",
              " 'B-current_location': 9,\n",
              " 'B-entity_name': 10,\n",
              " 'B-facility': 11,\n",
              " 'B-genre': 12,\n",
              " 'B-geographic_poi': 13,\n",
              " 'B-location_name': 14,\n",
              " 'B-movie_name': 15,\n",
              " 'B-movie_type': 16,\n",
              " 'B-music_item': 17,\n",
              " 'B-object_location_type': 18,\n",
              " 'B-object_name': 19,\n",
              " 'B-object_part_of_series_type': 20,\n",
              " 'B-object_select': 21,\n",
              " 'B-object_type': 22,\n",
              " 'B-party_size_description': 23,\n",
              " 'B-party_size_number': 24,\n",
              " 'B-playlist': 25,\n",
              " 'B-playlist_owner': 26,\n",
              " 'B-poi': 27,\n",
              " 'B-rating_unit': 28,\n",
              " 'B-rating_value': 29,\n",
              " 'B-restaurant_name': 30,\n",
              " 'B-restaurant_type': 31,\n",
              " 'B-served_dish': 32,\n",
              " 'B-service': 33,\n",
              " 'B-sort': 34,\n",
              " 'B-spatial_relation': 35,\n",
              " 'B-state': 36,\n",
              " 'B-timeRange': 37,\n",
              " 'B-track': 38,\n",
              " 'B-year': 39,\n",
              " 'I-album': 40,\n",
              " 'I-artist': 41,\n",
              " 'I-city': 42,\n",
              " 'I-country': 43,\n",
              " 'I-cuisine': 44,\n",
              " 'I-current_location': 45,\n",
              " 'I-entity_name': 46,\n",
              " 'I-facility': 47,\n",
              " 'I-genre': 48,\n",
              " 'I-geographic_poi': 49,\n",
              " 'I-location_name': 50,\n",
              " 'I-movie_name': 51,\n",
              " 'I-movie_type': 52,\n",
              " 'I-music_item': 53,\n",
              " 'I-object_location_type': 54,\n",
              " 'I-object_name': 55,\n",
              " 'I-object_part_of_series_type': 56,\n",
              " 'I-object_select': 57,\n",
              " 'I-object_type': 58,\n",
              " 'I-party_size_description': 59,\n",
              " 'I-playlist': 60,\n",
              " 'I-playlist_owner': 61,\n",
              " 'I-poi': 62,\n",
              " 'I-restaurant_name': 63,\n",
              " 'I-restaurant_type': 64,\n",
              " 'I-served_dish': 65,\n",
              " 'I-service': 66,\n",
              " 'I-sort': 67,\n",
              " 'I-spatial_relation': 68,\n",
              " 'I-state': 69,\n",
              " 'I-timeRange': 70,\n",
              " 'I-track': 71,\n",
              " 'O': 72,\n",
              " '[PAD]': 0}"
            ]
          },
          "execution_count": 47,
          "metadata": {
            "tags": []
          },
          "output_type": "execute_result"
        }
      ],
      "source": [
        "slot_names = [\"[PAD]\"]\n",
        "slot_names += Path(\"vocab.slot\").read_text(\"utf-8\").strip().splitlines()\n",
        "slot_map = {}\n",
        "for label in slot_names:\n",
        "    slot_map[label] = len(slot_map)\n",
        "slot_map"
      ]
    },
    {
      "cell_type": "markdown",
      "metadata": {
        "id": "v8CX6LxYmhRh"
      },
      "source": [
        "The following function generates token-aligned integer labels from the BIO word-level annotations. In particular, if a specific word is too long to be represented as a single token, we expand its label for all the tokens of that word while taking care of using \"B-\" labels only for the first token and then use \"I-\" for the matching slot type for subsequent tokens of the same word:"
      ]
    },
    {
      "cell_type": "code",
      "execution_count": 48,
      "metadata": {
        "id": "6LLkBWFJM6tr"
      },
      "outputs": [],
      "source": [
        "def encode_token_labels(text_sequences, slot_names, tokenizer, slot_map,\n",
        "                        max_length):\n",
        "    encoded = np.zeros(shape=(len(text_sequences), max_length), dtype=np.int32)\n",
        "    for i, (text_sequence, word_labels) in enumerate(\n",
        "            zip(text_sequences, slot_names)):\n",
        "        encoded_labels = []\n",
        "        for word, word_label in zip(text_sequence.split(), word_labels.split()):\n",
        "            tokens = tokenizer.tokenize(word)\n",
        "            encoded_labels.append(slot_map[word_label])\n",
        "            expand_label = word_label.replace(\"B-\", \"I-\")\n",
        "            if not expand_label in slot_map:\n",
        "                expand_label = word_label\n",
        "            encoded_labels.extend([slot_map[expand_label]] * (len(tokens) - 1))\n",
        "        encoded[i, 1:len(encoded_labels) + 1] = encoded_labels\n",
        "    return encoded\n",
        "\n",
        "\n",
        "slot_train = encode_token_labels(\n",
        "    df_train[\"words\"], df_train[\"word_labels\"], tokenizer, slot_map, 45)\n",
        "slot_valid = encode_token_labels(\n",
        "    df_valid[\"words\"], df_valid[\"word_labels\"], tokenizer, slot_map, 45)\n",
        "slot_test = encode_token_labels(\n",
        "    df_test[\"words\"], df_test[\"word_labels\"], tokenizer, slot_map, 45)"
      ]
    },
    {
      "cell_type": "code",
      "execution_count": 49,
      "metadata": {
        "colab": {
          "base_uri": "https://localhost:8080/"
        },
        "id": "9N1treFMWk6G",
        "outputId": "f31e1d51-a58a-46af-edaf-8211fbd1b222"
      },
      "outputs": [
        {
          "data": {
            "text/plain": [
              "array([ 0, 72, 72, 10, 46, 46, 46, 72, 26, 25, 60, 60, 60, 60, 60, 60, 72,\n",
              "       72,  0,  0,  0,  0,  0,  0,  0,  0,  0,  0,  0,  0,  0,  0,  0,  0,\n",
              "        0,  0,  0,  0,  0,  0,  0,  0,  0,  0,  0], dtype=int32)"
            ]
          },
          "execution_count": 49,
          "metadata": {
            "tags": []
          },
          "output_type": "execute_result"
        }
      ],
      "source": [
        "slot_train[0]"
      ]
    },
    {
      "cell_type": "code",
      "execution_count": 50,
      "metadata": {
        "colab": {
          "base_uri": "https://localhost:8080/"
        },
        "id": "YPxRpB5044QM",
        "outputId": "849b02ce-ee17-4a1b-b283-3f33d29ccdd6"
      },
      "outputs": [
        {
          "data": {
            "text/plain": [
              "array([ 0,  2, 41, 41, 72, 72, 72, 26, 25, 72, 72,  0,  0,  0,  0,  0,  0,\n",
              "        0,  0,  0,  0,  0,  0,  0,  0,  0,  0,  0,  0,  0,  0,  0,  0,  0,\n",
              "        0,  0,  0,  0,  0,  0,  0,  0,  0,  0,  0], dtype=int32)"
            ]
          },
          "execution_count": 50,
          "metadata": {
            "tags": []
          },
          "output_type": "execute_result"
        }
      ],
      "source": [
        "slot_valid[0]"
      ]
    },
    {
      "cell_type": "markdown",
      "metadata": {
        "id": "n33S5n-TnVjd"
      },
      "source": [
        "Note that the special tokens such as \"[PAD]\" and \"[SEP]\" and all padded positions recieve a 0 label."
      ]
    },
    {
      "cell_type": "markdown",
      "metadata": {
        "id": "RtSSdT2L5O30"
      },
      "source": [
        "### Exercise\n",
        "\n",
        "Use the following code template to build a joint sequence and token classification model suitable for training on our encoded dataset with slot labels:\n",
        "\n"
      ]
    },
    {
      "cell_type": "code",
      "execution_count": 51,
      "metadata": {
        "id": "mKlJWrbt5fal"
      },
      "outputs": [],
      "source": [
        "from transformers import TFAutoModel\n",
        "from tensorflow.keras.layers import Dropout, Dense\n",
        "\n",
        "\n",
        "class JointIntentAndSlotFillingModel(tf.keras.Model):\n",
        "\n",
        "    def __init__(self, intent_num_labels=None, slot_num_labels=None,\n",
        "                 model_name=\"bert-base-cased\", dropout_prob=0.1):\n",
        "        super().__init__(name=\"joint_intent_slot\")\n",
        "        self.bert = TFAutoModel.from_pretrained(model_name)\n",
        "        # TODO: define all the needed layers here.\n",
        "\n",
        "    def call(self, inputs, training=False):\n",
        "        # TODO: extract the features from the inputs using the pre-trained\n",
        "        # BERT model here.\n",
        "\n",
        "        # TODO: use the new layers to predict slot class (logits) for each\n",
        "        # token position in the input sequence:\n",
        "        slot_logits = None  # (batch_size, seq_len, slot_num_labels)\n",
        "\n",
        "        # TODO: define a second classification head for the sequence-wise\n",
        "        # predictions:\n",
        "        intent_logits = None  # (batch_size, intent_num_labels)\n",
        "\n",
        "        return slot_logits, intent_logits\n",
        "\n",
        "\n",
        "joint_model = JointIntentAndSlotFillingModel(\n",
        "    intent_num_labels=len(intent_map), slot_num_labels=len(slot_map))\n",
        "\n",
        "# Define one classification loss for each output:\n",
        "losses = [SparseCategoricalCrossentropy(from_logits=True),\n",
        "          SparseCategoricalCrossentropy(from_logits=True)]\n",
        "joint_model.compile(optimizer=Adam(learning_rate=3e-5, epsilon=1e-08),\n",
        "                    loss=losses)\n",
        "\n",
        "# TODO: uncomment to train the model:\n",
        "history = joint_model.fit(\n",
        "    encoded_train, (slot_train, intent_train),\n",
        "    validation_data=(encoded_valid, (slot_valid, intent_valid)),\n",
        "    epochs=2, batch_size=32)"
      ]
    },
    {
      "cell_type": "code",
      "execution_count": 51,
      "metadata": {
        "id": "V_-d4FGf6Q_D"
      },
      "outputs": [],
      "source": [
        "\n",
        "\n",
        "\n",
        "\n",
        "\n",
        "\n",
        "\n"
      ]
    },
    {
      "cell_type": "markdown",
      "metadata": {
        "id": "22oxRdqE6HZj"
      },
      "source": [
        "\n",
        "\n",
        "\n",
        "\n",
        "\n",
        "\n",
        "\n",
        "### Solution:\n"
      ]
    },
    {
      "cell_type": "code",
      "execution_count": 52,
      "metadata": {
        "id": "FwkvLq3KzU4G"
      },
      "outputs": [],
      "source": [
        "from transformers import TFAutoModel\n",
        "from tensorflow.keras.layers import Dropout, Dense\n",
        "\n",
        "\n",
        "class JointIntentAndSlotFillingModel(tf.keras.Model):\n",
        "\n",
        "    def __init__(self, intent_num_labels=None, slot_num_labels=None,\n",
        "                 model_name=\"bert-base-cased\", dropout_prob=0.1):\n",
        "        super().__init__(name=\"joint_intent_slot\")\n",
        "        self.bert = TFAutoModel.from_pretrained(model_name)\n",
        "        self.dropout = Dropout(dropout_prob)\n",
        "        self.intent_classifier = Dense(intent_num_labels,\n",
        "                                       name=\"intent_classifier\")\n",
        "        self.slot_classifier = Dense(slot_num_labels,\n",
        "                                     name=\"slot_classifier\")\n",
        "\n",
        "    def call(self, inputs, training=False):\n",
        "        sequence_output, pooled_output = self.bert(inputs, training=training)\n",
        "\n",
        "        # The first output of the main BERT layer has shape:\n",
        "        # (batch_size, max_length, output_dim)\n",
        "        sequence_output = self.dropout(sequence_output, training=training)\n",
        "        slot_logits = self.slot_classifier(sequence_output)\n",
        "\n",
        "        # The second output of the main BERT layer has shape:\n",
        "        # (batch_size, output_dim)\n",
        "        # and gives a \"pooled\" representation for the full sequence from the\n",
        "        # hidden state that corresponds to the \"[CLS]\" token.\n",
        "        pooled_output = self.dropout(pooled_output, training=training)\n",
        "        intent_logits = self.intent_classifier(pooled_output)\n",
        "\n",
        "        return slot_logits, intent_logits\n",
        "\n",
        "\n",
        "joint_model = JointIntentAndSlotFillingModel(\n",
        "    intent_num_labels=len(intent_map), slot_num_labels=len(slot_map))"
      ]
    },
    {
      "cell_type": "code",
      "execution_count": 53,
      "metadata": {
        "id": "cCPRwf2Czf_d"
      },
      "outputs": [],
      "source": [
        "opt = Adam(learning_rate=3e-5, epsilon=1e-08)\n",
        "losses = [SparseCategoricalCrossentropy(from_logits=True),\n",
        "          SparseCategoricalCrossentropy(from_logits=True)]\n",
        "metrics = [SparseCategoricalAccuracy('accuracy')]\n",
        "joint_model.compile(optimizer=opt, loss=losses, metrics=metrics)"
      ]
    },
    {
      "cell_type": "code",
      "execution_count": 54,
      "metadata": {
        "colab": {
          "base_uri": "https://localhost:8080/"
        },
        "id": "Q8A0qr1K2Q-s",
        "outputId": "38b57b03-4bc8-4139-9925-1d3a23f57fb1"
      },
      "outputs": [
        {
          "name": "stdout",
          "output_type": "stream",
          "text": [
            "Epoch 1/2\n",
            "409/409 [==============================] - 148s 328ms/step - loss: 1.3657 - output_1_loss: 0.5735 - output_2_loss: 0.7922 - output_1_accuracy: 0.8790 - output_2_accuracy: 0.7123 - val_loss: 0.1072 - val_output_1_loss: 0.0514 - val_output_2_loss: 0.0558 - val_output_1_accuracy: 0.9855 - val_output_2_accuracy: 0.9857\n",
            "Epoch 2/2\n",
            "409/409 [==============================] - 132s 322ms/step - loss: 0.0816 - output_1_loss: 0.0524 - output_2_loss: 0.0292 - output_1_accuracy: 0.9862 - output_2_accuracy: 0.9904 - val_loss: 0.0733 - val_output_1_loss: 0.0278 - val_output_2_loss: 0.0455 - val_output_1_accuracy: 0.9919 - val_output_2_accuracy: 0.9886\n"
          ]
        }
      ],
      "source": [
        "history = joint_model.fit(\n",
        "    encoded_train, (slot_train, intent_train),\n",
        "    validation_data=(encoded_valid, (slot_valid, intent_valid)),\n",
        "    epochs=2, batch_size=32)"
      ]
    },
    {
      "cell_type": "markdown",
      "metadata": {
        "id": "KISsxUXO6aA1"
      },
      "source": [
        "The following function uses our trained model to make a prediction on a single text sequence and display both the sequence-wise and the token-wise class labels:"
      ]
    },
    {
      "cell_type": "code",
      "execution_count": 55,
      "metadata": {
        "id": "r0hZKphof3Im"
      },
      "outputs": [],
      "source": [
        "def show_predictions(text, tokenizer, model, intent_names, slot_names):\n",
        "    inputs = tf.constant(tokenizer.encode(text))[None, :]  # batch_size = 1\n",
        "    outputs = model(inputs)\n",
        "    slot_logits, intent_logits = outputs\n",
        "    slot_ids = slot_logits.numpy().argmax(axis=-1)[0, 1:-1]\n",
        "    intent_id = intent_logits.numpy().argmax(axis=-1)[0]\n",
        "    print(\"## Intent:\", intent_names[intent_id])\n",
        "    print(\"## Slots:\")\n",
        "    for token, slot_id in zip(tokenizer.tokenize(text), slot_ids):\n",
        "        print(f\"{token:>10} : {slot_names[slot_id]}\")"
      ]
    },
    {
      "cell_type": "code",
      "execution_count": 56,
      "metadata": {
        "colab": {
          "base_uri": "https://localhost:8080/"
        },
        "id": "dzzVtd7ag7Hi",
        "outputId": "a0f05661-0a60-424d-df49-02ac61068acd"
      },
      "outputs": [
        {
          "name": "stdout",
          "output_type": "stream",
          "text": [
            "## Intent: BookRestaurant\n",
            "## Slots:\n",
            "      Book : O\n",
            "         a : O\n",
            "     table : O\n",
            "       for : O\n",
            "       two : B-party_size_number\n",
            "        at : O\n",
            "        Le : B-restaurant_name\n",
            "         R : I-restaurant_name\n",
            "     ##itz : I-restaurant_name\n",
            "       for : O\n",
            "    Friday : B-timeRange\n",
            "     night : I-timeRange\n",
            "         ! : O\n"
          ]
        }
      ],
      "source": [
        "show_predictions(\"Book a table for two at Le Ritz for Friday night!\",\n",
        "                 tokenizer, joint_model, intent_names, slot_names)"
      ]
    },
    {
      "cell_type": "code",
      "execution_count": 57,
      "metadata": {
        "colab": {
          "base_uri": "https://localhost:8080/"
        },
        "id": "GRIIpxojhMBK",
        "outputId": "e3f9cdb3-bdf1-45cf-93b2-fd7012ce36bb"
      },
      "outputs": [
        {
          "name": "stdout",
          "output_type": "stream",
          "text": [
            "## Intent: GetWeather\n",
            "## Slots:\n",
            "      Will : O\n",
            "        it : O\n",
            "      snow : B-condition_description\n",
            "  tomorrow : B-timeRange\n",
            "        in : O\n",
            "        Sa : B-city\n",
            "       ##c : I-city\n",
            "     ##lay : I-city\n",
            "         ? : O\n"
          ]
        }
      ],
      "source": [
        "show_predictions(\"Will it snow tomorrow in Saclay?\",\n",
        "                 tokenizer, joint_model, intent_names, slot_names)"
      ]
    },
    {
      "cell_type": "code",
      "execution_count": 58,
      "metadata": {
        "colab": {
          "base_uri": "https://localhost:8080/"
        },
        "id": "b3UCKzNchAtF",
        "outputId": "d08132ae-6e8a-4176-f6f0-5acfaf1089c5"
      },
      "outputs": [
        {
          "name": "stdout",
          "output_type": "stream",
          "text": [
            "## Intent: PlayMusic\n",
            "## Slots:\n",
            "         I : O\n",
            "     would : O\n",
            "      like : O\n",
            "        to : O\n",
            "    listen : O\n",
            "        to : O\n",
            "        An : B-track\n",
            "     ##ima : I-track\n",
            "        by : O\n",
            "      Thom : B-artist\n",
            "      York : I-artist\n",
            "       ##e : I-artist\n",
            "         . : O\n"
          ]
        }
      ],
      "source": [
        "show_predictions(\"I would like to listen to Anima by Thom Yorke.\",\n",
        "                 tokenizer, joint_model, intent_names, slot_names)"
      ]
    },
    {
      "cell_type": "markdown",
      "metadata": {
        "id": "wFp10wA17jem"
      },
      "source": [
        "### Decoding Predictions into Structured Knowledge\n",
        "\n",
        "For completeness, here a minimal function to naively decode the predicted BIO slot ids and convert it into a structured representation for the detected slots as a Python dictionaries: "
      ]
    },
    {
      "cell_type": "code",
      "execution_count": 59,
      "metadata": {
        "id": "9aTOdQdpXzBX"
      },
      "outputs": [],
      "source": [
        "def decode_predictions(text, tokenizer, intent_names, slot_names,\n",
        "                       intent_id, slot_ids):\n",
        "    info = {\"intent\": intent_names[intent_id]}\n",
        "    collected_slots = {}\n",
        "    active_slot_words = []\n",
        "    active_slot_name = None\n",
        "    for word in text.split():\n",
        "        tokens = tokenizer.tokenize(word)\n",
        "        current_word_slot_ids = slot_ids[:len(tokens)]\n",
        "        slot_ids = slot_ids[len(tokens):]\n",
        "        current_word_slot_name = slot_names[current_word_slot_ids[0]]\n",
        "        if current_word_slot_name == \"O\":\n",
        "            if active_slot_name:\n",
        "                collected_slots[active_slot_name] = \" \".join(active_slot_words)\n",
        "                active_slot_words = []\n",
        "                active_slot_name = None\n",
        "        else:\n",
        "            # Naive BIO: handling: treat B- and I- the same...\n",
        "            new_slot_name = current_word_slot_name[2:]\n",
        "            if active_slot_name is None:\n",
        "                active_slot_words.append(word)\n",
        "                active_slot_name = new_slot_name\n",
        "            elif new_slot_name == active_slot_name:\n",
        "                active_slot_words.append(word)\n",
        "            else:\n",
        "                collected_slots[active_slot_name] = \" \".join(active_slot_words)\n",
        "                active_slot_words = [word]\n",
        "                active_slot_name = new_slot_name\n",
        "    if active_slot_name:\n",
        "        collected_slots[active_slot_name] = \" \".join(active_slot_words)\n",
        "    info[\"slots\"] = collected_slots\n",
        "    return info"
      ]
    },
    {
      "cell_type": "code",
      "execution_count": 60,
      "metadata": {
        "colab": {
          "base_uri": "https://localhost:8080/"
        },
        "id": "PkCWE_5B5TA-",
        "outputId": "d8e1f569-15b6-4f29-c774-3f617688f672"
      },
      "outputs": [
        {
          "data": {
            "text/plain": [
              "{'intent': 'BookRestaurant',\n",
              " 'slots': {'party_size_number': 'two',\n",
              "  'restaurant_name': 'Le Ritz',\n",
              "  'timeRange': 'Friday'}}"
            ]
          },
          "execution_count": 60,
          "metadata": {
            "tags": []
          },
          "output_type": "execute_result"
        }
      ],
      "source": [
        "def nlu(text, tokenizer, model, intent_names, slot_names):\n",
        "    inputs = tf.constant(tokenizer.encode(text))[None, :]  # batch_size = 1\n",
        "    outputs = model(inputs)\n",
        "    slot_logits, intent_logits = outputs\n",
        "    slot_ids = slot_logits.numpy().argmax(axis=-1)[0, 1:-1]\n",
        "    intent_id = intent_logits.numpy().argmax(axis=-1)[0]\n",
        "\n",
        "    return decode_predictions(text, tokenizer, intent_names, slot_names,\n",
        "                              intent_id, slot_ids)\n",
        "\n",
        "nlu(\"Book a table for two at Le Ritz for Friday night\",\n",
        "    tokenizer, joint_model, intent_names, slot_names)"
      ]
    },
    {
      "cell_type": "code",
      "execution_count": 61,
      "metadata": {
        "colab": {
          "base_uri": "https://localhost:8080/"
        },
        "id": "Dg6oEtGB8-H5",
        "outputId": "0ac17a08-40ae-4848-fd29-feab98d610b3"
      },
      "outputs": [
        {
          "data": {
            "text/plain": [
              "{'intent': 'GetWeather',\n",
              " 'slots': {'city': 'Saclay',\n",
              "  'condition_description': 'snow',\n",
              "  'timeRange': 'tomorrow'}}"
            ]
          },
          "execution_count": 61,
          "metadata": {
            "tags": []
          },
          "output_type": "execute_result"
        }
      ],
      "source": [
        "nlu(\"Will it snow tomorrow in Saclay\",\n",
        "    tokenizer, joint_model, intent_names, slot_names)"
      ]
    },
    {
      "cell_type": "code",
      "execution_count": 62,
      "metadata": {
        "colab": {
          "base_uri": "https://localhost:8080/"
        },
        "id": "Q04HBffUDGXl",
        "outputId": "2f545e85-7acc-4591-9799-b493cf9a4160"
      },
      "outputs": [
        {
          "data": {
            "text/plain": [
              "{'intent': 'PlayMusic', 'slots': {'artist': 'Thom Yorke', 'track': 'Anima'}}"
            ]
          },
          "execution_count": 62,
          "metadata": {
            "tags": []
          },
          "output_type": "execute_result"
        }
      ],
      "source": [
        "nlu(\"I would like to listen to Anima by Thom Yorke\",\n",
        "    tokenizer, joint_model, intent_names, slot_names)"
      ]
    },
    {
      "cell_type": "markdown",
      "metadata": {
        "id": "tD8kyW6EUQRL"
      },
      "source": [
        "## Limitations\n",
        "\n",
        "### Language\n",
        "\n",
        "BERT is pretrained primarily on English content. It can therefore only extract meaningful features on text written in English.\n",
        "\n",
        "Note that there exists alternative pretrained model that use a mix of different languages (e.g. [XLM](https://github.com/facebookresearch/XLM/)) and others that have been trained on other languages. For instance [CamemBERT](https://camembert-model.fr/) is pretrained on French text. Both kinds of models are available in the transformers package:\n",
        "\n",
        "https://github.com/huggingface/transformers#model-architectures\n",
        "\n",
        "The public snips.ai dataset used for fine-tuning is English only. To build a model for another language we would need to collect and annotate a similar corpus with tens of thousands of diverse, representative samples.\n",
        "\n",
        "\n",
        "### Biases Embedded in the Pre-Trained Model\n",
        "\n",
        "The original data used to pre-trained BERT was collected from the Internet and contains all kinds of data, including offensive and hateful speech.\n",
        "\n",
        "While using BERT for or voice command understanding system is quite unlikely to be significantly impacted by those biases, it could be a serious problem for other kinds of applications such as Machine Translation for instance.\n",
        "\n",
        "It is therefore strongly recommended to spend time auditing the biases that are embedded in such pre-trained models before deciding to deploy system that derive from them.\n",
        "\n",
        "### Computational Resources\n",
        "\n",
        "The original BERT model has many parameters which uses a lot of memory and can be prohibitive to deploy on small devices such as mobile phones. It is also very computationally intensive and typically requires powerful GPUs or TPUs to process text data at a reasonable speed (both for training and at inference time).\n",
        "\n",
        "Designing alternative architectures with fewer parameters or more efficient training and inference procedures is still a very active area of research.\n",
        "\n",
        "Depending of on the problems, it might be the case that simpler architectures based on convolutional neural networks and LSTMs might offer a better speed / accuracy trade-off.\n"
      ]
    },
    {
      "cell_type": "code",
      "execution_count": 62,
      "metadata": {
        "id": "yRHIuIzsP-IC"
      },
      "outputs": [],
      "source": []
    }
  ],
  "metadata": {
    "accelerator": "GPU",
    "colab": {
      "collapsed_sections": [],
      "name": "Copy of transformers_joint_intent_classification_slot_filling.ipynb",
      "provenance": []
    },
    "kernelspec": {
      "display_name": "Python 3",
      "language": "python",
      "name": "python3"
    },
    "language_info": {
      "codemirror_mode": {
        "name": "ipython",
        "version": 3
      },
      "file_extension": ".py",
      "mimetype": "text/x-python",
      "name": "python",
      "nbconvert_exporter": "python",
      "pygments_lexer": "ipython3",
      "version": "3.10.6 (main, Nov 14 2022, 16:10:14) [GCC 11.3.0]"
    },
    "vscode": {
      "interpreter": {
        "hash": "916dbcbb3f70747c44a77c7bcd40155683ae19c65e1c03b4aa3499c5328201f1"
      }
    }
  },
  "nbformat": 4,
  "nbformat_minor": 0
}
