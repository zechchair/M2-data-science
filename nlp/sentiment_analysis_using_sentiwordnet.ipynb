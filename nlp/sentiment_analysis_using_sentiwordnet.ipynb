{
  "cells": [
    {
      "metadata": {
        "id": "l8U-NZM-rjsc"
      },
      "cell_type": "markdown",
      "source": [
        "# Importing The Packages"
      ]
    },
    {
      "metadata": {
        "_uuid": "8f2839f25d086af736a60e9eeb907d3b93b6e0e5",
        "_cell_guid": "b1076dfc-b9ad-4769-8c92-a6c4dae69d19",
        "trusted": true,
        "id": "eyZq7RpPrjsh",
        "outputId": "943dffe7-85d3-4ee2-8ff8-bcc6ef036810"
      },
      "cell_type": "code",
      "source": [
        "import pandas as pd\n",
        "import numpy as np\n",
        "from nltk.stem import WordNetLemmatizer\n",
        "import nltk\n",
        "from nltk.corpus import stopwords \n",
        "from nltk.tokenize import word_tokenize \n",
        "import re\n",
        "import spacy\n",
        "from nltk.corpus import sentiwordnet as swn\n",
        "from IPython.display import clear_output\n",
        "import plotly.express as px\n",
        "import seaborn as sns\n",
        "import matplotlib.pyplot as plt\n",
        "from wordcloud import WordCloud\n",
        "import plotly\n",
        "plotly.offline.init_notebook_mode (connected = True)"
      ],
      "execution_count": null,
      "outputs": [
        {
          "output_type": "display_data",
          "data": {
            "text/html": "        <script type=\"text/javascript\">\n        window.PlotlyConfig = {MathJaxConfig: 'local'};\n        if (window.MathJax) {MathJax.Hub.Config({SVG: {font: \"STIX-Web\"}});}\n        if (typeof require !== 'undefined') {\n        require.undef(\"plotly\");\n        requirejs.config({\n            paths: {\n                'plotly': ['https://cdn.plot.ly/plotly-latest.min']\n            }\n        });\n        require(['plotly'], function(Plotly) {\n            window._Plotly = Plotly;\n        });\n        }\n        </script>\n        "
          },
          "metadata": {}
        }
      ]
    },
    {
      "metadata": {
        "id": "HJ5WMbCqrjsj"
      },
      "cell_type": "markdown",
      "source": [
        "# Importing The Data"
      ]
    },
    {
      "metadata": {
        "trusted": true,
        "id": "DMJnXxVUrjsk"
      },
      "cell_type": "code",
      "source": [
        "data=pd.read_csv('../input/imdb-movie-reviews-dataset/movie_data.csv')"
      ],
      "execution_count": null,
      "outputs": []
    },
    {
      "metadata": {
        "trusted": true,
        "id": "ke8CF_oqrjsk",
        "outputId": "5615f388-728c-4b87-8519-592b1da55380"
      },
      "cell_type": "code",
      "source": [
        "data.head(5)"
      ],
      "execution_count": null,
      "outputs": [
        {
          "output_type": "execute_result",
          "execution_count": 3,
          "data": {
            "text/plain": "                                              review  sentiment\n0  In 1974, the teenager Martha Moxley (Maggie Gr...          1\n1  OK... so... I really like Kris Kristofferson a...          0\n2  ***SPOILER*** Do not read this, if you think a...          0\n3  hi for all the people who have seen this wonde...          1\n4  I recently bought the DVD, forgetting just how...          0",
            "text/html": "<div>\n<style scoped>\n    .dataframe tbody tr th:only-of-type {\n        vertical-align: middle;\n    }\n\n    .dataframe tbody tr th {\n        vertical-align: top;\n    }\n\n    .dataframe thead th {\n        text-align: right;\n    }\n</style>\n<table border=\"1\" class=\"dataframe\">\n  <thead>\n    <tr style=\"text-align: right;\">\n      <th></th>\n      <th>review</th>\n      <th>sentiment</th>\n    </tr>\n  </thead>\n  <tbody>\n    <tr>\n      <th>0</th>\n      <td>In 1974, the teenager Martha Moxley (Maggie Gr...</td>\n      <td>1</td>\n    </tr>\n    <tr>\n      <th>1</th>\n      <td>OK... so... I really like Kris Kristofferson a...</td>\n      <td>0</td>\n    </tr>\n    <tr>\n      <th>2</th>\n      <td>***SPOILER*** Do not read this, if you think a...</td>\n      <td>0</td>\n    </tr>\n    <tr>\n      <th>3</th>\n      <td>hi for all the people who have seen this wonde...</td>\n      <td>1</td>\n    </tr>\n    <tr>\n      <th>4</th>\n      <td>I recently bought the DVD, forgetting just how...</td>\n      <td>0</td>\n    </tr>\n  </tbody>\n</table>\n</div>"
          },
          "metadata": {}
        }
      ]
    },
    {
      "metadata": {
        "id": "lRHObXa2rjsl"
      },
      "cell_type": "markdown",
      "source": [
        "# Making two copies of Reviews to edit"
      ]
    },
    {
      "metadata": {
        "trusted": true,
        "id": "GMHwFJBvrjsl"
      },
      "cell_type": "code",
      "source": [
        "# Replacing Positive -> 1 and Negative -> 0\n",
        "\n",
        "data.replace({\"positive\":1,\"negative\":0},inplace=True)"
      ],
      "execution_count": null,
      "outputs": []
    },
    {
      "metadata": {
        "trusted": true,
        "id": "bMNS4ARJrjsl"
      },
      "cell_type": "code",
      "source": [
        "#Edits After Removing Stopwords\n",
        "Edited_Review = data['review'].copy()\n",
        "data['Review_without_stopwords'] = Edited_Review"
      ],
      "execution_count": null,
      "outputs": []
    },
    {
      "metadata": {
        "id": "btUW9d2yrjsm"
      },
      "cell_type": "markdown",
      "source": [
        "# Having a look at 1st five reviews in the data"
      ]
    },
    {
      "metadata": {
        "trusted": true,
        "_kg_hide-input": true,
        "id": "tDr25Khtrjsn",
        "outputId": "cc168e5d-f123-4a85-9eaa-d934484a15be"
      },
      "cell_type": "code",
      "source": [
        "data.head(5)"
      ],
      "execution_count": null,
      "outputs": [
        {
          "output_type": "execute_result",
          "execution_count": 6,
          "data": {
            "text/plain": "                                              review  sentiment  \\\n0  In 1974, the teenager Martha Moxley (Maggie Gr...          1   \n1  OK... so... I really like Kris Kristofferson a...          0   \n2  ***SPOILER*** Do not read this, if you think a...          0   \n3  hi for all the people who have seen this wonde...          1   \n4  I recently bought the DVD, forgetting just how...          0   \n\n                            Review_without_stopwords  \n0  In 1974, the teenager Martha Moxley (Maggie Gr...  \n1  OK... so... I really like Kris Kristofferson a...  \n2  ***SPOILER*** Do not read this, if you think a...  \n3  hi for all the people who have seen this wonde...  \n4  I recently bought the DVD, forgetting just how...  ",
            "text/html": "<div>\n<style scoped>\n    .dataframe tbody tr th:only-of-type {\n        vertical-align: middle;\n    }\n\n    .dataframe tbody tr th {\n        vertical-align: top;\n    }\n\n    .dataframe thead th {\n        text-align: right;\n    }\n</style>\n<table border=\"1\" class=\"dataframe\">\n  <thead>\n    <tr style=\"text-align: right;\">\n      <th></th>\n      <th>review</th>\n      <th>sentiment</th>\n      <th>Review_without_stopwords</th>\n    </tr>\n  </thead>\n  <tbody>\n    <tr>\n      <th>0</th>\n      <td>In 1974, the teenager Martha Moxley (Maggie Gr...</td>\n      <td>1</td>\n      <td>In 1974, the teenager Martha Moxley (Maggie Gr...</td>\n    </tr>\n    <tr>\n      <th>1</th>\n      <td>OK... so... I really like Kris Kristofferson a...</td>\n      <td>0</td>\n      <td>OK... so... I really like Kris Kristofferson a...</td>\n    </tr>\n    <tr>\n      <th>2</th>\n      <td>***SPOILER*** Do not read this, if you think a...</td>\n      <td>0</td>\n      <td>***SPOILER*** Do not read this, if you think a...</td>\n    </tr>\n    <tr>\n      <th>3</th>\n      <td>hi for all the people who have seen this wonde...</td>\n      <td>1</td>\n      <td>hi for all the people who have seen this wonde...</td>\n    </tr>\n    <tr>\n      <th>4</th>\n      <td>I recently bought the DVD, forgetting just how...</td>\n      <td>0</td>\n      <td>I recently bought the DVD, forgetting just how...</td>\n    </tr>\n  </tbody>\n</table>\n</div>"
          },
          "metadata": {}
        }
      ]
    },
    {
      "metadata": {
        "id": "AlOba2A_rjsn"
      },
      "cell_type": "markdown",
      "source": [
        "# Preprocessing The Data"
      ]
    },
    {
      "metadata": {
        "trusted": true,
        "id": "q1rrEu5Brjsn"
      },
      "cell_type": "code",
      "source": [
        "# Function to preprocess Reviews data\n",
        "def preprocess_Reviews_data(data,name):\n",
        "    # Proprocessing the data\n",
        "    data[name]=data[name].str.lower()\n",
        "    # Code to remove the Hashtags from the text\n",
        "    data[name]=data[name].apply(lambda x:re.sub(r'\\B#\\S+','',x))\n",
        "    # Code to remove the links from the text\n",
        "    data[name]=data[name].apply(lambda x:re.sub(r\"http\\S+\", \"\", x))\n",
        "    # Code to remove the Special characters from the text \n",
        "    data[name]=data[name].apply(lambda x:' '.join(re.findall(r'\\w+', x)))\n",
        "    # Code to substitute the multiple spaces with single spaces\n",
        "    data[name]=data[name].apply(lambda x:re.sub(r'\\s+', ' ', x, flags=re.I))\n",
        "    # Code to remove all the single characters in the text\n",
        "    data[name]=data[name].apply(lambda x:re.sub(r'\\s+[a-zA-Z]\\s+', '', x))\n",
        "    # Remove the twitter handlers\n",
        "    data[name]=data[name].apply(lambda x:re.sub('@[^\\s]+','',x))\n",
        "\n",
        "# Function to tokenize and remove the stopwords    \n",
        "def rem_stopwords_tokenize(data,name):\n",
        "      \n",
        "    def getting(sen):\n",
        "        example_sent = sen\n",
        "        \n",
        "        filtered_sentence = [] \n",
        "\n",
        "        stop_words = set(stopwords.words('english')) \n",
        "\n",
        "        word_tokens = word_tokenize(example_sent) \n",
        "        \n",
        "        filtered_sentence = [w for w in word_tokens if not w in stop_words] \n",
        "        \n",
        "        return filtered_sentence\n",
        "    # Using \"getting(sen)\" function to append edited sentence to data\n",
        "    x=[]\n",
        "    for i in data[name].values:\n",
        "        x.append(getting(i))\n",
        "    data[name]=x\n"
      ],
      "execution_count": null,
      "outputs": []
    },
    {
      "metadata": {
        "id": "ItIioodcrjso"
      },
      "cell_type": "markdown",
      "source": [
        "# Lemmatization Function"
      ]
    },
    {
      "metadata": {
        "trusted": true,
        "id": "F5pL4ylMrjsp"
      },
      "cell_type": "code",
      "source": [
        "lemmatizer = WordNetLemmatizer()\n",
        "def Lemmatization(data,name):\n",
        "    def getting2(sen):\n",
        "        \n",
        "        example = sen\n",
        "        output_sentence =[]\n",
        "        word_tokens2 = word_tokenize(example)\n",
        "        lemmatized_output = [lemmatizer.lemmatize(w) for w in word_tokens2]\n",
        "        \n",
        "        # Remove characters which have length less than 2  \n",
        "        without_single_chr = [word for word in lemmatized_output if len(word) > 2]\n",
        "        # Remove numbers\n",
        "        cleaned_data_title = [word for word in without_single_chr if not word.isnumeric()]\n",
        "        \n",
        "        return cleaned_data_title\n",
        "    # Using \"getting2(sen)\" function to append edited sentence to data\n",
        "    x=[]\n",
        "    for i in data[name].values:\n",
        "        x.append(getting2(i))\n",
        "    data[name]=x"
      ],
      "execution_count": null,
      "outputs": []
    },
    {
      "metadata": {
        "id": "AklB0al5rjsp"
      },
      "cell_type": "markdown",
      "source": [
        "# Converting all the texts back to sentences"
      ]
    },
    {
      "metadata": {
        "trusted": true,
        "id": "gkG2Qw3drjsq"
      },
      "cell_type": "code",
      "source": [
        "def make_sentences(data,name):\n",
        "    data[name]=data[name].apply(lambda x:' '.join([i+' ' for i in x]))\n",
        "    # Removing double spaces if created\n",
        "    data[name]=data[name].apply(lambda x:re.sub(r'\\s+', ' ', x, flags=re.I))"
      ],
      "execution_count": null,
      "outputs": []
    },
    {
      "metadata": {
        "trusted": true,
        "id": "pTcwEmCOrjsq"
      },
      "cell_type": "code",
      "source": [
        "# Using the preprocessing function to preprocess the hotel data\n",
        "preprocess_Reviews_data(data,'Review_without_stopwords')\n",
        "# Using tokenizer and removing the stopwords\n",
        "rem_stopwords_tokenize(data,'Review_without_stopwords')\n",
        "# Converting all the texts back to sentences\n",
        "make_sentences(data,'Review_without_stopwords')\n",
        "\n",
        "#Edits After Lemmatization\n",
        "final_Edit = data['Review_without_stopwords'].copy()\n",
        "data[\"After_lemmatization\"] = final_Edit\n",
        "\n",
        "# Using the Lemmatization function to lemmatize the hotel data\n",
        "Lemmatization(data,'After_lemmatization')\n",
        "# Converting all the texts back to sentences\n",
        "make_sentences(data,'After_lemmatization')"
      ],
      "execution_count": null,
      "outputs": []
    },
    {
      "metadata": {
        "id": "vzlyzw-crjsq"
      },
      "cell_type": "markdown",
      "source": [
        "# Results of Preprocessing data (Removing stopwords & Lemmatization)"
      ]
    },
    {
      "metadata": {
        "trusted": true,
        "id": "mfux6Cnqrjsr",
        "outputId": "3759b51d-f4c7-4568-ea7a-32e013d8a6d1"
      },
      "cell_type": "code",
      "source": [
        "data.head(6)"
      ],
      "execution_count": null,
      "outputs": [
        {
          "output_type": "execute_result",
          "execution_count": 11,
          "data": {
            "text/plain": "                                              review  sentiment  \\\n0  In 1974, the teenager Martha Moxley (Maggie Gr...          1   \n1  OK... so... I really like Kris Kristofferson a...          0   \n2  ***SPOILER*** Do not read this, if you think a...          0   \n3  hi for all the people who have seen this wonde...          1   \n4  I recently bought the DVD, forgetting just how...          0   \n5  Leave it to Braik to put on a good show. Final...          1   \n\n                            Review_without_stopwords  \\\n0  1974 teenager martha moxley maggie grace moves...   \n1  ok soreally like kris kristofferson usual easy...   \n2  spoiler read think watching movie although wou...   \n3  hi people seen wonderful movie im sure thet wo...   \n4  recently bought dvd forgetting muchhated movie...   \n5  leave braik put ongood show finally zorak livi...   \n\n                                 After_lemmatization  \n0  teenager martha moxley maggie grace move high ...  \n1  soreally like kris kristofferson usual easy go...  \n2  spoiler read think watching movie although wou...  \n3  people seen wonderful movie sure thet would li...  \n4  recently bought dvd forgetting muchhated movie...  \n5  leave braik put ongood show finally zorak livi...  ",
            "text/html": "<div>\n<style scoped>\n    .dataframe tbody tr th:only-of-type {\n        vertical-align: middle;\n    }\n\n    .dataframe tbody tr th {\n        vertical-align: top;\n    }\n\n    .dataframe thead th {\n        text-align: right;\n    }\n</style>\n<table border=\"1\" class=\"dataframe\">\n  <thead>\n    <tr style=\"text-align: right;\">\n      <th></th>\n      <th>review</th>\n      <th>sentiment</th>\n      <th>Review_without_stopwords</th>\n      <th>After_lemmatization</th>\n    </tr>\n  </thead>\n  <tbody>\n    <tr>\n      <th>0</th>\n      <td>In 1974, the teenager Martha Moxley (Maggie Gr...</td>\n      <td>1</td>\n      <td>1974 teenager martha moxley maggie grace moves...</td>\n      <td>teenager martha moxley maggie grace move high ...</td>\n    </tr>\n    <tr>\n      <th>1</th>\n      <td>OK... so... I really like Kris Kristofferson a...</td>\n      <td>0</td>\n      <td>ok soreally like kris kristofferson usual easy...</td>\n      <td>soreally like kris kristofferson usual easy go...</td>\n    </tr>\n    <tr>\n      <th>2</th>\n      <td>***SPOILER*** Do not read this, if you think a...</td>\n      <td>0</td>\n      <td>spoiler read think watching movie although wou...</td>\n      <td>spoiler read think watching movie although wou...</td>\n    </tr>\n    <tr>\n      <th>3</th>\n      <td>hi for all the people who have seen this wonde...</td>\n      <td>1</td>\n      <td>hi people seen wonderful movie im sure thet wo...</td>\n      <td>people seen wonderful movie sure thet would li...</td>\n    </tr>\n    <tr>\n      <th>4</th>\n      <td>I recently bought the DVD, forgetting just how...</td>\n      <td>0</td>\n      <td>recently bought dvd forgetting muchhated movie...</td>\n      <td>recently bought dvd forgetting muchhated movie...</td>\n    </tr>\n    <tr>\n      <th>5</th>\n      <td>Leave it to Braik to put on a good show. Final...</td>\n      <td>1</td>\n      <td>leave braik put ongood show finally zorak livi...</td>\n      <td>leave braik put ongood show finally zorak livi...</td>\n    </tr>\n  </tbody>\n</table>\n</div>"
          },
          "metadata": {}
        }
      ]
    },
    {
      "metadata": {
        "id": "4cExcY5vrjsr"
      },
      "cell_type": "markdown",
      "source": [
        "So when we are working with sentiwordnet we need to know the characterstic of the word for which we want to know the sentiment . So for finding that position of the word here we are gonna use nltk which tells us about the position of the word which then is used to get the sentiment using the sentiwordnet . We then average out the score for both the positive and the negative score from the whole sentence .\n",
        "The positions compatible with the sentiwordnet are:\n",
        "* n - NOUN\n",
        "* v - VERB\n",
        "* a - ADJECTIVE\n",
        "* s - ADJECTIVE SATELLITE\n",
        "* r - ADVERB"
      ]
    },
    {
      "metadata": {
        "trusted": true,
        "id": "y9VnC5wxrjsr"
      },
      "cell_type": "code",
      "source": [
        "import nltk\n",
        "import ssl\n",
        "from nltk.corpus import wordnet as wn\n",
        "from nltk.corpus import sentiwordnet as swn\n",
        "from nltk.stem import WordNetLemmatizer\n",
        "from nltk.corpus import stopwords"
      ],
      "execution_count": null,
      "outputs": []
    },
    {
      "metadata": {
        "trusted": true,
        "id": "3ov7c09Vrjss",
        "outputId": "6848e254-6f7a-40ec-b974-85470fdc8489"
      },
      "cell_type": "code",
      "source": [
        "pos=neg=obj=count=0\n",
        "\n",
        "postagging = []\n",
        "\n",
        "for review in data['After_lemmatization']:\n",
        "    list = word_tokenize(review)\n",
        "    postagging.append(nltk.pos_tag(list))\n",
        "\n",
        "data['pos_tags'] = postagging\n",
        "\n",
        "def penn_to_wn(tag):\n",
        "    if tag.startswith('J'):\n",
        "        return wn.ADJ\n",
        "    elif tag.startswith('N'):\n",
        "        return wn.NOUN\n",
        "    elif tag.startswith('R'):\n",
        "        return wn.ADV\n",
        "    elif tag.startswith('V'):\n",
        "        return wn.VERB\n",
        "    return None\n",
        "\n",
        "\n",
        "# Returns list of pos-neg and objective score. But returns empty list if not present in senti wordnet.\n",
        "def get_sentiment(word,tag):\n",
        "    wn_tag = penn_to_wn(tag)\n",
        "    \n",
        "    if wn_tag not in (wn.NOUN, wn.ADJ, wn.ADV):\n",
        "        return []\n",
        "\n",
        "    #Lemmatization\n",
        "    lemma = lemmatizer.lemmatize(word, pos=wn_tag)\n",
        "    if not lemma:\n",
        "        return []\n",
        "\n",
        "    #Synset is a special kind of a simple interface that is present in NLTK to look up words in WordNet. \n",
        "    #Synset instances are the groupings of synonymous words that express the same concept. \n",
        "    #Some of the words have only one Synset and some have several.\n",
        "    synsets = wn.synsets(word, pos=wn_tag)\n",
        "    if not synsets:\n",
        "        return []\n",
        "\n",
        "    # Take the first sense, the most common\n",
        "    synset = synsets[0]\n",
        "    swn_synset = swn.senti_synset(synset.name())\n",
        "\n",
        "    return [synset.name(), swn_synset.pos_score(),swn_synset.neg_score(),swn_synset.obj_score()]\n",
        "\n",
        "    pos=neg=obj=count=0\n",
        "    \n",
        "    ###################################################################################\n",
        "senti_score = []\n",
        "\n",
        "for pos_val in data['pos_tags']:\n",
        "    senti_val = [get_sentiment(x,y) for (x,y) in pos_val]\n",
        "    for score in senti_val:\n",
        "        try:\n",
        "            pos = pos + score[1]  #positive score is stored at 2nd position\n",
        "            neg = neg + score[2]  #negative score is stored at 3rd position\n",
        "        except:\n",
        "            continue\n",
        "    senti_score.append(pos - neg)\n",
        "    pos=neg=0    \n",
        "    \n",
        "data['senti_score'] = senti_score\n",
        "print(data['senti_score'])\n",
        "\n",
        "print(data.head)"
      ],
      "execution_count": null,
      "outputs": [
        {
          "output_type": "stream",
          "text": "0       -2.125\n1        2.375\n2        1.500\n3        1.375\n4       -0.625\n         ...  \n49995   -4.500\n49996    0.625\n49997   -1.000\n49998    1.500\n49999    0.625\nName: senti_score, Length: 50000, dtype: float64\n<bound method NDFrame.head of                                                   review  sentiment  \\\n0      In 1974, the teenager Martha Moxley (Maggie Gr...          1   \n1      OK... so... I really like Kris Kristofferson a...          0   \n2      ***SPOILER*** Do not read this, if you think a...          0   \n3      hi for all the people who have seen this wonde...          1   \n4      I recently bought the DVD, forgetting just how...          0   \n...                                                  ...        ...   \n49995  OK, lets start with the best. the building. al...          0   \n49996  The British 'heritage film' industry is out of...          0   \n49997  I don't even know where to begin on this one. ...          0   \n49998  Richard Tyler is a little boy who is scared of...          0   \n49999  I waited long to watch this movie. Also becaus...          1   \n\n                                Review_without_stopwords  \\\n0      1974 teenager martha moxley maggie grace moves...   \n1      ok soreally like kris kristofferson usual easy...   \n2      spoiler read think watching movie although wou...   \n3      hi people seen wonderful movie im sure thet wo...   \n4      recently bought dvd forgetting muchhated movie...   \n...                                                  ...   \n49995  ok lets start best building although hard beli...   \n49996  british heritage film industry control thereno...   \n49997  doneven know begin one itall family worst line...   \n49998  richard tyler islittle boy scared everything d...   \n49999  waited long watch movie also becauselike bruce...   \n\n                                     After_lemmatization  \\\n0      teenager martha moxley maggie grace move high ...   \n1      soreally like kris kristofferson usual easy go...   \n2      spoiler read think watching movie although wou...   \n3      people seen wonderful movie sure thet would li...   \n4      recently bought dvd forgetting muchhated movie...   \n...                                                  ...   \n49995  let start best building although hard believe ...   \n49996  british heritage film industry control thereno...   \n49997  doneven know begin one itall family worst line...   \n49998  richard tyler islittle boy scared everything d...   \n49999  waited long watch movie also becauselike bruce...   \n\n                                                pos_tags  senti_score  \n0      [(teenager, NN), (martha, NN), (moxley, NN), (...       -2.125  \n1      [(soreally, RB), (like, IN), (kris, NNP), (kri...        2.375  \n2      [(spoiler, NN), (read, NN), (think, VBP), (wat...        1.500  \n3      [(people, NNS), (seen, VBN), (wonderful, JJ), ...        1.375  \n4      [(recently, RB), (bought, VBD), (dvd, NN), (fo...       -0.625  \n...                                                  ...          ...  \n49995  [(let, VB), (start, VB), (best, JJS), (buildin...       -4.500  \n49996  [(british, JJ), (heritage, NN), (film, NN), (i...        0.625  \n49997  [(doneven, RB), (know, VBP), (begin, VB), (one...       -1.000  \n49998  [(richard, RB), (tyler, NN), (islittle, JJ), (...        1.500  \n49999  [(waited, VBN), (long, JJ), (watch, NN), (movi...        0.625  \n\n[50000 rows x 6 columns]>\n",
          "name": "stdout"
        }
      ]
    },
    {
      "metadata": {
        "trusted": true,
        "id": "iwGWsgJprjss"
      },
      "cell_type": "code",
      "source": [
        "overall=[]\n",
        "for i in range(len(data)):\n",
        "    if data['senti_score'][i]>= 0.05:\n",
        "        overall.append('Positive')\n",
        "    elif data['senti_score'][i]<= -0.05:\n",
        "        overall.append('Negative')\n",
        "    else:\n",
        "        overall.append('Neutral')\n",
        "data['Overall Sentiment']=overall"
      ],
      "execution_count": null,
      "outputs": []
    },
    {
      "metadata": {
        "trusted": true,
        "id": "enL-Ajdzrjss",
        "outputId": "90e6e827-7095-4736-e348-43fe50671ecf"
      },
      "cell_type": "code",
      "source": [
        "data.head(10)"
      ],
      "execution_count": null,
      "outputs": [
        {
          "output_type": "execute_result",
          "execution_count": 15,
          "data": {
            "text/plain": "                                                text  label  \\\n0  It's been about 14 years since Sharon Stone aw...      0   \n1  someone needed to make a car payment... this i...      0   \n2  The Guidelines state that a comment must conta...      0   \n3  This movie is a muddled mish-mash of clichés f...      0   \n4  Before Stan Laurel became the smaller half of ...      0   \n5  This is the best movie I've ever seen! <br /><...      1   \n6  The morbid Catholic writer Gerard Reve (Jeroen...      1   \n7  \"Semana Santa\" or \"Angel Of Death\" is a very w...      0   \n8  Somebody mastered the difficult task of mergin...      1   \n9  Why did I waste 1.5 hours of my life watching ...      0   \n\n                            Review_without_stopwords  \\\n0  itbeen 14 years since sharon stone awarded vie...   \n1  someone needed makecar payment truly awful mak...   \n2  guidelines state thatcomment must containminim...   \n3  movie ismuddled mish mash clichés recent cinem...   \n4  stan laurel became smaller half time greatest ...   \n5  best movieve ever seen br br maybe itbecauseli...   \n6  morbid catholic writer gerard reve jeroen krab...   \n7  semana santa angel death isvery weak movie mir...   \n8  somebody mastered difficult task merging sport...   \n9  didwaste 1 5 hours life watching film even mad...   \n\n                                 After_lemmatization  \\\n0  itbeen year since sharon stone awarded viewers...   \n1  someone needed makecar payment truly awful mak...   \n2  guideline state thatcomment must containminimu...   \n3  movie ismuddled mish mash clichés recent cinem...   \n4  stan laurel became smaller half time greatest ...   \n5  best movieve ever seen maybe itbecauselive jus...   \n6  morbid catholic writer gerard reve jeroen krab...   \n7  semana santa angel death isvery weak movie mir...   \n8  somebody mastered difficult task merging sport...   \n9  didwaste hour life watching film even made ame...   \n\n                                            pos_tags  senti_score  \\\n0  [(itbeen, JJ), (year, NN), (since, IN), (sharo...        1.944   \n1  [(someone, NN), (needed, VBD), (makecar, NN), ...       -1.250   \n2  [(guideline, NN), (state, NN), (thatcomment, N...        1.500   \n3  [(movie, NN), (ismuddled, VBD), (mish, JJ), (m...       -4.875   \n4  [(stan, JJ), (laurel, NN), (became, VBD), (sma...        3.875   \n5  [(best, JJS), (movieve, NN), (ever, RB), (seen...        0.250   \n6  [(morbid, NN), (catholic, JJ), (writer, NN), (...        1.875   \n7  [(semana, NN), (santa, NN), (angel, VBZ), (dea...       -0.750   \n8  [(somebody, NN), (mastered, VBD), (difficult, ...        3.375   \n9  [(didwaste, NN), (hour, NN), (life, NN), (watc...        1.125   \n\n  Overall Sentiment  \n0          Positive  \n1          Negative  \n2          Positive  \n3          Negative  \n4          Positive  \n5          Positive  \n6          Positive  \n7          Negative  \n8          Positive  \n9          Positive  ",
            "text/html": "<div>\n<style scoped>\n    .dataframe tbody tr th:only-of-type {\n        vertical-align: middle;\n    }\n\n    .dataframe tbody tr th {\n        vertical-align: top;\n    }\n\n    .dataframe thead th {\n        text-align: right;\n    }\n</style>\n<table border=\"1\" class=\"dataframe\">\n  <thead>\n    <tr style=\"text-align: right;\">\n      <th></th>\n      <th>text</th>\n      <th>label</th>\n      <th>Review_without_stopwords</th>\n      <th>After_lemmatization</th>\n      <th>pos_tags</th>\n      <th>senti_score</th>\n      <th>Overall Sentiment</th>\n    </tr>\n  </thead>\n  <tbody>\n    <tr>\n      <th>0</th>\n      <td>It's been about 14 years since Sharon Stone aw...</td>\n      <td>0</td>\n      <td>itbeen 14 years since sharon stone awarded vie...</td>\n      <td>itbeen year since sharon stone awarded viewers...</td>\n      <td>[(itbeen, JJ), (year, NN), (since, IN), (sharo...</td>\n      <td>1.944</td>\n      <td>Positive</td>\n    </tr>\n    <tr>\n      <th>1</th>\n      <td>someone needed to make a car payment... this i...</td>\n      <td>0</td>\n      <td>someone needed makecar payment truly awful mak...</td>\n      <td>someone needed makecar payment truly awful mak...</td>\n      <td>[(someone, NN), (needed, VBD), (makecar, NN), ...</td>\n      <td>-1.250</td>\n      <td>Negative</td>\n    </tr>\n    <tr>\n      <th>2</th>\n      <td>The Guidelines state that a comment must conta...</td>\n      <td>0</td>\n      <td>guidelines state thatcomment must containminim...</td>\n      <td>guideline state thatcomment must containminimu...</td>\n      <td>[(guideline, NN), (state, NN), (thatcomment, N...</td>\n      <td>1.500</td>\n      <td>Positive</td>\n    </tr>\n    <tr>\n      <th>3</th>\n      <td>This movie is a muddled mish-mash of clichés f...</td>\n      <td>0</td>\n      <td>movie ismuddled mish mash clichés recent cinem...</td>\n      <td>movie ismuddled mish mash clichés recent cinem...</td>\n      <td>[(movie, NN), (ismuddled, VBD), (mish, JJ), (m...</td>\n      <td>-4.875</td>\n      <td>Negative</td>\n    </tr>\n    <tr>\n      <th>4</th>\n      <td>Before Stan Laurel became the smaller half of ...</td>\n      <td>0</td>\n      <td>stan laurel became smaller half time greatest ...</td>\n      <td>stan laurel became smaller half time greatest ...</td>\n      <td>[(stan, JJ), (laurel, NN), (became, VBD), (sma...</td>\n      <td>3.875</td>\n      <td>Positive</td>\n    </tr>\n    <tr>\n      <th>5</th>\n      <td>This is the best movie I've ever seen! &lt;br /&gt;&lt;...</td>\n      <td>1</td>\n      <td>best movieve ever seen br br maybe itbecauseli...</td>\n      <td>best movieve ever seen maybe itbecauselive jus...</td>\n      <td>[(best, JJS), (movieve, NN), (ever, RB), (seen...</td>\n      <td>0.250</td>\n      <td>Positive</td>\n    </tr>\n    <tr>\n      <th>6</th>\n      <td>The morbid Catholic writer Gerard Reve (Jeroen...</td>\n      <td>1</td>\n      <td>morbid catholic writer gerard reve jeroen krab...</td>\n      <td>morbid catholic writer gerard reve jeroen krab...</td>\n      <td>[(morbid, NN), (catholic, JJ), (writer, NN), (...</td>\n      <td>1.875</td>\n      <td>Positive</td>\n    </tr>\n    <tr>\n      <th>7</th>\n      <td>\"Semana Santa\" or \"Angel Of Death\" is a very w...</td>\n      <td>0</td>\n      <td>semana santa angel death isvery weak movie mir...</td>\n      <td>semana santa angel death isvery weak movie mir...</td>\n      <td>[(semana, NN), (santa, NN), (angel, VBZ), (dea...</td>\n      <td>-0.750</td>\n      <td>Negative</td>\n    </tr>\n    <tr>\n      <th>8</th>\n      <td>Somebody mastered the difficult task of mergin...</td>\n      <td>1</td>\n      <td>somebody mastered difficult task merging sport...</td>\n      <td>somebody mastered difficult task merging sport...</td>\n      <td>[(somebody, NN), (mastered, VBD), (difficult, ...</td>\n      <td>3.375</td>\n      <td>Positive</td>\n    </tr>\n    <tr>\n      <th>9</th>\n      <td>Why did I waste 1.5 hours of my life watching ...</td>\n      <td>0</td>\n      <td>didwaste 1 5 hours life watching film even mad...</td>\n      <td>didwaste hour life watching film even made ame...</td>\n      <td>[(didwaste, NN), (hour, NN), (life, NN), (watc...</td>\n      <td>1.125</td>\n      <td>Positive</td>\n    </tr>\n  </tbody>\n</table>\n</div>"
          },
          "metadata": {}
        }
      ]
    },
    {
      "metadata": {
        "trusted": true,
        "id": "MZdNaxIPrjst",
        "outputId": "b83f137c-4d6d-4559-fcc0-dee3946d5fef"
      },
      "cell_type": "code",
      "source": [
        "import seaborn as sns\n",
        "sns.countplot(data['Overall Sentiment'])"
      ],
      "execution_count": null,
      "outputs": [
        {
          "output_type": "execute_result",
          "execution_count": 15,
          "data": {
            "text/plain": "<matplotlib.axes._subplots.AxesSubplot at 0x7f97a7962550>"
          },
          "metadata": {}
        },
        {
          "output_type": "display_data",
          "data": {
            "text/plain": "<Figure size 432x288 with 1 Axes>",
            "image/png": "[encoded data removed]"
          },
          "metadata": {
            "needs_background": "light"
          }
        }
      ]
    },
    {
      "metadata": {
        "trusted": true,
        "id": "jwcPsG7zrjst"
      },
      "cell_type": "code",
      "source": [
        "data['reviews_text_new'] = data['After_lemmatization'].copy()"
      ],
      "execution_count": null,
      "outputs": []
    },
    {
      "metadata": {
        "id": "y2qZstFbrjsu"
      },
      "cell_type": "markdown",
      "source": [
        "# Building a machine learning model"
      ]
    },
    {
      "metadata": {
        "id": "z_KPE47Zrjsu"
      },
      "cell_type": "markdown",
      "source": [
        "# Bag-of-words"
      ]
    },
    {
      "metadata": {
        "trusted": true,
        "id": "xsKmqD_frjsu",
        "outputId": "15f0d76b-2797-4053-9f64-fe347c227cba"
      },
      "cell_type": "code",
      "source": [
        "# The following code creates a word-document matrix.\n",
        "from sklearn.feature_extraction.text import CountVectorizer\n",
        "\n",
        "vec = CountVectorizer()\n",
        "X = vec.fit_transform(data['reviews_text_new'])\n",
        "df = pd.DataFrame(X.toarray(), columns = vec.get_feature_names())\n",
        "df.head(3)"
      ],
      "execution_count": null,
      "outputs": [
        {
          "output_type": "execute_result",
          "execution_count": 18,
          "data": {
            "text/plain": "   000d  000must  000night  000surly  00m  00schneider  02was  06thsaw  0am  \\\n0     0        0         0         0    0            0      0        0    0   \n1     0        0         0         0    0            0      0        0    0   \n2     0        0         0         0    0            0      0        0    0   \n\n   1000on  ...  zuthought  zvonimir  zvyagvatsev  zwartboek  zwick  ªsen  \\\n0       0  ...          0         0            0          0      0     0   \n1       0  ...          0         0            0          0      0     0   \n2       0  ...          0         0            0          0      0     0   \n\n   álex  ángela  émigré  über  \n0     0       0       0     0  \n1     0       0       0     0  \n2     0       0       0     0  \n\n[3 rows x 72846 columns]",
            "text/html": "<div>\n<style scoped>\n    .dataframe tbody tr th:only-of-type {\n        vertical-align: middle;\n    }\n\n    .dataframe tbody tr th {\n        vertical-align: top;\n    }\n\n    .dataframe thead th {\n        text-align: right;\n    }\n</style>\n<table border=\"1\" class=\"dataframe\">\n  <thead>\n    <tr style=\"text-align: right;\">\n      <th></th>\n      <th>000d</th>\n      <th>000must</th>\n      <th>000night</th>\n      <th>000surly</th>\n      <th>00m</th>\n      <th>00schneider</th>\n      <th>02was</th>\n      <th>06thsaw</th>\n      <th>0am</th>\n      <th>1000on</th>\n      <th>...</th>\n      <th>zuthought</th>\n      <th>zvonimir</th>\n      <th>zvyagvatsev</th>\n      <th>zwartboek</th>\n      <th>zwick</th>\n      <th>ªsen</th>\n      <th>álex</th>\n      <th>ángela</th>\n      <th>émigré</th>\n      <th>über</th>\n    </tr>\n  </thead>\n  <tbody>\n    <tr>\n      <th>0</th>\n      <td>0</td>\n      <td>0</td>\n      <td>0</td>\n      <td>0</td>\n      <td>0</td>\n      <td>0</td>\n      <td>0</td>\n      <td>0</td>\n      <td>0</td>\n      <td>0</td>\n      <td>...</td>\n      <td>0</td>\n      <td>0</td>\n      <td>0</td>\n      <td>0</td>\n      <td>0</td>\n      <td>0</td>\n      <td>0</td>\n      <td>0</td>\n      <td>0</td>\n      <td>0</td>\n    </tr>\n    <tr>\n      <th>1</th>\n      <td>0</td>\n      <td>0</td>\n      <td>0</td>\n      <td>0</td>\n      <td>0</td>\n      <td>0</td>\n      <td>0</td>\n      <td>0</td>\n      <td>0</td>\n      <td>0</td>\n      <td>...</td>\n      <td>0</td>\n      <td>0</td>\n      <td>0</td>\n      <td>0</td>\n      <td>0</td>\n      <td>0</td>\n      <td>0</td>\n      <td>0</td>\n      <td>0</td>\n      <td>0</td>\n    </tr>\n    <tr>\n      <th>2</th>\n      <td>0</td>\n      <td>0</td>\n      <td>0</td>\n      <td>0</td>\n      <td>0</td>\n      <td>0</td>\n      <td>0</td>\n      <td>0</td>\n      <td>0</td>\n      <td>0</td>\n      <td>...</td>\n      <td>0</td>\n      <td>0</td>\n      <td>0</td>\n      <td>0</td>\n      <td>0</td>\n      <td>0</td>\n      <td>0</td>\n      <td>0</td>\n      <td>0</td>\n      <td>0</td>\n    </tr>\n  </tbody>\n</table>\n<p>3 rows × 72846 columns</p>\n</div>"
          },
          "metadata": {}
        }
      ]
    },
    {
      "metadata": {
        "trusted": true,
        "id": "e9s1WZz4rjsu",
        "outputId": "bc0a7392-406e-43e3-d608-8d239df998eb"
      },
      "cell_type": "code",
      "source": [
        "vect = CountVectorizer()\n",
        "vect.fit(data['reviews_text_new'])\n",
        "vect.get_feature_names()\n",
        "# transform training data into a 'document-term matrix'\n",
        "simple_train_dtm = vect.transform(data['reviews_text_new'])\n",
        "print(simple_train_dtm)"
      ],
      "execution_count": null,
      "outputs": [
        {
          "output_type": "stream",
          "text": "  (0, 1106)\t1\n  (0, 2588)\t1\n  (0, 3647)\t1\n  (0, 4066)\t1\n  (0, 4142)\t1\n  (0, 4168)\t1\n  (0, 4614)\t1\n  (0, 5463)\t1\n  (0, 6396)\t1\n  (0, 6582)\t1\n  (0, 6952)\t4\n  (0, 7776)\t1\n  (0, 9692)\t1\n  (0, 11859)\t1\n  (0, 12218)\t1\n  (0, 12230)\t1\n  (0, 12825)\t1\n  (0, 13533)\t1\n  (0, 14356)\t1\n  (0, 14636)\t1\n  (0, 15630)\t1\n  (0, 15654)\t1\n  (0, 15898)\t1\n  (0, 16265)\t3\n  (0, 17320)\t1\n  :\t:\n  (4999, 46844)\t1\n  (4999, 49261)\t1\n  (4999, 50379)\t1\n  (4999, 51029)\t1\n  (4999, 51888)\t1\n  (4999, 52235)\t1\n  (4999, 52798)\t1\n  (4999, 53329)\t1\n  (4999, 53389)\t1\n  (4999, 54860)\t1\n  (4999, 56474)\t1\n  (4999, 57725)\t1\n  (4999, 58166)\t1\n  (4999, 58795)\t1\n  (4999, 58858)\t1\n  (4999, 61963)\t1\n  (4999, 62069)\t1\n  (4999, 63242)\t1\n  (4999, 65801)\t1\n  (4999, 66033)\t1\n  (4999, 66094)\t1\n  (4999, 70410)\t1\n  (4999, 71498)\t1\n  (4999, 71556)\t1\n  (4999, 72562)\t1\n",
          "name": "stdout"
        }
      ]
    },
    {
      "metadata": {
        "trusted": true,
        "id": "JjkQeuhbrjsv"
      },
      "cell_type": "code",
      "source": [
        "### Creating a python object of the class CountVectorizer\n",
        "from sklearn.feature_extraction.text import CountVectorizer\n",
        "bow_counts = CountVectorizer(tokenizer= word_tokenize, # type of tokenization\n",
        "                             ngram_range=(1,3)) # number of n-grams\n",
        "\n",
        "bow_data = bow_counts.fit_transform(data['reviews_text_new'])"
      ],
      "execution_count": null,
      "outputs": []
    },
    {
      "metadata": {
        "id": "sTXHuHwPrjsv"
      },
      "cell_type": "markdown",
      "source": [
        "# Divide into training and test sets"
      ]
    },
    {
      "metadata": {
        "trusted": true,
        "id": "T0iXRu2Lrjsv"
      },
      "cell_type": "code",
      "source": [
        "from sklearn.model_selection import train_test_split\n",
        "X_train_bow, X_test_bow, y_train_bow, y_test_bow = train_test_split(bow_data, # Features\n",
        "                                                                    data['Overall Sentiment'], # Target variable\n",
        "                                                                    test_size = 0.2, # 20% test size\n",
        "                                                                    random_state = 0) # random"
      ],
      "execution_count": null,
      "outputs": []
    },
    {
      "metadata": {
        "id": "cOWYiSQQrjsv"
      },
      "cell_type": "markdown",
      "source": [
        "# Applying logistic regression"
      ]
    },
    {
      "metadata": {
        "trusted": true,
        "id": "t1g1czQVrjsv",
        "outputId": "c2bc354e-dd1e-4503-a3ef-1cfc275e8778"
      },
      "cell_type": "code",
      "source": [
        "from sklearn.linear_model import LogisticRegression\n",
        "### Training the model \n",
        "lr_model_all = LogisticRegression() # Logistic regression\n",
        "lr_model_all.fit(X_train_bow, y_train_bow) # Fitting a logistic regression model\n",
        "\n",
        "## Predicting the output\n",
        "test_pred_lr_all = lr_model_all.predict(X_test_bow) # Class prediction\n",
        "\n",
        "\n",
        "## Calculate key performance metrics\n",
        "\n",
        "from sklearn.metrics import classification_report\n",
        "# Print a classification report\n",
        "print(classification_report(y_test_bow,test_pred_lr_all))"
      ],
      "execution_count": null,
      "outputs": [
        {
          "output_type": "stream",
          "text": "/opt/conda/lib/python3.7/site-packages/sklearn/linear_model/_logistic.py:764: ConvergenceWarning:\n\nlbfgs failed to converge (status=1):\nSTOP: TOTAL NO. of ITERATIONS REACHED LIMIT.\n\nIncrease the number of iterations (max_iter) or scale the data as shown in:\n    https://scikit-learn.org/stable/modules/preprocessing.html\nPlease also refer to the documentation for alternative solver options:\n    https://scikit-learn.org/stable/modules/linear_model.html#logistic-regression\n\n",
          "name": "stderr"
        },
        {
          "output_type": "stream",
          "text": "              precision    recall  f1-score   support\n\n    Negative       0.82      0.73      0.77      2955\n     Neutral       0.75      0.01      0.03       213\n    Positive       0.87      0.94      0.91      6832\n\n    accuracy                           0.86     10000\n   macro avg       0.81      0.56      0.57     10000\nweighted avg       0.85      0.86      0.85     10000\n\n",
          "name": "stdout"
        }
      ]
    },
    {
      "metadata": {
        "id": "mdDURKX7rjsw"
      },
      "cell_type": "markdown",
      "source": [
        "# TF-IDF model"
      ]
    },
    {
      "metadata": {
        "trusted": true,
        "id": "CLBhyEn7rjsw"
      },
      "cell_type": "code",
      "source": [
        "from sklearn.feature_extraction.text import TfidfVectorizer\n",
        "noise_words = []\n",
        "### Creating a python object of the class CountVectorizer\n",
        "tfidf_counts = TfidfVectorizer(tokenizer= word_tokenize, # type of tokenization\n",
        "                               stop_words=noise_words, # List of stopwords\n",
        "                               ngram_range=(1,1)) # number of n-grams\n",
        "\n",
        "tfidf_data = tfidf_counts.fit_transform(data['reviews_text_new'])"
      ],
      "execution_count": null,
      "outputs": []
    },
    {
      "metadata": {
        "trusted": true,
        "id": "_fevp6xjrjsw"
      },
      "cell_type": "code",
      "source": [
        "X_train_tfidf, X_test_tfidf, y_train_tfidf, y_test_tfidf = train_test_split(tfidf_data,\n",
        "                                                                            data['Overall Sentiment'],\n",
        "                                                                            test_size = 0.2,\n",
        "                                                                            random_state = 0)"
      ],
      "execution_count": null,
      "outputs": []
    },
    {
      "metadata": {
        "trusted": true,
        "id": "iJ8G8o04rjsw",
        "outputId": "de66926d-5c6a-41fa-ea50-4b6ef8c4308d"
      },
      "cell_type": "code",
      "source": [
        "### Setting up the model class\n",
        "lr_model_tf_idf = LogisticRegression()\n",
        "\n",
        "## Training the model \n",
        "lr_model_tf_idf.fit(X_train_tfidf,y_train_tfidf)\n",
        "\n",
        "## Prediciting the results\n",
        "test_pred_lr_all = lr_model_tf_idf.predict(X_test_tfidf)\n",
        "\n",
        "## Calculate key performance metrics\n",
        "\n",
        "\n",
        "# Print a classification report\n",
        "print(classification_report(y_test_tfidf,test_pred_lr_all))"
      ],
      "execution_count": null,
      "outputs": [
        {
          "output_type": "stream",
          "text": "/opt/conda/lib/python3.7/site-packages/sklearn/linear_model/_logistic.py:764: ConvergenceWarning:\n\nlbfgs failed to converge (status=1):\nSTOP: TOTAL NO. of ITERATIONS REACHED LIMIT.\n\nIncrease the number of iterations (max_iter) or scale the data as shown in:\n    https://scikit-learn.org/stable/modules/preprocessing.html\nPlease also refer to the documentation for alternative solver options:\n    https://scikit-learn.org/stable/modules/linear_model.html#logistic-regression\n\n/opt/conda/lib/python3.7/site-packages/sklearn/metrics/_classification.py:1221: UndefinedMetricWarning:\n\nPrecision and F-score are ill-defined and being set to 0.0 in labels with no predicted samples. Use `zero_division` parameter to control this behavior.\n\n",
          "name": "stderr"
        },
        {
          "output_type": "stream",
          "text": "              precision    recall  f1-score   support\n\n    Negative       0.84      0.67      0.75      2955\n     Neutral       0.00      0.00      0.00       213\n    Positive       0.85      0.95      0.90      6832\n\n    accuracy                           0.85     10000\n   macro avg       0.56      0.54      0.55     10000\nweighted avg       0.83      0.85      0.84     10000\n\n",
          "name": "stdout"
        }
      ]
    }
  ],
  "metadata": {
    "kernelspec": {
      "name": "python3",
      "display_name": "Python 3",
      "language": "python"
    },
    "language_info": {
      "name": "python",
      "version": "3.7.6",
      "mimetype": "text/x-python",
      "codemirror_mode": {
        "name": "ipython",
        "version": 3
      },
      "pygments_lexer": "ipython3",
      "nbconvert_exporter": "python",
      "file_extension": ".py"
    },
    "colab": {
      "provenance": []
    }
  },
  "nbformat": 4,
  "nbformat_minor": 0
}