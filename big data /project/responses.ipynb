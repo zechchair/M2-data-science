{
 "cells": [
  {
   "cell_type": "code",
   "execution_count": 8,
   "metadata": {},
   "outputs": [
    {
     "name": "stdout",
     "output_type": "stream",
     "text": [
      "The jupyter_black extension is already loaded. To reload it, use:\n",
      "  %reload_ext jupyter_black\n",
      "23/01/08 22:45:54 WARN Utils: Your hostname, zechchair-gl553vd resolves to a loopback address: 127.0.1.1; using 192.168.0.130 instead (on interface wlp2s0)\n",
      "23/01/08 22:45:54 WARN Utils: Set SPARK_LOCAL_IP if you need to bind to another address\n"
     ]
    },
    {
     "name": "stderr",
     "output_type": "stream",
     "text": [
      "Setting default log level to \"WARN\".\n",
      "To adjust logging level use sc.setLogLevel(newLevel). For SparkR, use setLogLevel(newLevel).\n"
     ]
    },
    {
     "name": "stdout",
     "output_type": "stream",
     "text": [
      "23/01/08 22:45:55 WARN NativeCodeLoader: Unable to load native-hadoop library for your platform... using builtin-java classes where applicable\n"
     ]
    }
   ],
   "source": [
    "from pyspark.sql import SparkSession\n",
    "from pyspark.sql.functions import input_file_name\n",
    "%load_ext jupyter_black\n",
    "spark = SparkSession.builder.appName(\"project1\").getOrCreate()"
   ]
  },
  {
   "cell_type": "code",
   "execution_count": 46,
   "metadata": {},
   "outputs": [],
   "source": [
    "from os import listdir\n",
    "from os.path import isfile, join\n",
    "\n",
    "my_path = \"/home/zechchair/Documents/github/M2-data-science/big data /project/input\"\n",
    "only_files = [my_path + \"/\" + f for f in listdir(my_path) if isfile(join(my_path, f))]\n",
    "files_names = [f for f in listdir(my_path) if isfile(join(my_path, f))]\n",
    "onlyCities_names = set(\n",
    "    [files_name.split(\".\")[0].split(\"_\")[0] for files_name in files_names]\n",
    ")"
   ]
  },
  {
   "cell_type": "code",
   "execution_count": 125,
   "metadata": {},
   "outputs": [],
   "source": [
    "from pyspark.sql.functions import split, reverse, when, lit, avg, sum"
   ]
  },
  {
   "cell_type": "code",
   "execution_count": 141,
   "metadata": {},
   "outputs": [
    {
     "name": "stdout",
     "output_type": "stream",
     "text": [
      "+------+----------+----------------+------+-----+\n",
      "|   _c0|      city|         store_N|income|month|\n",
      "+------+----------+----------------+------+-----+\n",
      "|JAN 13|      lyon|        lyon.txt|    13|  JAN|\n",
      "|FEB 12|      lyon|        lyon.txt|    12|  FEB|\n",
      "|MAR 14|      lyon|        lyon.txt|    14|  MAR|\n",
      "|APR 15|      lyon|        lyon.txt|    15|  APR|\n",
      "|MAY 12|      lyon|        lyon.txt|    12|  MAY|\n",
      "|JUN 15|      lyon|        lyon.txt|    15|  JUN|\n",
      "|JUL 19|      lyon|        lyon.txt|    19|  JUL|\n",
      "|AUG 25|      lyon|        lyon.txt|    25|  AUG|\n",
      "|SEP 13|      lyon|        lyon.txt|    13|  SEP|\n",
      "|OCT 11|      lyon|        lyon.txt|    11|  OCT|\n",
      "|NOV 22|      lyon|        lyon.txt|    22|  NOV|\n",
      "|DEC 22|      lyon|        lyon.txt|    22|  DEC|\n",
      "|JAN 21|marseilles|marseilles_1.txt|    21|  JAN|\n",
      "|FEB 21|marseilles|marseilles_1.txt|    21|  FEB|\n",
      "|MAR 21|marseilles|marseilles_1.txt|    21|  MAR|\n",
      "|APR 27|marseilles|marseilles_1.txt|    27|  APR|\n",
      "|MAY 25|marseilles|marseilles_1.txt|    25|  MAY|\n",
      "|JUN 25|marseilles|marseilles_1.txt|    25|  JUN|\n",
      "|JUL 21|marseilles|marseilles_1.txt|    21|  JUL|\n",
      "|AUG 22|marseilles|marseilles_1.txt|    22|  AUG|\n",
      "+------+----------+----------------+------+-----+\n",
      "only showing top 20 rows\n",
      "\n"
     ]
    }
   ],
   "source": [
    "df = spark.read.format(\"csv\").load(my_path + \"/*.txt\")\n",
    "\n",
    "# Add a column with the file name\n",
    "df = df.withColumn(\"city\", input_file_name())\n",
    "df = df.withColumn(\"store_N\", reverse(split(\"city\", \"/\"))[0])\n",
    "df = df.withColumn(\"city\", split(\"store_N\", \"\\\\.\")[0])\n",
    "df = df.withColumn(\"city\", split(\"city\", \"_\")[0])\n",
    "df = df.withColumn(\"income\", df[\"_c0\"].substr(5, 7))\n",
    "df = df.withColumn(\"month\", df[\"_c0\"].substr(0, 3))\n",
    "df.show()"
   ]
  },
  {
   "cell_type": "code",
   "execution_count": 142,
   "metadata": {},
   "outputs": [
    {
     "name": "stdout",
     "output_type": "stream",
     "text": [
      "+-----------------+\n",
      "|      avg(income)|\n",
      "+-----------------+\n",
      "|23.19871794871795|\n",
      "+-----------------+\n",
      "\n"
     ]
    }
   ],
   "source": [
    "df.select(avg(\"income\")).show()"
   ]
  },
  {
   "cell_type": "code",
   "execution_count": 143,
   "metadata": {},
   "outputs": [
    {
     "name": "stdout",
     "output_type": "stream",
     "text": [
      "+-----+------------------+\n",
      "|month|       avg(income)|\n",
      "+-----+------------------+\n",
      "|  APR| 20.23076923076923|\n",
      "|  OCT| 26.53846153846154|\n",
      "|  NOV| 24.53846153846154|\n",
      "|  FEB|19.153846153846153|\n",
      "|  SEP| 25.53846153846154|\n",
      "|  JAN| 20.76923076923077|\n",
      "|  AUG|23.076923076923077|\n",
      "|  MAR| 17.53846153846154|\n",
      "|  DEC|              29.0|\n",
      "|  JUN|27.846153846153847|\n",
      "|  JUL|21.692307692307693|\n",
      "|  MAY| 22.46153846153846|\n",
      "+-----+------------------+\n",
      "\n"
     ]
    }
   ],
   "source": [
    "df.groupBy(\"month\").agg(avg(\"income\")).show()"
   ]
  },
  {
   "cell_type": "code",
   "execution_count": 144,
   "metadata": {},
   "outputs": [
    {
     "name": "stdout",
     "output_type": "stream",
     "text": [
      "+-----+-----+-----------+\n",
      "| city|month|avg(income)|\n",
      "+-----+-----+-----------+\n",
      "|anger|  AUG|       15.0|\n",
      "|anger|  MAY|       12.0|\n",
      "|anger|  SEP|       13.0|\n",
      "|anger|  APR|       15.0|\n",
      "|anger|  MAR|       14.0|\n",
      "|anger|  NOV|       14.0|\n",
      "|anger|  JAN|       13.0|\n",
      "|anger|  JUN|       15.0|\n",
      "|anger|  JUL|       19.0|\n",
      "|anger|  DEC|       16.0|\n",
      "|anger|  OCT|        8.0|\n",
      "|anger|  FEB|       12.0|\n",
      "| lyon|  MAR|       14.0|\n",
      "| lyon|  AUG|       25.0|\n",
      "| lyon|  APR|       15.0|\n",
      "| lyon|  MAY|       12.0|\n",
      "| lyon|  OCT|       11.0|\n",
      "| lyon|  JUL|       19.0|\n",
      "| lyon|  FEB|       12.0|\n",
      "| lyon|  JUN|       15.0|\n",
      "+-----+-----+-----------+\n",
      "only showing top 20 rows\n",
      "\n"
     ]
    }
   ],
   "source": [
    "df.groupBy(\"city\", \"month\").agg(avg(\"income\")).orderBy(\"city\").show()"
   ]
  },
  {
   "cell_type": "code",
   "execution_count": 145,
   "metadata": {},
   "outputs": [
    {
     "name": "stdout",
     "output_type": "stream",
     "text": [
      "+----------+------------------+\n",
      "|      city|       avg(income)|\n",
      "+----------+------------------+\n",
      "|     anger|13.833333333333334|\n",
      "|      lyon|16.083333333333332|\n",
      "|marseilles|21.458333333333332|\n",
      "|    nantes|             17.25|\n",
      "|      nice|16.916666666666668|\n",
      "|    orlean|16.333333333333332|\n",
      "|     paris| 43.55555555555556|\n",
      "|    rennes|              15.0|\n",
      "|  toulouse|             14.75|\n",
      "|    troyes|17.833333333333332|\n",
      "+----------+------------------+\n",
      "\n"
     ]
    }
   ],
   "source": [
    "df.groupBy(\"city\").agg(avg(\"income\")).orderBy(\"city\").show()"
   ]
  },
  {
   "cell_type": "code",
   "execution_count": 146,
   "metadata": {},
   "outputs": [
    {
     "name": "stdout",
     "output_type": "stream",
     "text": [
      "+----------+------------------+\n",
      "|      city|       avg(income)|\n",
      "+----------+------------------+\n",
      "|     anger|13.833333333333334|\n",
      "|      lyon|16.083333333333332|\n",
      "|marseilles|21.458333333333332|\n",
      "|    nantes|             17.25|\n",
      "|      nice|16.916666666666668|\n",
      "|    orlean|16.333333333333332|\n",
      "|     paris| 43.55555555555556|\n",
      "|    rennes|              15.0|\n",
      "|  toulouse|             14.75|\n",
      "|    troyes|17.833333333333332|\n",
      "+----------+------------------+\n",
      "\n"
     ]
    }
   ],
   "source": [
    "df.groupBy(\"city\").agg(avg(\"income\")).orderBy(\"city\").show()"
   ]
  },
  {
   "cell_type": "code",
   "execution_count": 147,
   "metadata": {},
   "outputs": [
    {
     "name": "stdout",
     "output_type": "stream",
     "text": [
      "+-----+----------------+-----------+\n",
      "|month|         store_N|sum(income)|\n",
      "+-----+----------------+-----------+\n",
      "|  DEC|        lyon.txt|       22.0|\n",
      "|  SEP|marseilles_1.txt|       23.0|\n",
      "|  OCT|        lyon.txt|       11.0|\n",
      "|  MAY|        lyon.txt|       12.0|\n",
      "|  JAN|marseilles_1.txt|       21.0|\n",
      "|  FEB|marseilles_1.txt|       21.0|\n",
      "|  APR|        lyon.txt|       15.0|\n",
      "|  MAR|marseilles_1.txt|       21.0|\n",
      "|  APR|marseilles_1.txt|       27.0|\n",
      "|  AUG|marseilles_1.txt|       22.0|\n",
      "|  OCT|marseilles_1.txt|       28.0|\n",
      "|  NOV|        lyon.txt|       22.0|\n",
      "|  JUL|        lyon.txt|       19.0|\n",
      "|  JUN|        lyon.txt|       15.0|\n",
      "|  JUL|marseilles_1.txt|       21.0|\n",
      "|  JUN|marseilles_1.txt|       25.0|\n",
      "|  MAR|        lyon.txt|       14.0|\n",
      "|  MAY|marseilles_1.txt|       25.0|\n",
      "|  NOV|marseilles_1.txt|       24.0|\n",
      "|  DEC|marseilles_1.txt|       26.0|\n",
      "+-----+----------------+-----------+\n",
      "only showing top 20 rows\n",
      "\n"
     ]
    }
   ],
   "source": [
    "df.groupBy(\"month\", \"store_N\").agg(sum(\"income\")).show()"
   ]
  },
  {
   "cell_type": "code",
   "execution_count": 148,
   "metadata": {},
   "outputs": [
    {
     "name": "stdout",
     "output_type": "stream",
     "text": [
      "+-----+----------------+-----------+\n",
      "|month|         store_N|avg(income)|\n",
      "+-----+----------------+-----------+\n",
      "|  DEC|        lyon.txt|       22.0|\n",
      "|  SEP|marseilles_1.txt|       23.0|\n",
      "|  OCT|        lyon.txt|       11.0|\n",
      "|  MAY|        lyon.txt|       12.0|\n",
      "|  JAN|marseilles_1.txt|       21.0|\n",
      "|  FEB|marseilles_1.txt|       21.0|\n",
      "|  APR|        lyon.txt|       15.0|\n",
      "|  MAR|marseilles_1.txt|       21.0|\n",
      "|  APR|marseilles_1.txt|       27.0|\n",
      "|  AUG|marseilles_1.txt|       22.0|\n",
      "|  OCT|marseilles_1.txt|       28.0|\n",
      "|  NOV|        lyon.txt|       22.0|\n",
      "|  JUL|        lyon.txt|       19.0|\n",
      "|  JUN|        lyon.txt|       15.0|\n",
      "|  JUL|marseilles_1.txt|       21.0|\n",
      "|  JUN|marseilles_1.txt|       25.0|\n",
      "|  MAR|        lyon.txt|       14.0|\n",
      "|  MAY|marseilles_1.txt|       25.0|\n",
      "|  NOV|marseilles_1.txt|       24.0|\n",
      "|  DEC|marseilles_1.txt|       26.0|\n",
      "+-----+----------------+-----------+\n",
      "only showing top 20 rows\n",
      "\n"
     ]
    }
   ],
   "source": [
    "df.groupBy(\"month\", \"store_N\").agg(avg(\"income\")).show()"
   ]
  },
  {
   "cell_type": "code",
   "execution_count": 160,
   "metadata": {},
   "outputs": [
    {
     "name": "stdout",
     "output_type": "stream",
     "text": [
      "+-----+-----------+----------+\n",
      "|month|    store_N|max_income|\n",
      "+-----+-----------+----------+\n",
      "|  APR| rennes.txt|         9|\n",
      "|  APR|   nice.txt|         9|\n",
      "|  AUG|paris_2.txt|        45|\n",
      "|  DEC|paris_1.txt|        71|\n",
      "|  FEB|paris_2.txt|        42|\n",
      "|  JAN|paris_1.txt|        51|\n",
      "|  JUL|paris_1.txt|        61|\n",
      "|  JUN|paris_2.txt|        85|\n",
      "|  MAR|paris_2.txt|        44|\n",
      "|  MAY|paris_2.txt|        72|\n",
      "|  NOV|paris_2.txt|        64|\n",
      "|  OCT| orlean.txt|         8|\n",
      "|  OCT|  anger.txt|         8|\n",
      "|  SEP|paris_2.txt|        63|\n",
      "+-----+-----------+----------+\n",
      "\n"
     ]
    }
   ],
   "source": [
    "from pyspark.sql.functions import split, reverse, when, lit, avg, sum, max, col\n",
    "\n",
    "# Group the data by the month column\n",
    "grouped_df = df.groupBy(\"month\")\n",
    "\n",
    "# Find the maximum income for each group\n",
    "max_df = grouped_df.agg(max(col(\"income\")).alias(\"max_income\"))\n",
    "max_df = max_df.withColumnRenamed(\"month\", \"Month_max\")\n",
    "\n",
    "\n",
    "# Join the original data with the aggregated data on the month and income columns\n",
    "joined_df = df.join(\n",
    "    max_df,\n",
    "    (df[\"month\"] == max_df[\"Month_max\"]) & (df[\"income\"] == max_df[\"max_income\"]),\n",
    ")\n",
    "\n",
    "# Select the month, store, and max_income columns\n",
    "result_df = joined_df.select(\"month\", \"store_N\", \"max_income\")\n",
    "result_df.show()"
   ]
  },
  {
   "cell_type": "code",
   "execution_count": null,
   "metadata": {},
   "outputs": [],
   "source": []
  }
 ],
 "metadata": {
  "kernelspec": {
   "display_name": "optimisation",
   "language": "python",
   "name": "python3"
  },
  "language_info": {
   "codemirror_mode": {
    "name": "ipython",
    "version": 3
   },
   "file_extension": ".py",
   "mimetype": "text/x-python",
   "name": "python",
   "nbconvert_exporter": "python",
   "pygments_lexer": "ipython3",
   "version": "3.9.13"
  },
  "orig_nbformat": 4,
  "vscode": {
   "interpreter": {
    "hash": "d27a5b15d50a0b87e597ec8b04607d26a776244cd01a86df1daaa5551e6e6a91"
   }
  }
 },
 "nbformat": 4,
 "nbformat_minor": 2
}
