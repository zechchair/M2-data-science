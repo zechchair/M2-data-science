{
  "nbformat": 4,
  "nbformat_minor": 0,
  "metadata": {
    "colab": {
      "provenance": []
    },
    "kernelspec": {
      "name": "python3",
      "display_name": "Python 3"
    },
    "language_info": {
      "name": "python"
    }
  },
  "cells": [
    {
      "cell_type": "code",
      "execution_count": 3,
      "metadata": {
        "id": "0Fvz3iQgWX49"
      },
      "outputs": [],
      "source": [
        "from pyspark.sql import SparkSession\n",
        "\n",
        "# Create a SparkSession\n",
        "spark = SparkSession.builder.appName(\"Stocks\").getOrCreate()\n",
        "\n",
        "# Load the data into a DataFrame\n",
        "df = spark.read.csv(\"/content/drive/MyDrive/Big data/financial_data_2000_2018_cleaned.csv\", header=True, inferSchema=True)\n"
      ]
    },
    {
      "cell_type": "code",
      "source": [
        "from pyspark.sql import functions\n",
        "from pyspark.sql.types import *\n",
        "\n",
        "# create the Date and year columns\n",
        "df = df.withColumn('Date', functions.from_unixtime('timestamp').cast(DateType()))\n",
        "df = df.withColumn(\"Year\", df[\"Date\"].substr(1, 4))"
      ],
      "metadata": {
        "id": "IQ9bry_kcRLb"
      },
      "execution_count": 4,
      "outputs": []
    },
    {
      "cell_type": "code",
      "source": [
        "df.show()"
      ],
      "metadata": {
        "colab": {
          "base_uri": "https://localhost:8080/"
        },
        "id": "ZzxwWY7NiPrr",
        "outputId": "253c48bc-aa65-42de-86a4-068663a1c7d1"
      },
      "execution_count": 5,
      "outputs": [
        {
          "output_type": "stream",
          "name": "stdout",
          "text": [
            "+---+-----+----------+----+----+----+---------+-------+----------+----+\n",
            "|_c0|stock| timestamp|open|high| low|adj_close| volume|      Date|Year|\n",
            "+---+-----+----------+----+----+----+---------+-------+----------+----+\n",
            "|  0| GERN|1532988000|3.34|3.59|3.59|     3.59|4650479|2018-07-30|2018|\n",
            "|  1| GERN|1532901600|3.36|3.45|3.45|      3.3|3571600|2018-07-29|2018|\n",
            "|  2| GERN|1532642400|3.44| 3.5| 3.5|     3.34|2928697|2018-07-26|2018|\n",
            "|  3| GERN|1532556000|3.26|3.56|3.56|     3.44|4209642|2018-07-25|2018|\n",
            "|  4| GERN|1532469600|3.37|3.42|3.42|     3.22|3568900|2018-07-24|2018|\n",
            "|  5| GERN|1532383200|3.41|3.45|3.45|     3.35|3323260|2018-07-23|2018|\n",
            "|  6| GERN|1532296800|3.48|3.49|3.49|     3.37|2339213|2018-07-22|2018|\n",
            "|  7| GERN|1532037600|3.45|3.46|3.46|     3.43|7744407|2018-07-19|2018|\n",
            "|  8| GERN|1531951200|3.59| 3.6| 3.6|     3.48|5923377|2018-07-18|2018|\n",
            "|  9| GERN|1531864800|3.57|3.63|3.63|     3.59|3021013|2018-07-17|2018|\n",
            "| 10| GERN|1531778400| 3.6|3.63|3.63|     3.59|4404628|2018-07-16|2018|\n",
            "| 11| GERN|1531692000|3.63|3.67|3.67|     3.44|3339884|2018-07-15|2018|\n",
            "| 12| GERN|1531432800|3.77|3.78|3.78|     3.62|2201246|2018-07-12|2018|\n",
            "| 13| GERN|1531346400|3.58|3.83|3.83|     3.81|3812034|2018-07-11|2018|\n",
            "| 14| GERN|1531260000| 3.5|3.62|3.62|     3.59|2971108|2018-07-10|2018|\n",
            "| 15| GERN|1531173600|3.75|3.82|3.82|      3.6|3163657|2018-07-09|2018|\n",
            "| 16| GERN|1531087200|3.75|3.87|3.87|     3.75|2040190|2018-07-08|2018|\n",
            "| 17| GERN|1530828000| 3.7|3.85|3.85|     3.75|3634296|2018-07-05|2018|\n",
            "| 18| GERN|1530741600|3.65|3.94|3.94|     3.61|5535966|2018-07-04|2018|\n",
            "| 19| GERN|1530568800|3.59|3.62|3.62|     3.55|1501390|2018-07-02|2018|\n",
            "+---+-----+----------+----+----+----+---------+-------+----------+----+\n",
            "only showing top 20 rows\n",
            "\n"
          ]
        }
      ]
    },
    {
      "cell_type": "markdown",
      "source": [
        "### Question 1"
      ],
      "metadata": {
        "id": "PHt5YpAUzrq8"
      }
    },
    {
      "cell_type": "code",
      "source": [
        "# Count the number of distinct stocks\n",
        "num_stocks = df.select(\"stock\").distinct().count()\n",
        "\n",
        "# Print the number of stocks\n",
        "print(f\"The number of distinct stocks in the dataset is: {num_stocks}\")"
      ],
      "metadata": {
        "colab": {
          "base_uri": "https://localhost:8080/"
        },
        "id": "LCO8N4o9WhDi",
        "outputId": "22a5bec3-5de8-4e48-8afc-7e2744a5ef31"
      },
      "execution_count": 6,
      "outputs": [
        {
          "output_type": "stream",
          "name": "stdout",
          "text": [
            "The number of distinct stocks in the dataset is: 39\n"
          ]
        }
      ]
    },
    {
      "cell_type": "markdown",
      "source": [
        "### Question 2"
      ],
      "metadata": {
        "id": "m_CHEd9GzwKy"
      }
    },
    {
      "cell_type": "code",
      "source": [
        "# Filter the DataFrame to include only rows where the \"Open\" column is greater than 60\n",
        "# group the data by the \"Date\" column\n",
        "num_days = df.filter(df[\"open\"] > 60).select(\"timestamp\").distinct().count()\n",
        "\n",
        "# The number of days\n",
        "print(f\"The number of days where the 'open' indicator was above 60 dollars is: {num_days}\")"
      ],
      "metadata": {
        "colab": {
          "base_uri": "https://localhost:8080/"
        },
        "id": "Oh53BsEbWhF6",
        "outputId": "11ad75e1-4f5e-4be8-f292-64dc4c0dc4fe"
      },
      "execution_count": 7,
      "outputs": [
        {
          "output_type": "stream",
          "name": "stdout",
          "text": [
            "The number of days where the 'open' indicator was above 60 dollars is: 3135\n"
          ]
        }
      ]
    },
    {
      "cell_type": "markdown",
      "source": [
        "### Question 3"
      ],
      "metadata": {
        "id": "n0nv68fqzx4O"
      }
    },
    {
      "cell_type": "code",
      "source": [
        "filtered_df = df.filter((df[\"stock\"] == \"AAPL\") & (df[\"open\"] >= 35) & (df[\"open\"] <= 60))\n",
        "\n",
        "# Count the number of rows in the filtered DataFrame\n",
        "num_days = filtered_df.select(\"Date\").count()\n",
        "\n",
        "# Print the number of days\n",
        "print(f\"The number of days where the 'Open' indicator was between 35 and 60 dollars for stock 'AAPL' is: {num_days}\")"
      ],
      "metadata": {
        "colab": {
          "base_uri": "https://localhost:8080/"
        },
        "id": "5bHoY6ZGWhIi",
        "outputId": "36e9981f-91f8-4d00-d9d2-90d8462bfd4d"
      },
      "execution_count": 8,
      "outputs": [
        {
          "output_type": "stream",
          "name": "stdout",
          "text": [
            "The number of days where the 'Open' indicator was between 35 and 60 dollars for stock 'AAPL' is: 484\n"
          ]
        }
      ]
    },
    {
      "cell_type": "markdown",
      "source": [
        "### Question 4"
      ],
      "metadata": {
        "id": "fUl5nyoFzze_"
      }
    },
    {
      "cell_type": "code",
      "source": [
        "# Filter the DataFrame to include only rows where the \"Low\" column is less than 1\n",
        "filtered_df = df.filter(df.low < 1)\n",
        "\n",
        "# Group the filtered DataFrame by year and count the number of rows in each group\n",
        "# We shouldn't count the same stock twice\n",
        "num_days_per_year_per_day = filtered_df.groupBy([\"Year\", 'Date']).count()\n",
        "num_days_per_year = num_days_per_year_per_day.groupBy([\"Year\"]).count()\n",
        "\n",
        "# Print the number of days per year\n",
        "num_days_per_year.show()"
      ],
      "metadata": {
        "colab": {
          "base_uri": "https://localhost:8080/"
        },
        "id": "35iAQ6CRWhKt",
        "outputId": "f5ff40ba-ab07-4cb0-ec22-b2f60ecdfdcb"
      },
      "execution_count": 22,
      "outputs": [
        {
          "output_type": "stream",
          "name": "stdout",
          "text": [
            "+----+-----+\n",
            "|Year|count|\n",
            "+----+-----+\n",
            "|2000|   47|\n",
            "|2002|  102|\n",
            "|2009|  252|\n",
            "|2008|   96|\n",
            "|2001|    2|\n",
            "|2010|  114|\n",
            "|2003|   85|\n",
            "+----+-----+\n",
            "\n"
          ]
        }
      ]
    },
    {
      "cell_type": "code",
      "source": [],
      "metadata": {
        "id": "ygHL9Z3SRoYY"
      },
      "execution_count": 9,
      "outputs": []
    }
  ]
}