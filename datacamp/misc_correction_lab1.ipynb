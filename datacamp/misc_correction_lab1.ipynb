{
 "cells": [
  {
   "cell_type": "code",
   "execution_count": 44,
   "id": "3bd9905e",
   "metadata": {},
   "outputs": [],
   "source": [
    "import numpy as np\n",
    "import sklearn "
   ]
  },
  {
   "cell_type": "code",
   "execution_count": 45,
   "id": "29eb00d6",
   "metadata": {},
   "outputs": [],
   "source": [
    "# variable naming: use snake_case  not CamelCase:\n",
    "my_variable = 2  # OK\n",
    "Variable = 2  # no !\n",
    "MyVariable = 2 # still no \n",
    "X = np.zeros([10, 20])  # OK, exception"
   ]
  },
  {
   "cell_type": "code",
   "execution_count": 5,
   "id": "dd92a2e1",
   "metadata": {},
   "outputs": [
    {
     "data": {
      "text/plain": [
       "2.5"
      ]
     },
     "execution_count": 5,
     "metadata": {},
     "output_type": "execute_result"
    }
   ],
   "source": [
    "# numpy functions: \n",
    "a = np.ones(5)\n",
    "np.subtract(a, 3)  # too complicated\n",
    "a - 3  # reads like maths\n",
    "\n",
    "# same for np.power, np.multiply, np.square, np.dot, np.divide\n",
    "a ** 3 @ a / 2"
   ]
  },
  {
   "cell_type": "markdown",
   "id": "be43301c",
   "metadata": {},
   "source": [
    "## Timing code"
   ]
  },
  {
   "cell_type": "code",
   "execution_count": 17,
   "id": "331659e1",
   "metadata": {},
   "outputs": [],
   "source": [
    "X = np.random.randn(200, 500)"
   ]
  },
  {
   "cell_type": "code",
   "execution_count": 10,
   "id": "4b93a8ec",
   "metadata": {},
   "outputs": [],
   "source": [
    "import time"
   ]
  },
  {
   "cell_type": "code",
   "execution_count": 19,
   "id": "af32da02",
   "metadata": {},
   "outputs": [
    {
     "name": "stdout",
     "output_type": "stream",
     "text": [
      "It took 0.26002 s to compute the SVD of X\n"
     ]
    }
   ],
   "source": [
    "start = time.time()\n",
    "np.linalg.svd(X)\n",
    "end = time.time()\n",
    "print(f'It took {end - start:.5f} s to compute the SVD of X')"
   ]
  },
  {
   "cell_type": "code",
   "execution_count": 18,
   "id": "c77bf987",
   "metadata": {},
   "outputs": [
    {
     "name": "stdout",
     "output_type": "stream",
     "text": [
      "168 ms ± 41.2 ms per loop (mean ± std. dev. of 7 runs, 1 loop each)\n"
     ]
    }
   ],
   "source": [
    "%timeit np.linalg.svd(X)"
   ]
  },
  {
   "cell_type": "code",
   "execution_count": 26,
   "id": "9756924f",
   "metadata": {},
   "outputs": [
    {
     "name": "stdout",
     "output_type": "stream",
     "text": [
      "The slowest run took 8.31 times longer than the fastest. This could mean that an intermediate result is being cached.\n",
      "11.7 µs ± 6.43 µs per loop (mean ± std. dev. of 100 runs, 200 loops each)\n"
     ]
    }
   ],
   "source": [
    "a = %timeit -n 200 -r 100 -o np.linalg.norm(X[:, 0])"
   ]
  },
  {
   "cell_type": "code",
   "execution_count": null,
   "id": "72ce8c17",
   "metadata": {},
   "outputs": [],
   "source": []
  },
  {
   "cell_type": "code",
   "execution_count": 21,
   "id": "27d02e0e",
   "metadata": {},
   "outputs": [
    {
     "name": "stdout",
     "output_type": "stream",
     "text": [
      "306 ms ± 27.8 ms per loop (mean ± std. dev. of 7 runs, 10 loops each)\n"
     ]
    }
   ],
   "source": [
    "%%timeit \n",
    "# measures the execution of the whole cell\n",
    "X = np.random.randn(200, 500)\n",
    "np.linalg.svd(X)"
   ]
  },
  {
   "cell_type": "markdown",
   "id": "e69801f0",
   "metadata": {},
   "source": [
    "This is an expected result since we pass a = 12 \n",
    "$$m = \\sum_0^n a_j$$"
   ]
  },
  {
   "cell_type": "markdown",
   "id": "382e9c6d",
   "metadata": {},
   "source": [
    "# This is a title\n",
    "## This is a subsection\n",
    "### this is a subsubsection"
   ]
  },
  {
   "cell_type": "markdown",
   "id": "0ddcde2d",
   "metadata": {},
   "source": [
    "### Question 1"
   ]
  },
  {
   "cell_type": "markdown",
   "id": "88f2781d",
   "metadata": {},
   "source": [
    "### Some numpy techniques"
   ]
  },
  {
   "cell_type": "code",
   "execution_count": 68,
   "id": "1952f19c",
   "metadata": {},
   "outputs": [],
   "source": [
    "from numba import jit"
   ]
  },
  {
   "cell_type": "code",
   "execution_count": 64,
   "id": "bc49b54b",
   "metadata": {},
   "outputs": [],
   "source": [
    "# suppose we want to compute the mean of a list \n",
    "def mean(arr):\n",
    "    res = 0\n",
    "    for i in range(len(arr)):\n",
    "        res += arr[i]\n",
    "    return res / len(arr)"
   ]
  },
  {
   "cell_type": "code",
   "execution_count": 65,
   "id": "495a40ce",
   "metadata": {},
   "outputs": [],
   "source": [
    "arr = np.arange(10_000)"
   ]
  },
  {
   "cell_type": "code",
   "execution_count": 66,
   "id": "5607eaf5",
   "metadata": {},
   "outputs": [
    {
     "name": "stdout",
     "output_type": "stream",
     "text": [
      "2.79 ms ± 219 µs per loop (mean ± std. dev. of 7 runs, 100 loops each)\n"
     ]
    }
   ],
   "source": [
    "%timeit mean(arr)"
   ]
  },
  {
   "cell_type": "code",
   "execution_count": 69,
   "id": "af5e9392",
   "metadata": {},
   "outputs": [],
   "source": [
    "@jit\n",
    "def mean_v2(arr):\n",
    "    res = 0\n",
    "    for i in range(len(arr)):\n",
    "        res += arr[i]\n",
    "    return res / len(arr)"
   ]
  },
  {
   "cell_type": "code",
   "execution_count": 71,
   "id": "71468bb0",
   "metadata": {},
   "outputs": [
    {
     "name": "stdout",
     "output_type": "stream",
     "text": [
      "2.15 µs ± 93.9 ns per loop (mean ± std. dev. of 7 runs, 100000 loops each)\n"
     ]
    }
   ],
   "source": [
    "%timeit mean_v2(arr)"
   ]
  },
  {
   "cell_type": "code",
   "execution_count": 50,
   "id": "a7466786",
   "metadata": {},
   "outputs": [
    {
     "name": "stdout",
     "output_type": "stream",
     "text": [
      "32.5 µs ± 804 ns per loop (mean ± std. dev. of 7 runs, 10000 loops each)\n"
     ]
    }
   ],
   "source": [
    "%timeit np.mean(arr)"
   ]
  },
  {
   "cell_type": "code",
   "execution_count": 61,
   "id": "9f578fb0",
   "metadata": {},
   "outputs": [
    {
     "data": {
      "text/plain": [
       "array([[ 1.764,  0.4  ,  0.979,  2.241],\n",
       "       [ 1.868, -0.977,  0.95 , -0.151],\n",
       "       [-0.103,  0.411,  0.144,  1.454]])"
      ]
     },
     "execution_count": 61,
     "metadata": {},
     "output_type": "execute_result"
    }
   ],
   "source": [
    "np.random.seed(0)\n",
    "M = np.random.randn(3, 4)\n",
    "M"
   ]
  },
  {
   "cell_type": "code",
   "execution_count": 60,
   "id": "9e949b49",
   "metadata": {},
   "outputs": [
    {
     "data": {
      "text/plain": [
       "array([0.708, 1.079, 0.593])"
      ]
     },
     "execution_count": 60,
     "metadata": {},
     "output_type": "execute_result"
    }
   ],
   "source": [
    "np.std(M, axis=1)"
   ]
  },
  {
   "cell_type": "code",
   "execution_count": 59,
   "id": "22deb1eb",
   "metadata": {},
   "outputs": [],
   "source": [
    "np.set_printoptions(precision=3)"
   ]
  },
  {
   "cell_type": "code",
   "execution_count": 63,
   "id": "4366a751",
   "metadata": {},
   "outputs": [
    {
     "data": {
      "text/plain": [
       "array([0.333])"
      ]
     },
     "execution_count": 63,
     "metadata": {},
     "output_type": "execute_result"
    }
   ],
   "source": [
    "np.array([1. / 3])"
   ]
  },
  {
   "cell_type": "code",
   "execution_count": 72,
   "id": "015e1b37",
   "metadata": {},
   "outputs": [
    {
     "data": {
      "text/plain": [
       "array([[ 1.764,  0.4  ,  0.979,  2.241],\n",
       "       [ 1.868, -0.977,  0.95 , -0.151],\n",
       "       [-0.103,  0.411,  0.144,  1.454]])"
      ]
     },
     "execution_count": 72,
     "metadata": {},
     "output_type": "execute_result"
    }
   ],
   "source": [
    "M"
   ]
  },
  {
   "cell_type": "code",
   "execution_count": 73,
   "id": "203ca582",
   "metadata": {},
   "outputs": [
    {
     "data": {
      "text/plain": [
       "array([[-0.236, -1.6  , -1.021,  0.241],\n",
       "       [-0.132, -2.977, -1.05 , -2.151],\n",
       "       [-2.103, -1.589, -1.856, -0.546]])"
      ]
     },
     "execution_count": 73,
     "metadata": {},
     "output_type": "execute_result"
    }
   ],
   "source": [
    "M - 2  # broadcasting"
   ]
  },
  {
   "cell_type": "code",
   "execution_count": 79,
   "id": "1b32cae1",
   "metadata": {},
   "outputs": [
    {
     "ename": "ValueError",
     "evalue": "operands could not be broadcast together with shapes (3,4) (3,) ",
     "output_type": "error",
     "traceback": [
      "\u001b[0;31m---------------------------------------------------------------------------\u001b[0m",
      "\u001b[0;31mValueError\u001b[0m                                Traceback (most recent call last)",
      "\u001b[0;32m/tmp/ipykernel_7518/2220393365.py\u001b[0m in \u001b[0;36m<module>\u001b[0;34m\u001b[0m\n\u001b[0;32m----> 1\u001b[0;31m \u001b[0mM\u001b[0m \u001b[0;34m-\u001b[0m \u001b[0mM\u001b[0m\u001b[0;34m[\u001b[0m\u001b[0;34m:\u001b[0m\u001b[0;34m,\u001b[0m \u001b[0;36m0\u001b[0m\u001b[0;34m]\u001b[0m\u001b[0;34m\u001b[0m\u001b[0;34m\u001b[0m\u001b[0m\n\u001b[0m",
      "\u001b[0;31mValueError\u001b[0m: operands could not be broadcast together with shapes (3,4) (3,) "
     ]
    }
   ],
   "source": [
    "M - M[:, 0]"
   ]
  },
  {
   "cell_type": "code",
   "execution_count": 75,
   "id": "d4b890e0",
   "metadata": {},
   "outputs": [
    {
     "data": {
      "text/plain": [
       "(3, 4)"
      ]
     },
     "execution_count": 75,
     "metadata": {},
     "output_type": "execute_result"
    }
   ],
   "source": [
    "M.shape"
   ]
  },
  {
   "cell_type": "code",
   "execution_count": 81,
   "id": "e1e0145a",
   "metadata": {},
   "outputs": [
    {
     "data": {
      "text/plain": [
       "(3, 1)"
      ]
     },
     "execution_count": 81,
     "metadata": {},
     "output_type": "execute_result"
    }
   ],
   "source": [
    "M[:, 0].reshape(3, 1).shape"
   ]
  },
  {
   "cell_type": "code",
   "execution_count": 82,
   "id": "9d3640e4",
   "metadata": {},
   "outputs": [
    {
     "data": {
      "text/plain": [
       "(3, 1)"
      ]
     },
     "execution_count": 82,
     "metadata": {},
     "output_type": "execute_result"
    }
   ],
   "source": [
    "M[:, 0:1].shape"
   ]
  },
  {
   "cell_type": "code",
   "execution_count": 84,
   "id": "a3ebc677",
   "metadata": {},
   "outputs": [
    {
     "data": {
      "text/plain": [
       "(3, 1)"
      ]
     },
     "execution_count": 84,
     "metadata": {},
     "output_type": "execute_result"
    }
   ],
   "source": [
    "M[:, 0][:, None].shape"
   ]
  },
  {
   "cell_type": "code",
   "execution_count": 91,
   "id": "710909e3",
   "metadata": {},
   "outputs": [
    {
     "data": {
      "text/plain": [
       "((4, 1), (1, 6))"
      ]
     },
     "execution_count": 91,
     "metadata": {},
     "output_type": "execute_result"
    }
   ],
   "source": [
    "u = np.arange(4)\n",
    "v = np.arange(6)\n",
    "u[:, None].shape, v[None, :].shape"
   ]
  },
  {
   "cell_type": "code",
   "execution_count": 92,
   "id": "27528930",
   "metadata": {},
   "outputs": [
    {
     "data": {
      "text/plain": [
       "array([[0, 1, 2, 3, 4, 5],\n",
       "       [1, 2, 3, 4, 5, 6],\n",
       "       [2, 3, 4, 5, 6, 7],\n",
       "       [3, 4, 5, 6, 7, 8]])"
      ]
     },
     "execution_count": 92,
     "metadata": {},
     "output_type": "execute_result"
    }
   ],
   "source": [
    "u[:, None] + v[None, :]"
   ]
  },
  {
   "cell_type": "code",
   "execution_count": 105,
   "id": "cb21701c",
   "metadata": {},
   "outputs": [
    {
     "data": {
      "text/plain": [
       "(4,)"
      ]
     },
     "execution_count": 105,
     "metadata": {},
     "output_type": "execute_result"
    }
   ],
   "source": [
    "u.T.shape"
   ]
  },
  {
   "cell_type": "code",
   "execution_count": 101,
   "id": "9f893b81",
   "metadata": {},
   "outputs": [
    {
     "data": {
      "text/plain": [
       "1"
      ]
     },
     "execution_count": 101,
     "metadata": {},
     "output_type": "execute_result"
    }
   ],
   "source": [
    "u.ndim"
   ]
  },
  {
   "cell_type": "code",
   "execution_count": 104,
   "id": "f86ed93c",
   "metadata": {},
   "outputs": [
    {
     "data": {
      "text/plain": [
       "(4, 1)"
      ]
     },
     "execution_count": 104,
     "metadata": {},
     "output_type": "execute_result"
    }
   ],
   "source": [
    "u[:, np.newaxis].shape"
   ]
  },
  {
   "cell_type": "code",
   "execution_count": 106,
   "id": "335b9bd6",
   "metadata": {},
   "outputs": [
    {
     "data": {
      "text/plain": [
       "(1, 4)"
      ]
     },
     "execution_count": 106,
     "metadata": {},
     "output_type": "execute_result"
    }
   ],
   "source": [
    "u[:, np.newaxis].T.shape"
   ]
  },
  {
   "cell_type": "code",
   "execution_count": 110,
   "id": "e6ad8cea",
   "metadata": {},
   "outputs": [
    {
     "data": {
      "text/plain": [
       "array([[ 0,  1,  2,  3],\n",
       "       [ 4,  5,  6,  7],\n",
       "       [ 8,  9, 10, 11]])"
      ]
     },
     "execution_count": 110,
     "metadata": {},
     "output_type": "execute_result"
    }
   ],
   "source": [
    "np.arange(12).reshape(3, 4)"
   ]
  },
  {
   "cell_type": "code",
   "execution_count": 113,
   "id": "92e3df47",
   "metadata": {},
   "outputs": [
    {
     "data": {
      "text/plain": [
       "array([[ 0,  1,  2,  3],\n",
       "       [ 4,  5,  6,  7],\n",
       "       [ 8,  9, 10, 11]])"
      ]
     },
     "execution_count": 113,
     "metadata": {},
     "output_type": "execute_result"
    }
   ],
   "source": [
    "np.arange(12).reshape(3, -1)"
   ]
  },
  {
   "cell_type": "code",
   "execution_count": null,
   "id": "8f07614e",
   "metadata": {},
   "outputs": [],
   "source": []
  },
  {
   "cell_type": "code",
   "execution_count": null,
   "id": "dd937f14",
   "metadata": {},
   "outputs": [],
   "source": []
  },
  {
   "cell_type": "code",
   "execution_count": null,
   "id": "5c63651f",
   "metadata": {},
   "outputs": [],
   "source": []
  },
  {
   "cell_type": "code",
   "execution_count": null,
   "id": "9e9cb263",
   "metadata": {},
   "outputs": [],
   "source": []
  },
  {
   "cell_type": "code",
   "execution_count": null,
   "id": "7fa22e87",
   "metadata": {},
   "outputs": [],
   "source": []
  },
  {
   "cell_type": "code",
   "execution_count": null,
   "id": "561dbb06",
   "metadata": {},
   "outputs": [],
   "source": []
  },
  {
   "cell_type": "code",
   "execution_count": null,
   "id": "9d5b874a",
   "metadata": {},
   "outputs": [],
   "source": [
    "for i in range(1,6):\n",
    "    column=M[:, i-1]\n",
    "    column2=M[:, i]\n",
    "    print(np.subtract(column,column2))"
   ]
  },
  {
   "cell_type": "code",
   "execution_count": null,
   "id": "5be69162",
   "metadata": {},
   "outputs": [],
   "source": [
    "M=np.zeros((5,6))\n",
    "for i in range(5):\n",
    "    for j in range(6):\n",
    "        M[i,j]=random.uniform(-1, 1)\n",
    "M"
   ]
  },
  {
   "cell_type": "code",
   "execution_count": null,
   "id": "bb4a29a2",
   "metadata": {},
   "outputs": [],
   "source": [
    "for i in range(5):\n",
    "    for j in range(6):\n",
    "        if M[i,j]<0 :\n",
    "            M[i,j]=0\n",
    "M"
   ]
  },
  {
   "cell_type": "code",
   "execution_count": null,
   "id": "7e068389",
   "metadata": {},
   "outputs": [],
   "source": [
    "A = np.array(np.arange(1, 20, 2))"
   ]
  },
  {
   "cell_type": "code",
   "execution_count": null,
   "id": "d926eb8b",
   "metadata": {},
   "outputs": [],
   "source": []
  },
  {
   "cell_type": "code",
   "execution_count": null,
   "id": "575078fa",
   "metadata": {},
   "outputs": [],
   "source": []
  },
  {
   "cell_type": "code",
   "execution_count": null,
   "id": "8cf0ccd3",
   "metadata": {},
   "outputs": [],
   "source": []
  },
  {
   "cell_type": "code",
   "execution_count": null,
   "id": "fdd7c36a",
   "metadata": {},
   "outputs": [],
   "source": [
    "from sklearn.preprocessing import StandardScaler\n",
    "\n",
    "X_trainSc = StandardScaler().fit_transform(X_train)\n",
    "X_testSc = StandardScaler().fit_transform(X_test)\n",
    "\n",
    "clf.fit(X_trainSc, y_train)\n",
    "clf.predict(X_testSc)"
   ]
  },
  {
   "cell_type": "code",
   "execution_count": null,
   "id": "58bd5e2a",
   "metadata": {},
   "outputs": [],
   "source": [
    "from sklearn.preprocessing import StandardScaler\n",
    "\n",
    "scaler = StandardScaler() \n",
    "X_trainSc = scaler.fit_transform(X_train)\n",
    "X_testSc = scaler.transform(X_test)\n",
    "\n",
    "clf.fit(X_trainSc, y_train)\n",
    "clf.predict(X_testSc)"
   ]
  },
  {
   "cell_type": "code",
   "execution_count": null,
   "id": "55b6b523",
   "metadata": {},
   "outputs": [],
   "source": []
  },
  {
   "cell_type": "code",
   "execution_count": null,
   "id": "70841ec2",
   "metadata": {},
   "outputs": [],
   "source": []
  },
  {
   "cell_type": "code",
   "execution_count": null,
   "id": "86b5ac8a",
   "metadata": {},
   "outputs": [],
   "source": []
  },
  {
   "cell_type": "code",
   "execution_count": null,
   "id": "dc4058a5",
   "metadata": {},
   "outputs": [],
   "source": []
  },
  {
   "cell_type": "code",
   "execution_count": null,
   "id": "2e7acb39",
   "metadata": {},
   "outputs": [],
   "source": []
  },
  {
   "cell_type": "code",
   "execution_count": null,
   "id": "8eb881ab",
   "metadata": {},
   "outputs": [],
   "source": []
  },
  {
   "cell_type": "code",
   "execution_count": 28,
   "id": "202f29d0",
   "metadata": {},
   "outputs": [],
   "source": [
    "import urllib\n",
    "from os import path\n",
    "import pandas as pd\n",
    "import zipfile"
   ]
  },
  {
   "cell_type": "code",
   "execution_count": 29,
   "id": "e4bad511",
   "metadata": {},
   "outputs": [],
   "source": [
    "url = u'https://archive.ics.uci.edu/ml/machine-learning-databases/00235/'\n",
    "filename = 'household_power_consumption'\n",
    "zipfilename = filename + '.zip'\n",
    "location = url + zipfilename\n",
    "if not path.isfile(zipfilename):\n",
    "    urllib.request.urlretrieve(location, zipfilename)\n",
    "zipfile.ZipFile(zipfilename).extractall()\n",
    "na_values = ['?', '']\n",
    "fields = ['Date', 'Time', 'Global_active_power']\n",
    "df = pd.read_csv(filename + '.txt', sep=';', nrows=200000,\n",
    "                 na_values=na_values, usecols=fields)\n"
   ]
  },
  {
   "cell_type": "code",
   "execution_count": 11,
   "id": "cb1665be",
   "metadata": {},
   "outputs": [
    {
     "data": {
      "text/html": [
       "<div>\n",
       "<style scoped>\n",
       "    .dataframe tbody tr th:only-of-type {\n",
       "        vertical-align: middle;\n",
       "    }\n",
       "\n",
       "    .dataframe tbody tr th {\n",
       "        vertical-align: top;\n",
       "    }\n",
       "\n",
       "    .dataframe thead th {\n",
       "        text-align: right;\n",
       "    }\n",
       "</style>\n",
       "<table border=\"1\" class=\"dataframe\">\n",
       "  <thead>\n",
       "    <tr style=\"text-align: right;\">\n",
       "      <th></th>\n",
       "      <th>Date</th>\n",
       "      <th>Time</th>\n",
       "      <th>Global_active_power</th>\n",
       "    </tr>\n",
       "  </thead>\n",
       "  <tbody>\n",
       "    <tr>\n",
       "      <th>0</th>\n",
       "      <td>16/12/2006</td>\n",
       "      <td>17:24:00</td>\n",
       "      <td>4.216</td>\n",
       "    </tr>\n",
       "    <tr>\n",
       "      <th>1</th>\n",
       "      <td>16/12/2006</td>\n",
       "      <td>17:25:00</td>\n",
       "      <td>5.360</td>\n",
       "    </tr>\n",
       "    <tr>\n",
       "      <th>2</th>\n",
       "      <td>16/12/2006</td>\n",
       "      <td>17:26:00</td>\n",
       "      <td>5.374</td>\n",
       "    </tr>\n",
       "    <tr>\n",
       "      <th>3</th>\n",
       "      <td>16/12/2006</td>\n",
       "      <td>17:27:00</td>\n",
       "      <td>5.388</td>\n",
       "    </tr>\n",
       "    <tr>\n",
       "      <th>4</th>\n",
       "      <td>16/12/2006</td>\n",
       "      <td>17:28:00</td>\n",
       "      <td>3.666</td>\n",
       "    </tr>\n",
       "  </tbody>\n",
       "</table>\n",
       "</div>"
      ],
      "text/plain": [
       "         Date      Time  Global_active_power\n",
       "0  16/12/2006  17:24:00                4.216\n",
       "1  16/12/2006  17:25:00                5.360\n",
       "2  16/12/2006  17:26:00                5.374\n",
       "3  16/12/2006  17:27:00                5.388\n",
       "4  16/12/2006  17:28:00                3.666"
      ]
     },
     "execution_count": 11,
     "metadata": {},
     "output_type": "execute_result"
    }
   ],
   "source": [
    "df.head()"
   ]
  },
  {
   "cell_type": "code",
   "execution_count": 33,
   "id": "b1e2a4a5",
   "metadata": {},
   "outputs": [
    {
     "data": {
      "text/plain": [
       "dtype('O')"
      ]
     },
     "execution_count": 33,
     "metadata": {},
     "output_type": "execute_result"
    }
   ],
   "source": [
    "df[\"Date\"].dtype"
   ]
  },
  {
   "cell_type": "code",
   "execution_count": 38,
   "id": "0b38cd79",
   "metadata": {},
   "outputs": [
    {
     "data": {
      "text/plain": [
       "array(['16/12/2006', '17/12/2006', '18/12/2006', '19/12/2006',\n",
       "       '20/12/2006', '21/12/2006', '22/12/2006', '23/12/2006',\n",
       "       '24/12/2006', '25/12/2006', '26/12/2006', '27/12/2006',\n",
       "       '28/12/2006', '29/12/2006', '30/12/2006', '31/12/2006', '1/1/2007',\n",
       "       '2/1/2007', '3/1/2007', '4/1/2007', '5/1/2007', '6/1/2007',\n",
       "       '7/1/2007', '8/1/2007', '9/1/2007', '10/1/2007', '11/1/2007',\n",
       "       '12/1/2007', '13/1/2007', '14/1/2007'], dtype=object)"
      ]
     },
     "execution_count": 38,
     "metadata": {},
     "output_type": "execute_result"
    }
   ],
   "source": [
    "df[\"Date\"].unique()[:30]"
   ]
  },
  {
   "cell_type": "code",
   "execution_count": 37,
   "id": "22e655a0",
   "metadata": {},
   "outputs": [
    {
     "name": "stdout",
     "output_type": "stream",
     "text": [
      "DatetimeIndex(['2006-12-16', '2006-12-17', '2006-12-18', '2006-12-19',\n",
      "               '2006-12-20', '2006-12-21', '2006-12-22', '2006-12-23',\n",
      "               '2006-12-24', '2006-12-25', '2006-12-26', '2006-12-27',\n",
      "               '2006-12-28', '2006-12-29', '2006-12-30', '2006-12-31',\n",
      "               '2007-01-01', '2007-02-01', '2007-03-01', '2007-04-01',\n",
      "               '2007-05-01', '2007-06-01', '2007-07-01', '2007-08-01',\n",
      "               '2007-09-01', '2007-10-01', '2007-11-01', '2007-12-01',\n",
      "               '2007-01-13', '2007-01-14'],\n",
      "              dtype='datetime64[ns]', freq=None)\n",
      "Int64Index([16, 17, 18, 19, 20, 21, 22, 23, 24, 25, 26, 27, 28, 29, 30, 31,  1,\n",
      "             1,  1,  1,  1,  1,  1,  1,  1,  1,  1,  1, 13, 14],\n",
      "           dtype='int64')\n"
     ]
    }
   ],
   "source": [
    "dates = pd.to_datetime(df[\"Date\"].unique()[:30])\n",
    "print(dates)\n",
    "print(dates.day)"
   ]
  },
  {
   "cell_type": "code",
   "execution_count": 22,
   "id": "4c22d90a",
   "metadata": {},
   "outputs": [
    {
     "data": {
      "text/plain": [
       "Int64Index([16, 17, 18, 19, 20, 21, 22, 23, 24, 25, 26, 27, 28, 29, 30, 31,  1,\n",
       "             1,  1,  1,  1,  1,  1,  1,  1,  1,  1,  1, 13, 14],\n",
       "           dtype='int64')"
      ]
     },
     "execution_count": 22,
     "metadata": {},
     "output_type": "execute_result"
    }
   ],
   "source": [
    "pd.to_datetime(df[\"Date\"].unique())[:30].day"
   ]
  },
  {
   "cell_type": "code",
   "execution_count": 24,
   "id": "10f257c3",
   "metadata": {},
   "outputs": [
    {
     "data": {
      "text/plain": [
       "Index(['DATE', 'TIME', 'GLOBAL_ACTIVE_POWER'], dtype='object')"
      ]
     },
     "execution_count": 24,
     "metadata": {},
     "output_type": "execute_result"
    }
   ],
   "source": []
  },
  {
   "cell_type": "code",
   "execution_count": 27,
   "id": "cd7d0cc9",
   "metadata": {},
   "outputs": [
    {
     "data": {
      "text/plain": [
       "Int64Index([16, 17, 18, 19, 20, 21, 22, 23, 24, 25, 26, 27, 28, 29, 30, 31,  1,\n",
       "             2,  3,  4,  5,  6,  7,  8,  9, 10, 11, 12, 13, 14],\n",
       "           dtype='int64')"
      ]
     },
     "execution_count": 27,
     "metadata": {},
     "output_type": "execute_result"
    }
   ],
   "source": [
    "pd.to_datetime(df[\"Date\"].unique(), format='%d/%m/%Y')[:30].day"
   ]
  },
  {
   "cell_type": "code",
   "execution_count": null,
   "id": "585ae934",
   "metadata": {},
   "outputs": [],
   "source": []
  },
  {
   "cell_type": "code",
   "execution_count": null,
   "id": "40e9e5e6",
   "metadata": {},
   "outputs": [],
   "source": []
  },
  {
   "cell_type": "code",
   "execution_count": null,
   "id": "10ede9db",
   "metadata": {},
   "outputs": [],
   "source": []
  },
  {
   "cell_type": "code",
   "execution_count": 39,
   "id": "22789a60",
   "metadata": {},
   "outputs": [
    {
     "data": {
      "text/plain": [
       "{0, 1, 2}"
      ]
     },
     "execution_count": 39,
     "metadata": {},
     "output_type": "execute_result"
    }
   ],
   "source": [
    "ma_liste = [0, 1, 2, 0, 1]\n",
    "set(ma_liste)"
   ]
  },
  {
   "cell_type": "code",
   "execution_count": 41,
   "id": "72b389e5",
   "metadata": {},
   "outputs": [
    {
     "data": {
      "text/plain": [
       "{' ', 'M', 'a', 'h', 'i', 'm', 'n', 'r', 's', 't', 'u'}"
      ]
     },
     "execution_count": 41,
     "metadata": {},
     "output_type": "execute_result"
    }
   ],
   "source": [
    "set(\"Mathurin massias\")"
   ]
  },
  {
   "cell_type": "code",
   "execution_count": 42,
   "id": "45c6e03c",
   "metadata": {},
   "outputs": [
    {
     "data": {
      "text/plain": [
       "{'a': 'b'}"
      ]
     },
     "execution_count": 42,
     "metadata": {},
     "output_type": "execute_result"
    }
   ],
   "source": [
    "dict(a=\"b\")  # dictionnaire: key > value"
   ]
  },
  {
   "cell_type": "code",
   "execution_count": 43,
   "id": "54879812",
   "metadata": {},
   "outputs": [],
   "source": [
    "mon_dict = {'a': 'b', 1: df, 1.5: ma_liste}"
   ]
  },
  {
   "cell_type": "code",
   "execution_count": 45,
   "id": "375c3784",
   "metadata": {},
   "outputs": [
    {
     "data": {
      "text/plain": [
       "'b'"
      ]
     },
     "execution_count": 45,
     "metadata": {},
     "output_type": "execute_result"
    }
   ],
   "source": [
    "mon_dict['a']"
   ]
  },
  {
   "cell_type": "code",
   "execution_count": 56,
   "id": "ae7b539c",
   "metadata": {},
   "outputs": [
    {
     "data": {
      "text/plain": [
       "{'m': 2,\n",
       " 'a': 3,\n",
       " 't': 1,\n",
       " 'h': 1,\n",
       " 'u': 1,\n",
       " 'r': 1,\n",
       " 'i': 2,\n",
       " 'n': 1,\n",
       " ' ': 1,\n",
       " 's': 3}"
      ]
     },
     "execution_count": 56,
     "metadata": {},
     "output_type": "execute_result"
    }
   ],
   "source": [
    "char_count = dict()\n",
    "for char in 'mathurin massias':\n",
    "    if char in char_count:\n",
    "        char_count[char] += 1\n",
    "    else:\n",
    "        char_count[char] = 1\n",
    "char_count"
   ]
  },
  {
   "cell_type": "code",
   "execution_count": 53,
   "id": "4b4d0846",
   "metadata": {},
   "outputs": [],
   "source": [
    "char_count = dict()\n",
    "target = 'mathurin massias'\n",
    "for char in set(target):\n",
    "    char_count[char] = target.count(char)"
   ]
  },
  {
   "cell_type": "code",
   "execution_count": 54,
   "id": "0ec56be3",
   "metadata": {},
   "outputs": [
    {
     "data": {
      "text/plain": [
       "{'r': 1,\n",
       " 'm': 2,\n",
       " 'a': 3,\n",
       " 's': 3,\n",
       " 'h': 1,\n",
       " 'u': 1,\n",
       " 't': 1,\n",
       " ' ': 1,\n",
       " 'i': 2,\n",
       " 'n': 1}"
      ]
     },
     "execution_count": 54,
     "metadata": {},
     "output_type": "execute_result"
    }
   ],
   "source": [
    "char_count"
   ]
  },
  {
   "cell_type": "code",
   "execution_count": 60,
   "id": "f8044580",
   "metadata": {},
   "outputs": [
    {
     "data": {
      "text/plain": [
       "2"
      ]
     },
     "execution_count": 60,
     "metadata": {},
     "output_type": "execute_result"
    }
   ],
   "source": [
    "char_count.get(\"m\", 12)  # key, default_value"
   ]
  },
  {
   "cell_type": "code",
   "execution_count": 61,
   "id": "a4adedf7",
   "metadata": {},
   "outputs": [
    {
     "data": {
      "text/plain": [
       "{'m': 2,\n",
       " 'a': 3,\n",
       " 't': 1,\n",
       " 'h': 1,\n",
       " 'u': 1,\n",
       " 'r': 1,\n",
       " 'i': 2,\n",
       " 'n': 1,\n",
       " ' ': 1,\n",
       " 's': 3}"
      ]
     },
     "execution_count": 61,
     "metadata": {},
     "output_type": "execute_result"
    }
   ],
   "source": [
    "char_count = dict()\n",
    "for char in 'mathurin massias':\n",
    "    char_count[char] = char_count.get(char, 0) + 1 \n",
    "char_count"
   ]
  },
  {
   "cell_type": "code",
   "execution_count": 68,
   "id": "2184f61d",
   "metadata": {},
   "outputs": [],
   "source": [
    "from collections import defaultdict\n",
    "\n",
    "def return_0():\n",
    "    return 0\n",
    "\n",
    "char_count = defaultdict(return_0)\n",
    "for char in 'mathurin massias':\n",
    "    char_count[char] += 1"
   ]
  },
  {
   "cell_type": "code",
   "execution_count": 69,
   "id": "27fc354f",
   "metadata": {},
   "outputs": [
    {
     "data": {
      "text/plain": [
       "defaultdict(<function __main__.return_0()>,\n",
       "            {'m': 2,\n",
       "             'a': 3,\n",
       "             't': 1,\n",
       "             'h': 1,\n",
       "             'u': 1,\n",
       "             'r': 1,\n",
       "             'i': 2,\n",
       "             'n': 1,\n",
       "             ' ': 1,\n",
       "             's': 3})"
      ]
     },
     "execution_count": 69,
     "metadata": {},
     "output_type": "execute_result"
    }
   ],
   "source": [
    "char_count"
   ]
  },
  {
   "cell_type": "code",
   "execution_count": 70,
   "id": "e9ba51dc",
   "metadata": {},
   "outputs": [],
   "source": [
    "char_count = defaultdict(lambda : 0)"
   ]
  },
  {
   "cell_type": "code",
   "execution_count": 71,
   "id": "650a68c9",
   "metadata": {},
   "outputs": [
    {
     "data": {
      "text/plain": [
       "defaultdict(<function __main__.<lambda>()>, {'m': 0})"
      ]
     },
     "execution_count": 71,
     "metadata": {},
     "output_type": "execute_result"
    }
   ],
   "source": [
    "char_count[\"m\"]\n",
    "char_count"
   ]
  },
  {
   "cell_type": "code",
   "execution_count": 72,
   "id": "b40f749a",
   "metadata": {},
   "outputs": [],
   "source": [
    "f = lambda x, y: x * y \n",
    "\n",
    "# same as \n",
    "def f(x, y):\n",
    "    return x * y"
   ]
  },
  {
   "cell_type": "code",
   "execution_count": 74,
   "id": "6658e883",
   "metadata": {},
   "outputs": [],
   "source": [
    "from collections import Counter\n",
    "counter = Counter(target)"
   ]
  },
  {
   "cell_type": "code",
   "execution_count": 76,
   "id": "7a6be380",
   "metadata": {},
   "outputs": [
    {
     "data": {
      "text/plain": [
       "[('a', 3),\n",
       " ('s', 3),\n",
       " ('m', 2),\n",
       " ('i', 2),\n",
       " ('t', 1),\n",
       " ('h', 1),\n",
       " ('u', 1),\n",
       " ('r', 1),\n",
       " ('n', 1),\n",
       " (' ', 1)]"
      ]
     },
     "execution_count": 76,
     "metadata": {},
     "output_type": "execute_result"
    }
   ],
   "source": [
    "counter.most_common()"
   ]
  },
  {
   "cell_type": "code",
   "execution_count": 77,
   "id": "94e1a6a5",
   "metadata": {},
   "outputs": [
    {
     "name": "stdout",
     "output_type": "stream",
     "text": [
      "0 France\n",
      "1 Maroc\n",
      "2 Allemagne\n"
     ]
    }
   ],
   "source": [
    "i = 0 \n",
    "for country in [\"France\", \"Maroc\", \"Allemagne\"]:\n",
    "    print(i, country)\n",
    "    i += 1\n",
    "    \n",
    "    # do stuff"
   ]
  },
  {
   "cell_type": "code",
   "execution_count": 78,
   "id": "81105b84",
   "metadata": {},
   "outputs": [
    {
     "name": "stdout",
     "output_type": "stream",
     "text": [
      "0 France\n",
      "1 Maroc\n",
      "2 Allemagne\n"
     ]
    }
   ],
   "source": [
    "for i, country in enumerate([\"France\", \"Maroc\", \"Allemagne\"]):\n",
    "    print(i, country)"
   ]
  },
  {
   "cell_type": "code",
   "execution_count": null,
   "id": "408361d7",
   "metadata": {},
   "outputs": [],
   "source": []
  },
  {
   "cell_type": "markdown",
   "id": "bab9364d",
   "metadata": {},
   "source": [
    "OLS (Ordinary Least Squares):\n",
    "$$\\hat w  \\in argmin \\frac12 \\Vert y - X w \\Vert^2$$"
   ]
  },
  {
   "cell_type": "markdown",
   "id": "7843fc6b",
   "metadata": {},
   "source": [
    "1st order optimality condition:\n",
    "$$ \\nabla = 0$$\n",
    "aka\n",
    "$$X^\\top (X \\hat w - y) = 0$$\n",
    "$$X^\\top X \\hat w = X^\\top y$$\n",
    "\n",
    "If $X$ has full column rank, the solution is unique and equal to\n",
    "$$(X^\\top X)^{-1} X^\\top y$$"
   ]
  },
  {
   "cell_type": "code",
   "execution_count": null,
   "id": "53cb05d9",
   "metadata": {},
   "outputs": [],
   "source": []
  },
  {
   "cell_type": "code",
   "execution_count": null,
   "id": "81cf1cfe",
   "metadata": {},
   "outputs": [],
   "source": []
  },
  {
   "cell_type": "code",
   "execution_count": 95,
   "id": "3f32c339",
   "metadata": {},
   "outputs": [
    {
     "data": {
      "text/plain": [
       "[<matplotlib.lines.Line2D at 0x7f8544ab2160>]"
      ]
     },
     "execution_count": 95,
     "metadata": {},
     "output_type": "execute_result"
    },
    {
     "data": {
      "image/png": "[encoded data removed]",
      "text/plain": [
       "<Figure size 432x288 with 1 Axes>"
      ]
     },
     "metadata": {
      "needs_background": "light"
     },
     "output_type": "display_data"
    }
   ],
   "source": [
    "import matplotlib.pyplot as plt\n",
    "import numpy as np\n",
    "%matplotlib inline \n",
    "\n",
    "a = 0.9 ** np.arange(100)\n",
    "a[50:] = 0.1 ** np.arange(50, 100)\n",
    "plt.plot(a)"
   ]
  },
  {
   "cell_type": "code",
   "execution_count": 146,
   "id": "ab22a130",
   "metadata": {},
   "outputs": [
    {
     "data": {
      "image/png": "[encoded data removed]",
      "text/plain": [
       "<Figure size 432x288 with 1 Axes>"
      ]
     },
     "metadata": {
      "needs_background": "light"
     },
     "output_type": "display_data"
    }
   ],
   "source": [
    "_ = plt.semilogy(a)"
   ]
  },
  {
   "cell_type": "code",
   "execution_count": 148,
   "id": "f352e6c3",
   "metadata": {},
   "outputs": [],
   "source": [
    "1\n",
    "_ = 2 + 2"
   ]
  },
  {
   "cell_type": "code",
   "execution_count": null,
   "id": "22f76078",
   "metadata": {},
   "outputs": [],
   "source": []
  },
  {
   "cell_type": "code",
   "execution_count": 97,
   "id": "c8cdef8a",
   "metadata": {},
   "outputs": [],
   "source": [
    "def f(a, b, c=1):\n",
    "    print(f\"a is {a}, b is {b} and c is {c}\")"
   ]
  },
  {
   "cell_type": "code",
   "execution_count": 98,
   "id": "52e199bd",
   "metadata": {},
   "outputs": [
    {
     "name": "stdout",
     "output_type": "stream",
     "text": [
      "a is 1, b is 2 and c is 3\n"
     ]
    }
   ],
   "source": [
    "f(1, 2, 3)"
   ]
  },
  {
   "cell_type": "code",
   "execution_count": 99,
   "id": "542f7872",
   "metadata": {},
   "outputs": [
    {
     "name": "stdout",
     "output_type": "stream",
     "text": [
      "a is 1, b is 2 and c is 1\n"
     ]
    }
   ],
   "source": [
    "f(1, 2)"
   ]
  },
  {
   "cell_type": "code",
   "execution_count": 102,
   "id": "2f0a1e25",
   "metadata": {},
   "outputs": [
    {
     "ename": "TypeError",
     "evalue": "f() missing 1 required positional argument: 'b'",
     "output_type": "error",
     "traceback": [
      "\u001b[0;31m---------------------------------------------------------------------------\u001b[0m",
      "\u001b[0;31mTypeError\u001b[0m                                 Traceback (most recent call last)",
      "\u001b[0;32m/tmp/ipykernel_723/2582278756.py\u001b[0m in \u001b[0;36m<module>\u001b[0;34m\u001b[0m\n\u001b[0;32m----> 1\u001b[0;31m \u001b[0mf\u001b[0m\u001b[0;34m(\u001b[0m\u001b[0ma\u001b[0m\u001b[0;34m=\u001b[0m\u001b[0;36m1\u001b[0m\u001b[0;34m,\u001b[0m \u001b[0mc\u001b[0m\u001b[0;34m=\u001b[0m\u001b[0;36m1\u001b[0m\u001b[0;34m)\u001b[0m\u001b[0;34m\u001b[0m\u001b[0;34m\u001b[0m\u001b[0m\n\u001b[0m",
      "\u001b[0;31mTypeError\u001b[0m: f() missing 1 required positional argument: 'b'"
     ]
    }
   ],
   "source": [
    "f(a=1, c=1)"
   ]
  },
  {
   "cell_type": "code",
   "execution_count": 103,
   "id": "b4b19e0c",
   "metadata": {},
   "outputs": [
    {
     "name": "stdout",
     "output_type": "stream",
     "text": [
      "a is 1, b is 3 and c is -1\n"
     ]
    }
   ],
   "source": [
    "f(a=1, c=-1, b=3)"
   ]
  },
  {
   "cell_type": "code",
   "execution_count": 104,
   "id": "27935cb1",
   "metadata": {},
   "outputs": [],
   "source": [
    "def f(a=1):\n",
    "    a += 1\n",
    "    print(a)"
   ]
  },
  {
   "cell_type": "code",
   "execution_count": 117,
   "id": "2ccc5bdc",
   "metadata": {},
   "outputs": [
    {
     "name": "stdout",
     "output_type": "stream",
     "text": [
      "2\n"
     ]
    }
   ],
   "source": [
    "f()"
   ]
  },
  {
   "cell_type": "code",
   "execution_count": 119,
   "id": "c9bec128",
   "metadata": {},
   "outputs": [],
   "source": [
    "def g(a=[]):\n",
    "    a.append(1)\n",
    "    print(a)\n"
   ]
  },
  {
   "cell_type": "code",
   "execution_count": 120,
   "id": "44f6dbd3",
   "metadata": {},
   "outputs": [
    {
     "name": "stdout",
     "output_type": "stream",
     "text": [
      "[1]\n"
     ]
    }
   ],
   "source": [
    "g()"
   ]
  },
  {
   "cell_type": "code",
   "execution_count": 123,
   "id": "4c24e1fd",
   "metadata": {},
   "outputs": [
    {
     "name": "stdout",
     "output_type": "stream",
     "text": [
      "[1, 1, 1]\n"
     ]
    }
   ],
   "source": [
    "g()"
   ]
  },
  {
   "cell_type": "code",
   "execution_count": 124,
   "id": "2948fc93",
   "metadata": {},
   "outputs": [
    {
     "data": {
      "text/plain": [
       "([1, 1, 1],)"
      ]
     },
     "execution_count": 124,
     "metadata": {},
     "output_type": "execute_result"
    }
   ],
   "source": [
    "g.__defaults__"
   ]
  },
  {
   "cell_type": "code",
   "execution_count": 125,
   "id": "c01dd483",
   "metadata": {},
   "outputs": [],
   "source": [
    "def g(a=None):\n",
    "    if a is None:\n",
    "        a = []\n",
    "    a.append(1)\n",
    "    print(a)\n",
    "    "
   ]
  },
  {
   "cell_type": "code",
   "execution_count": 138,
   "id": "56a1ac60",
   "metadata": {},
   "outputs": [],
   "source": [
    "def f(*args, **kwargs):\n",
    "    print(args)\n",
    "    print(kwargs)"
   ]
  },
  {
   "cell_type": "code",
   "execution_count": 139,
   "id": "2a6c2c29",
   "metadata": {},
   "outputs": [
    {
     "name": "stdout",
     "output_type": "stream",
     "text": [
      "(1, 2, 3)\n",
      "{'a': 2, 'c': 7, 'mathurin': 12}\n"
     ]
    }
   ],
   "source": [
    "f(1, 2, 3, a=2, c= 7, mathurin=12)"
   ]
  },
  {
   "cell_type": "code",
   "execution_count": 141,
   "id": "4a632d0d",
   "metadata": {},
   "outputs": [
    {
     "name": "stdout",
     "output_type": "stream",
     "text": [
      "()\n",
      "{}\n"
     ]
    }
   ],
   "source": [
    "f()"
   ]
  },
  {
   "cell_type": "code",
   "execution_count": null,
   "id": "c96d1d91",
   "metadata": {},
   "outputs": [],
   "source": []
  },
  {
   "cell_type": "code",
   "execution_count": null,
   "id": "3d34700e",
   "metadata": {},
   "outputs": [],
   "source": []
  },
  {
   "cell_type": "code",
   "execution_count": null,
   "id": "9d93c409",
   "metadata": {},
   "outputs": [],
   "source": []
  },
  {
   "cell_type": "code",
   "execution_count": null,
   "id": "c2d8e093",
   "metadata": {},
   "outputs": [],
   "source": []
  },
  {
   "cell_type": "code",
   "execution_count": null,
   "id": "e2a75c3f",
   "metadata": {},
   "outputs": [],
   "source": []
  },
  {
   "cell_type": "code",
   "execution_count": 149,
   "id": "55175354",
   "metadata": {},
   "outputs": [],
   "source": [
    "import time"
   ]
  },
  {
   "cell_type": "code",
   "execution_count": 150,
   "id": "3329705f",
   "metadata": {},
   "outputs": [],
   "source": [
    "def f(a):\n",
    "    time.sleep(3)\n",
    "    return a ** 2"
   ]
  },
  {
   "cell_type": "code",
   "execution_count": 152,
   "id": "fb2afdd8",
   "metadata": {},
   "outputs": [
    {
     "data": {
      "text/plain": [
       "4"
      ]
     },
     "execution_count": 152,
     "metadata": {},
     "output_type": "execute_result"
    }
   ],
   "source": [
    "f(2)"
   ]
  },
  {
   "cell_type": "code",
   "execution_count": 158,
   "id": "07f6cea3",
   "metadata": {},
   "outputs": [],
   "source": [
    "from joblib import Memory\n",
    "\n",
    "memory = Memory('./')"
   ]
  },
  {
   "cell_type": "code",
   "execution_count": 159,
   "id": "a3836c74",
   "metadata": {},
   "outputs": [],
   "source": [
    "@memory.cache  # decorator\n",
    "def f(a):\n",
    "    time.sleep(3)\n",
    "    return a ** 2\n",
    "\n",
    "# equivalent to: f = memory.cache(f)"
   ]
  },
  {
   "cell_type": "code",
   "execution_count": 160,
   "id": "08421a37",
   "metadata": {},
   "outputs": [
    {
     "name": "stdout",
     "output_type": "stream",
     "text": [
      "________________________________________________________________________________\n",
      "[Memory] Calling __main__--tmp-ipykernel_723-1169400696.f...\n",
      "f(4)\n",
      "________________________________________________________________f - 3.0s, 0.1min\n"
     ]
    },
    {
     "data": {
      "text/plain": [
       "16"
      ]
     },
     "execution_count": 160,
     "metadata": {},
     "output_type": "execute_result"
    }
   ],
   "source": [
    "f(4)"
   ]
  },
  {
   "cell_type": "code",
   "execution_count": 161,
   "id": "9c3ea6c8",
   "metadata": {},
   "outputs": [
    {
     "name": "stdout",
     "output_type": "stream",
     "text": [
      "________________________________________________________________________________\n",
      "[Memory] Calling __main__--tmp-ipykernel_723-1169400696.f...\n",
      "f(2)\n",
      "________________________________________________________________f - 3.0s, 0.1min\n"
     ]
    },
    {
     "data": {
      "text/plain": [
       "4"
      ]
     },
     "execution_count": 161,
     "metadata": {},
     "output_type": "execute_result"
    }
   ],
   "source": [
    "f(2)"
   ]
  },
  {
   "cell_type": "code",
   "execution_count": 166,
   "id": "b9adbb47",
   "metadata": {},
   "outputs": [
    {
     "data": {
      "text/plain": [
       "4"
      ]
     },
     "execution_count": 166,
     "metadata": {},
     "output_type": "execute_result"
    }
   ],
   "source": [
    "f(2)"
   ]
  },
  {
   "cell_type": "code",
   "execution_count": null,
   "id": "02109630",
   "metadata": {},
   "outputs": [],
   "source": []
  }
 ],
 "metadata": {
  "kernelspec": {
   "display_name": "Python 3 (ipykernel)",
   "language": "python",
   "name": "python3"
  },
  "language_info": {
   "codemirror_mode": {
    "name": "ipython",
    "version": 3
   },
   "file_extension": ".py",
   "mimetype": "text/x-python",
   "name": "python",
   "nbconvert_exporter": "python",
   "pygments_lexer": "ipython3",
   "version": "3.8.12"
  }
 },
 "nbformat": 4,
 "nbformat_minor": 5
}
