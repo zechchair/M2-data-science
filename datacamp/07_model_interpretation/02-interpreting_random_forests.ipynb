{
 "cells": [
  {
   "cell_type": "code",
   "execution_count": null,
   "metadata": {},
   "outputs": [],
   "source": [
    "import os\n",
    "import numpy as np\n",
    "import pandas as pd\n",
    "import seaborn as sns\n",
    "\n",
    "from sklearn import ensemble\n",
    "from sklearn.model_selection import train_test_split\n",
    "from sklearn.inspection import permutation_importance\n",
    "\n",
    "from matplotlib import pyplot as plt\n",
    "%matplotlib inline"
   ]
  },
  {
   "cell_type": "markdown",
   "metadata": {},
   "source": [
    "\n",
    "Interpreting random forests\n",
    "============================\n",
    "\n",
    "Interpreting random forests\n",
    "\n"
   ]
  },
  {
   "cell_type": "markdown",
   "metadata": {},
   "source": [
    "Data on wages\n",
    "--------------\n",
    "\n",
    "We use the same data as in the linear-model notebook\n",
    "\n"
   ]
  },
  {
   "cell_type": "code",
   "execution_count": null,
   "metadata": {},
   "outputs": [],
   "source": [
    "# Download the data if it does not exists\n",
    "if not os.path.exists('wages.txt'):\n",
    "    from urllib.request import urlretrieve\n",
    "    # Download the file if it is not present\n",
    "    urlretrieve('http://lib.stat.cmu.edu/datasets/CPS_85_Wages',\n",
    "                'wages.txt')\n",
    "\n",
    "# Give names to the columns\n",
    "names = [\n",
    "    'EDUCATION: Number of years of education',\n",
    "    'SOUTH: 1=Person lives in South, 0=Person lives elsewhere',\n",
    "    'SEX: 1=Female, 0=Male',\n",
    "    'EXPERIENCE: Number of years of work experience',\n",
    "    'UNION: 1=Union member, 0=Not union member',\n",
    "    'WAGE: Wage (dollars per hour)',\n",
    "    'AGE: years',\n",
    "    'RACE: 1=Other, 2=Hispanic, 3=White',\n",
    "    'OCCUPATION: 1=Management, 2=Sales, 3=Clerical, 4=Service, 5=Professional, 6=Other',\n",
    "    'SECTOR: 0=Other, 1=Manufacturing, 2=Construction',\n",
    "    'MARR: 0=Unmarried,  1=Married',\n",
    "]\n",
    "\n",
    "short_names = [n.split(':')[0] for n in names]\n",
    "data = pd.read_csv(\n",
    "    'wages.txt', skiprows=27, skipfooter=6, sep=None,\n",
    "    header=None, engine='python'\n",
    ")\n",
    "data.columns = short_names\n",
    "\n",
    "# Log-transform the wages, as they typically increase with\n",
    "# multiplicative factors\n",
    "data['WAGE'] = np.log10(data['WAGE'])\n",
    "\n",
    "# take all columns except WAGE to try to predict WAGE\n",
    "X = data.drop(columns=['WAGE'] + ['RACE', 'OCCUPATION', 'SECTOR'])\n",
    "y = data['WAGE']\n",
    "\n",
    "X_train, X_test, y_train, y_test = train_test_split(\n",
    "    X, y, random_state=27\n",
    ")"
   ]
  },
  {
   "cell_type": "markdown",
   "metadata": {},
   "source": [
    "Feature importance\n",
    "----------------------\n",
    "\n"
   ]
  },
  {
   "cell_type": "markdown",
   "metadata": {},
   "source": [
    "\n",
    "Interpreting random forests can be done through feature importance: the **Mean Decrease in Impurity**. This index explain how much a feature is used to split a tree. This is also known as the Gini importance.\n"
   ]
  },
  {
   "cell_type": "code",
   "execution_count": null,
   "metadata": {},
   "outputs": [],
   "source": [
    "forest = ensemble.RandomForestRegressor(n_estimators=100)\n",
    "forest.fit(X_train, y_train)\n",
    "\n",
    "# Visualize the feature importance\n",
    "importance = pd.Series(\n",
    "    forest.feature_importances_,\n",
    "    index=X_train.columns\n",
    ").sort_values()\n",
    "importance.plot(kind='barh')"
   ]
  },
  {
   "cell_type": "markdown",
   "metadata": {},
   "source": [
    "Meaning and Caveats\n",
    "-----------------------\n",
    "\n",
    "Also, the impurity-based feature importance ranks the numerical\n",
    "features to be the most important features. Indeed, many split can\n",
    "be done on a numerical features while there is at most `n_cat - 1`\n",
    "splits possible for a categorical feature. As a result, if there is\n",
    "a non-predictive `random_num` variable in the features, it will be\n",
    "ranked as the most important one!\n",
    "\n",
    "This problem stems from two limitations of impurity-based feature importances:\n",
    "\n",
    "* impurity-based importances are biased towards high cardinality features;\n",
    "* impurity-based importances are computed on training set statistics and therefore do not reflect the ability of feature to be useful to make predictions that generalize to the test set (when the model has enough capacity).\n"
   ]
  },
  {
   "cell_type": "code",
   "execution_count": null,
   "metadata": {},
   "outputs": [],
   "source": [
    "rng = np.random.RandomState(seed=29)\n",
    "X_rand = X.copy()\n",
    "X_rand['random_cat'] = rng.randint(3, size=X.shape[0])\n",
    "X_rand['random_num'] = rng.randn(X.shape[0])\n",
    "\n",
    "X_train, X_test, y_train, y_test = train_test_split(\n",
    "    X_rand, y, random_state=27\n",
    ")"
   ]
  },
  {
   "cell_type": "code",
   "execution_count": null,
   "metadata": {},
   "outputs": [],
   "source": [
    "forest = ensemble.RandomForestRegressor(n_estimators=100)\n",
    "forest.fit(X_train, y_train)\n",
    "\n",
    "# Visualize the feature importance\n",
    "importance = pd.Series(\n",
    "    forest.feature_importances_,\n",
    "    index=X_train.columns\n",
    ").sort_values()\n",
    "importance.plot(kind='barh')"
   ]
  },
  {
   "cell_type": "markdown",
   "metadata": {},
   "source": [
    "### A more robust approach - permutation importance\n",
    "\n",
    "\n",
    "As an alternative, the permutation importances of rf are computed\n",
    "on a held out test set. This shows that the both random features `random_num`\n",
    "and `random_cat` are not important, and that low cardinality features\n",
    "such as `union` or `sex` are more important than `experience` here.\n"
   ]
  },
  {
   "cell_type": "code",
   "execution_count": null,
   "metadata": {},
   "outputs": [],
   "source": [
    "result = permutation_importance(\n",
    "    forest, X_test, y_test, n_repeats=50,\n",
    "    random_state=42, n_jobs=-1\n",
    ")\n",
    "sorted_idx = result.importances_mean.argsort()\n",
    "\n",
    "fig, ax = plt.subplots()\n",
    "ax.boxplot(\n",
    "    result.importances[sorted_idx].T,\n",
    "    vert=False, labels=X_rand.columns[sorted_idx]\n",
    ")\n",
    "ax.set_title(\"Permutation Importances\")\n",
    "fig.tight_layout()\n",
    "plt.show()"
   ]
  },
  {
   "cell_type": "markdown",
   "metadata": {},
   "source": [
    "It is also possible to compute the permutation importances on the **training set**. This reveals that `random_num` gets a significantly higher importance ranking than when computed on the test set. The difference between those two plots is a confirmation that the RF model has enough capacity to use that random numerical feature to overfit."
   ]
  },
  {
   "cell_type": "code",
   "execution_count": null,
   "metadata": {},
   "outputs": [],
   "source": [
    "result = permutation_importance(\n",
    "    forest, X_train, y_train, n_repeats=50,\n",
    "    random_state=42, n_jobs=-1\n",
    ")\n",
    "sorted_idx = result.importances_mean.argsort()\n",
    "\n",
    "fig, ax = plt.subplots()\n",
    "ax.boxplot(\n",
    "    result.importances[sorted_idx].T,\n",
    "    vert=False, labels=X_rand.columns[sorted_idx]\n",
    ")\n",
    "ax.set_title(\"Permutation Importances\")\n",
    "fig.tight_layout()\n",
    "plt.show()"
   ]
  },
  {
   "cell_type": "markdown",
   "metadata": {},
   "source": [
    "\n",
    "More on this in the [scikit-learn documentation](https://scikit-learn.org/stable/auto_examples/inspection/plot_permutation_importance.html)."
   ]
  }
 ],
 "metadata": {
  "kernelspec": {
   "display_name": "Python 3 (ipykernel)",
   "language": "python",
   "name": "python3"
  },
  "language_info": {
   "codemirror_mode": {
    "name": "ipython",
    "version": 3
   },
   "file_extension": ".py",
   "mimetype": "text/x-python",
   "name": "python",
   "nbconvert_exporter": "python",
   "pygments_lexer": "ipython3",
   "version": "3.8.6"
  }
 },
 "nbformat": 4,
 "nbformat_minor": 1
}
