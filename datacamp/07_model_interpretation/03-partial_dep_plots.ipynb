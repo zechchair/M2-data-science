{
 "cells": [
  {
   "cell_type": "code",
   "execution_count": null,
   "metadata": {},
   "outputs": [],
   "source": [
    "from sklearn import datasets\n",
    "from sklearn.model_selection import train_test_split\n",
    "from sklearn.inspection import PartialDependenceDisplay\n",
    "from sklearn.ensemble import GradientBoostingRegressor\n",
    "\n",
    "import matplotlib.pyplot as plt\n",
    "%matplotlib inline"
   ]
  },
  {
   "cell_type": "markdown",
   "metadata": {},
   "source": [
    "\n",
    "Partial dependency plots\n",
    "==========================\n",
    "\n",
    "Partial dependency plots consists in evaluating the model prediction\n",
    "while varying one of more features and marginalizing (averaging) out the\n",
    "effect of the other features.\n",
    "\n",
    "They can be computed by varying only one feature, or more\n",
    "\n"
   ]
  },
  {
   "cell_type": "code",
   "execution_count": null,
   "metadata": {},
   "outputs": [],
   "source": [
    "# Load and prepare the data\n",
    "X, y = datasets.fetch_california_housing(\n",
    "    as_frame=True, return_X_y=True\n",
    ")\n",
    "\n",
    "X_train, X_test, y_train, y_test = train_test_split(\n",
    "    X, y, test_size=0.2, random_state=1\n",
    ")\n",
    "X.head()"
   ]
  },
  {
   "cell_type": "markdown",
   "metadata": {},
   "source": [
    "Train a GBRT\n",
    "\n"
   ]
  },
  {
   "cell_type": "code",
   "execution_count": null,
   "metadata": {},
   "outputs": [],
   "source": [
    "clf = GradientBoostingRegressor(\n",
    "    n_estimators=100, max_depth=4, learning_rate=0.1,\n",
    "    loss='huber', random_state=1\n",
    ")\n",
    "clf.fit(X_train, y_train)"
   ]
  },
  {
   "cell_type": "markdown",
   "metadata": {},
   "source": [
    "All-in-one plotting function\n",
    "-----------------------------\n",
    "\n"
   ]
  },
  {
   "cell_type": "markdown",
   "metadata": {},
   "source": [
    "Inspect feature 0, 3, 5, 6, and the interaction between 5 and 0, and 5\n",
    "and 3\n",
    "\n"
   ]
  },
  {
   "cell_type": "code",
   "execution_count": null,
   "metadata": {},
   "outputs": [],
   "source": [
    "target_features = [\n",
    "    'MedInc', 'AveOccup', 'HouseAge', 'AveRooms',\n",
    "    ('AveOccup', 'HouseAge'), ('Latitude', 'Longitude')\n",
    "]\n",
    "fig, ax = plt.subplots(figsize=(15, 10))\n",
    "PartialDependenceDisplay.from_estimator(\n",
    "    clf, X_test, target_features,\n",
    "    feature_names=X.columns,\n",
    "    grid_resolution=50, ax=ax\n",
    ")\n",
    "plt.tight_layout()"
   ]
  },
  {
   "cell_type": "markdown",
   "metadata": {},
   "source": [
    "Lower-level partial_dependence function\n",
    "----------------------------------------\n",
    "\n"
   ]
  },
  {
   "cell_type": "code",
   "execution_count": null,
   "metadata": {},
   "outputs": [],
   "source": [
    "target_feature = ('Latitude', 'Longitude')\n",
    "from sklearn.inspection import partial_dependence\n",
    "partial_deps, grid = partial_dependence(\n",
    "    clf, X=X_test, features=target_feature,\n",
    "    grid_resolution=50, kind='legacy'\n",
    ")\n",
    "import numpy as np\n",
    "# The 2D coordinate grid (for plotting)\n",
    "XX, YY = np.meshgrid(grid[0], grid[1])\n",
    "\n",
    "# Reshape the partial deps on the grid\n",
    "Z = partial_deps[0].reshape(list(map(np.size, grid))).T"
   ]
  },
  {
   "cell_type": "markdown",
   "metadata": {},
   "source": [
    "3D plotting\n",
    "\n"
   ]
  },
  {
   "cell_type": "code",
   "execution_count": null,
   "metadata": {},
   "outputs": [],
   "source": [
    "from mpl_toolkits.mplot3d import Axes3D\n",
    "\n",
    "fig = plt.figure()\n",
    "ax = Axes3D(fig, auto_add_to_figure=False)\n",
    "fig.add_axes(ax)\n",
    "surf = ax.plot_surface(XX, YY, Z, rstride=1, cstride=1,\n",
    "                       cmap=plt.cm.BuPu, edgecolor='k')\n",
    "ax.set_xlabel(target_feature[0])\n",
    "ax.set_ylabel(target_feature[1])\n",
    "ax.set_zlabel('Partial dependence')\n",
    "#  pretty init view\n",
    "ax.view_init(elev=28, azim=70)\n",
    "plt.colorbar(surf)"
   ]
  },
  {
   "cell_type": "code",
   "execution_count": null,
   "metadata": {},
   "outputs": [],
   "source": []
  }
 ],
 "metadata": {
  "kernelspec": {
   "display_name": "Python 3 (ipykernel)",
   "language": "python",
   "name": "python3"
  },
  "language_info": {
   "codemirror_mode": {
    "name": "ipython",
    "version": 3
   },
   "file_extension": ".py",
   "mimetype": "text/x-python",
   "name": "python",
   "nbconvert_exporter": "python",
   "pygments_lexer": "ipython3",
   "version": "3.8.6"
  }
 },
 "nbformat": 4,
 "nbformat_minor": 1
}
