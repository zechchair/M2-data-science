{
 "cells": [
  {
   "cell_type": "code",
   "execution_count": 3,
   "metadata": {},
   "outputs": [],
   "source": [
    "import math # import a package\n",
    "import numpy as np # import a package under an alias\n",
    "from sklearn import linear_model # import a submodule\n",
    "from os import mkdir # import a peculiar function"
   ]
  },
  {
   "cell_type": "code",
   "execution_count": 4,
   "metadata": {},
   "outputs": [
    {
     "name": "stdout",
     "output_type": "stream",
     "text": [
      "cfilorux vxz zxvt\n"
     ]
    }
   ],
   "source": [
    "# 1)\n",
    "import string \n",
    "\n",
    "alphabet = string.ascii_lowercase\n",
    "string1 = alphabet[2::3]\n",
    "string2 = alphabet[-5::2]\n",
    "string3 = alphabet[-1:-8:-2]\n",
    "\n",
    "print(string1,string2,string3) \n"
   ]
  },
  {
   "cell_type": "code",
   "execution_count": 5,
   "metadata": {},
   "outputs": [
    {
     "data": {
      "text/plain": [
       "'xhEc datasciEncE for businEs'"
      ]
     },
     "execution_count": 5,
     "metadata": {},
     "output_type": "execute_result"
    }
   ],
   "source": [
    "# 2)\n",
    "(\" XHEC DataScience for Business \".lower()).replace(\"e\", \"E\")[1:-2]"
   ]
  },
  {
   "cell_type": "code",
   "execution_count": 6,
   "metadata": {},
   "outputs": [
    {
     "name": "stdout",
     "output_type": "stream",
     "text": [
      "3.141592654\n"
     ]
    }
   ],
   "source": [
    "# 3)\n",
    "import math    \n",
    "                                                                                                                                                                  \n",
    "print(\"{:.9f}\".format(math.pi)) "
   ]
  },
  {
   "cell_type": "code",
   "execution_count": 7,
   "metadata": {},
   "outputs": [
    {
     "name": "stdout",
     "output_type": "stream",
     "text": [
      "[ 9.7  7.7  3.7  5.7 -4.3 -0.3 -2.3 -5.3 -6.3 -8.3]\n",
      "[[ 0  1  2  3]\n",
      " [ 4  5  6  7]\n",
      " [ 8  9 10 11]]\n"
     ]
    }
   ],
   "source": [
    "# 15)\n",
    "x = np.array([1, 3, 7, 5, 15, 11, 13, 16, 17, 19])\n",
    "x = np.mean(x) - x\n",
    "\n",
    "X = np.arange(12).reshape(3,4)\n",
    "\n",
    "print(x)\n",
    "print(X)"
   ]
  },
  {
   "cell_type": "code",
   "execution_count": 8,
   "metadata": {},
   "outputs": [
    {
     "data": {
      "text/plain": [
       "array([[ 4.,  4.,  4.,  4.],\n",
       "       [ 0.,  0.,  0.,  0.],\n",
       "       [-4., -4., -4., -4.]])"
      ]
     },
     "execution_count": 8,
     "metadata": {},
     "output_type": "execute_result"
    }
   ],
   "source": [
    "# 16)\n",
    "mean_cols = X.mean(axis=0)\n",
    "mean_cols - X"
   ]
  },
  {
   "cell_type": "code",
   "execution_count": 9,
   "metadata": {},
   "outputs": [
    {
     "data": {
      "text/plain": [
       "array([[ 1.5,  0.5, -0.5, -1.5],\n",
       "       [ 1.5,  0.5, -0.5, -1.5],\n",
       "       [ 1.5,  0.5, -0.5, -1.5]])"
      ]
     },
     "execution_count": 9,
     "metadata": {},
     "output_type": "execute_result"
    }
   ],
   "source": [
    "mean_rows = X.mean(axis=1)\n",
    "mean_rows.reshape(3,1) - X"
   ]
  },
  {
   "cell_type": "code",
   "execution_count": 14,
   "metadata": {},
   "outputs": [
    {
     "data": {
      "text/plain": [
       "array([[0, 0, 0, 0, 0],\n",
       "       [0, 1, 2, 3, 4],\n",
       "       [0, 2, 4, 6, 8]])"
      ]
     },
     "execution_count": 14,
     "metadata": {},
     "output_type": "execute_result"
    }
   ],
   "source": [
    "# 17)\n",
    "np.arange(3).reshape(3,1) @ np.arange(5).reshape(1,5)"
   ]
  },
  {
   "cell_type": "code",
   "execution_count": 129,
   "metadata": {},
   "outputs": [
    {
     "name": "stdout",
     "output_type": "stream",
     "text": [
      "memory address of the variable a : 2063473529520\n",
      "memory address of the variable b : 2063473529552\n",
      "memory address of the variable c : 2063473529520\n",
      "we conclude that a and c have same address because id(c) == id(a) is True\n"
     ]
    }
   ],
   "source": [
    "# 18)\n",
    "a = 1000\n",
    "b = 1000\n",
    "c = a\n",
    "print(f'memory address of the variable a : {id(a)}')\n",
    "print(f'memory address of the variable b : {id(b)}')\n",
    "print(f'memory address of the variable c : {id(c)}')\n",
    "print(f'we conclude that a and c have same address because id(c) == id(a) is {id(c) == id(a)}')"
   ]
  },
  {
   "cell_type": "code",
   "execution_count": 130,
   "metadata": {},
   "outputs": [
    {
     "name": "stdout",
     "output_type": "stream",
     "text": [
      "we see that a == c is False and id(c) == id(a) is False to.\n",
      "we can say that variable a changes its id otherwise the variable c\n"
     ]
    }
   ],
   "source": [
    "a += 1\n",
    "print(f'we see that a == c is {a == c} and id(c) == id(a) is {id(c) == id(a)} to.')\n",
    "print('we can say that variable a changes its id otherwise the variable c')"
   ]
  },
  {
   "cell_type": "code",
   "execution_count": 131,
   "metadata": {},
   "outputs": [
    {
     "name": "stdout",
     "output_type": "stream",
     "text": [
      "memory address of the variable a : 2063473575472\n",
      "memory address of the variable b : 2063473577680\n",
      "memory address of the variable c : 2063473575472\n",
      "we conclude as the question before that a and c have same address because id(c) == id(a) is False\n"
     ]
    }
   ],
   "source": [
    "# 19) \n",
    "A = np.array([0, 1])\n",
    "B = np.array([0, 1])\n",
    "C = A\n",
    "print(f'memory address of the variable a : {id(A)}')\n",
    "print(f'memory address of the variable b : {id(B)}')\n",
    "print(f'memory address of the variable c : {id(C)}')\n",
    "print(f'we conclude as the question before that a and c have same address because id(c) == id(a) is {id(c) == id(a)}')"
   ]
  },
  {
   "cell_type": "code",
   "execution_count": 132,
   "metadata": {},
   "outputs": [
    {
     "name": "stdout",
     "output_type": "stream",
     "text": [
      "we see that a == c is [ True  True] and id(c) == id(a) is True to.\n",
      "we can say that variable a changes its id otherwise the variable c\n"
     ]
    }
   ],
   "source": [
    "A += 1\n",
    "print(f'we see that a == c is {A == C} and id(c) == id(a) is {id(A) == id(C)} to')\n",
    "print('we can say A and C take same memory address and same value')"
   ]
  },
  {
   "cell_type": "code",
   "execution_count": 147,
   "metadata": {},
   "outputs": [
    {
     "name": "stdout",
     "output_type": "stream",
     "text": [
      "when m & n equal to 1 m == n returns True and m is n returns True\n",
      "when m & n equal to 1000 m == n returns True and m is n returns False\n",
      "for bigger numbers 'is' does not consider number with same value equal\n"
     ]
    }
   ],
   "source": [
    "m = 1\n",
    "n = 1\n",
    "print(f'when m & n equal to {m} m == n returns {m == n} and m is n returns {m is n}')\n",
    "m = 1000\n",
    "n = 1000\n",
    "print(f'when m & n equal to {m} m == n returns {m == n} and m is n returns {m is n}')\n",
    "print(\"for bigger numbers 'is' does not consider number with same value equal\")"
   ]
  }
 ],
 "metadata": {
  "interpreter": {
   "hash": "b3ba2566441a7c06988d0923437866b63cedc61552a5af99d1f4fb67d367b25f"
  },
  "kernelspec": {
   "display_name": "Python 3.8.5 64-bit ('base': conda)",
   "language": "python",
   "name": "python3"
  },
  "language_info": {
   "codemirror_mode": {
    "name": "ipython",
    "version": 3
   },
   "file_extension": ".py",
   "mimetype": "text/x-python",
   "name": "python",
   "nbconvert_exporter": "python",
   "pygments_lexer": "ipython3",
   "version": "3.8.5"
  },
  "orig_nbformat": 4
 },
 "nbformat": 4,
 "nbformat_minor": 2
}
