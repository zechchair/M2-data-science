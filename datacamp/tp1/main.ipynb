{
 "cells": [
  {
   "cell_type": "code",
   "execution_count": 3,
   "metadata": {},
   "outputs": [],
   "source": [
    "import math # import a package\n",
    "import numpy as np # import a package under an alias\n",
    "from sklearn import linear_model # import a submodule\n",
    "from os import mkdir # import a peculiar function\n",
    "import string "
   ]
  },
  {
   "cell_type": "code",
   "execution_count": 4,
   "metadata": {},
   "outputs": [
    {
     "name": "stdout",
     "output_type": "stream",
     "text": [
      "cfilorux vxz zxvt\n"
     ]
    }
   ],
   "source": [
    "# 1)\n",
    "alphabet = string.ascii_lowercase\n",
    "string1 = alphabet[2::3]\n",
    "string2 = alphabet[-5::2]\n",
    "string3 = alphabet[-1:-8:-2]\n",
    "\n",
    "print(string1,string2,string3) \n"
   ]
  },
  {
   "cell_type": "code",
   "execution_count": 59,
   "metadata": {},
   "outputs": [
    {
     "data": {
      "text/plain": [
       "'xhEc datasciEncE for businEs'"
      ]
     },
     "execution_count": 59,
     "metadata": {},
     "output_type": "execute_result"
    }
   ],
   "source": [
    "# 2)\n",
    "\" XHEC DataScience for Business \".lower()\\\n",
    "    .replace(\"e\", \"E\")[1:-2]"
   ]
  },
  {
   "cell_type": "code",
   "execution_count": 6,
   "metadata": {},
   "outputs": [
    {
     "name": "stdout",
     "output_type": "stream",
     "text": [
      "3.141592654\n"
     ]
    }
   ],
   "source": [
    "# 3)\n",
    "import math    \n",
    "                                                                                                                                                                  \n",
    "print(\"{:.9f}\".format(math.pi)) "
   ]
  },
  {
   "cell_type": "code",
   "execution_count": 7,
   "metadata": {},
   "outputs": [
    {
     "data": {
      "text/plain": [
       "{'h': 1, 'e': 1, '!': 2, 'r': 1, 'w': 1, 'o': 2, 'l': 3, 'd': 1}"
      ]
     },
     "execution_count": 7,
     "metadata": {},
     "output_type": "execute_result"
    }
   ],
   "source": [
    "# 4)\n",
    "s=\"HelLo WorLd!!\".lower().replace(\" \",\"\")\n",
    "{i : s.count(i) for i in set(s)}"
   ]
  },
  {
   "cell_type": "code",
   "execution_count": 58,
   "metadata": {},
   "outputs": [
    {
     "name": "stdout",
     "output_type": "stream",
     "text": [
      "this value equal to 0.1 is a     True hypothesis\n"
     ]
    }
   ],
   "source": [
    "#question 5\n",
    "var =0.1+100-100\n",
    "\n",
    "print(f\"this value equal to 0.1 is a \\\n",
    "    {np.isclose(var,0.1,1e-10)} hypothesis\")"
   ]
  },
  {
   "cell_type": "code",
   "execution_count": 11,
   "metadata": {},
   "outputs": [
    {
     "data": {
      "text/plain": [
       "[1, 4, 9, 16, 25, 36, 49, 64, 81, 100, 121]"
      ]
     },
     "execution_count": 11,
     "metadata": {},
     "output_type": "execute_result"
    }
   ],
   "source": [
    "#question 6 list with for\n",
    "[(i+1)**2 for i in range(11)]"
   ]
  },
  {
   "cell_type": "code",
   "execution_count": 12,
   "metadata": {},
   "outputs": [
    {
     "data": {
      "text/plain": [
       "array([  1,   4,   9,  16,  25,  36,  49,  64,  81, 100, 121], dtype=int32)"
      ]
     },
     "execution_count": 12,
     "metadata": {},
     "output_type": "execute_result"
    }
   ],
   "source": [
    "#question 6 array with numpy\n",
    "np.square(np.arange(1,12))"
   ]
  },
  {
   "cell_type": "code",
   "execution_count": 13,
   "metadata": {},
   "outputs": [
    {
     "data": {
      "text/plain": [
       "array([ 2,  5,  8, 11, 14])"
      ]
     },
     "execution_count": 13,
     "metadata": {},
     "output_type": "execute_result"
    }
   ],
   "source": [
    "# question 7 create array from 2 to 14 with step 3\n",
    "np.arange(2,15,3)"
   ]
  },
  {
   "cell_type": "code",
   "execution_count": 14,
   "metadata": {},
   "outputs": [
    {
     "data": {
      "text/plain": [
       "array([0.        , 0.07142857, 0.14285714, 0.21428571, 0.28571429,\n",
       "       0.35714286, 0.42857143, 0.5       , 0.57142857, 0.64285714,\n",
       "       0.71428571, 0.78571429, 0.85714286, 0.92857143, 1.        ])"
      ]
     },
     "execution_count": 14,
     "metadata": {},
     "output_type": "execute_result"
    }
   ],
   "source": [
    "# question 7 array with 15 equispaced valued from 0 to 1 included\n",
    "np.linspace(0.0, 1.0, num=15)"
   ]
  },
  {
   "cell_type": "code",
   "execution_count": 15,
   "metadata": {},
   "outputs": [
    {
     "name": "stdout",
     "output_type": "stream",
     "text": [
      " the value using for loop is 3.1415918681905777 and the elapsed time is 0.9430415630340576\n"
     ]
    }
   ],
   "source": [
    "#question 8 \n",
    "import time\n",
    "start_time=time.time()\n",
    "number=1\n",
    "for i in range(1,999999):\n",
    "    number*=(4*i**2)/(4*i**2-1)\n",
    "2*number\n",
    "elapsed_time=time.time()-start_time\n",
    "print(f\" the value using for loop is {2*number}\\\n",
    "     and the elapsed time is {elapsed_time}\")\n",
    "%timeit"
   ]
  },
  {
   "cell_type": "code",
   "execution_count": 17,
   "metadata": {},
   "outputs": [
    {
     "name": "stdout",
     "output_type": "stream",
     "text": [
      " the value using numpy is 3.141584799500166 and the elapsed time is 0.00398564338684082\n"
     ]
    }
   ],
   "source": [
    "#question 8 \n",
    "start_time=time.time()\n",
    "i=np.arange(1,99999,dtype=\"float64\")\n",
    "mul=(4*i**2)/(4*i**2-1)\n",
    "result=2*np.prod(mul)\n",
    "elapsed_time=time.time()-start_time\n",
    "\n",
    "print(f\" the value using numpy is {result}\\\n",
    "     and the elapsed time is {elapsed_time}\")\n",
    "%timeit"
   ]
  },
  {
   "cell_type": "code",
   "execution_count": 18,
   "metadata": {},
   "outputs": [
    {
     "data": {
      "text/plain": [
       "10.0"
      ]
     },
     "execution_count": 18,
     "metadata": {},
     "output_type": "execute_result"
    }
   ],
   "source": [
    "#question 9 \n",
    "np.arange(5) @ np.ones(5) # dot product of np.arange(5) and np.ones(5)"
   ]
  },
  {
   "cell_type": "code",
   "execution_count": 19,
   "metadata": {},
   "outputs": [
    {
     "name": "stdout",
     "output_type": "stream",
     "text": [
      "shape of np.arange(5) is (5,) and it has 1D and the shape of its transpose is (5,)\n"
     ]
    }
   ],
   "source": [
    "print(f\"shape of np.arange(5) is {np.arange(5).shape}\\\n",
    "     and it has 1D and the shape of its\\\n",
    "          transpose is {np.arange(5).T.shape}\")\n"
   ]
  },
  {
   "cell_type": "code",
   "execution_count": 20,
   "metadata": {},
   "outputs": [],
   "source": [
    "#question 10\n",
    "M=np.arange(12).reshape(2,6 ) \n",
    "#reshape (2,6) reformat our 1D array to 2D array with 6 columns and 2 rows (like matrix)"
   ]
  },
  {
   "cell_type": "code",
   "execution_count": 21,
   "metadata": {},
   "outputs": [
    {
     "data": {
      "text/plain": [
       "array([[0, 3],\n",
       "       [6, 9]])"
      ]
     },
     "execution_count": 21,
     "metadata": {},
     "output_type": "execute_result"
    }
   ],
   "source": [
    "M[:, ::3]\n",
    "#it takes the first 2D array with a step of 3 on columns and with all rows"
   ]
  },
  {
   "cell_type": "code",
   "execution_count": 22,
   "metadata": {},
   "outputs": [
    {
     "data": {
      "text/plain": [
       "array([[0, 0, 0],\n",
       "       [0, 1, 2],\n",
       "       [0, 2, 4],\n",
       "       [0, 3, 6]])"
      ]
     },
     "execution_count": 22,
     "metadata": {},
     "output_type": "execute_result"
    }
   ],
   "source": [
    "np.arange(3) * np.arange(4)[:, None]\n",
    "# numpy treats arrays with different shapes during arithmetic operations in order to have compatible shapes"
   ]
  },
  {
   "cell_type": "code",
   "execution_count": 23,
   "metadata": {},
   "outputs": [],
   "source": [
    "#question 11 creating random M\n",
    "M=np.random.uniform(low=-1,high=1,size=(5,6))"
   ]
  },
  {
   "cell_type": "code",
   "execution_count": 24,
   "metadata": {},
   "outputs": [],
   "source": [
    "#question 11 [Substract to each even column of M (say M[:, 0] is even), twice the value of the following (uneven) column.]\n",
    "M[:,::2]=M[:,::2]-2*M[:,1::2]"
   ]
  },
  {
   "cell_type": "code",
   "execution_count": 25,
   "metadata": {},
   "outputs": [],
   "source": [
    "#question 12\n",
    "M[M<0]=0 #replacing negative values with 0"
   ]
  },
  {
   "cell_type": "code",
   "execution_count": 26,
   "metadata": {},
   "outputs": [
    {
     "name": "stdout",
     "output_type": "stream",
     "text": [
      "the mean of each row is [0.49273193 0.26832553 0.63799377 0.07006831 0.4306256 ]\n",
      "the mean of each column is [0.34041391 0.19140709 0.7410863  0.30102488 0.60734343 0.09841858]\n"
     ]
    }
   ],
   "source": [
    "#question 12\n",
    "print(f\"the mean of each row is {M.mean(axis=1)}\\n\")\n",
    "print(f\"the mean of each column is {M.mean(axis=0)}\")"
   ]
  },
  {
   "cell_type": "code",
   "execution_count": 57,
   "metadata": {},
   "outputs": [
    {
     "name": "stdout",
     "output_type": "stream",
     "text": [
      "the sentence (M * M.T is symetric) is True\n",
      "\n",
      "the sentence (M * M.T is defined positive) is True\n",
      "\n",
      "the rank of M * M.T is 5\n",
      "\n",
      "the euclidean norm of M * M.T is 10.851175171951231\n",
      "\n",
      "the standard deviation of each column is [0.69751396 0.29852633 0.32514369 0.60875048 0.6568773  0.56949883\n",
      " 0.65614157 0.30839349 0.39696038 0.68902127]\n"
     ]
    }
   ],
   "source": [
    "#question 13 creating random M\n",
    "M=np.random.uniform(low=-1,high=1,size=(5,10))\n",
    "G=M @ M.T\n",
    "print(f\"the sentence (M * M.T is symetric) is \\\n",
    "    {np.all(np.isclose(G-G.T,0,1e-8))}\\n\")\n",
    "\n",
    "print(f\"the sentence (M * M.T is defined positive) \\\n",
    "    is {np.all(np.linalg.eigvals(G) > 0)}\\n\")\n",
    "\n",
    "print(f\"the rank of M * M.T is\\\n",
    "     {np.linalg.matrix_rank(G)}\\n\")\n",
    "\n",
    "print(f\"the euclidean norm of M * M.T is\\\n",
    "             {np.linalg.norm(G)}\\n\") #by default it's l2 norm\n",
    "\n",
    "             \n",
    "print(f\"the standard deviation of each column is {M.std(axis=0)}\")"
   ]
  },
  {
   "cell_type": "code",
   "execution_count": 31,
   "metadata": {},
   "outputs": [],
   "source": [
    "import matplotlib.pyplot as plt\n",
    "%matplotlib inline"
   ]
  },
  {
   "cell_type": "code",
   "execution_count": 32,
   "metadata": {},
   "outputs": [
    {
     "data": {
      "text/plain": [
       "Text(0, 0.5, 'y_label')"
      ]
     },
     "execution_count": 32,
     "metadata": {},
     "output_type": "execute_result"
    },
    {
     "data": {
      "image/png": "[encoded data removed]",
      "text/plain": [
       "<Figure size 432x288 with 1 Axes>"
      ]
     },
     "metadata": {
      "needs_background": "light"
     },
     "output_type": "display_data"
    }
   ],
   "source": [
    "#question 14\n",
    "x=np.linspace(-1,2,100)\n",
    "for d in (2,3,4):\n",
    "    plt.plot(x,x**d,label=f\"d = {d}\")\n",
    "plt.legend()\n",
    "plt.title(\"this is a plot title\")\n",
    "plt.xlabel(\"x_label\")\n",
    "plt.ylabel(\"y_label\")"
   ]
  },
  {
   "cell_type": "code",
   "execution_count": 33,
   "metadata": {},
   "outputs": [
    {
     "name": "stdout",
     "output_type": "stream",
     "text": [
      "[ 9.7  7.7  3.7  5.7 -4.3 -0.3 -2.3 -5.3 -6.3 -8.3]\n",
      "[[ 0  1  2  3]\n",
      " [ 4  5  6  7]\n",
      " [ 8  9 10 11]]\n"
     ]
    }
   ],
   "source": [
    "# 15)\n",
    "x = np.array([1, 3, 7, 5, 15, 11, 13, 16, 17, 19])\n",
    "x = np.mean(x) - x\n",
    "\n",
    "X = np.arange(12).reshape(3,4)\n",
    "\n",
    "print(x)\n",
    "print(X)"
   ]
  },
  {
   "cell_type": "code",
   "execution_count": 34,
   "metadata": {},
   "outputs": [
    {
     "data": {
      "text/plain": [
       "array([[ 4,  4,  4,  4],\n",
       "       [ 0,  0,  0,  0],\n",
       "       [-4, -4, -4, -4]])"
      ]
     },
     "execution_count": 34,
     "metadata": {},
     "output_type": "execute_result"
    }
   ],
   "source": [
    "# 16)\n",
    "mean_col = np.arange(4) + 4\n",
    "mean_col - X"
   ]
  },
  {
   "cell_type": "code",
   "execution_count": 35,
   "metadata": {},
   "outputs": [
    {
     "data": {
      "text/plain": [
       "array([[ 1,  2,  3,  4,  5],\n",
       "       [ 6,  7,  8,  9, 10],\n",
       "       [11, 12, 13, 14, 15]])"
      ]
     },
     "execution_count": 35,
     "metadata": {},
     "output_type": "execute_result"
    }
   ],
   "source": [
    "# 17)\n",
    "X_2 = np.arange(1,16).reshape(3,5)\n",
    "X_2"
   ]
  },
  {
   "cell_type": "code",
   "execution_count": 36,
   "metadata": {},
   "outputs": [
    {
     "name": "stdout",
     "output_type": "stream",
     "text": [
      "memory address of the variable a : 2464639852336\n",
      "memory address of the variable b : 2464639851376\n",
      "memory address of the variable c : 2464639852336\n",
      "we conclude that a and c have same address because id(c) == id(a) is True\n"
     ]
    }
   ],
   "source": [
    "# 18)\n",
    "a = 1000\n",
    "b = 1000\n",
    "c = a\n",
    "print(f'memory address of the variable a : {id(a)}\\n')\n",
    "\n",
    "print(f'memory address of the variable b : {id(b)}\\n')\n",
    "\n",
    "print(f'memory address of the variable c : {id(c)}\\n')\n",
    "\n",
    "print(f'we conclude that a and c have same address\\\n",
    "     because id(c) == id(a) is {id(c) == id(a)}')"
   ]
  },
  {
   "cell_type": "code",
   "execution_count": 37,
   "metadata": {},
   "outputs": [
    {
     "name": "stdout",
     "output_type": "stream",
     "text": [
      "we see that a == c is False and id(c) == id(a) is False to.\n",
      "we can say that variable a changes its id otherwise the variable c\n"
     ]
    }
   ],
   "source": [
    "a += 1\n",
    "print(f'we see that a == c is {a == c} and\\\n",
    "     id(c) == id(a) is {id(c) == id(a)} to.\\n')\n",
    "\n",
    "print('we can say that variable a changes its id otherwise the variable c')"
   ]
  },
  {
   "cell_type": "code",
   "execution_count": 56,
   "metadata": {},
   "outputs": [
    {
     "name": "stdout",
     "output_type": "stream",
     "text": [
      "memory address of the variable a : 2464640292784\n",
      "\n",
      "memory address of the variable b : 2464640292880\n",
      "\n",
      "memory address of the variable c : 2464640292784\n",
      "\n",
      "we conclude as the question before that a and c have same address because id(c) == id(a) is False\n"
     ]
    }
   ],
   "source": [
    "# 19) \n",
    "A = np.array([0, 1])\n",
    "B = np.array([0, 1])\n",
    "C = A\n",
    "print(f'memory address of the variable a : {id(A)}\\n')\n",
    "print(f'memory address of the variable b : {id(B)}\\n')\n",
    "print(f'memory address of the variable c : {id(C)}\\n')\n",
    "print(f'we conclude as the question before that a and \\\n",
    "    c have same address because id(c) == id(a) is {id(c) == id(a)}')"
   ]
  },
  {
   "cell_type": "code",
   "execution_count": 55,
   "metadata": {},
   "outputs": [
    {
     "name": "stdout",
     "output_type": "stream",
     "text": [
      "we see that a == c is [ True  True] and id(c) == id(a) is True to\n",
      "\n",
      "we can say A and C take same memory address and same value\n"
     ]
    }
   ],
   "source": [
    "A += 1\n",
    "print(f'we see that a == c is {A == C} and id(c) == id(a) is {id(A) == id(C)} to\\n')\n",
    "print('we can say A and C take same memory address and same value')"
   ]
  },
  {
   "cell_type": "code",
   "execution_count": 54,
   "metadata": {},
   "outputs": [
    {
     "name": "stdout",
     "output_type": "stream",
     "text": [
      "when m & n equal to 1 m == n returns True and m is n returns True\n",
      "\n",
      "when m & n equal to 500 m == n returns True and m is n returns False\n",
      "\n",
      "Python caches small integers, which are integers between -5 and 256. These numbers are used so frequently that it’s better for performance to already have these objects available. So these integers will be assigned at startup. Then, each time you refer to one, you’ll be referring to an object that already exists.\n"
     ]
    }
   ],
   "source": [
    "m = 1\n",
    "n = 1\n",
    "print(f'when m & n equal to {m} m == n returns {m == n} and m is n returns {m is n}\\n')\n",
    "m = 500\n",
    "n = 500\n",
    "print(f'when m & n equal to {m} m == n returns {m == n} and m is n returns {m is n}\\n')\n",
    "\n",
    "print(\"Python caches small integers, which are integers between -5 and 256.\\\n",
    "     These numbers are used so frequently that it’s better for performance\\\n",
    "          to already have these objects available. So these integers will \\\n",
    "              be assigned at startup. Then, each time you refer to one,\\\n",
    "                  you’ll be referring to an object that already exists.\")"
   ]
  }
 ],
 "metadata": {
  "interpreter": {
   "hash": "ba855445f69ba19b241578ea08fa8a5a70cbc2a53ef28ee8bc84738f1a95afb8"
  },
  "kernelspec": {
   "display_name": "Python 3.9.7 64-bit ('datacamp': conda)",
   "language": "python",
   "name": "python3"
  },
  "language_info": {
   "codemirror_mode": {
    "name": "ipython",
    "version": 3
   },
   "file_extension": ".py",
   "mimetype": "text/x-python",
   "name": "python",
   "nbconvert_exporter": "python",
   "pygments_lexer": "ipython3",
   "version": "3.9.7"
  },
  "orig_nbformat": 4
 },
 "nbformat": 4,
 "nbformat_minor": 2
}
