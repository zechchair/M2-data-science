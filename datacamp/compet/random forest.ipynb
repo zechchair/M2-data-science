{
 "cells": [
  {
   "cell_type": "code",
   "execution_count": 1,
   "metadata": {},
   "outputs": [],
   "source": [
    "from numba import jit,vectorize\n",
    "from sklearn.model_selection import train_test_split\n",
    "from sklearn.pipeline import Pipeline\n",
    "from sklearn.preprocessing import StandardScaler\n",
    "import numba\n",
    "import pandas as pd\n",
    "import numpy as np\n",
    "import matplotlib.pyplot as plt\n",
    "\n",
    "%matplotlib inline\n"
   ]
  },
  {
   "cell_type": "code",
   "execution_count": 26,
   "metadata": {},
   "outputs": [
    {
     "data": {
      "text/html": [
       "<div>\n",
       "<style scoped>\n",
       "    .dataframe tbody tr th:only-of-type {\n",
       "        vertical-align: middle;\n",
       "    }\n",
       "\n",
       "    .dataframe tbody tr th {\n",
       "        vertical-align: top;\n",
       "    }\n",
       "\n",
       "    .dataframe thead th {\n",
       "        text-align: right;\n",
       "    }\n",
       "</style>\n",
       "<table border=\"1\" class=\"dataframe\">\n",
       "  <thead>\n",
       "    <tr style=\"text-align: right;\">\n",
       "      <th></th>\n",
       "      <th>avg_weeks</th>\n",
       "      <th>target</th>\n",
       "      <th>std_weeks</th>\n",
       "      <th>year</th>\n",
       "      <th>month</th>\n",
       "      <th>day</th>\n",
       "      <th>from_BOS</th>\n",
       "      <th>from_CLT</th>\n",
       "      <th>from_DEN</th>\n",
       "      <th>from_DFW</th>\n",
       "      <th>...</th>\n",
       "      <th>to_LAX</th>\n",
       "      <th>to_LGA</th>\n",
       "      <th>to_MCO</th>\n",
       "      <th>to_MIA</th>\n",
       "      <th>to_MSP</th>\n",
       "      <th>to_ORD</th>\n",
       "      <th>to_PHL</th>\n",
       "      <th>to_PHX</th>\n",
       "      <th>to_SEA</th>\n",
       "      <th>to_SFO</th>\n",
       "    </tr>\n",
       "    <tr>\n",
       "      <th>flight_date</th>\n",
       "      <th></th>\n",
       "      <th></th>\n",
       "      <th></th>\n",
       "      <th></th>\n",
       "      <th></th>\n",
       "      <th></th>\n",
       "      <th></th>\n",
       "      <th></th>\n",
       "      <th></th>\n",
       "      <th></th>\n",
       "      <th></th>\n",
       "      <th></th>\n",
       "      <th></th>\n",
       "      <th></th>\n",
       "      <th></th>\n",
       "      <th></th>\n",
       "      <th></th>\n",
       "      <th></th>\n",
       "      <th></th>\n",
       "      <th></th>\n",
       "      <th></th>\n",
       "    </tr>\n",
       "  </thead>\n",
       "  <tbody>\n",
       "    <tr>\n",
       "      <th>2012-06-19</th>\n",
       "      <td>12.875000</td>\n",
       "      <td>12.331296</td>\n",
       "      <td>9.812647</td>\n",
       "      <td>2012</td>\n",
       "      <td>6</td>\n",
       "      <td>19</td>\n",
       "      <td>0</td>\n",
       "      <td>0</td>\n",
       "      <td>0</td>\n",
       "      <td>0</td>\n",
       "      <td>...</td>\n",
       "      <td>0</td>\n",
       "      <td>0</td>\n",
       "      <td>0</td>\n",
       "      <td>0</td>\n",
       "      <td>0</td>\n",
       "      <td>0</td>\n",
       "      <td>0</td>\n",
       "      <td>0</td>\n",
       "      <td>0</td>\n",
       "      <td>0</td>\n",
       "    </tr>\n",
       "    <tr>\n",
       "      <th>2012-09-10</th>\n",
       "      <td>14.285714</td>\n",
       "      <td>10.775182</td>\n",
       "      <td>9.466734</td>\n",
       "      <td>2012</td>\n",
       "      <td>9</td>\n",
       "      <td>10</td>\n",
       "      <td>0</td>\n",
       "      <td>0</td>\n",
       "      <td>0</td>\n",
       "      <td>0</td>\n",
       "      <td>...</td>\n",
       "      <td>0</td>\n",
       "      <td>0</td>\n",
       "      <td>0</td>\n",
       "      <td>0</td>\n",
       "      <td>0</td>\n",
       "      <td>0</td>\n",
       "      <td>0</td>\n",
       "      <td>0</td>\n",
       "      <td>0</td>\n",
       "      <td>0</td>\n",
       "    </tr>\n",
       "    <tr>\n",
       "      <th>2012-10-05</th>\n",
       "      <td>10.863636</td>\n",
       "      <td>11.083177</td>\n",
       "      <td>9.035883</td>\n",
       "      <td>2012</td>\n",
       "      <td>10</td>\n",
       "      <td>5</td>\n",
       "      <td>0</td>\n",
       "      <td>0</td>\n",
       "      <td>1</td>\n",
       "      <td>0</td>\n",
       "      <td>...</td>\n",
       "      <td>1</td>\n",
       "      <td>0</td>\n",
       "      <td>0</td>\n",
       "      <td>0</td>\n",
       "      <td>0</td>\n",
       "      <td>0</td>\n",
       "      <td>0</td>\n",
       "      <td>0</td>\n",
       "      <td>0</td>\n",
       "      <td>0</td>\n",
       "    </tr>\n",
       "    <tr>\n",
       "      <th>2011-10-09</th>\n",
       "      <td>11.480000</td>\n",
       "      <td>11.169268</td>\n",
       "      <td>7.990202</td>\n",
       "      <td>2011</td>\n",
       "      <td>10</td>\n",
       "      <td>9</td>\n",
       "      <td>0</td>\n",
       "      <td>0</td>\n",
       "      <td>0</td>\n",
       "      <td>0</td>\n",
       "      <td>...</td>\n",
       "      <td>0</td>\n",
       "      <td>0</td>\n",
       "      <td>0</td>\n",
       "      <td>0</td>\n",
       "      <td>0</td>\n",
       "      <td>1</td>\n",
       "      <td>0</td>\n",
       "      <td>0</td>\n",
       "      <td>0</td>\n",
       "      <td>0</td>\n",
       "    </tr>\n",
       "    <tr>\n",
       "      <th>2012-02-21</th>\n",
       "      <td>11.450000</td>\n",
       "      <td>11.269364</td>\n",
       "      <td>9.517159</td>\n",
       "      <td>2012</td>\n",
       "      <td>2</td>\n",
       "      <td>21</td>\n",
       "      <td>0</td>\n",
       "      <td>0</td>\n",
       "      <td>1</td>\n",
       "      <td>0</td>\n",
       "      <td>...</td>\n",
       "      <td>0</td>\n",
       "      <td>0</td>\n",
       "      <td>0</td>\n",
       "      <td>0</td>\n",
       "      <td>0</td>\n",
       "      <td>0</td>\n",
       "      <td>0</td>\n",
       "      <td>0</td>\n",
       "      <td>0</td>\n",
       "      <td>1</td>\n",
       "    </tr>\n",
       "  </tbody>\n",
       "</table>\n",
       "<p>5 rows × 44 columns</p>\n",
       "</div>"
      ],
      "text/plain": [
       "             avg_weeks     target  std_weeks  year  month  day  from_BOS  \\\n",
       "flight_date                                                                \n",
       "2012-06-19   12.875000  12.331296   9.812647  2012      6   19         0   \n",
       "2012-09-10   14.285714  10.775182   9.466734  2012      9   10         0   \n",
       "2012-10-05   10.863636  11.083177   9.035883  2012     10    5         0   \n",
       "2011-10-09   11.480000  11.169268   7.990202  2011     10    9         0   \n",
       "2012-02-21   11.450000  11.269364   9.517159  2012      2   21         0   \n",
       "\n",
       "             from_CLT  from_DEN  from_DFW  ...  to_LAX  to_LGA  to_MCO  \\\n",
       "flight_date                                ...                           \n",
       "2012-06-19          0         0         0  ...       0       0       0   \n",
       "2012-09-10          0         0         0  ...       0       0       0   \n",
       "2012-10-05          0         1         0  ...       1       0       0   \n",
       "2011-10-09          0         0         0  ...       0       0       0   \n",
       "2012-02-21          0         1         0  ...       0       0       0   \n",
       "\n",
       "             to_MIA  to_MSP  to_ORD  to_PHL  to_PHX  to_SEA  to_SFO  \n",
       "flight_date                                                          \n",
       "2012-06-19        0       0       0       0       0       0       0  \n",
       "2012-09-10        0       0       0       0       0       0       0  \n",
       "2012-10-05        0       0       0       0       0       0       0  \n",
       "2011-10-09        0       0       1       0       0       0       0  \n",
       "2012-02-21        0       0       0       0       0       0       1  \n",
       "\n",
       "[5 rows x 44 columns]"
      ]
     },
     "execution_count": 26,
     "metadata": {},
     "output_type": "execute_result"
    }
   ],
   "source": [
    "gro_dtypes = {\n",
    "    'from': 'category',\n",
    "    'to': 'category',\n",
    "}\n",
    "data=pd.read_csv(\"flights_train.csv.bz2\")\n",
    "data[\"flight_date\"]=pd.to_datetime(data[\"flight_date\"])\n",
    "data[\"year\"]=pd.DatetimeIndex(data['flight_date']).year\n",
    "data[\"month\"]=pd.DatetimeIndex(data['flight_date']).month\n",
    "data[\"day\"]=pd.DatetimeIndex(data['flight_date']).day\n",
    "data.set_index(\"flight_date\",inplace=True)\n",
    "data=pd.get_dummies(data, drop_first=True)\n",
    "data.head()\n"
   ]
  },
  {
   "cell_type": "code",
   "execution_count": 27,
   "metadata": {},
   "outputs": [],
   "source": [
    "X,y=data.loc[:,(data.columns!=\"target\")],data.loc[:,(data.columns==\"target\")]\n",
    "X_train,X_test,y_train,y_test=train_test_split(data.loc[:,(data.columns!=\"target\")],data.loc[:,data.columns==\"target\"],test_size=0.20, random_state=42,shuffle=True)"
   ]
  },
  {
   "cell_type": "code",
   "execution_count": 28,
   "metadata": {},
   "outputs": [
    {
     "name": "stdout",
     "output_type": "stream",
     "text": [
      "RMSE: -0.733 (0.015)\n"
     ]
    }
   ],
   "source": [
    "# Random forest score with cross_validation\n",
    "from sklearn.ensemble import RandomForestRegressor\n",
    "from sklearn.model_selection import cross_val_score,RepeatedKFold,RepeatedStratifiedKFold\n",
    "regr = RandomForestRegressor()\n",
    "regr.fit(X, np.ravel(y))\n",
    "# evaluate the model\n",
    "# cv = RepeatedKFold(n_splits=5, random_state=1)\n",
    "n_scores = cross_val_score(regr, X, y, scoring='neg_root_mean_squared_error', cv=5, n_jobs=-1, error_score='raise')\n",
    "# report performance\n",
    "print('RMSE: %.3f (%.3f)' % (np.mean(n_scores), np.std(n_scores)))"
   ]
  },
  {
   "cell_type": "code",
   "execution_count": 29,
   "metadata": {},
   "outputs": [
    {
     "name": "stdout",
     "output_type": "stream",
     "text": [
      "RMSE: -0.737 (0.015)\n"
     ]
    }
   ],
   "source": [
    "# Random forest score on our testing set\n",
    "regr = RandomForestRegressor(n_jobs=-1,max_depth=None)\n",
    "# evaluate the model\n",
    "# cv = RepeatedKFold(n_splits=5, random_state=1)\n",
    "n_scores = cross_val_score(regr, X, y, scoring='neg_root_mean_squared_error', cv=4, n_jobs=-1, error_score='raise')\n",
    "# report performance\n",
    "print('RMSE: %.3f (%.3f)' % (np.mean(n_scores), np.std(n_scores)))"
   ]
  },
  {
   "cell_type": "markdown",
   "metadata": {},
   "source": [
    "### Standard scaling"
   ]
  },
  {
   "cell_type": "code",
   "execution_count": 30,
   "metadata": {},
   "outputs": [
    {
     "name": "stdout",
     "output_type": "stream",
     "text": [
      "RMSE: -0.735 (+/- 0.013)\n"
     ]
    }
   ],
   "source": [
    "pipe = Pipeline([('scaler', StandardScaler()), ('regr', RandomForestRegressor(n_jobs=-1))])\n",
    "pipe.fit(X_train, np.ravel(y_train))\n",
    "n_scores = cross_val_score(pipe, X, y, scoring='neg_root_mean_squared_error', cv=4, n_jobs=-1, error_score='raise')\n",
    "# report performance\n",
    "print('RMSE: %.3f (+/- %.3f)' % (np.mean(n_scores), np.std(n_scores)))\n"
   ]
  },
  {
   "cell_type": "code",
   "execution_count": 31,
   "metadata": {},
   "outputs": [],
   "source": [
    "from skopt.space.space import Real,Integer,Categorical\n",
    "from skopt.space import Space\n",
    "from skopt import BayesSearchCV"
   ]
  },
  {
   "cell_type": "code",
   "execution_count": 48,
   "metadata": {},
   "outputs": [
    {
     "name": "stderr",
     "output_type": "stream",
     "text": [
      "C:\\Users\\zechc\\.conda\\envs\\datacamp\\lib\\site-packages\\skopt\\optimizer\\optimizer.py:449: UserWarning: The objective has been evaluated at this point before.\n",
      "  warnings.warn(\"The objective has been evaluated \"\n",
      "C:\\Users\\zechc\\.conda\\envs\\datacamp\\lib\\site-packages\\skopt\\optimizer\\optimizer.py:449: UserWarning: The objective has been evaluated at this point before.\n",
      "  warnings.warn(\"The objective has been evaluated \"\n",
      "C:\\Users\\zechc\\.conda\\envs\\datacamp\\lib\\site-packages\\skopt\\optimizer\\optimizer.py:449: UserWarning: The objective has been evaluated at this point before.\n",
      "  warnings.warn(\"The objective has been evaluated \"\n",
      "C:\\Users\\zechc\\.conda\\envs\\datacamp\\lib\\site-packages\\skopt\\optimizer\\optimizer.py:449: UserWarning: The objective has been evaluated at this point before.\n",
      "  warnings.warn(\"The objective has been evaluated \"\n",
      "C:\\Users\\zechc\\.conda\\envs\\datacamp\\lib\\site-packages\\skopt\\optimizer\\optimizer.py:449: UserWarning: The objective has been evaluated at this point before.\n",
      "  warnings.warn(\"The objective has been evaluated \"\n",
      "C:\\Users\\zechc\\.conda\\envs\\datacamp\\lib\\site-packages\\skopt\\optimizer\\optimizer.py:449: UserWarning: The objective has been evaluated at this point before.\n",
      "  warnings.warn(\"The objective has been evaluated \"\n",
      "C:\\Users\\zechc\\.conda\\envs\\datacamp\\lib\\site-packages\\skopt\\optimizer\\optimizer.py:449: UserWarning: The objective has been evaluated at this point before.\n",
      "  warnings.warn(\"The objective has been evaluated \"\n",
      "C:\\Users\\zechc\\.conda\\envs\\datacamp\\lib\\site-packages\\skopt\\optimizer\\optimizer.py:449: UserWarning: The objective has been evaluated at this point before.\n",
      "  warnings.warn(\"The objective has been evaluated \"\n",
      "C:\\Users\\zechc\\.conda\\envs\\datacamp\\lib\\site-packages\\skopt\\optimizer\\optimizer.py:449: UserWarning: The objective has been evaluated at this point before.\n",
      "  warnings.warn(\"The objective has been evaluated \"\n",
      "C:\\Users\\zechc\\.conda\\envs\\datacamp\\lib\\site-packages\\skopt\\optimizer\\optimizer.py:449: UserWarning: The objective has been evaluated at this point before.\n",
      "  warnings.warn(\"The objective has been evaluated \"\n",
      "C:\\Users\\zechc\\.conda\\envs\\datacamp\\lib\\site-packages\\skopt\\optimizer\\optimizer.py:449: UserWarning: The objective has been evaluated at this point before.\n",
      "  warnings.warn(\"The objective has been evaluated \"\n",
      "C:\\Users\\zechc\\.conda\\envs\\datacamp\\lib\\site-packages\\skopt\\optimizer\\optimizer.py:449: UserWarning: The objective has been evaluated at this point before.\n",
      "  warnings.warn(\"The objective has been evaluated \"\n",
      "C:\\Users\\zechc\\.conda\\envs\\datacamp\\lib\\site-packages\\skopt\\optimizer\\optimizer.py:449: UserWarning: The objective has been evaluated at this point before.\n",
      "  warnings.warn(\"The objective has been evaluated \"\n",
      "C:\\Users\\zechc\\.conda\\envs\\datacamp\\lib\\site-packages\\skopt\\optimizer\\optimizer.py:449: UserWarning: The objective has been evaluated at this point before.\n",
      "  warnings.warn(\"The objective has been evaluated \"\n"
     ]
    },
    {
     "data": {
      "text/plain": [
       "BayesSearchCV(cv=5,\n",
       "              estimator=Pipeline(steps=[('scaler', StandardScaler()),\n",
       "                                        ('regr',\n",
       "                                         RandomForestRegressor(n_jobs=-1))]),\n",
       "              n_iter=100, n_jobs=-1, scoring='neg_root_mean_squared_error',\n",
       "              search_spaces={'regr__max_depth': Integer(low=5, high=100, prior='log-uniform', transform='normalize'),\n",
       "                             'regr__min_samples_leaf': Integer(low=4, high=15, prior='log-uniform', transform='normalize'),\n",
       "                             'regr__min_samples_split': Integer(low=10, high=30, prior='log-uniform', transform='normalize'),\n",
       "                             'regr__n_estimators': Integer(low=100, high=1000, prior='log-uniform', transform='normalize')})"
      ]
     },
     "execution_count": 48,
     "metadata": {},
     "output_type": "execute_result"
    }
   ],
   "source": [
    "opt = BayesSearchCV(\n",
    "    pipe,\n",
    "   {    'regr__n_estimators':Integer(100,1000,prior=\"log-uniform\"),\n",
    "        'regr__max_depth':Integer(5,100,prior=\"log-uniform\"),\n",
    "        'regr__min_samples_split': Integer(10,30,prior=\"log-uniform\"),\n",
    "        'regr__min_samples_leaf': Integer(4,15,prior=\"log-uniform\"),\n",
    " },\n",
    "    cv=5, \n",
    "    n_jobs=-1,\n",
    "    n_iter=100,\n",
    "    n_points=1,\n",
    "    scoring=\"neg_root_mean_squared_error\",\n",
    ")\n",
    "opt.fit(X_train,np.ravel(y_train))"
   ]
  },
  {
   "cell_type": "code",
   "execution_count": 33,
   "metadata": {},
   "outputs": [
    {
     "name": "stdout",
     "output_type": "stream",
     "text": [
      "validation score: -0.7335487806825278\n",
      "Nombre d'itirations : 24\n",
      "test score: -0.7197142562212572\n",
      "best_params: OrderedDict([('regr__max_depth', 22), ('regr__min_samples_leaf', 4), ('regr__min_samples_split', 15), ('regr__n_estimators', 601)])\n"
     ]
    }
   ],
   "source": [
    "# Bayesian search results\n",
    "print(f\"validation score: {opt.best_score_}\")\n",
    "print(f\"Nombre d'itirations : {opt.total_iterations}\")\n",
    "print(f\"test score: {opt.score(X_test,y_test)}\")\n",
    "print(f\"best_params: {str(opt.best_params_)}\")\n"
   ]
  },
  {
   "cell_type": "code",
   "execution_count": 34,
   "metadata": {},
   "outputs": [
    {
     "name": "stdout",
     "output_type": "stream",
     "text": [
      "the score of our model is : -0.7197142562212571\n",
      "root_mean_squared_error is : 0.7197142562212571\n"
     ]
    }
   ],
   "source": [
    "## Random forest score on our testing set with bayesian best params\n",
    "y_pred=opt.predict(X_test)\n",
    "print(f\"the score of our model is : {opt.score(X_test,y_test)}\")\n",
    "from sklearn.metrics import mean_squared_error\n",
    "print(f\"root_mean_squared_error is : {mean_squared_error(y_pred,y_test,squared=False)}\")"
   ]
  },
  {
   "cell_type": "code",
   "execution_count": null,
   "metadata": {},
   "outputs": [],
   "source": [
    "pipe.get_params(deep=True)"
   ]
  },
  {
   "cell_type": "code",
   "execution_count": null,
   "metadata": {},
   "outputs": [],
   "source": [
    "#with optuna\n",
    "import optuna\n",
    "def tune(objective):\n",
    "    study = optuna.create_study(direction=\"minimize\")\n",
    "    study.optimize(objective, n_trials=10)\n",
    "    params = study.best_params\n",
    "    best_score = study.best_value\n",
    "    print(f\"Best score: {best_score}\\n\")\n",
    "    print(f\"Optimized parameters: {params}\\n\")\n",
    "    return params\n",
    "\n",
    "\n",
    "def randomforest_objective(trial):\n",
    "    tuneParams={    'regr__n_estimators':trial.suggest_int(\"regr__n_estimators\",100,1000),\n",
    "        'regr__max_depth':trial.suggest_int(\"regr__max_depth\",5,100),\n",
    "        'regr__min_samples_split': trial.suggest_int(\"regr__min_samples_split\",10,30),\n",
    "        'regr__min_samples_leaf': trial.suggest_int(\"regr__min_samples_leaf\",4,15),\n",
    " }\n",
    "    pipe = Pipeline([('scaler', StandardScaler()), ('regr', RandomForestRegressor(n_jobs=-1))])\n",
    "    pipe.set_params(**tuneParams)\n",
    "\n",
    "    pipe.fit(X_train, np.ravel(y_train))\n",
    "    scores = cross_val_score(\n",
    "        pipe, X, np.ravel(y), cv=3, scoring=\"neg_root_mean_squared_error\"\n",
    "    )\n",
    "    return abs(scores.mean())\n",
    "\n",
    "randomforest_params = tune(randomforest_objective)\n",
    "# rf = RandomForestRegressor(n_jobs=-1, **randomforest_params)\n",
    "# So"
   ]
  },
  {
   "cell_type": "code",
   "execution_count": null,
   "metadata": {},
   "outputs": [],
   "source": [
    "gro_dtypes = {\n",
    "    'from': 'category',\n",
    "    'to': 'category',\n",
    "}\n",
    "data_test=pd.read_csv(\"flights_Xtest.csv.bz2\")\n",
    "data_test[\"flight_date\"]=pd.to_datetime(data_test[\"flight_date\"])\n",
    "data_test[\"year\"]=pd.DatetimeIndex(data_test['flight_date']).year\n",
    "data_test[\"month\"]=pd.DatetimeIndex(data_test['flight_date']).month\n",
    "data_test[\"day\"]=pd.DatetimeIndex(data_test['flight_date']).day\n",
    "data_test.set_index(\"flight_date\",inplace=True)\n",
    "data_test=pd.get_dummies(data_test, drop_first=True)\n",
    "predictions=opt.predict(data_test)\n",
    "pd.DataFrame(predictions).to_csv(\"randomForest.csv\", index=False,header=False)"
   ]
  },
  {
   "cell_type": "code",
   "execution_count": null,
   "metadata": {},
   "outputs": [],
   "source": []
  }
 ],
 "metadata": {
  "interpreter": {
   "hash": "ba855445f69ba19b241578ea08fa8a5a70cbc2a53ef28ee8bc84738f1a95afb8"
  },
  "kernelspec": {
   "display_name": "Python 3.9.7 64-bit ('datacamp': conda)",
   "language": "python",
   "name": "python3"
  },
  "language_info": {
   "codemirror_mode": {
    "name": "ipython",
    "version": 3
   },
   "file_extension": ".py",
   "mimetype": "text/x-python",
   "name": "python",
   "nbconvert_exporter": "python",
   "pygments_lexer": "ipython3",
   "version": "3.9.7"
  },
  "orig_nbformat": 4
 },
 "nbformat": 4,
 "nbformat_minor": 2
}
