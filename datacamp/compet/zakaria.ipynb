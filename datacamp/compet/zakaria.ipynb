{
 "cells": [
  {
   "cell_type": "code",
   "execution_count": 135,
   "metadata": {},
   "outputs": [],
   "source": [
    "from numba import jit,vectorize\n",
    "from sklearn.model_selection import train_test_split\n",
    "from sklearn.pipeline import make_pipeline\n",
    "import numba\n",
    "import pandas as pd\n",
    "import numpy as np\n",
    "import matplotlib.pyplot as plt\n",
    "import scipy.stats as st  #pour chi- deu test\n",
    "import seaborn as sb\n",
    "import statsmodels.api as sm # pour le modele logistique avec le summary\n",
    "from statsmodels.formula.api import ols #pour anova one way test\n",
    "\n",
    "%matplotlib inline"
   ]
  },
  {
   "cell_type": "code",
   "execution_count": 192,
   "metadata": {},
   "outputs": [
    {
     "data": {
      "text/html": [
       "<div>\n",
       "<style scoped>\n",
       "    .dataframe tbody tr th:only-of-type {\n",
       "        vertical-align: middle;\n",
       "    }\n",
       "\n",
       "    .dataframe tbody tr th {\n",
       "        vertical-align: top;\n",
       "    }\n",
       "\n",
       "    .dataframe thead th {\n",
       "        text-align: right;\n",
       "    }\n",
       "</style>\n",
       "<table border=\"1\" class=\"dataframe\">\n",
       "  <thead>\n",
       "    <tr style=\"text-align: right;\">\n",
       "      <th></th>\n",
       "      <th>avg_weeks</th>\n",
       "      <th>target</th>\n",
       "      <th>std_weeks</th>\n",
       "      <th>from_BOS</th>\n",
       "      <th>from_CLT</th>\n",
       "      <th>from_DEN</th>\n",
       "      <th>from_DFW</th>\n",
       "      <th>from_DTW</th>\n",
       "      <th>from_EWR</th>\n",
       "      <th>from_IAH</th>\n",
       "      <th>...</th>\n",
       "      <th>to_LAX</th>\n",
       "      <th>to_LGA</th>\n",
       "      <th>to_MCO</th>\n",
       "      <th>to_MIA</th>\n",
       "      <th>to_MSP</th>\n",
       "      <th>to_ORD</th>\n",
       "      <th>to_PHL</th>\n",
       "      <th>to_PHX</th>\n",
       "      <th>to_SEA</th>\n",
       "      <th>to_SFO</th>\n",
       "    </tr>\n",
       "    <tr>\n",
       "      <th>flight_date</th>\n",
       "      <th></th>\n",
       "      <th></th>\n",
       "      <th></th>\n",
       "      <th></th>\n",
       "      <th></th>\n",
       "      <th></th>\n",
       "      <th></th>\n",
       "      <th></th>\n",
       "      <th></th>\n",
       "      <th></th>\n",
       "      <th></th>\n",
       "      <th></th>\n",
       "      <th></th>\n",
       "      <th></th>\n",
       "      <th></th>\n",
       "      <th></th>\n",
       "      <th></th>\n",
       "      <th></th>\n",
       "      <th></th>\n",
       "      <th></th>\n",
       "      <th></th>\n",
       "    </tr>\n",
       "  </thead>\n",
       "  <tbody>\n",
       "    <tr>\n",
       "      <th>2012-06-19</th>\n",
       "      <td>12.875000</td>\n",
       "      <td>12.331296</td>\n",
       "      <td>9.812647</td>\n",
       "      <td>0</td>\n",
       "      <td>0</td>\n",
       "      <td>0</td>\n",
       "      <td>0</td>\n",
       "      <td>0</td>\n",
       "      <td>0</td>\n",
       "      <td>0</td>\n",
       "      <td>...</td>\n",
       "      <td>0</td>\n",
       "      <td>0</td>\n",
       "      <td>0</td>\n",
       "      <td>0</td>\n",
       "      <td>0</td>\n",
       "      <td>0</td>\n",
       "      <td>0</td>\n",
       "      <td>0</td>\n",
       "      <td>0</td>\n",
       "      <td>0</td>\n",
       "    </tr>\n",
       "    <tr>\n",
       "      <th>2012-09-10</th>\n",
       "      <td>14.285714</td>\n",
       "      <td>10.775182</td>\n",
       "      <td>9.466734</td>\n",
       "      <td>0</td>\n",
       "      <td>0</td>\n",
       "      <td>0</td>\n",
       "      <td>0</td>\n",
       "      <td>0</td>\n",
       "      <td>0</td>\n",
       "      <td>0</td>\n",
       "      <td>...</td>\n",
       "      <td>0</td>\n",
       "      <td>0</td>\n",
       "      <td>0</td>\n",
       "      <td>0</td>\n",
       "      <td>0</td>\n",
       "      <td>0</td>\n",
       "      <td>0</td>\n",
       "      <td>0</td>\n",
       "      <td>0</td>\n",
       "      <td>0</td>\n",
       "    </tr>\n",
       "    <tr>\n",
       "      <th>2012-10-05</th>\n",
       "      <td>10.863636</td>\n",
       "      <td>11.083177</td>\n",
       "      <td>9.035883</td>\n",
       "      <td>0</td>\n",
       "      <td>0</td>\n",
       "      <td>1</td>\n",
       "      <td>0</td>\n",
       "      <td>0</td>\n",
       "      <td>0</td>\n",
       "      <td>0</td>\n",
       "      <td>...</td>\n",
       "      <td>1</td>\n",
       "      <td>0</td>\n",
       "      <td>0</td>\n",
       "      <td>0</td>\n",
       "      <td>0</td>\n",
       "      <td>0</td>\n",
       "      <td>0</td>\n",
       "      <td>0</td>\n",
       "      <td>0</td>\n",
       "      <td>0</td>\n",
       "    </tr>\n",
       "    <tr>\n",
       "      <th>2011-10-09</th>\n",
       "      <td>11.480000</td>\n",
       "      <td>11.169268</td>\n",
       "      <td>7.990202</td>\n",
       "      <td>0</td>\n",
       "      <td>0</td>\n",
       "      <td>0</td>\n",
       "      <td>0</td>\n",
       "      <td>0</td>\n",
       "      <td>0</td>\n",
       "      <td>0</td>\n",
       "      <td>...</td>\n",
       "      <td>0</td>\n",
       "      <td>0</td>\n",
       "      <td>0</td>\n",
       "      <td>0</td>\n",
       "      <td>0</td>\n",
       "      <td>1</td>\n",
       "      <td>0</td>\n",
       "      <td>0</td>\n",
       "      <td>0</td>\n",
       "      <td>0</td>\n",
       "    </tr>\n",
       "    <tr>\n",
       "      <th>2012-02-21</th>\n",
       "      <td>11.450000</td>\n",
       "      <td>11.269364</td>\n",
       "      <td>9.517159</td>\n",
       "      <td>0</td>\n",
       "      <td>0</td>\n",
       "      <td>1</td>\n",
       "      <td>0</td>\n",
       "      <td>0</td>\n",
       "      <td>0</td>\n",
       "      <td>0</td>\n",
       "      <td>...</td>\n",
       "      <td>0</td>\n",
       "      <td>0</td>\n",
       "      <td>0</td>\n",
       "      <td>0</td>\n",
       "      <td>0</td>\n",
       "      <td>0</td>\n",
       "      <td>0</td>\n",
       "      <td>0</td>\n",
       "      <td>0</td>\n",
       "      <td>1</td>\n",
       "    </tr>\n",
       "  </tbody>\n",
       "</table>\n",
       "<p>5 rows × 41 columns</p>\n",
       "</div>"
      ],
      "text/plain": [
       "             avg_weeks     target  std_weeks  from_BOS  from_CLT  from_DEN  \\\n",
       "flight_date                                                                  \n",
       "2012-06-19   12.875000  12.331296   9.812647         0         0         0   \n",
       "2012-09-10   14.285714  10.775182   9.466734         0         0         0   \n",
       "2012-10-05   10.863636  11.083177   9.035883         0         0         1   \n",
       "2011-10-09   11.480000  11.169268   7.990202         0         0         0   \n",
       "2012-02-21   11.450000  11.269364   9.517159         0         0         1   \n",
       "\n",
       "             from_DFW  from_DTW  from_EWR  from_IAH  ...  to_LAX  to_LGA  \\\n",
       "flight_date                                          ...                   \n",
       "2012-06-19          0         0         0         0  ...       0       0   \n",
       "2012-09-10          0         0         0         0  ...       0       0   \n",
       "2012-10-05          0         0         0         0  ...       1       0   \n",
       "2011-10-09          0         0         0         0  ...       0       0   \n",
       "2012-02-21          0         0         0         0  ...       0       0   \n",
       "\n",
       "             to_MCO  to_MIA  to_MSP  to_ORD  to_PHL  to_PHX  to_SEA  to_SFO  \n",
       "flight_date                                                                  \n",
       "2012-06-19        0       0       0       0       0       0       0       0  \n",
       "2012-09-10        0       0       0       0       0       0       0       0  \n",
       "2012-10-05        0       0       0       0       0       0       0       0  \n",
       "2011-10-09        0       0       0       1       0       0       0       0  \n",
       "2012-02-21        0       0       0       0       0       0       0       1  \n",
       "\n",
       "[5 rows x 41 columns]"
      ]
     },
     "execution_count": 192,
     "metadata": {},
     "output_type": "execute_result"
    }
   ],
   "source": [
    "gro_dtypes = {\n",
    "    'from': 'category',\n",
    "    'to': 'category',\n",
    "}\n",
    "data=pd.read_csv(\"flights_train.csv.bz2\")\n",
    "data[\"flight_date\"]=pd.to_datetime(data[\"flight_date\"])\n",
    "data.set_index(\"flight_date\",inplace=True)\n",
    "data=pd.get_dummies(data, drop_first=True)\n",
    "data.head()\n"
   ]
  },
  {
   "cell_type": "code",
   "execution_count": 145,
   "metadata": {},
   "outputs": [],
   "source": [
    "X,y=data.loc[:,(data.columns!=\"target\")],data.loc[:,(data.columns==\"target\")]\n",
    "X_train,X_test,y_train,y_test=train_test_split(data.loc[:,(data.columns!=\"target\")],data.loc[:,data.columns==\"target\"],test_size=0.20, random_state=42,shuffle=True)"
   ]
  },
  {
   "cell_type": "code",
   "execution_count": 167,
   "metadata": {},
   "outputs": [],
   "source": [
    "from sklearn.ensemble import GradientBoostingRegressor,AdaBoostRegressor\n",
    "from skopt.space.space import Real,Integer,Categorical\n",
    "from skopt import BayesSearchCV\n",
    "from sklearn.pipeline import Pipeline\n",
    "ada_search = {\n",
    "    'model': [AdaBoostRegressor()],\n",
    "    'model__learning_rate': Real(0.005, 0.9, prior=\"log-uniform\"),\n",
    "    'model__n_estimators': Integer(1, 1000),\n",
    "    'model__loss': Categorical(['linear', 'square', 'exponential'])\n",
    "}\n",
    "gb_search = {\n",
    "    'model': [GradientBoostingRegressor()],\n",
    "    'model__learning_rate': Real(0.005, 0.9, prior=\"log-uniform\"),\n",
    "    'model__n_estimators': Integer(1, 1000),\n",
    "    'model__loss': Categorical(['ls', 'lad', 'quantile'])\n",
    "}"
   ]
  },
  {
   "cell_type": "code",
   "execution_count": null,
   "metadata": {},
   "outputs": [],
   "source": [
    "pipe = Pipeline([('model', GradientBoostingRegressor())])\n",
    "opt = BayesSearchCV(\n",
    "    pipe,\n",
    "    [(ada_search, 100), (gb_search, 100)],\n",
    "    cv=5\n",
    ")\n",
    "opt.fit(X_train,np.ravel(y_train))"
   ]
  },
  {
   "cell_type": "code",
   "execution_count": null,
   "metadata": {},
   "outputs": [],
   "source": [
    "print(f\"validation score: {opt.best_score_}\")\n",
    "print(f\"test score: {opt.score(X_test,y_test)}\")\n",
    "print(f\"best_params: {str(opt.best_params_)}\")"
   ]
  },
  {
   "cell_type": "code",
   "execution_count": 187,
   "metadata": {},
   "outputs": [
    {
     "name": "stdout",
     "output_type": "stream",
     "text": [
      "RMSE: -0.792 (0.022)\n"
     ]
    }
   ],
   "source": [
    "from sklearn.ensemble import RandomForestRegressor\n",
    "from sklearn.model_selection import cross_val_score,RepeatedKFold,RepeatedStratifiedKFold\n",
    "regr = RandomForestRegressor()\n",
    "regr.fit(X, np.ravel(y))\n",
    "# evaluate the model\n",
    "cv = RepeatedKFold(n_splits=5, random_state=1)\n",
    "n_scores = cross_val_score(regr, X, y, scoring='neg_root_mean_squared_error', cv=cv, n_jobs=-1, error_score='raise')\n",
    "# report performance\n",
    "print('RMSE: %.3f (%.3f)' % (np.mean(n_scores), np.std(n_scores)))"
   ]
  },
  {
   "cell_type": "code",
   "execution_count": null,
   "metadata": {},
   "outputs": [],
   "source": []
  },
  {
   "cell_type": "code",
   "execution_count": null,
   "metadata": {},
   "outputs": [],
   "source": []
  },
  {
   "cell_type": "code",
   "execution_count": 170,
   "metadata": {},
   "outputs": [
    {
     "name": "stdout",
     "output_type": "stream",
     "text": [
      "the score of our model is : 0.2979616808810097\n",
      "mean_squared_error is : 0.7951473932430938\n"
     ]
    }
   ],
   "source": [
    "regr = RandomForestRegressor(n_jobs=-1)\n",
    "regr.fit(X_train, np.ravel(y_train))\n",
    "y_pred=regr.predict(X_test)\n",
    "print(f\"the score of our model is : {regr.score(X_test,y_test)}\")\n",
    "from sklearn.metrics import mean_squared_error\n",
    "print(f\"mean_squared_error is : {mean_squared_error(y_pred,y_test,squared=False)}\")"
   ]
  },
  {
   "cell_type": "code",
   "execution_count": 183,
   "metadata": {},
   "outputs": [
    {
     "name": "stderr",
     "output_type": "stream",
     "text": [
      "C:\\Users\\zechc\\.conda\\envs\\datacamp\\lib\\site-packages\\skopt\\optimizer\\optimizer.py:449: UserWarning: The objective has been evaluated at this point before.\n",
      "  warnings.warn(\"The objective has been evaluated \"\n"
     ]
    },
    {
     "data": {
      "text/plain": [
       "BayesSearchCV(cv=3, estimator=RandomForestRegressor(), n_iter=32, n_jobs=-1,\n",
       "              random_state=0,\n",
       "              search_spaces={'min_samples_leaf': Integer(low=2, high=100, prior='uniform', transform='normalize'),\n",
       "                             'min_samples_split': Integer(low=2, high=100, prior='uniform', transform='normalize')})"
      ]
     },
     "execution_count": 183,
     "metadata": {},
     "output_type": "execute_result"
    }
   ],
   "source": [
    "opt = BayesSearchCV(\n",
    "    RandomForestRegressor(),\n",
    "   {    'n_estimators'=Real(0.005, 0.9, prior=\"log-uniform\"),\n",
    "        'min_samples_split': Integer(2,100),\n",
    "        'min_samples_leaf': Integer(2,100),\n",
    " },\n",
    "    cv=3, \n",
    "    n_jobs=-1,\n",
    "    n_iter=32,\n",
    "    random_state=0\n",
    ")\n",
    "opt.fit(X_train,np.ravel(y_train))"
   ]
  },
  {
   "cell_type": "code",
   "execution_count": 184,
   "metadata": {},
   "outputs": [
    {
     "name": "stdout",
     "output_type": "stream",
     "text": [
      "the score of our model is : 0.38812460668305404\n",
      "mean_squared_error is : 0.7423329273838701\n"
     ]
    }
   ],
   "source": [
    "y_pred=opt.predict(X_test)\n",
    "print(f\"the score of our model is : {opt.score(X_test,y_test)}\")\n",
    "from sklearn.metrics import mean_squared_error\n",
    "print(f\"mean_squared_error is : {mean_squared_error(y_pred,y_test,squared=False)}\")"
   ]
  },
  {
   "cell_type": "code",
   "execution_count": 185,
   "metadata": {},
   "outputs": [
    {
     "name": "stdout",
     "output_type": "stream",
     "text": [
      "validation score: 0.35631055728676336\n",
      "test score: 0.38812460668305404\n",
      "best_params: OrderedDict([('min_samples_leaf', 2), ('min_samples_split', 37)])\n"
     ]
    }
   ],
   "source": [
    "print(f\"validation score: {opt.best_score_}\")\n",
    "print(f\"test score: {opt.score(X_test,y_test)}\")\n",
    "print(f\"best_params: {str(opt.best_params_)}\")"
   ]
  },
  {
   "cell_type": "code",
   "execution_count": 191,
   "metadata": {},
   "outputs": [
    {
     "data": {
      "text/plain": [
       "RepeatedStratifiedKFold(n_repeats=3, n_splits=10, random_state=1)"
      ]
     },
     "execution_count": 191,
     "metadata": {},
     "output_type": "execute_result"
    }
   ],
   "source": []
  },
  {
   "cell_type": "code",
   "execution_count": 188,
   "metadata": {},
   "outputs": [
    {
     "data": {
      "text/plain": [
       "RepeatedKFold(n_repeats=10, n_splits=5, random_state=1)"
      ]
     },
     "execution_count": 188,
     "metadata": {},
     "output_type": "execute_result"
    }
   ],
   "source": []
  },
  {
   "cell_type": "code",
   "execution_count": null,
   "metadata": {},
   "outputs": [],
   "source": []
  }
 ],
 "metadata": {
  "interpreter": {
   "hash": "ba855445f69ba19b241578ea08fa8a5a70cbc2a53ef28ee8bc84738f1a95afb8"
  },
  "kernelspec": {
   "display_name": "Python 3",
   "language": "python",
   "name": "python3"
  },
  "language_info": {
   "codemirror_mode": {
    "name": "ipython",
    "version": 3
   },
   "file_extension": ".py",
   "mimetype": "text/x-python",
   "name": "python",
   "nbconvert_exporter": "python",
   "pygments_lexer": "ipython3",
   "version": "3.9.7"
  },
  "orig_nbformat": 4
 },
 "nbformat": 4,
 "nbformat_minor": 2
}
