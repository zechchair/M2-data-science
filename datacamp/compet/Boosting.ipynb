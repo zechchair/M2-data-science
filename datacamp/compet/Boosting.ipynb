{
 "cells": [
  {
   "cell_type": "code",
   "execution_count": 2,
   "metadata": {},
   "outputs": [],
   "source": [
    "from numba import jit,vectorize\n",
    "from sklearn.model_selection import train_test_split\n",
    "from sklearn.pipeline import Pipeline\n",
    "from sklearn.preprocessing import StandardScaler\n",
    "import numba\n",
    "import pandas as pd\n",
    "import numpy as np\n",
    "import matplotlib.pyplot as plt\n",
    "\n",
    "%matplotlib inline\n"
   ]
  },
  {
   "cell_type": "code",
   "execution_count": 24,
   "metadata": {},
   "outputs": [
    {
     "data": {
      "text/html": [
       "<div>\n",
       "<style scoped>\n",
       "    .dataframe tbody tr th:only-of-type {\n",
       "        vertical-align: middle;\n",
       "    }\n",
       "\n",
       "    .dataframe tbody tr th {\n",
       "        vertical-align: top;\n",
       "    }\n",
       "\n",
       "    .dataframe thead th {\n",
       "        text-align: right;\n",
       "    }\n",
       "</style>\n",
       "<table border=\"1\" class=\"dataframe\">\n",
       "  <thead>\n",
       "    <tr style=\"text-align: right;\">\n",
       "      <th></th>\n",
       "      <th>avg_weeks</th>\n",
       "      <th>target</th>\n",
       "      <th>std_weeks</th>\n",
       "      <th>year</th>\n",
       "      <th>month</th>\n",
       "      <th>day</th>\n",
       "      <th>from_BOS</th>\n",
       "      <th>from_CLT</th>\n",
       "      <th>from_DEN</th>\n",
       "      <th>from_DFW</th>\n",
       "      <th>...</th>\n",
       "      <th>to_LAX</th>\n",
       "      <th>to_LGA</th>\n",
       "      <th>to_MCO</th>\n",
       "      <th>to_MIA</th>\n",
       "      <th>to_MSP</th>\n",
       "      <th>to_ORD</th>\n",
       "      <th>to_PHL</th>\n",
       "      <th>to_PHX</th>\n",
       "      <th>to_SEA</th>\n",
       "      <th>to_SFO</th>\n",
       "    </tr>\n",
       "    <tr>\n",
       "      <th>flight_date</th>\n",
       "      <th></th>\n",
       "      <th></th>\n",
       "      <th></th>\n",
       "      <th></th>\n",
       "      <th></th>\n",
       "      <th></th>\n",
       "      <th></th>\n",
       "      <th></th>\n",
       "      <th></th>\n",
       "      <th></th>\n",
       "      <th></th>\n",
       "      <th></th>\n",
       "      <th></th>\n",
       "      <th></th>\n",
       "      <th></th>\n",
       "      <th></th>\n",
       "      <th></th>\n",
       "      <th></th>\n",
       "      <th></th>\n",
       "      <th></th>\n",
       "      <th></th>\n",
       "    </tr>\n",
       "  </thead>\n",
       "  <tbody>\n",
       "    <tr>\n",
       "      <th>2012-06-19</th>\n",
       "      <td>12.875000</td>\n",
       "      <td>12.331296</td>\n",
       "      <td>9.812647</td>\n",
       "      <td>2012</td>\n",
       "      <td>6</td>\n",
       "      <td>19</td>\n",
       "      <td>0</td>\n",
       "      <td>0</td>\n",
       "      <td>0</td>\n",
       "      <td>0</td>\n",
       "      <td>...</td>\n",
       "      <td>0</td>\n",
       "      <td>0</td>\n",
       "      <td>0</td>\n",
       "      <td>0</td>\n",
       "      <td>0</td>\n",
       "      <td>0</td>\n",
       "      <td>0</td>\n",
       "      <td>0</td>\n",
       "      <td>0</td>\n",
       "      <td>0</td>\n",
       "    </tr>\n",
       "    <tr>\n",
       "      <th>2012-09-10</th>\n",
       "      <td>14.285714</td>\n",
       "      <td>10.775182</td>\n",
       "      <td>9.466734</td>\n",
       "      <td>2012</td>\n",
       "      <td>9</td>\n",
       "      <td>10</td>\n",
       "      <td>0</td>\n",
       "      <td>0</td>\n",
       "      <td>0</td>\n",
       "      <td>0</td>\n",
       "      <td>...</td>\n",
       "      <td>0</td>\n",
       "      <td>0</td>\n",
       "      <td>0</td>\n",
       "      <td>0</td>\n",
       "      <td>0</td>\n",
       "      <td>0</td>\n",
       "      <td>0</td>\n",
       "      <td>0</td>\n",
       "      <td>0</td>\n",
       "      <td>0</td>\n",
       "    </tr>\n",
       "    <tr>\n",
       "      <th>2012-10-05</th>\n",
       "      <td>10.863636</td>\n",
       "      <td>11.083177</td>\n",
       "      <td>9.035883</td>\n",
       "      <td>2012</td>\n",
       "      <td>10</td>\n",
       "      <td>5</td>\n",
       "      <td>0</td>\n",
       "      <td>0</td>\n",
       "      <td>1</td>\n",
       "      <td>0</td>\n",
       "      <td>...</td>\n",
       "      <td>1</td>\n",
       "      <td>0</td>\n",
       "      <td>0</td>\n",
       "      <td>0</td>\n",
       "      <td>0</td>\n",
       "      <td>0</td>\n",
       "      <td>0</td>\n",
       "      <td>0</td>\n",
       "      <td>0</td>\n",
       "      <td>0</td>\n",
       "    </tr>\n",
       "    <tr>\n",
       "      <th>2011-10-09</th>\n",
       "      <td>11.480000</td>\n",
       "      <td>11.169268</td>\n",
       "      <td>7.990202</td>\n",
       "      <td>2011</td>\n",
       "      <td>10</td>\n",
       "      <td>9</td>\n",
       "      <td>0</td>\n",
       "      <td>0</td>\n",
       "      <td>0</td>\n",
       "      <td>0</td>\n",
       "      <td>...</td>\n",
       "      <td>0</td>\n",
       "      <td>0</td>\n",
       "      <td>0</td>\n",
       "      <td>0</td>\n",
       "      <td>0</td>\n",
       "      <td>1</td>\n",
       "      <td>0</td>\n",
       "      <td>0</td>\n",
       "      <td>0</td>\n",
       "      <td>0</td>\n",
       "    </tr>\n",
       "    <tr>\n",
       "      <th>2012-02-21</th>\n",
       "      <td>11.450000</td>\n",
       "      <td>11.269364</td>\n",
       "      <td>9.517159</td>\n",
       "      <td>2012</td>\n",
       "      <td>2</td>\n",
       "      <td>21</td>\n",
       "      <td>0</td>\n",
       "      <td>0</td>\n",
       "      <td>1</td>\n",
       "      <td>0</td>\n",
       "      <td>...</td>\n",
       "      <td>0</td>\n",
       "      <td>0</td>\n",
       "      <td>0</td>\n",
       "      <td>0</td>\n",
       "      <td>0</td>\n",
       "      <td>0</td>\n",
       "      <td>0</td>\n",
       "      <td>0</td>\n",
       "      <td>0</td>\n",
       "      <td>1</td>\n",
       "    </tr>\n",
       "  </tbody>\n",
       "</table>\n",
       "<p>5 rows × 44 columns</p>\n",
       "</div>"
      ],
      "text/plain": [
       "             avg_weeks     target  std_weeks  year  month  day  from_BOS  \\\n",
       "flight_date                                                                \n",
       "2012-06-19   12.875000  12.331296   9.812647  2012      6   19         0   \n",
       "2012-09-10   14.285714  10.775182   9.466734  2012      9   10         0   \n",
       "2012-10-05   10.863636  11.083177   9.035883  2012     10    5         0   \n",
       "2011-10-09   11.480000  11.169268   7.990202  2011     10    9         0   \n",
       "2012-02-21   11.450000  11.269364   9.517159  2012      2   21         0   \n",
       "\n",
       "             from_CLT  from_DEN  from_DFW  ...  to_LAX  to_LGA  to_MCO  \\\n",
       "flight_date                                ...                           \n",
       "2012-06-19          0         0         0  ...       0       0       0   \n",
       "2012-09-10          0         0         0  ...       0       0       0   \n",
       "2012-10-05          0         1         0  ...       1       0       0   \n",
       "2011-10-09          0         0         0  ...       0       0       0   \n",
       "2012-02-21          0         1         0  ...       0       0       0   \n",
       "\n",
       "             to_MIA  to_MSP  to_ORD  to_PHL  to_PHX  to_SEA  to_SFO  \n",
       "flight_date                                                          \n",
       "2012-06-19        0       0       0       0       0       0       0  \n",
       "2012-09-10        0       0       0       0       0       0       0  \n",
       "2012-10-05        0       0       0       0       0       0       0  \n",
       "2011-10-09        0       0       1       0       0       0       0  \n",
       "2012-02-21        0       0       0       0       0       0       1  \n",
       "\n",
       "[5 rows x 44 columns]"
      ]
     },
     "execution_count": 24,
     "metadata": {},
     "output_type": "execute_result"
    }
   ],
   "source": [
    "gro_dtypes = {\n",
    "    'from': 'category',\n",
    "    'to': 'category',\n",
    "}\n",
    "data=pd.read_csv(\"flights_train.csv.bz2\")\n",
    "data[\"flight_date\"]=pd.to_datetime(data[\"flight_date\"])\n",
    "data[\"year\"]=pd.DatetimeIndex(data['flight_date']).year\n",
    "data[\"month\"]=pd.DatetimeIndex(data['flight_date']).month\n",
    "data[\"day\"]=pd.DatetimeIndex(data['flight_date']).day\n",
    "data.set_index(\"flight_date\",inplace=True)\n",
    "data=pd.get_dummies(data, drop_first=True)\n",
    "data.head()"
   ]
  },
  {
   "cell_type": "code",
   "execution_count": 25,
   "metadata": {},
   "outputs": [],
   "source": [
    "X,y=data.loc[:,(data.columns!=\"target\")],data.loc[:,(data.columns==\"target\")]\n",
    "X_train,X_test,y_train,y_test=train_test_split(data.loc[:,(data.columns!=\"target\")],data.loc[:,data.columns==\"target\"],test_size=0.20, random_state=42,shuffle=True)"
   ]
  },
  {
   "cell_type": "code",
   "execution_count": 18,
   "metadata": {},
   "outputs": [
    {
     "name": "stdout",
     "output_type": "stream",
     "text": [
      "RMSE: -0.791 (0.016)\n"
     ]
    }
   ],
   "source": [
    "# Random forest score with cross_validation\n",
    "from sklearn.ensemble import GradientBoostingRegressor\n",
    "from sklearn.model_selection import cross_val_score,RepeatedKFold,RepeatedStratifiedKFold\n",
    "gb = GradientBoostingRegressor()\n",
    "# gb.fit(X, np.ravel(y))\n",
    "# evaluate the model\n",
    "# cv = RepeatedKFold(n_splits=5, random_state=1)\n",
    "n_scores = cross_val_score(gb, X, y, scoring='neg_root_mean_squared_error', cv=5, n_jobs=-1, error_score='raise')\n",
    "# report performance\n",
    "print('RMSE: %.3f (%.3f)' % (np.mean(n_scores), np.std(n_scores)))"
   ]
  },
  {
   "cell_type": "markdown",
   "metadata": {},
   "source": [
    "### Standard scaling"
   ]
  },
  {
   "cell_type": "code",
   "execution_count": 19,
   "metadata": {},
   "outputs": [
    {
     "name": "stdout",
     "output_type": "stream",
     "text": [
      "RMSE: -0.792 (+/- 0.011)\n"
     ]
    }
   ],
   "source": [
    "pipe = Pipeline([('scaler', StandardScaler()), ('gb', GradientBoostingRegressor(n_iter_no_change=5))])\n",
    "pipe.fit(X_train, np.ravel(y_train))\n",
    "n_scores = cross_val_score(pipe, X, y, scoring='neg_root_mean_squared_error', cv=3, n_jobs=-1, error_score='raise')\n",
    "# report performance\n",
    "print('RMSE: %.3f (+/- %.3f)' % (np.mean(n_scores), np.std(n_scores)))\n"
   ]
  },
  {
   "cell_type": "code",
   "execution_count": 20,
   "metadata": {},
   "outputs": [],
   "source": [
    "from skopt.space.space import Real,Integer,Categorical\n",
    "from skopt.space import Space\n",
    "from skopt import BayesSearchCV"
   ]
  },
  {
   "cell_type": "code",
   "execution_count": 31,
   "metadata": {},
   "outputs": [
    {
     "data": {
      "text/plain": [
       "BayesSearchCV(cv=3,\n",
       "              estimator=Pipeline(steps=[('scaler', StandardScaler()),\n",
       "                                        ('gb',\n",
       "                                         GradientBoostingRegressor(n_iter_no_change=5))]),\n",
       "              n_iter=100, n_jobs=-1, scoring='neg_root_mean_squared_error',\n",
       "              search_spaces={'gb__learning_rate': Real(low=0.001, high=0.1, prior='uniform', transform='normalize'),\n",
       "                             'gb__max_depth': Integer(low=5, high=100, prior='uniform', transform='normalize'),\n",
       "                             'gb__min_samples_leaf': Integer(low=4, high=15, prior='uniform', transform='normalize'),\n",
       "                             'gb__min_samples_split': Integer(low=10, high=30, prior='uniform', transform='normalize'),\n",
       "                             'gb__n_estimators': Integer(low=100, high=5000, prior='uniform', transform='normalize'),\n",
       "                             'gb__subsample': Real(low=0.5, high=1, prior='uniform', transform='normalize')})"
      ]
     },
     "execution_count": 31,
     "metadata": {},
     "output_type": "execute_result"
    }
   ],
   "source": [
    "opt = BayesSearchCV(\n",
    "    pipe,\n",
    "   {    'gb__learning_rate':Real(0.001,0.1,prior=\"uniform\"),\n",
    "        'gb__n_estimators':Integer(100,5000,prior=\"uniform\"),\n",
    "        'gb__subsample': Real(0.5,1,prior=\"uniform\"),\n",
    "        'gb__max_depth':Integer(5,100,prior=\"uniform\"),\n",
    "        'gb__min_samples_split': Integer(10,30,prior=\"uniform\"),\n",
    "        'gb__min_samples_leaf': Integer(4,15,prior=\"uniform\"),\n",
    " },\n",
    "    cv=3, \n",
    "    n_jobs=-1,\n",
    "    n_iter=100,\n",
    "    n_points=1,\n",
    "    scoring=\"neg_root_mean_squared_error\",\n",
    ")\n",
    "opt.fit(X_train,np.ravel(y_train))"
   ]
  },
  {
   "cell_type": "code",
   "execution_count": 27,
   "metadata": {},
   "outputs": [
    {
     "name": "stdout",
     "output_type": "stream",
     "text": [
      "validation score: -0.7102540168377516\n",
      "Nombre d'itirations : 180\n",
      "test score: -0.6555380455753019\n",
      "best_params: OrderedDict([('gb__learning_rate', 0.047427804546690294), ('gb__max_depth', 21), ('gb__min_samples_leaf', 7), ('gb__min_samples_split', 29), ('gb__n_estimators', 3844), ('gb__subsample', 0.9062148408398872)])\n"
     ]
    }
   ],
   "source": [
    "# Bayesian search results\n",
    "print(f\"validation score: {opt.best_score_}\")\n",
    "print(f\"Nombre d'itirations : {opt.total_iterations}\")\n",
    "print(f\"test score: {opt.score(X_test,y_test)}\")\n",
    "print(f\"best_params: {str(opt.best_params_)}\")"
   ]
  },
  {
   "cell_type": "code",
   "execution_count": 28,
   "metadata": {},
   "outputs": [
    {
     "name": "stdout",
     "output_type": "stream",
     "text": [
      "the score of our model is : -0.6555380455753019\n",
      "root_mean_squared_error is : 0.6555380455753019\n"
     ]
    }
   ],
   "source": [
    "## Random forest score on our testing set with bayesian best params\n",
    "y_pred=opt.predict(X_test)\n",
    "print(f\"the score of our model is : {opt.score(X_test,y_test)}\")\n",
    "from sklearn.metrics import mean_squared_error\n",
    "print(f\"root_mean_squared_error is : {mean_squared_error(y_pred,y_test,squared=False)}\")"
   ]
  },
  {
   "cell_type": "code",
   "execution_count": 29,
   "metadata": {},
   "outputs": [
    {
     "data": {
      "text/plain": [
       "{'memory': None,\n",
       " 'steps': [('scaler', StandardScaler()),\n",
       "  ('gb', GradientBoostingRegressor(n_iter_no_change=5))],\n",
       " 'verbose': False,\n",
       " 'scaler': StandardScaler(),\n",
       " 'gb': GradientBoostingRegressor(n_iter_no_change=5),\n",
       " 'scaler__copy': True,\n",
       " 'scaler__with_mean': True,\n",
       " 'scaler__with_std': True,\n",
       " 'gb__alpha': 0.9,\n",
       " 'gb__ccp_alpha': 0.0,\n",
       " 'gb__criterion': 'friedman_mse',\n",
       " 'gb__init': None,\n",
       " 'gb__learning_rate': 0.1,\n",
       " 'gb__loss': 'squared_error',\n",
       " 'gb__max_depth': 3,\n",
       " 'gb__max_features': None,\n",
       " 'gb__max_leaf_nodes': None,\n",
       " 'gb__min_impurity_decrease': 0.0,\n",
       " 'gb__min_samples_leaf': 1,\n",
       " 'gb__min_samples_split': 2,\n",
       " 'gb__min_weight_fraction_leaf': 0.0,\n",
       " 'gb__n_estimators': 100,\n",
       " 'gb__n_iter_no_change': 5,\n",
       " 'gb__random_state': None,\n",
       " 'gb__subsample': 1.0,\n",
       " 'gb__tol': 0.0001,\n",
       " 'gb__validation_fraction': 0.1,\n",
       " 'gb__verbose': 0,\n",
       " 'gb__warm_start': False}"
      ]
     },
     "execution_count": 29,
     "metadata": {},
     "output_type": "execute_result"
    }
   ],
   "source": [
    "pipe.get_params(deep=True)"
   ]
  },
  {
   "cell_type": "code",
   "execution_count": 30,
   "metadata": {},
   "outputs": [],
   "source": [
    "gro_dtypes = {\n",
    "    'from': 'category',\n",
    "    'to': 'category',\n",
    "}\n",
    "data_test=pd.read_csv(\"flights_Xtest.csv.bz2\")\n",
    "data_test[\"flight_date\"]=pd.to_datetime(data_test[\"flight_date\"])\n",
    "data_test[\"year\"]=pd.DatetimeIndex(data_test['flight_date']).year\n",
    "data_test[\"month\"]=pd.DatetimeIndex(data_test['flight_date']).month\n",
    "data_test[\"day\"]=pd.DatetimeIndex(data_test['flight_date']).day\n",
    "data_test.set_index(\"flight_date\",inplace=True)\n",
    "data_test=pd.get_dummies(data_test, drop_first=True)\n",
    "predictions=opt.predict(data_test)\n",
    "pd.DataFrame(predictions).to_csv(\"boosting.csv\", index=False,header=False)"
   ]
  },
  {
   "cell_type": "code",
   "execution_count": null,
   "metadata": {},
   "outputs": [],
   "source": []
  }
 ],
 "metadata": {
  "interpreter": {
   "hash": "ba855445f69ba19b241578ea08fa8a5a70cbc2a53ef28ee8bc84738f1a95afb8"
  },
  "kernelspec": {
   "display_name": "Python 3.9.7 64-bit ('datacamp': conda)",
   "language": "python",
   "name": "python3"
  },
  "language_info": {
   "codemirror_mode": {
    "name": "ipython",
    "version": 3
   },
   "file_extension": ".py",
   "mimetype": "text/x-python",
   "name": "python",
   "nbconvert_exporter": "python",
   "pygments_lexer": "ipython3",
   "version": "3.9.7"
  },
  "orig_nbformat": 4
 },
 "nbformat": 4,
 "nbformat_minor": 2
}
