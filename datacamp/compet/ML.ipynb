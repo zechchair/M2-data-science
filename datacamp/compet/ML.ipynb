{
 "cells": [
  {
   "cell_type": "code",
   "execution_count": 2,
   "metadata": {},
   "outputs": [],
   "source": [
    "from numba import jit,vectorize\n",
    "from sklearn.model_selection import train_test_split\n",
    "from sklearn.pipeline import Pipeline\n",
    "from sklearn.preprocessing import StandardScaler\n",
    "import numba\n",
    "import pandas as pd\n",
    "import numpy as np\n",
    "import matplotlib.pyplot as plt\n",
    "\n",
    "%matplotlib inline\n"
   ]
  },
  {
   "cell_type": "code",
   "execution_count": 12,
   "metadata": {},
   "outputs": [],
   "source": [
    "#declare types\n",
    "gro_dtypes = {\n",
    "    'from': 'category',\n",
    "    'to': 'category',\n",
    "}\n",
    "#import training data and testing data\n",
    "training_data = pd.read_csv('flights_train.csv.bz2',dtype=gro_dtypes)\n",
    "X_test = pd.read_csv('flights_Xtest.csv.bz2',dtype=gro_dtypes)\n",
    "\n",
    "\n",
    "#Create variables month and day\n",
    "training_data[\"month\"]=pd.DatetimeIndex(training_data['flight_date']).month\n",
    "training_data[\"day\"]=pd.DatetimeIndex(training_data['flight_date']).day\n",
    "X_test[\"month\"]=pd.DatetimeIndex(X_test['flight_date']).month\n",
    "X_test[\"day\"]=pd.DatetimeIndex(X_test['flight_date']).day\n",
    "\n",
    "#split data to X_train , X_test , y_train\n",
    "X_train = training_data.drop([\"target\"], axis=1)\n",
    "y_train = training_data.target\n",
    "X_train.set_index(\"flight_date\",inplace=True)\n",
    "X_train=pd.get_dummies(X_train, drop_first=True)\n",
    "X_test.set_index(\"flight_date\",inplace=True)\n",
    "X_test=pd.get_dummies(X_test, drop_first=True)\n",
    "# the variable X contains the whole independent variables data (training plus testing)\n",
    "X = pd.concat([X_test.assign(ind=\"test\"), X_train.assign(ind=\"train\")])\n",
    "\n"
   ]
  },
  {
   "cell_type": "code",
   "execution_count": 14,
   "metadata": {},
   "outputs": [
    {
     "name": "stdout",
     "output_type": "stream",
     "text": [
      "RMSE: -0.733 (0.014)\n"
     ]
    }
   ],
   "source": [
    "# Random forest score with cross_validation\n",
    "from sklearn.ensemble import RandomForestRegressor\n",
    "from sklearn.model_selection import cross_val_score\n",
    "regr = RandomForestRegressor(n_jobs=-1)\n",
    "# evaluate the model with cross_val_score\n",
    "n_scores = cross_val_score(regr, X_train, np.ravel(y_train), scoring='neg_root_mean_squared_error', cv=5, n_jobs=-1, error_score='raise')\n",
    "# report performance\n",
    "print('RMSE for basic random forest model: %.3f (%.3f)' % (np.mean(n_scores), np.std(n_scores)))"
   ]
  },
  {
   "cell_type": "code",
   "execution_count": 16,
   "metadata": {},
   "outputs": [
    {
     "name": "stdout",
     "output_type": "stream",
     "text": [
      "RMSE for basic random forest model: -0.756 (0.009)\n"
     ]
    }
   ],
   "source": [
    "# gradient boosting for regression in scikit-learn\n",
    "from sklearn.ensemble import GradientBoostingRegressor\n",
    "# evaluate the model\n",
    "GBM = GradientBoostingRegressor()\n",
    "# evaluate the model with cross_val_score\n",
    "n_scores = cross_val_score(GBM, X_train, np.ravel(y_train), scoring='neg_root_mean_squared_error', cv=5, n_jobs=-1, error_score='raise')\n",
    "# report performance\n",
    "print('RMSE for basic random forest model: %.3f (%.3f)' % (np.mean(n_scores), np.std(n_scores)))"
   ]
  },
  {
   "cell_type": "code",
   "execution_count": 18,
   "metadata": {},
   "outputs": [
    {
     "name": "stdout",
     "output_type": "stream",
     "text": [
      "RMSE for basic random forest model: -0.654 (0.004)\n"
     ]
    }
   ],
   "source": [
    "# Histogram-Based Gradient Boosting Machine for Regression\n",
    "from sklearn.ensemble import HistGradientBoostingRegressor\n",
    "# evaluate the model\n",
    "HGBR = HistGradientBoostingRegressor()\n",
    "# evaluate the model with cross_val_score\n",
    "n_scores = cross_val_score(HGBR, X_train, np.ravel(y_train), scoring='neg_root_mean_squared_error', cv=5, n_jobs=-1, error_score='raise')\n",
    "# report performance\n",
    "print('RMSE for basic random forest model: %.3f (%.3f)' % (np.mean(n_scores), np.std(n_scores)))"
   ]
  },
  {
   "cell_type": "code",
   "execution_count": 20,
   "metadata": {},
   "outputs": [
    {
     "name": "stdout",
     "output_type": "stream",
     "text": [
      "RMSE for basic random forest model: -0.671 (0.011)\n"
     ]
    }
   ],
   "source": [
    "# xgboost \n",
    "from xgboost import XGBRegressor\n",
    "# evaluate the model\n",
    "XGB = XGBRegressor(objective='reg:squarederror')\n",
    "# evaluate the model with cross_val_score\n",
    "n_scores = cross_val_score(XGB, X_train, np.ravel(y_train), scoring='neg_root_mean_squared_error', cv=5, n_jobs=-1, error_score='raise')\n",
    "# report performance\n",
    "print('RMSE for basic random forest model: %.3f (%.3f)' % (np.mean(n_scores), np.std(n_scores)))"
   ]
  },
  {
   "cell_type": "code",
   "execution_count": 21,
   "metadata": {},
   "outputs": [
    {
     "name": "stdout",
     "output_type": "stream",
     "text": [
      "RMSE for basic random forest model: -0.655 (0.007)\n"
     ]
    }
   ],
   "source": [
    "# ligth gbm\n",
    "from lightgbm import LGBMRegressor\n",
    "LGBM = LGBMRegressor()\n",
    "# evaluate the model with cross_val_score\n",
    "n_scores = cross_val_score(LGBM, X_train, np.ravel(y_train), scoring='neg_root_mean_squared_error', cv=5, n_jobs=-1, error_score='raise')\n",
    "# report performance\n",
    "print('RMSE for basic random forest model: %.3f (%.3f)' % (np.mean(n_scores), np.std(n_scores)))"
   ]
  },
  {
   "cell_type": "code",
   "execution_count": 23,
   "metadata": {},
   "outputs": [
    {
     "name": "stdout",
     "output_type": "stream",
     "text": [
      "RMSE for basic random forest model: -0.677 (0.010)\n"
     ]
    }
   ],
   "source": [
    "\n",
    "# catboost for regression\n",
    "from catboost import CatBoostRegressor\n",
    "\n",
    "# evaluate the model\n",
    "catB= CatBoostRegressor(verbose=0, n_estimators=100)\n",
    "# evaluate the model with cross_val_score\n",
    "n_scores = cross_val_score(catB, X_train, np.ravel(y_train), scoring='neg_root_mean_squared_error', cv=5, n_jobs=-1, error_score='raise')\n",
    "# report performance\n",
    "print('RMSE for basic random forest model: %.3f (%.3f)' % (np.mean(n_scores), np.std(n_scores)))\n"
   ]
  },
  {
   "cell_type": "code",
   "execution_count": 24,
   "metadata": {},
   "outputs": [
    {
     "name": "stdout",
     "output_type": "stream",
     "text": [
      "RMSE for basic random forest model: -0.851 (0.012)\n"
     ]
    }
   ],
   "source": [
    "# svm\n",
    "\n",
    "from sklearn.svm import SVR\n",
    "svm=SVR()\n",
    "# evaluate the model with cross_val_score\n",
    "n_scores = cross_val_score(svm, X_train, np.ravel(y_train), scoring='neg_root_mean_squared_error', cv=5, n_jobs=-1, error_score='raise')\n",
    "# report performance\n",
    "print('RMSE for basic random forest model: %.3f (%.3f)' % (np.mean(n_scores), np.std(n_scores)))"
   ]
  },
  {
   "cell_type": "code",
   "execution_count": 25,
   "metadata": {},
   "outputs": [
    {
     "name": "stdout",
     "output_type": "stream",
     "text": [
      "RMSE for basic random forest model: -0.877 (0.010)\n"
     ]
    }
   ],
   "source": [
    "#knn\n",
    "from sklearn.neighbors import KNeighborsRegressor\n",
    "neigh = KNeighborsRegressor()\n",
    "# evaluate the model with cross_val_score\n",
    "n_scores = cross_val_score(neigh, X_train, np.ravel(y_train), scoring='neg_root_mean_squared_error', cv=5, n_jobs=-1, error_score='raise')\n",
    "# report performance\n",
    "print('RMSE for basic random forest model: %.3f (%.3f)' % (np.mean(n_scores), np.std(n_scores)))"
   ]
  },
  {
   "cell_type": "code",
   "execution_count": 28,
   "metadata": {},
   "outputs": [
    {
     "name": "stdout",
     "output_type": "stream",
     "text": [
      "RMSE for basic random forest model: -0.814 (0.013)\n"
     ]
    }
   ],
   "source": [
    "from sklearn.linear_model import LinearRegression\n",
    "reg = LinearRegression()\n",
    "# evaluate the model with cross_val_score\n",
    "n_scores = cross_val_score(reg, X_train, np.ravel(y_train), scoring='neg_root_mean_squared_error', cv=5, n_jobs=-1, error_score='raise')\n",
    "# report performance\n",
    "print('RMSE for basic random forest model: %.3f (%.3f)' % (np.mean(n_scores), np.std(n_scores)))"
   ]
  },
  {
   "cell_type": "code",
   "execution_count": 29,
   "metadata": {},
   "outputs": [
    {
     "name": "stdout",
     "output_type": "stream",
     "text": [
      "RMSE for basic random forest model: -0.814 (0.013)\n"
     ]
    }
   ],
   "source": [
    "from sklearn.linear_model import BayesianRidge\n",
    "bay_ridge = BayesianRidge()\n",
    "# evaluate the model with cross_val_score\n",
    "n_scores = cross_val_score(bay_ridge, X_train, np.ravel(y_train), scoring='neg_root_mean_squared_error', cv=5, n_jobs=-1, error_score='raise')\n",
    "# report performance\n",
    "print('RMSE for basic random forest model: %.3f (%.3f)' % (np.mean(n_scores), np.std(n_scores)))"
   ]
  },
  {
   "cell_type": "code",
   "execution_count": null,
   "metadata": {},
   "outputs": [],
   "source": []
  }
 ],
 "metadata": {
  "interpreter": {
   "hash": "ba855445f69ba19b241578ea08fa8a5a70cbc2a53ef28ee8bc84738f1a95afb8"
  },
  "kernelspec": {
   "display_name": "Python 3.9.7 64-bit ('datacamp': conda)",
   "language": "python",
   "name": "python3"
  },
  "language_info": {
   "codemirror_mode": {
    "name": "ipython",
    "version": 3
   },
   "file_extension": ".py",
   "mimetype": "text/x-python",
   "name": "python",
   "nbconvert_exporter": "python",
   "pygments_lexer": "ipython3",
   "version": "3.9.7"
  },
  "orig_nbformat": 4
 },
 "nbformat": 4,
 "nbformat_minor": 2
}
