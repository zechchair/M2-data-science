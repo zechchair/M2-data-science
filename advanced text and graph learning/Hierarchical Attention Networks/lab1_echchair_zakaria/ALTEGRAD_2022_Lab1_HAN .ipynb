{
  "cells": [
    {
      "cell_type": "markdown",
      "metadata": {
        "id": "MuVouapRmjEW"
      },
      "source": [
        "<center><h2>ALTeGraD 2022<br>Lab Session 1: HAN</h2><h3>Hierarchical Attention Network Using GRU</h3> 27 / 10 / 2022<br> M. Kamal Eddine, H. Abdine<br><br>\n",
        "\n",
        "\n",
        "<b>Student name:</b> [fill me]\n",
        "\n",
        "\n",
        "</center>\n",
        "In this lab, you will get familiar with recurrent neural networks (RNNs), self-attention, and the HAN architecture <b>(Yang et al. 2016)</b> using PyTorch. In this architecture, sentence embeddings are first individually produced, and a document embedding is then computed from the sentence embeddings.<br>\n",
        "<b>The deadline for this lab is November 14, 2022 11:59 PM.</b> More details about the submission and the architecture for this lab can be found in the handout PDF.\n"
      ]
    },
    {
      "cell_type": "markdown",
      "metadata": {
        "id": "xJaSJaIP1xRy"
      },
      "source": [
        "### = = = = =  Attention Layer = = = = =\n",
        "In thi section, you will fill the gaps in the code to implement the self-attention layer. This layer will be used later to define the HAN architecture. The basic idea behind attention is that rather than considering the last annotation $h_T$ as a summary of the entire sequence, which is prone to information loss, the annotations at <i>all</i> time steps are used.\n",
        "The self-attention mechanism computes a weighted sum of the annotations, where the weights are determined by trainable parameters. Refer to <b>section 2.2</b> in the handout for the theoretical part, it will be needed to finish the first task.\n",
        "\n",
        "#### <b>Task 1:</b>"
      ]
    },
    {
      "cell_type": "code",
      "execution_count": 31,
      "metadata": {
        "id": "yoM7H0KQncpF"
      },
      "outputs": [
        {
          "name": "stderr",
          "output_type": "stream",
          "text": [
            "DEBUG:jupyter_black:config: {'line_length': 120}\n"
          ]
        },
        {
          "data": {
            "text/html": [
              "\n",
              "                <script type=\"application/javascript\" id=\"jupyter_black\">\n",
              "                (function() {\n",
              "                    if (window.IPython === undefined) {\n",
              "                        return\n",
              "                    }\n",
              "                    var msg = \"WARNING: it looks like you might have loaded \" +\n",
              "                        \"jupyter_black in a non-lab notebook with \" +\n",
              "                        \"`is_lab=True`. Please double check, and if \" +\n",
              "                        \"loading with `%load_ext` please review the README!\"\n",
              "                    console.log(msg)\n",
              "                    alert(msg)\n",
              "                })()\n",
              "                </script>\n",
              "                "
            ],
            "text/plain": [
              "<IPython.core.display.HTML object>"
            ]
          },
          "metadata": {},
          "output_type": "display_data"
        }
      ],
      "source": [
        "import torch\n",
        "from torch import nn\n",
        "from torch.utils.data import DataLoader\n",
        "\n",
        "import matplotlib.pyplot as plt\n",
        "import matplotlib as mpl\n",
        "\n",
        "mpl.rc(\"axes\", labelsize=12)\n",
        "mpl.rc(\"xtick\", labelsize=12)\n",
        "mpl.rc(\"ytick\", labelsize=12)\n",
        "plt.rcParams[\"figure.figsize\"] = (20, 5)\n",
        "\n",
        "import jupyter_black\n",
        "\n",
        "jupyter_black.load(\n",
        "    line_length=120,\n",
        "    verbosity=\"DEBUG\",\n",
        ")\n",
        "\n",
        "%matplotlib inline\n",
        "from IPython.display import display, Markdown, Latex, HTML, Image\n",
        "\n",
        "import warnings\n",
        "\n",
        "warnings.filterwarnings(\"ignore\")\n",
        "# from IPython.core.display import HTML\n",
        "\n",
        "class AttentionWithContext(nn.Module):\n",
        "    \"\"\"\n",
        "    Follows the work of Yang et al. [https://www.cs.cmu.edu/~diyiy/docs/naacl16.pdf]\n",
        "    \"Hierarchical Attention Networks for Document Classification\"\n",
        "    by using a context vector to assist the attention\n",
        "    # Input shape\n",
        "        3D tensor with shape: `(samples, steps, features)`.\n",
        "    # Output shape\n",
        "        2D tensor with shape: `(samples, features)`.\n",
        "    \"\"\"\n",
        "    \n",
        "    def __init__(self, input_shape, return_coefficients=False, bias=True):\n",
        "        super(AttentionWithContext, self).__init__()\n",
        "        self.return_coefficients = return_coefficients\n",
        "\n",
        "        self.W = nn.Linear(input_shape, input_shape, bias=bias)\n",
        "        self.tanh = nn.Tanh()\n",
        "        self.u = nn.Linear(input_shape, 1, bias=False)\n",
        "\n",
        "        self.init_weights()\n",
        "\n",
        "    def init_weights(self):\n",
        "        initrange = 0.1\n",
        "        self.W.weight.data.uniform_(-initrange, initrange)\n",
        "        self.W.bias.data.uniform_(-initrange, initrange)\n",
        "        self.u.weight.data.uniform_(-initrange, initrange)\n",
        "    \n",
        "    def generate_square_subsequent_mask(self, sz):\n",
        "        # do not pass the mask to the next layers\n",
        "        mask = (torch.triu(torch.ones(sz, sz)) == 1).transpose(0, 1)\n",
        "        mask = (\n",
        "            mask.float()\n",
        "            .masked_fill(mask == 0, float(\"-inf\"))\n",
        "            .masked_fill(mask == 1, float(0.0))\n",
        "        )\n",
        "        return mask\n",
        "    \n",
        "    def forward(self, x, mask=None):\n",
        "        uit = self.W(x) # fill the gap # compute uit = W . x  where x represents ht\n",
        "        uit = self.tanh(uit)\n",
        "        ait = self.u(uit)\n",
        "        a = torch.exp(ait)\n",
        "        # apply mask after the exp. will be re-normalized next\n",
        "        if mask is not None:\n",
        "            a = a*mask.double()\n",
        "        \n",
        "        # in some cases especially in the early stages of training the sum may be almost zero\n",
        "        # and this results in NaN's. A workaround is to add a very small positive number ε to the sum.\n",
        "        eps = 1e-9\n",
        "        a = a / (torch.sum(a, axis=1, keepdim=True) + eps)\n",
        "        weighted_input = a*x ### fill the gap ### # compute the attentional vector\n",
        "        if self.return_coefficients:\n",
        "            return  [torch.sum(weighted_input,1),a]## [attentional vector, coefficients] ### use torch.sum to compute s\n",
        "        else:\n",
        "            return  x ### attentional vector only ###"
      ]
    },
    {
      "cell_type": "markdown",
      "metadata": {
        "id": "DgTP6GrOHlss"
      },
      "source": [
        "### = = = = = Parameters = = = = =\n",
        "In this section, we define the parameters to use in our training. Such as data path, the embedding dimention <b>d</b>, the GRU layer dimensionality <b>n_units</b>, etc..<br>\n",
        "The parameter <b>device</b> is used to train the model on GPU if it is available. for this purpose, if you are using Google Colab, switch your runtime to a GPU runtime to train the model with a maximum speed.<br>\n",
        "<b>Bonus question:</b> What is the purpose of the parameter <i>my_patience</i>?"
      ]
    },
    {
      "cell_type": "code",
      "execution_count": 3,
      "metadata": {
        "id": "czsVjxgYnczb"
      },
      "outputs": [],
      "source": [
        "import sys\n",
        "import json\n",
        "import operator\n",
        "import numpy as np\n",
        "\n",
        "path_root = ''\n",
        "path_to_data = path_root + 'data/'\n",
        "\n",
        "d = 30 # dimensionality of word embeddings\n",
        "n_units = 50 # RNN layer dimensionality\n",
        "drop_rate = 0.5 # dropout\n",
        "mfw_idx = 2 # index of the most frequent words in the dictionary \n",
        "            # 0 is for the special padding token\n",
        "            # 1 is for the special out-of-vocabulary token\n",
        "\n",
        "padding_idx = 0\n",
        "oov_idx = 1\n",
        "batch_size = 64\n",
        "nb_epochs = 15\n",
        "my_patience = 2 # for early stopping strategy\n",
        "device = torch.device(\"cuda\" if torch.cuda.is_available() else \"cpu\")"
      ]
    },
    {
      "cell_type": "markdown",
      "metadata": {
        "id": "K8Vot_C7Hlst"
      },
      "source": [
        "### = = = = = Data Loading = = = = =\n",
        "In this section we will use first <b>wget</b> to download the data the we will load it using numpy in the first cell. While in the second cell, we will use these data to define our Pytorch data loader. Note that the data is already preprocessed, tokenized and padded.<br><br>\n",
        "<b>Note: if you are running your notebook on Windows or on MacOS, <i>wget</i> will probably not work if you did not install it manually. In this case, use the provided link to download the data and change the <i>path_to_data</i> in the <i>Parameters</i> section accordingly. Otherwise, you will face no problem on Ubuntu and Google Colab.</b>\n",
        "\n",
        "#### <b>Task 2.1:</b>"
      ]
    },
    {
      "cell_type": "code",
      "execution_count": 4,
      "metadata": {
        "colab": {
          "base_uri": "https://localhost:8080/"
        },
        "id": "UD6hRh0OHlst",
        "outputId": "d59e7c41-56fd-4a0d-88f0-ea4bf19b7bed"
      },
      "outputs": [],
      "source": [
        "# !wget -c \"https://onedrive.live.com/download?cid=AE69638675180117&resid=AE69638675180117%2199289&authkey=AHgxt3xmgG0Fu5A\" -O \"data.zip\"\n",
        "# !unzip data.zip\n",
        "\n",
        "my_docs_array_train = np.load(path_to_data + 'docs_train.npy')\n",
        "my_docs_array_test = np.load(path_to_data + 'docs_test.npy')\n",
        "\n",
        "my_labels_array_train = np.load(path_to_data + 'labels_train.npy')\n",
        "my_labels_array_test = np.load(path_to_data + 'labels_test.npy')\n",
        "\n",
        "# load dictionary of word indexes (sorted by decreasing frequency across the corpus)\n",
        "with open(path_to_data + 'word_to_index.json', 'r') as my_file:\n",
        "    word_to_index = json.load(my_file)\n",
        "\n",
        "# invert mapping\n",
        "index_to_word = {v: k for k, v in word_to_index.items()}  ### fill the gap (use a dict comprehension) ###\n",
        "input_size = my_docs_array_train.shape"
      ]
    },
    {
      "cell_type": "code",
      "execution_count": 5,
      "metadata": {
        "id": "DpsCvmaiJfZc"
      },
      "outputs": [],
      "source": [
        "import numpy\n",
        "import torch\n",
        "from torch.utils.data import DataLoader, Dataset\n",
        "\n",
        "\n",
        "class Dataset_(Dataset):\n",
        "    def __init__(self, x, y):\n",
        "        self.documents = x\n",
        "        self.labels = y\n",
        "\n",
        "    def __len__(self):\n",
        "        return len(self.documents)\n",
        "\n",
        "    def __getitem__(self, index):\n",
        "        document = self.documents[index]\n",
        "        label = self.labels[index] \n",
        "        sample = {\n",
        "            \"document\": torch.tensor(document),\n",
        "            \"label\": torch.tensor(label),\n",
        "            }\n",
        "        return sample\n",
        "\n",
        "\n",
        "def get_loader(x, y, batch_size=32):\n",
        "    dataset = Dataset_(x, y)\n",
        "    data_loader = DataLoader(dataset=dataset,\n",
        "                            batch_size=batch_size,\n",
        "                            shuffle=True,\n",
        "                            pin_memory=True,\n",
        "                            drop_last=True,\n",
        "                            )\n",
        "    return data_loader"
      ]
    },
    {
      "cell_type": "markdown",
      "metadata": {
        "id": "6rzqEGOdHlst"
      },
      "source": [
        "### = = = = = Defining Architecture = = = = =\n",
        "In this section, we define the HAN architecture. We start with <i>AttentionBiGRU</i> module in order to define the sentence encoder (check Figure 3 in the handout). Then, we define the <i>TimeDistributed</i> module to allow us to forward our input (batch of document) as to the sentence encoder as <b>batch of sentences</b>, where each sentence in the document will be considered as a time step. This module also reshape the output to a batch of timesteps representations per document. Finally we define the <b>HAN</b> architecture using <i>TimeDistributed</i>, <i>AttentionWithContext</i> and <i>GRU</i>.\n",
        "\n",
        "#### <b>Task 2.2:</b>"
      ]
    },
    {
      "cell_type": "code",
      "execution_count": 6,
      "metadata": {
        "colab": {
          "base_uri": "https://localhost:8080/"
        },
        "id": "o9dLgAVMWgjY",
        "outputId": "e9da268e-5d89-4b90-a368-c7ca54823c66"
      },
      "outputs": [
        {
          "data": {
            "text/plain": [
              "(25000, 7, 30)"
            ]
          },
          "execution_count": 6,
          "metadata": {},
          "output_type": "execute_result"
        }
      ],
      "source": [
        "my_docs_array_train.shape"
      ]
    },
    {
      "cell_type": "code",
      "execution_count": 7,
      "metadata": {
        "colab": {
          "base_uri": "https://localhost:8080/"
        },
        "id": "g_jOXwKrG42v",
        "outputId": "f724abaa-31c5-4443-a0d2-fac02f788458"
      },
      "outputs": [
        {
          "data": {
            "text/plain": [
              "29936"
            ]
          },
          "execution_count": 7,
          "metadata": {},
          "output_type": "execute_result"
        }
      ],
      "source": [
        "len(index_to_word)"
      ]
    },
    {
      "cell_type": "code",
      "execution_count": 8,
      "metadata": {},
      "outputs": [
        {
          "data": {
            "text/plain": [
              "30"
            ]
          },
          "execution_count": 8,
          "metadata": {},
          "output_type": "execute_result"
        }
      ],
      "source": [
        "input_size[2]"
      ]
    },
    {
      "cell_type": "code",
      "execution_count": 9,
      "metadata": {
        "id": "AMj9j1_pHlst"
      },
      "outputs": [],
      "source": [
        "\n",
        "class AttentionBiGRU(nn.Module):\n",
        "    def __init__(self, input_shape, n_units, index_to_word, dropout=0):\n",
        "        super(AttentionBiGRU, self).__init__()\n",
        "        self.embedding = nn.Embedding(len(index_to_word)+2, # fill the gap # vocab size\n",
        "                                      d, # dimensionality of embedding space\n",
        "                                      padding_idx=0)\n",
        "        self.dropout = nn.Dropout(drop_rate)\n",
        "        self.gru = nn.GRU(input_size= d,\n",
        "                          hidden_size=n_units,\n",
        "                          num_layers=1,\n",
        "                          bias=True,\n",
        "                          batch_first=True,\n",
        "                          bidirectional=True)\n",
        "        self.attention = AttentionWithContext( 2*n_units,   # fill the gap # the input shape for the attention layer\n",
        "                                              return_coefficients=True)\n",
        "\n",
        "\n",
        "    def forward(self, sent_ints):\n",
        "        sent_wv = self.embedding(sent_ints)\n",
        "        sent_wv_dr = self.dropout(sent_wv)\n",
        "        sent_wa, _ =  self.gru(sent_wv_dr)# fill the gap # RNN layer\n",
        "        sent_att_vec, word_att_coeffs = self.attention(sent_wa) # fill the gap # attentional vector for the sent\n",
        "        sent_att_vec_dr = self.dropout(sent_att_vec)     \n",
        "        return sent_att_vec_dr, word_att_coeffs\n",
        "\n",
        "class TimeDistributed(nn.Module):\n",
        "    def __init__(self, module, batch_first=False):\n",
        "        super(TimeDistributed, self).__init__()\n",
        "        self.module = module\n",
        "        self.batch_first = batch_first\n",
        "\n",
        "    def forward(self, x):\n",
        "        if len(x.size()) <= 2:\n",
        "            return self.module(x)\n",
        "        # Squash samples and timesteps into a single axis\n",
        "        x_reshape = x.contiguous().view(-1, x.size(-1))  # (samples * timesteps, input_size) (224, 30)\n",
        "        sent_att_vec_dr, word_att_coeffs = self.module(x_reshape)\n",
        "        # We have to reshape the output\n",
        "        if self.batch_first:\n",
        "            sent_att_vec_dr = sent_att_vec_dr.contiguous().view(x.size(0),-1, sent_att_vec_dr.size(-1))  # (samples, timesteps, output_size)\n",
        "            word_att_coeffs = word_att_coeffs.contiguous().view(x.size(0),-1, word_att_coeffs.size(-1))  # (samples, timesteps, output_size)\n",
        "        else:\n",
        "            sent_att_vec_dr = sent_att_vec_dr.view(-1, x.size(1), sent_att_vec_dr.size(-1))  # (timesteps, samples, output_size)\n",
        "            word_att_coeffs = word_att_coeffs.view(-1, x.size(1), word_att_coeffs.size(-1))  # (timesteps, samples, output_size)\n",
        "        return sent_att_vec_dr, word_att_coeffs      \n",
        "\n",
        "class HAN(nn.Module):\n",
        "    def __init__(self, input_shape, n_units, index_to_word, dropout=0):\n",
        "        super(HAN, self).__init__()\n",
        "        self.encoder = AttentionBiGRU(input_shape, n_units, index_to_word, dropout)\n",
        "        self.timeDistributed = TimeDistributed(self.encoder, True)\n",
        "        self.dropout = nn.Dropout(drop_rate)\n",
        "        self.gru = nn.GRU(input_size= 2*n_units,# fill the gap # the input shape of GRU layer\n",
        "                          hidden_size=n_units,\n",
        "                          num_layers=1,\n",
        "                          bias=True,\n",
        "                          batch_first=True,\n",
        "                          bidirectional=True)\n",
        "        self.attention = AttentionWithContext( 2*n_units, # fill the gap # the input shape of between-sentence attention layer\n",
        "                                              return_coefficients=True)\n",
        "        self.lin_out = nn.Linear(2*n_units,   # fill the gap # the input size of the last linear layer\n",
        "                                 1)\n",
        "        self.preds = nn.Sigmoid()\n",
        "\n",
        "    def forward(self, doc_ints):\n",
        "        sent_att_vecs_dr, word_att_coeffs = self.timeDistributed(doc_ints) # fill the gap # get sentence representation\n",
        "        doc_sa, _ = self.gru(sent_att_vecs_dr)\n",
        "        doc_att_vec, sent_att_coeffs = self.attention(doc_sa)\n",
        "        doc_att_vec_dr = self.dropout(doc_att_vec)\n",
        "        doc_att_vec_dr = self.lin_out(doc_att_vec_dr)\n",
        "        return self.preds(doc_att_vec_dr), word_att_coeffs, sent_att_coeffs\n"
      ]
    },
    {
      "cell_type": "markdown",
      "metadata": {
        "id": "sgreR5AcHlst"
      },
      "source": [
        "### = = = = = Training = = = = =\n",
        "In this section, we have two code cells. In the first one, we define our evaluation function to compute the training and validation accuracies. While in the second one, we define our model, loss and optimizer and train the model over <i>nb_epochs</i>.<br>\n",
        "<b>Bonus task:</b> use <a href=\"https://pytorch.org/tutorials/recipes/recipes/tensorboard_with_pytorch.html\" target=\"_blank\">tensorboard</a> to visualize the loss and the validation accuray during the training.\n",
        "\n",
        "#### <b>Task 2.3:</b>"
      ]
    },
    {
      "cell_type": "code",
      "execution_count": 10,
      "metadata": {
        "id": "ztF2Lkie-C25"
      },
      "outputs": [],
      "source": [
        "def evaluate_accuracy(data_loader, verbose=True):\n",
        "    model.eval()\n",
        "    total_loss = 0.0\n",
        "    ncorrect = ntotal = 0\n",
        "    with torch.no_grad():\n",
        "        for idx, data in enumerate(data_loader):\n",
        "            # inference \n",
        "            output = model(data[\"document\"].to(device))[0] \n",
        "            output = output[:, -1] # only last vector\n",
        "            # total number of examples\n",
        "            ntotal +=  output.shape[0]\n",
        "            # number of correct predictions \n",
        "            predictions = torch.round(output)\n",
        "            ncorrect += predictions.eq(data['label'].to(device)).sum() #fill me # number of correct prediction - hint: use torch.sum \n",
        "        acc = ncorrect.item() / ntotal\n",
        "        if verbose:\n",
        "          print(\"validation accuracy: {:3.2f}\".format(acc*100))\n",
        "        return acc"
      ]
    },
    {
      "cell_type": "code",
      "execution_count": 11,
      "metadata": {
        "colab": {
          "base_uri": "https://localhost:8080/"
        },
        "id": "RRYiKhZEEidb",
        "outputId": "ac7844f5-8c5f-48fe-e9a5-09b06b901c8d"
      },
      "outputs": [
        {
          "name": "stderr",
          "output_type": "stream",
          "text": [
            "Epoch 1: 100%|██████████| 390/390 [01:04<00:00,  6.07batch/s, accuracy=58.6, loss=0.664]\n"
          ]
        },
        {
          "name": "stdout",
          "output_type": "stream",
          "text": [
            "===> Epoch 1 Complete: Avg. Loss: 0.6645, Validation Accuracy: 68.49%\n",
            "Validation accuracy improved, saving model...\n",
            "\n"
          ]
        },
        {
          "name": "stderr",
          "output_type": "stream",
          "text": [
            "Epoch 2: 100%|██████████| 390/390 [01:08<00:00,  5.71batch/s, accuracy=69.6, loss=0.577]\n"
          ]
        },
        {
          "name": "stdout",
          "output_type": "stream",
          "text": [
            "===> Epoch 2 Complete: Avg. Loss: 0.5769, Validation Accuracy: 74.12%\n",
            "Validation accuracy improved, saving model...\n",
            "\n"
          ]
        },
        {
          "name": "stderr",
          "output_type": "stream",
          "text": [
            "Epoch 3: 100%|██████████| 390/390 [01:09<00:00,  5.64batch/s, accuracy=75.3, loss=0.509]\n"
          ]
        },
        {
          "name": "stdout",
          "output_type": "stream",
          "text": [
            "===> Epoch 3 Complete: Avg. Loss: 0.5089, Validation Accuracy: 77.09%\n",
            "Validation accuracy improved, saving model...\n",
            "\n"
          ]
        },
        {
          "name": "stderr",
          "output_type": "stream",
          "text": [
            "Epoch 4: 100%|██████████| 390/390 [01:11<00:00,  5.49batch/s, accuracy=78.2, loss=0.461]\n"
          ]
        },
        {
          "name": "stdout",
          "output_type": "stream",
          "text": [
            "===> Epoch 4 Complete: Avg. Loss: 0.4609, Validation Accuracy: 80.20%\n",
            "Validation accuracy improved, saving model...\n",
            "\n"
          ]
        },
        {
          "name": "stderr",
          "output_type": "stream",
          "text": [
            "Epoch 5: 100%|██████████| 390/390 [01:02<00:00,  6.20batch/s, accuracy=80.6, loss=0.423]\n"
          ]
        },
        {
          "name": "stdout",
          "output_type": "stream",
          "text": [
            "===> Epoch 5 Complete: Avg. Loss: 0.4225, Validation Accuracy: 82.31%\n",
            "Validation accuracy improved, saving model...\n",
            "\n"
          ]
        },
        {
          "name": "stderr",
          "output_type": "stream",
          "text": [
            "Epoch 6: 100%|██████████| 390/390 [01:04<00:00,  6.09batch/s, accuracy=82.4, loss=0.394]\n"
          ]
        },
        {
          "name": "stdout",
          "output_type": "stream",
          "text": [
            "===> Epoch 6 Complete: Avg. Loss: 0.3938, Validation Accuracy: 82.90%\n",
            "Validation accuracy improved, saving model...\n",
            "\n"
          ]
        },
        {
          "name": "stderr",
          "output_type": "stream",
          "text": [
            "Epoch 7: 100%|██████████| 390/390 [01:03<00:00,  6.19batch/s, accuracy=83.7, loss=0.373]\n"
          ]
        },
        {
          "name": "stdout",
          "output_type": "stream",
          "text": [
            "===> Epoch 7 Complete: Avg. Loss: 0.3729, Validation Accuracy: 83.35%\n",
            "Validation accuracy improved, saving model...\n",
            "\n"
          ]
        },
        {
          "name": "stderr",
          "output_type": "stream",
          "text": [
            "Epoch 8: 100%|██████████| 390/390 [01:03<00:00,  6.17batch/s, accuracy=84.5, loss=0.356]\n"
          ]
        },
        {
          "name": "stdout",
          "output_type": "stream",
          "text": [
            "===> Epoch 8 Complete: Avg. Loss: 0.3563, Validation Accuracy: 83.81%\n",
            "Validation accuracy improved, saving model...\n",
            "\n"
          ]
        },
        {
          "name": "stderr",
          "output_type": "stream",
          "text": [
            "Epoch 9: 100%|██████████| 390/390 [01:03<00:00,  6.19batch/s, accuracy=85.4, loss=0.337]\n"
          ]
        },
        {
          "name": "stdout",
          "output_type": "stream",
          "text": [
            "===> Epoch 9 Complete: Avg. Loss: 0.3366, Validation Accuracy: 84.21%\n",
            "Validation accuracy improved, saving model...\n",
            "\n"
          ]
        },
        {
          "name": "stderr",
          "output_type": "stream",
          "text": [
            "Epoch 10: 100%|██████████| 390/390 [01:02<00:00,  6.20batch/s, accuracy=86.7, loss=0.316]\n"
          ]
        },
        {
          "name": "stdout",
          "output_type": "stream",
          "text": [
            "===> Epoch 10 Complete: Avg. Loss: 0.3160, Validation Accuracy: 84.28%\n",
            "Validation accuracy improved, saving model...\n",
            "\n"
          ]
        },
        {
          "name": "stderr",
          "output_type": "stream",
          "text": [
            "Epoch 11: 100%|██████████| 390/390 [01:03<00:00,  6.14batch/s, accuracy=86.8, loss=0.312]\n"
          ]
        },
        {
          "name": "stdout",
          "output_type": "stream",
          "text": [
            "===> Epoch 11 Complete: Avg. Loss: 0.3122, Validation Accuracy: 84.42%\n",
            "Validation accuracy improved, saving model...\n",
            "\n"
          ]
        },
        {
          "name": "stderr",
          "output_type": "stream",
          "text": [
            "Epoch 12: 100%|██████████| 390/390 [01:02<00:00,  6.23batch/s, accuracy=87.5, loss=0.297]\n"
          ]
        },
        {
          "name": "stdout",
          "output_type": "stream",
          "text": [
            "===> Epoch 12 Complete: Avg. Loss: 0.2973, Validation Accuracy: 84.65%\n",
            "Validation accuracy improved, saving model...\n",
            "\n"
          ]
        },
        {
          "name": "stderr",
          "output_type": "stream",
          "text": [
            "Epoch 13: 100%|██████████| 390/390 [01:02<00:00,  6.19batch/s, accuracy=88.1, loss=0.288]\n"
          ]
        },
        {
          "name": "stdout",
          "output_type": "stream",
          "text": [
            "===> Epoch 13 Complete: Avg. Loss: 0.2878, Validation Accuracy: 84.66%\n",
            "Validation accuracy improved, saving model...\n",
            "\n"
          ]
        },
        {
          "name": "stderr",
          "output_type": "stream",
          "text": [
            "Epoch 14: 100%|██████████| 390/390 [01:02<00:00,  6.26batch/s, accuracy=88.8, loss=0.277]\n"
          ]
        },
        {
          "name": "stdout",
          "output_type": "stream",
          "text": [
            "===> Epoch 14 Complete: Avg. Loss: 0.2768, Validation Accuracy: 84.48%\n"
          ]
        },
        {
          "name": "stderr",
          "output_type": "stream",
          "text": [
            "Epoch 15: 100%|██████████| 390/390 [01:03<00:00,  6.17batch/s, accuracy=89, loss=0.265]  \n"
          ]
        },
        {
          "name": "stdout",
          "output_type": "stream",
          "text": [
            "===> Epoch 15 Complete: Avg. Loss: 0.2655, Validation Accuracy: 85.00%\n",
            "Validation accuracy improved, saving model...\n",
            "\n",
            "Loading best checkpoint...\n",
            "done.\n"
          ]
        }
      ],
      "source": [
        "from tqdm import tqdm\n",
        "\n",
        "model = HAN(input_size, n_units, index_to_word).to(device)\n",
        "model = model.double()\n",
        "lr = 0.001  # learning rate\n",
        "criterion = torch.nn.BCELoss()# fill the gap, use Binary cross entropy from torch.nn: https://pytorch.org/docs/stable/nn.html#loss-functions\n",
        "optimizer = torch.optim.Adam(model.parameters(), lr=lr) #fill me\n",
        "\n",
        "def train(x_train=my_docs_array_train,\n",
        "          y_train=my_labels_array_train,\n",
        "          x_test=my_docs_array_test,\n",
        "          y_test=my_labels_array_test,\n",
        "          word_dict=index_to_word,\n",
        "          batch_size=batch_size):\n",
        "  \n",
        "    train_data = get_loader(x_train, y_train, batch_size)\n",
        "    test_data = get_loader(x_test, y_test, batch_size)\n",
        "\n",
        "    best_validation_acc = 0.0\n",
        "    p = 0 # patience\n",
        "\n",
        "    for epoch in range(1, nb_epochs + 1): \n",
        "        losses = []\n",
        "        accuracies = []\n",
        "        with tqdm(train_data, unit=\"batch\") as tepoch:\n",
        "            for idx, data in enumerate(tepoch):\n",
        "                tepoch.set_description(f\"Epoch {epoch}\")\n",
        "                model.train()\n",
        "                optimizer.zero_grad()\n",
        "                input = data['document'].to(device)\n",
        "                label = data['label'].to(device)\n",
        "                label = label.double()\n",
        "                output = model.forward(input)[0]\n",
        "                output = output[:, -1]\n",
        "                loss = criterion(output,label)# fill the gap # compute the loss\n",
        "                loss.backward()\n",
        "                torch.nn.utils.clip_grad_norm_(model.parameters(), 0.5) # prevent exploding gradient \n",
        "                optimizer.step()\n",
        "\n",
        "                losses.append(loss.item())\n",
        "                accuracy = torch.sum(torch.round(output) == label).item() / batch_size\n",
        "                accuracies.append(accuracy)\n",
        "                tepoch.set_postfix(loss=sum(losses)/len(losses), accuracy=100. * sum(accuracies)/len(accuracies))\n",
        "\n",
        "        # train_acc = evaluate_accuracy(train_data, False)\n",
        "        test_acc = evaluate_accuracy(test_data, False)\n",
        "        print(\"===> Epoch {} Complete: Avg. Loss: {:.4f}, Validation Accuracy: {:3.2f}%\"\n",
        "              .format(epoch, sum(losses)/len(losses), 100.*test_acc))\n",
        "        if test_acc >= best_validation_acc:\n",
        "            best_validation_acc = test_acc\n",
        "            print(\"Validation accuracy improved, saving model...\")\n",
        "            torch.save(model.state_dict(), './best_model.pt')\n",
        "            p = 0\n",
        "            print()\n",
        "        else:\n",
        "            p += 1\n",
        "            if p==my_patience:\n",
        "                print(\"Validation accuracy did not improve for {} epochs, stopping training...\".format(my_patience))\n",
        "    print(\"Loading best checkpoint...\")    \n",
        "    model.load_state_dict(torch.load('./best_model.pt'))\n",
        "    model.eval()\n",
        "    print('done.')\n",
        "\n",
        "train()"
      ]
    },
    {
      "cell_type": "markdown",
      "metadata": {
        "id": "Dvyr8B5QHlst"
      },
      "source": [
        "### = = = = = Extraction of Attention Coefficients = = = = =\n",
        "In this section, we will extract and display the attention coefficients on two levels: sentence level and word level. To do so, we will extract the corresponding weights from our model.\n",
        "#### <b>Task 3:</b>"
      ]
    },
    {
      "cell_type": "code",
      "execution_count": 12,
      "metadata": {
        "id": "UVr8cS4MHlst"
      },
      "outputs": [],
      "source": [
        "# select last review:\n",
        "my_review = my_docs_array_test[-1:,:,:]\n",
        " \n",
        "# convert integer review to text:\n",
        "index_to_word[1] = 'OOV'\n",
        "my_review_text = [[index_to_word[idx] for idx in sent if idx in index_to_word] for sent in my_review.tolist()[0]]"
      ]
    },
    {
      "cell_type": "markdown",
      "metadata": {
        "id": "wHDJ7JiqHlsu"
      },
      "source": [
        "###   &emsp;&emsp;  = = = = = Attention Over Sentences in the Document = = = = ="
      ]
    },
    {
      "cell_type": "code",
      "execution_count": 13,
      "metadata": {
        "colab": {
          "base_uri": "https://localhost:8080/"
        },
        "id": "yooWg3kkHlsu",
        "outputId": "ea1d444b-8335-43d9-8cfa-148d43232e64"
      },
      "outputs": [
        {
          "name": "stdout",
          "output_type": "stream",
          "text": [
            "9.56 There 's a sign on The Lost Highway that says : OOV SPOILERS OOV ( but you already knew that , did n't you ? )\n",
            "9.01 Since there 's a great deal of people that apparently did not get the point of this movie , I 'd like to contribute my interpretation of why the plot\n",
            "9.71 As others have pointed out , one single viewing of this movie is not sufficient .\n",
            "18.53 If you have the DVD of MD , you can OOV ' by looking at David Lynch 's 'Top 10 OOV to OOV MD ' ( but only upon second\n",
            "25.77 ; ) First of all , Mulholland Drive is downright brilliant .\n",
            "16.11 A masterpiece .\n",
            "11.31 This is the kind of movie that refuse to leave your head .\n"
          ]
        }
      ],
      "source": [
        "sent_coeffs = model.forward(torch.tensor(my_review).to(device))[2] # fill the gap # get sentence attention coeffs by passing the review to the model - (you need to convert the inout torch tensor)\n",
        "sent_coeffs = sent_coeffs[0,:,:]\n",
        "\n",
        "for elt in zip(sent_coeffs[:,0].tolist(),[' '.join(elt) for elt in my_review_text]):\n",
        "    print(round(elt[0]*100,2),elt[1])"
      ]
    },
    {
      "cell_type": "markdown",
      "metadata": {
        "id": "rII-DNrKHlsu"
      },
      "source": [
        "### &emsp;&emsp; = = = = = Attention Over Words in Each Sentence = = = = ="
      ]
    },
    {
      "cell_type": "code",
      "execution_count": 14,
      "metadata": {
        "colab": {
          "base_uri": "https://localhost:8080/"
        },
        "id": "JyFjAga6Hlsu",
        "outputId": "865806b3-94c7-4a1e-c731-96b7d754d5b1"
      },
      "outputs": [
        {
          "name": "stdout",
          "output_type": "stream",
          "text": [
            "('There', 0.06803799796753014)\n",
            "(\"'s\", 0.030685957324596638)\n",
            "('a', 0.030517391895696126)\n",
            "('sign', 0.053516435408420694)\n",
            "('on', 0.0413592840125737)\n",
            "('The', 0.048779478994995115)\n",
            "('Lost', 0.07772051166133864)\n",
            "('Highway', 0.05615650275297618)\n",
            "('that', 0.04399577196156867)\n",
            "('says', 0.02896976086925421)\n",
            "(':', 0.03779488251296975)\n",
            "('OOV', 0.03162909067340567)\n",
            "('SPOILERS', 0.03118272934599301)\n",
            "('OOV', 0.027665096014552786)\n",
            "('(', 0.023433446021853963)\n",
            "('but', 0.023318226184990815)\n",
            "('you', 0.03342459825241109)\n",
            "('already', 0.041750793985216236)\n",
            "('knew', 0.021509495925055872)\n",
            "('that', 0.02848652261876163)\n",
            "(',', 0.022648756208429294)\n",
            "('did', 0.022832862336915054)\n",
            "(\"n't\", 0.023402094451742243)\n",
            "('you', 0.02396773851272319)\n",
            "('?', 0.02883598545036214)\n",
            "(')', 0.017500979562585665)\n",
            "= = = =\n",
            "('Since', 0.05692484061687936)\n",
            "('there', 0.034748424536116235)\n",
            "(\"'s\", 0.02575437771589381)\n",
            "('a', 0.025162495668926397)\n",
            "('great', 0.06917990250884244)\n",
            "('deal', 0.037635707871775115)\n",
            "('of', 0.02837979425819625)\n",
            "('people', 0.031036469771930645)\n",
            "('that', 0.03441886580379848)\n",
            "('apparently', 0.05614608900681378)\n",
            "('did', 0.023298411896620633)\n",
            "('not', 0.020804354321481706)\n",
            "('get', 0.017588596223532104)\n",
            "('the', 0.016340560751205685)\n",
            "('point', 0.01802383076252564)\n",
            "('of', 0.014791316226175744)\n",
            "('this', 0.02031550781240265)\n",
            "('movie', 0.026169930436185946)\n",
            "(',', 0.02571243535345099)\n",
            "('I', 0.036738835788920156)\n",
            "(\"'d\", 0.06701459840879355)\n",
            "('like', 0.038890806409537335)\n",
            "('to', 0.03385322957596545)\n",
            "('contribute', 0.04099460244668891)\n",
            "('my', 0.04053402482441798)\n",
            "('interpretation', 0.045750119365932845)\n",
            "('of', 0.026196377529852446)\n",
            "('why', 0.026560886961635166)\n",
            "('the', 0.021456705280757243)\n",
            "('plot', 0.03957790179824799)\n",
            "= = = =\n",
            "('As', 0.04213983394965473)\n",
            "('others', 0.03913997577532733)\n",
            "('have', 0.04563381609549264)\n",
            "('pointed', 0.02800080365983307)\n",
            "('out', 0.02679201338893044)\n",
            "(',', 0.033569300225499005)\n",
            "('one', 0.03324092490029267)\n",
            "('single', 0.028669117453278943)\n",
            "('viewing', 0.041290999171315346)\n",
            "('of', 0.029042478863557646)\n",
            "('this', 0.03346084698092132)\n",
            "('movie', 0.03646737416353732)\n",
            "('is', 0.04932368677944953)\n",
            "('not', 0.04423338208401244)\n",
            "('sufficient', 0.04716961187190118)\n",
            "('.', 0.037378181622076144)\n",
            "= = = =\n",
            "('If', 0.05319464570655794)\n",
            "('you', 0.03753341766611226)\n",
            "('have', 0.03327119679356857)\n",
            "('the', 0.023015542803817804)\n",
            "('DVD', 0.029352559017052877)\n",
            "('of', 0.026754054608723276)\n",
            "('MD', 0.03339776526034477)\n",
            "(',', 0.027012119664353785)\n",
            "('you', 0.025957065773807943)\n",
            "('can', 0.028949276760780632)\n",
            "('OOV', 0.025810669070590098)\n",
            "(\"'\", 0.024822011216055637)\n",
            "('by', 0.0272364955570033)\n",
            "('looking', 0.02754120890248487)\n",
            "('at', 0.03161840706598334)\n",
            "('David', 0.03495883121724639)\n",
            "('Lynch', 0.039283604564880135)\n",
            "(\"'s\", 0.02836660818716238)\n",
            "(\"'Top\", 0.034893069355536745)\n",
            "('10', 0.03759614498347672)\n",
            "('OOV', 0.038235997596240245)\n",
            "('to', 0.03295887486474861)\n",
            "('OOV', 0.02852142898583805)\n",
            "('MD', 0.04317658566698409)\n",
            "(\"'\", 0.03697699409164135)\n",
            "('(', 0.032089897828111905)\n",
            "('but', 0.02993803810876995)\n",
            "('only', 0.0483182553312774)\n",
            "('upon', 0.04345353245876541)\n",
            "('second', 0.035765700801656974)\n",
            "= = = =\n",
            "(';', 0.04559039588046778)\n",
            "(')', 0.03475786433358732)\n",
            "('First', 0.047101413450087254)\n",
            "('of', 0.022911107824044295)\n",
            "('all', 0.025839830563401125)\n",
            "(',', 0.022459809349666144)\n",
            "('Mulholland', 0.025912738462892784)\n",
            "('Drive', 0.027346134308531448)\n",
            "('is', 0.05004923784815098)\n",
            "('downright', 0.07358310983701696)\n",
            "('brilliant', 0.12305319577419116)\n",
            "('.', 0.06320579311566102)\n",
            "= = = =\n",
            "('A', 0.04400365846879738)\n",
            "('masterpiece', 0.08917240057218583)\n",
            "('.', 0.07599021921256006)\n",
            "= = = =\n",
            "('This', 0.038901990795559845)\n",
            "('is', 0.049791221629801756)\n",
            "('the', 0.04638217299323947)\n",
            "('kind', 0.10079662759191392)\n",
            "('of', 0.04052955373082944)\n",
            "('movie', 0.04328473952144789)\n",
            "('that', 0.039093659313127964)\n",
            "('refuse', 0.0325104853348414)\n",
            "('to', 0.03037068298837165)\n",
            "('leave', 0.04181292967089041)\n",
            "('your', 0.030011728636281397)\n",
            "('head', 0.03391507632897063)\n",
            "('.', 0.029654569766692156)\n",
            "= = = =\n",
            "('Lost', 0.07772051166133864)\n",
            "('There', 0.06803799796753014)\n",
            "('Highway', 0.05615650275297618)\n",
            "('sign', 0.053516435408420694)\n",
            "('The', 0.048779478994995115)\n",
            "('that', 0.04399577196156867)\n",
            "('already', 0.041750793985216236)\n",
            "('on', 0.0413592840125737)\n",
            "(':', 0.03779488251296975)\n",
            "('you', 0.03342459825241109)\n",
            "('OOV', 0.03162909067340567)\n",
            "('SPOILERS', 0.03118272934599301)\n",
            "(\"'s\", 0.030685957324596638)\n",
            "('a', 0.030517391895696126)\n",
            "('says', 0.02896976086925421)\n",
            "('?', 0.02883598545036214)\n",
            "('that', 0.02848652261876163)\n",
            "('OOV', 0.027665096014552786)\n",
            "('you', 0.02396773851272319)\n",
            "('(', 0.023433446021853963)\n",
            "(\"n't\", 0.023402094451742243)\n",
            "('but', 0.023318226184990815)\n",
            "('did', 0.022832862336915054)\n",
            "(',', 0.022648756208429294)\n",
            "('knew', 0.021509495925055872)\n",
            "(')', 0.017500979562585665)\n",
            "= = = =\n",
            "('great', 0.06917990250884244)\n",
            "(\"'d\", 0.06701459840879355)\n",
            "('Since', 0.05692484061687936)\n",
            "('apparently', 0.05614608900681378)\n",
            "('interpretation', 0.045750119365932845)\n",
            "('contribute', 0.04099460244668891)\n",
            "('my', 0.04053402482441798)\n",
            "('plot', 0.03957790179824799)\n",
            "('like', 0.038890806409537335)\n",
            "('deal', 0.037635707871775115)\n",
            "('I', 0.036738835788920156)\n",
            "('there', 0.034748424536116235)\n",
            "('that', 0.03441886580379848)\n",
            "('to', 0.03385322957596545)\n",
            "('people', 0.031036469771930645)\n",
            "('of', 0.02837979425819625)\n",
            "('why', 0.026560886961635166)\n",
            "('of', 0.026196377529852446)\n",
            "('movie', 0.026169930436185946)\n",
            "(\"'s\", 0.02575437771589381)\n",
            "(',', 0.02571243535345099)\n",
            "('a', 0.025162495668926397)\n",
            "('did', 0.023298411896620633)\n",
            "('the', 0.021456705280757243)\n",
            "('not', 0.020804354321481706)\n",
            "('this', 0.02031550781240265)\n",
            "('point', 0.01802383076252564)\n",
            "('get', 0.017588596223532104)\n",
            "('the', 0.016340560751205685)\n",
            "('of', 0.014791316226175744)\n",
            "= = = =\n",
            "('is', 0.04932368677944953)\n",
            "('sufficient', 0.04716961187190118)\n",
            "('have', 0.04563381609549264)\n",
            "('not', 0.04423338208401244)\n",
            "('As', 0.04213983394965473)\n",
            "('viewing', 0.041290999171315346)\n",
            "('others', 0.03913997577532733)\n",
            "('.', 0.037378181622076144)\n",
            "('movie', 0.03646737416353732)\n",
            "(',', 0.033569300225499005)\n",
            "('this', 0.03346084698092132)\n",
            "('one', 0.03324092490029267)\n",
            "('of', 0.029042478863557646)\n",
            "('single', 0.028669117453278943)\n",
            "('pointed', 0.02800080365983307)\n",
            "('out', 0.02679201338893044)\n",
            "= = = =\n",
            "('If', 0.05319464570655794)\n",
            "('only', 0.0483182553312774)\n",
            "('upon', 0.04345353245876541)\n",
            "('MD', 0.04317658566698409)\n",
            "('Lynch', 0.039283604564880135)\n",
            "('OOV', 0.038235997596240245)\n",
            "('10', 0.03759614498347672)\n",
            "('you', 0.03753341766611226)\n",
            "(\"'\", 0.03697699409164135)\n",
            "('second', 0.035765700801656974)\n",
            "('David', 0.03495883121724639)\n",
            "(\"'Top\", 0.034893069355536745)\n",
            "('MD', 0.03339776526034477)\n",
            "('have', 0.03327119679356857)\n",
            "('to', 0.03295887486474861)\n",
            "('(', 0.032089897828111905)\n",
            "('at', 0.03161840706598334)\n",
            "('but', 0.02993803810876995)\n",
            "('DVD', 0.029352559017052877)\n",
            "('can', 0.028949276760780632)\n",
            "('OOV', 0.02852142898583805)\n",
            "(\"'s\", 0.02836660818716238)\n",
            "('looking', 0.02754120890248487)\n",
            "('by', 0.0272364955570033)\n",
            "(',', 0.027012119664353785)\n",
            "('of', 0.026754054608723276)\n",
            "('you', 0.025957065773807943)\n",
            "('OOV', 0.025810669070590098)\n",
            "(\"'\", 0.024822011216055637)\n",
            "('the', 0.023015542803817804)\n",
            "= = = =\n",
            "('brilliant', 0.12305319577419116)\n",
            "('downright', 0.07358310983701696)\n",
            "('.', 0.06320579311566102)\n",
            "('is', 0.05004923784815098)\n",
            "('First', 0.047101413450087254)\n",
            "(';', 0.04559039588046778)\n",
            "(')', 0.03475786433358732)\n",
            "('Drive', 0.027346134308531448)\n",
            "('Mulholland', 0.025912738462892784)\n",
            "('all', 0.025839830563401125)\n",
            "('of', 0.022911107824044295)\n",
            "(',', 0.022459809349666144)\n",
            "= = = =\n",
            "('masterpiece', 0.08917240057218583)\n",
            "('.', 0.07599021921256006)\n",
            "('A', 0.04400365846879738)\n",
            "= = = =\n",
            "('kind', 0.10079662759191392)\n",
            "('is', 0.049791221629801756)\n",
            "('the', 0.04638217299323947)\n",
            "('movie', 0.04328473952144789)\n",
            "('leave', 0.04181292967089041)\n",
            "('of', 0.04052955373082944)\n",
            "('that', 0.039093659313127964)\n",
            "('This', 0.038901990795559845)\n",
            "('head', 0.03391507632897063)\n",
            "('refuse', 0.0325104853348414)\n",
            "('to', 0.03037068298837165)\n",
            "('your', 0.030011728636281397)\n",
            "('.', 0.029654569766692156)\n",
            "= = = =\n"
          ]
        }
      ],
      "source": [
        "word_coeffs = model.forward(torch.tensor(my_review).to(device))[1] # fill the gap # get words attention coeffs by passing the review to the model - (you need to convert the inout torch tensor)\n",
        "\n",
        "word_coeffs_list = word_coeffs.reshape(7,30).tolist()\n",
        "\n",
        "# match text and coefficients:\n",
        "text_word_coeffs = [list(zip(words,word_coeffs_list[idx][:len(words)])) for idx,words in enumerate(my_review_text)]\n",
        "\n",
        "for sent in text_word_coeffs:\n",
        "    [print(elt) for elt in sent]\n",
        "    print('= = = =')\n",
        "\n",
        "# sort words by importance within each sentence:\n",
        "text_word_coeffs_sorted = [sorted(elt,key=operator.itemgetter(1),reverse=True) for elt in text_word_coeffs]\n",
        "\n",
        "for sent in text_word_coeffs_sorted:\n",
        "    [print(elt) for elt in sent]\n",
        "    print('= = = =')"
      ]
    },
    {
      "cell_type": "code",
      "execution_count": 29,
      "metadata": {},
      "outputs": [
        {
          "name": "stdout",
          "output_type": "stream",
          "text": [
            "8.98 This is , without a doubt , one of the most accomplished debut films for any director .\n",
            "2.96 The Movie is only 90 minutes long , but manages to say just about everything about life and death .\n",
            "16.22 Not much action , and dialogue is minimal , but the movie flows perfectly and demands your attention due to the wonderfully natural feel of everything going on .\n",
            "24.4 The performances by the leads are perfection , and even some supporting characters get strong emotional scenes .\n",
            "23.76 The movie will be somewhat lost on today 's modern audience , but this is one that everyone ought to OOV unsentimental and honest , this is on par with\n",
            "17.48 OOV my title , this one is perfect !\n",
            "6.19 \n"
          ]
        },
        {
          "data": {
            "text/plain": [
              "\"This is , without a doubt , one of the most accomplished debut films for any director .. The Movie is only 90 minutes long , but manages to say just about everything about life and death .. Not much action , and dialogue is minimal , but the movie flows perfectly and demands your attention due to the wonderfully natural feel of everything going on .. The performances by the leads are perfection , and even some supporting characters get strong emotional scenes .. The movie will be somewhat lost on today 's modern audience , but this is one that everyone ought to OOV unsentimental and honest , this is on par with. OOV my title , this one is perfect !. \""
            ]
          },
          "execution_count": 29,
          "metadata": {},
          "output_type": "execute_result"
        }
      ],
      "source": [
        "# select last review:\n",
        "my_review = my_docs_array_test[5001:5002,:,:]\n",
        " \n",
        "# convert integer review to text:\n",
        "index_to_word[1] = 'OOV'\n",
        "my_review_text = [[str(index_to_word[idx]) for idx in sent if idx in index_to_word] for sent in my_review.tolist()[0]]\n",
        "full_text=\". \".join([' '.join(elt) for elt in my_review_text])\n",
        "sent_coeffs = model.forward(torch.tensor(my_review).to(device))[2] # fill the gap # get sentence attention coeffs by passing the review to the model - (you need to convert the inout torch tensor)\n",
        "sent_coeffs = sent_coeffs[0,:,:]\n",
        "\n",
        "for elt in zip(sent_coeffs[:,0].tolist(),[' '.join(elt) for elt in my_review_text]):\n",
        "    print(round(elt[0]*100,2),elt[1])\n",
        "full_text"
      ]
    },
    {
      "cell_type": "code",
      "execution_count": 43,
      "metadata": {},
      "outputs": [
        {
          "name": "stdout",
          "output_type": "stream",
          "text": [
            "('This', 0.031259969397527586)\n",
            "('is', 0.053258471213372606)\n",
            "(',', 0.06453339870072891)\n",
            "('without', 0.04979523344156925)\n",
            "('a', 0.05601009822966409)\n",
            "('doubt', 0.10354719264343855)\n",
            "(',', 0.06678154150874252)\n",
            "('one', 0.05423467700789195)\n",
            "('of', 0.029260300638518644)\n",
            "('the', 0.019689128430406332)\n",
            "('most', 0.02534006256850809)\n",
            "('accomplished', 0.024384558749652004)\n",
            "('debut', 0.03674457621930272)\n",
            "('films', 0.03856552946641615)\n",
            "('for', 0.047391489285543195)\n",
            "('any', 0.027240536563061288)\n",
            "('director', 0.025160975154616058)\n",
            "('.', 0.02096405470972393)\n",
            "= = = =\n",
            "('The', 0.0376046712530149)\n",
            "('Movie', 0.05028427443525625)\n",
            "('is', 0.07230994949437441)\n",
            "('only', 0.07013195190215873)\n",
            "('90', 0.05985268264171345)\n",
            "('minutes', 0.07184086982205673)\n",
            "('long', 0.034661648868028985)\n",
            "(',', 0.02574453496382779)\n",
            "('but', 0.023670765613867998)\n",
            "('manages', 0.04024130202033847)\n",
            "('to', 0.03286067563255329)\n",
            "('say', 0.0258036892501418)\n",
            "('just', 0.026038690160900935)\n",
            "('about', 0.03212517692268624)\n",
            "('everything', 0.04353838555792651)\n",
            "('about', 0.027231113461501102)\n",
            "('life', 0.040186355053192784)\n",
            "('and', 0.03393635122302495)\n",
            "('death', 0.030757363074164067)\n",
            "('.', 0.02493594718060549)\n",
            "= = = =\n",
            "('Not', 0.021047479337134117)\n",
            "('much', 0.012666708291507846)\n",
            "('action', 0.018029080208243044)\n",
            "(',', 0.017098001742937206)\n",
            "('and', 0.02957324480402567)\n",
            "('dialogue', 0.047069977301607224)\n",
            "('is', 0.0664490507005778)\n",
            "('minimal', 0.14033388263825383)\n",
            "(',', 0.04377665871234034)\n",
            "('but', 0.025387852539049315)\n",
            "('the', 0.02417013998168335)\n",
            "('movie', 0.033401097996121225)\n",
            "('flows', 0.03161100532158115)\n",
            "('perfectly', 0.0735573592870888)\n",
            "('and', 0.04970892258190172)\n",
            "('demands', 0.04798986239154445)\n",
            "('your', 0.041272556864149636)\n",
            "('attention', 0.026604015308864228)\n",
            "('due', 0.0264104600811848)\n",
            "('to', 0.022505666034719225)\n",
            "('the', 0.011359185993397643)\n",
            "('wonderfully', 0.022616530327369183)\n",
            "('natural', 0.016546237276140546)\n",
            "('feel', 0.02066575447247942)\n",
            "('of', 0.018926967819030686)\n",
            "('everything', 0.02680475360148771)\n",
            "('going', 0.03043381198315417)\n",
            "('on', 0.017979955293928415)\n",
            "('.', 0.02061612388980441)\n",
            "= = = =\n",
            "('The', 0.036576270156693104)\n",
            "('performances', 0.038238766600929404)\n",
            "('by', 0.051564693924209364)\n",
            "('the', 0.0319100816968454)\n",
            "('leads', 0.053981030045642586)\n",
            "('are', 0.03704214015021501)\n",
            "('perfection', 0.06206457870459589)\n",
            "(',', 0.051271845484843495)\n",
            "('and', 0.05430843760701456)\n",
            "('even', 0.041667371888945835)\n",
            "('some', 0.04034447073971035)\n",
            "('supporting', 0.024377784673295145)\n",
            "('characters', 0.025947068817373586)\n",
            "('get', 0.026652538093870873)\n",
            "('strong', 0.035538694041251026)\n",
            "('emotional', 0.05770154125825617)\n",
            "('scenes', 0.03628337045259935)\n",
            "('.', 0.03371146510819836)\n",
            "= = = =\n",
            "('The', 0.03164880107585508)\n",
            "('movie', 0.0447958731081704)\n",
            "('will', 0.028774906089350398)\n",
            "('be', 0.048660005932873854)\n",
            "('somewhat', 0.05294280980503516)\n",
            "('lost', 0.03307549517964309)\n",
            "('on', 0.02730861338703926)\n",
            "('today', 0.040202726690555864)\n",
            "(\"'s\", 0.024680924222526778)\n",
            "('modern', 0.03007830913738888)\n",
            "('audience', 0.027484674784561104)\n",
            "(',', 0.020959436581500117)\n",
            "('but', 0.01750880519999171)\n",
            "('this', 0.018429060284539202)\n",
            "('is', 0.031950311127405304)\n",
            "('one', 0.051049924845010544)\n",
            "('that', 0.04515406206131601)\n",
            "('everyone', 0.040010063734290856)\n",
            "('ought', 0.029656981200882317)\n",
            "('to', 0.02804492393013856)\n",
            "('OOV', 0.021969711408222806)\n",
            "('unsentimental', 0.02343357942011238)\n",
            "('and', 0.02077587367508799)\n",
            "('honest', 0.02121135016395283)\n",
            "(',', 0.020456778633399852)\n",
            "('this', 0.025969473715813474)\n",
            "('is', 0.03683622871090604)\n",
            "('on', 0.05188916256011514)\n",
            "('par', 0.06210106642937993)\n",
            "('with', 0.04294006684915737)\n",
            "= = = =\n",
            "('OOV', 0.031522904678489436)\n",
            "('my', 0.05249078794126394)\n",
            "('title', 0.03193781421951954)\n",
            "(',', 0.022541653797394867)\n",
            "('this', 0.023241147601600707)\n",
            "('one', 0.03676239717361163)\n",
            "('is', 0.055471520943424064)\n",
            "('perfect', 0.12899978423823122)\n",
            "('!', 0.05358104563491329)\n",
            "= = = =\n",
            "= = = =\n",
            "= = = =\n",
            "= = = =\n",
            "= = = =\n",
            "= = = =\n",
            "= = = =\n",
            "= = = =\n",
            "= = = =\n"
          ]
        },
        {
          "data": {
            "image/png": "[encoded data removed]",
            "text/plain": [
              "<Figure size 2000x2800 with 7 Axes>"
            ]
          },
          "metadata": {},
          "output_type": "display_data"
        }
      ],
      "source": [
        "word_coeffs = model.forward(torch.tensor(my_review).to(device))[\n",
        "    1\n",
        "]  # fill the gap # get words attention coeffs by passing the review to the model - (you need to convert the inout torch tensor)\n",
        "\n",
        "word_coeffs_list = word_coeffs.reshape(7, 30).tolist()\n",
        "\n",
        "# match text and coefficients:\n",
        "text_word_coeffs = [list(zip(words, word_coeffs_list[idx][: len(words)])) for idx, words in enumerate(my_review_text)]\n",
        "\n",
        "for sent in text_word_coeffs:\n",
        "    [print(elt) for elt in sent]\n",
        "    print(\"= = = =\")\n",
        "\n",
        "# sort words by importance within each sentence:\n",
        "text_word_coeffs_sorted = [sorted(elt, key=operator.itemgetter(1), reverse=True) for elt in text_word_coeffs]\n",
        "fig, axs = plt.subplots(7, 1, figsize=(20, 4 * 7))\n",
        "for i, sent in enumerate(text_word_coeffs):\n",
        "    coefs_ = {elt[0]: elt[1] for elt in sent}\n",
        "    axs[i].scatter(coefs_.keys(), coefs_.values())\n",
        "    print(\"= = = =\")"
      ]
    },
    {
      "cell_type": "markdown",
      "metadata": {
        "id": "C9JblVhaHlsu"
      },
      "source": [
        "we notice that words that have a strong influence on the meaning (either positive or negative) have a big importance\n",
        "in other meaning, we can  say that a word that contributes widely in the final output of a sentence, will have a high attention score"
      ]
    },
    {
      "cell_type": "markdown",
      "metadata": {},
      "source": [
        "Question 1\n",
        "\n",
        "when we take \n",
        "$a = softmax(w_s2 * tanh(W_s1 * H^T))$\n",
        "\n",
        "and  the softmax() here ensures all the computed weights sum up to 1.\n",
        "Then we sum up the LSTM hidden states H according to the weight provided by a to get a vector representation m of the input sentence.\n",
        "\n",
        "However this approach is limited, since this vector representation typically focuses on a specific sentence component. because the nature of softmax gives always a high importance to one component and penalize the others.\n",
        "As a result, it is expected to reflect a semantic aspect or component in a sentence. However, multiple components in a sentence can contribute to the overall semantics of the sentence, especially in long sentences.\n",
        "SO to overcome this problem, we need to have multiple embedding of one sentence that focuses on multiple components. \n",
        "thus, we can make $w_s2$ a matrix of size (number of embedding representations that we want * number units ) instead of using a vector,\n",
        "which result in having a matrix M instead of vector embedding m such that $M = A* H$\n",
        "\n",
        "*however* this M matrix can suffer from redundancy problems if the attention mechanism always provides similar summation weights for all hops. which pushes us to think  consider a penalization approach.\n",
        "\n",
        "**penalisation**\n",
        "Kullback Leibler has many drawbacks and it isn't fully convenient to this case. indeed we need to optimize the annotation matrix A to have a lot of sufficiently small or\n",
        "even zero values at different softmax output units, and these vast amount of zeros is making the training unstable. with respect to fact that we want each individual row to focus on a single aspect of semantics.\n",
        "In this regard,we can introduce a new penalization term, Which consumes only one-third of the computation when compared to the KL divergence penalization.\n",
        "As a measure of redundancy, we subtract the dot product of A and its transpose from an identity matrix.\n",
        "\n",
        "$ P=\\left\\|\\left(A A^T-I\\right)\\right\\|_F^2 $\n",
        "\n",
        " Here $\\|\\cdot\\|_F$ stands for the Frobenius norm of a matrix. this approach is similar to L2 regularization term. so the purpose here is to minimize $P$\n",
        "\n",
        "normally all $A$ row should sum up to 1, thanks to softmax function. we can even consider them as a proba distribution.\n",
        "\n",
        "For any non-diagonal elements $a{i j}(i \\neq j)$ in the $A A^T$ matrix, it corresponds to a summation over elementwise product of two distributions: $$ 0<a_{i j}=\\sum_{k=1}^n a_k^i a_k^j<1 $$ where $a_k^i$ and $a_k^j$ are the $k$-th element in the $\\mathrm{a}^{\\mathrm{i}}$ and $\\mathrm{a}^j$ vectors\n",
        "\n",
        "so when tehre is no overlap between the two distributions. the result would of sum product would be 0 . else it will positive, however in the extreme case when they have almost the same distribution (almost the exact vector), so the sum would be 1. and we are looking to avoid this case of having the same distribution . so We subtract an identity matrix from $A A^T$ so that forces the elements on the diagonal of $A A^T$ to approximate 1 . because to minimize $P$ the optimiser will prefer giving to the diagonal almost one then after substract, it will be 0 .\n",
        "\n",
        "and this technique provide an efficient way to force the $M$ matrix to have different rows and avoid having the redundancy\n",
        "\n"
      ]
    },
    {
      "cell_type": "markdown",
      "metadata": {},
      "source": [
        "**question 2**\n",
        "\n",
        "- total computational complexity per layer, where the self attention is faster than rnn when the sequence length is smaller than dimension d . which is often the case\n",
        "\n",
        "- the amount of computation that can be parallelized with self-attention, as measured by the minimum number of sequential operations required\n",
        "\n",
        "- the path length between long-range dependencies in the network. which is a challenge in many sequence tasks. for instance the length of the path forward and backward. indeed the shorter those paths the easier to learn long-range dependencies \n",
        "\n",
        "- a self-attention layer connects all positions with a constant number of sequentially executed operations. however RNN requires $\\theta (n)$ sequential operation.\n",
        "- self attention could be restricted to use only r neighborhood in order to improve computational performances."
      ]
    },
    {
      "cell_type": "markdown",
      "metadata": {},
      "source": [
        "**question 5**\n",
        "- it cannot model periodic finite-state languages, nor hierarchical structure, unless the number of layers or heads increases with input length\n",
        "- each sentence is encoded in complete isolation,This lack of communication is obviously suboptimal"
      ]
    },
    {
      "cell_type": "markdown",
      "metadata": {},
      "source": []
    }
  ],
  "metadata": {
    "accelerator": "GPU",
    "colab": {
      "collapsed_sections": [],
      "provenance": []
    },
    "gpuClass": "standard",
    "kernelspec": {
      "display_name": "Python 3.9.13 ('graph')",
      "language": "python",
      "name": "python3"
    },
    "language_info": {
      "codemirror_mode": {
        "name": "ipython",
        "version": 3
      },
      "file_extension": ".py",
      "mimetype": "text/x-python",
      "name": "python",
      "nbconvert_exporter": "python",
      "pygments_lexer": "ipython3",
      "version": "3.9.13"
    },
    "vscode": {
      "interpreter": {
        "hash": "24e2339cde04a368e78e8b6baa54a60561c0a77b20a0641386ef75da846277d6"
      }
    }
  },
  "nbformat": 4,
  "nbformat_minor": 0
}
