{
 "cells": [
  {
   "cell_type": "code",
   "execution_count": 1,
   "id": "d514801b-cb8f-49c6-85c5-84a49a687ee2",
   "metadata": {
    "execution": {
     "iopub.execute_input": "2023-01-20T04:15:09.658966Z",
     "iopub.status.busy": "2023-01-20T04:15:09.658435Z",
     "iopub.status.idle": "2023-01-20T04:15:19.718061Z",
     "shell.execute_reply": "2023-01-20T04:15:19.717278Z",
     "shell.execute_reply.started": "2023-01-20T04:15:09.658905Z"
    },
    "tags": []
   },
   "outputs": [
    {
     "name": "stdout",
     "output_type": "stream",
     "text": [
      "Collecting jupyter-black\n",
      "  Downloading jupyter_black-0.3.3-py3-none-any.whl (8.3 kB)\n",
      "Collecting tokenize-rt>=4.1.0\n",
      "  Downloading tokenize_rt-5.0.0-py2.py3-none-any.whl (5.8 kB)\n",
      "Requirement already satisfied: ipython>=7.27.0 in /usr/local/lib/python3.9/dist-packages (from jupyter-black) (8.4.0)\n",
      "Collecting black>=21.9b0\n",
      "  Downloading black-23.1a1-cp39-cp39-manylinux_2_17_x86_64.manylinux2014_x86_64.whl (1.6 MB)\n",
      "\u001b[2K     \u001b[90m━━━━━━━━━━━━━━━━━━━━━━━━━━━━━━━━━━━━━━━━\u001b[0m \u001b[32m1.6/1.6 MB\u001b[0m \u001b[31m74.1 MB/s\u001b[0m eta \u001b[36m0:00:00\u001b[0m\n",
      "\u001b[?25hCollecting tomli>=1.1.0\n",
      "  Downloading tomli-2.0.1-py3-none-any.whl (12 kB)\n",
      "Requirement already satisfied: typing-extensions>=3.10.0.0 in /usr/local/lib/python3.9/dist-packages (from black>=21.9b0->jupyter-black) (4.3.0)\n",
      "Requirement already satisfied: click>=8.0.0 in /usr/local/lib/python3.9/dist-packages (from black>=21.9b0->jupyter-black) (8.1.3)\n",
      "Collecting pathspec>=0.9.0\n",
      "  Downloading pathspec-0.10.3-py3-none-any.whl (29 kB)\n",
      "Collecting platformdirs>=2\n",
      "  Downloading platformdirs-2.6.2-py3-none-any.whl (14 kB)\n",
      "Collecting mypy-extensions>=0.4.3\n",
      "  Downloading mypy_extensions-0.4.3-py2.py3-none-any.whl (4.5 kB)\n",
      "Requirement already satisfied: backcall in /usr/local/lib/python3.9/dist-packages (from ipython>=7.27.0->jupyter-black) (0.2.0)\n",
      "Requirement already satisfied: pickleshare in /usr/local/lib/python3.9/dist-packages (from ipython>=7.27.0->jupyter-black) (0.7.5)\n",
      "Requirement already satisfied: prompt-toolkit!=3.0.0,!=3.0.1,<3.1.0,>=2.0.0 in /usr/local/lib/python3.9/dist-packages (from ipython>=7.27.0->jupyter-black) (3.0.30)\n",
      "Requirement already satisfied: matplotlib-inline in /usr/local/lib/python3.9/dist-packages (from ipython>=7.27.0->jupyter-black) (0.1.3)\n",
      "Requirement already satisfied: pygments>=2.4.0 in /usr/local/lib/python3.9/dist-packages (from ipython>=7.27.0->jupyter-black) (2.12.0)\n",
      "Requirement already satisfied: decorator in /usr/local/lib/python3.9/dist-packages (from ipython>=7.27.0->jupyter-black) (5.1.1)\n",
      "Requirement already satisfied: setuptools>=18.5 in /usr/local/lib/python3.9/dist-packages (from ipython>=7.27.0->jupyter-black) (63.1.0)\n",
      "Requirement already satisfied: traitlets>=5 in /usr/local/lib/python3.9/dist-packages (from ipython>=7.27.0->jupyter-black) (5.3.0)\n",
      "Requirement already satisfied: stack-data in /usr/local/lib/python3.9/dist-packages (from ipython>=7.27.0->jupyter-black) (0.3.0)\n",
      "Requirement already satisfied: jedi>=0.16 in /usr/local/lib/python3.9/dist-packages (from ipython>=7.27.0->jupyter-black) (0.18.1)\n",
      "Requirement already satisfied: pexpect>4.3 in /usr/local/lib/python3.9/dist-packages (from ipython>=7.27.0->jupyter-black) (4.8.0)\n",
      "Requirement already satisfied: parso<0.9.0,>=0.8.0 in /usr/local/lib/python3.9/dist-packages (from jedi>=0.16->ipython>=7.27.0->jupyter-black) (0.8.3)\n",
      "Requirement already satisfied: ptyprocess>=0.5 in /usr/local/lib/python3.9/dist-packages (from pexpect>4.3->ipython>=7.27.0->jupyter-black) (0.7.0)\n",
      "Requirement already satisfied: wcwidth in /usr/local/lib/python3.9/dist-packages (from prompt-toolkit!=3.0.0,!=3.0.1,<3.1.0,>=2.0.0->ipython>=7.27.0->jupyter-black) (0.2.5)\n",
      "Requirement already satisfied: asttokens in /usr/local/lib/python3.9/dist-packages (from stack-data->ipython>=7.27.0->jupyter-black) (2.0.5)\n",
      "Requirement already satisfied: pure-eval in /usr/local/lib/python3.9/dist-packages (from stack-data->ipython>=7.27.0->jupyter-black) (0.2.2)\n",
      "Requirement already satisfied: executing in /usr/local/lib/python3.9/dist-packages (from stack-data->ipython>=7.27.0->jupyter-black) (0.8.3)\n",
      "Requirement already satisfied: six in /usr/lib/python3/dist-packages (from asttokens->stack-data->ipython>=7.27.0->jupyter-black) (1.14.0)\n",
      "Installing collected packages: mypy-extensions, tomli, tokenize-rt, platformdirs, pathspec, black, jupyter-black\n",
      "Successfully installed black-23.1a1 jupyter-black-0.3.3 mypy-extensions-0.4.3 pathspec-0.10.3 platformdirs-2.6.2 tokenize-rt-5.0.0 tomli-2.0.1\n",
      "\u001b[33mWARNING: Running pip as the 'root' user can result in broken permissions and conflicting behaviour with the system package manager. It is recommended to use a virtual environment instead: https://pip.pypa.io/warnings/venv\u001b[0m\u001b[33m\n",
      "\u001b[0mCollecting imblearn\n",
      "  Downloading imblearn-0.0-py2.py3-none-any.whl (1.9 kB)\n",
      "Collecting imbalanced-learn\n",
      "  Downloading imbalanced_learn-0.10.1-py3-none-any.whl (226 kB)\n",
      "\u001b[2K     \u001b[90m━━━━━━━━━━━━━━━━━━━━━━━━━━━━━━━━━━━━━━\u001b[0m \u001b[32m226.0/226.0 kB\u001b[0m \u001b[31m30.5 MB/s\u001b[0m eta \u001b[36m0:00:00\u001b[0m\n",
      "\u001b[?25hRequirement already satisfied: numpy>=1.17.3 in /usr/local/lib/python3.9/dist-packages (from imbalanced-learn->imblearn) (1.23.1)\n",
      "Requirement already satisfied: scikit-learn>=1.0.2 in /usr/local/lib/python3.9/dist-packages (from imbalanced-learn->imblearn) (1.1.1)\n",
      "Collecting joblib>=1.1.1\n",
      "  Downloading joblib-1.2.0-py3-none-any.whl (297 kB)\n",
      "\u001b[2K     \u001b[90m━━━━━━━━━━━━━━━━━━━━━━━━━━━━━━━━━━━━━━\u001b[0m \u001b[32m298.0/298.0 kB\u001b[0m \u001b[31m64.0 MB/s\u001b[0m eta \u001b[36m0:00:00\u001b[0m\n",
      "\u001b[?25hRequirement already satisfied: scipy>=1.3.2 in /usr/local/lib/python3.9/dist-packages (from imbalanced-learn->imblearn) (1.8.1)\n",
      "Requirement already satisfied: threadpoolctl>=2.0.0 in /usr/local/lib/python3.9/dist-packages (from imbalanced-learn->imblearn) (3.1.0)\n",
      "Installing collected packages: joblib, imbalanced-learn, imblearn\n",
      "  Attempting uninstall: joblib\n",
      "    Found existing installation: joblib 1.1.0\n",
      "    Uninstalling joblib-1.1.0:\n",
      "      Successfully uninstalled joblib-1.1.0\n",
      "Successfully installed imbalanced-learn-0.10.1 imblearn-0.0 joblib-1.2.0\n",
      "\u001b[33mWARNING: Running pip as the 'root' user can result in broken permissions and conflicting behaviour with the system package manager. It is recommended to use a virtual environment instead: https://pip.pypa.io/warnings/venv\u001b[0m\u001b[33m\n",
      "\u001b[0m"
     ]
    }
   ],
   "source": [
    "from IPython.display import clear_output\n",
    "\n",
    "\n",
    "# !pip install tensorflow\n",
    "# !pip install  spacy\n",
    "# !pip install tqdm\n",
    "# !pip install plotly\n",
    "!pip install jupyter-black\n",
    "!pip install imblearn\n",
    "\n",
    "\n",
    "# clear_output()"
   ]
  },
  {
   "cell_type": "markdown",
   "id": "aab47875-d7b8-467e-9f9a-824abb3b9105",
   "metadata": {},
   "source": [
    "## Data preprocessing"
   ]
  },
  {
   "cell_type": "markdown",
   "id": "8b92068b-ba2c-4f7d-b774-e77d9743c4f9",
   "metadata": {},
   "source": [
    "### Import libraries"
   ]
  },
  {
   "cell_type": "code",
   "execution_count": 2,
   "id": "0f3f4560-096a-4342-9371-ccb1bbaef8b0",
   "metadata": {
    "execution": {
     "iopub.execute_input": "2023-01-20T04:15:19.719840Z",
     "iopub.status.busy": "2023-01-20T04:15:19.719581Z",
     "iopub.status.idle": "2023-01-20T04:15:20.416045Z",
     "shell.execute_reply": "2023-01-20T04:15:20.415453Z",
     "shell.execute_reply.started": "2023-01-20T04:15:19.719817Z"
    }
   },
   "outputs": [],
   "source": [
    "import csv\n",
    "import re\n",
    "import numpy as np\n",
    "from sklearn.metrics import accuracy_score, log_loss\n",
    "from sklearn.feature_extraction.text import TfidfVectorizer\n",
    "from sklearn.linear_model import LogisticRegression\n",
    "import pandas as pd\n",
    "from sklearn.neighbors import KNeighborsClassifier\n",
    "from sklearn.metrics import accuracy_score\n",
    "import pandas as pd\n",
    "from sklearn.metrics import classification_report\n",
    "from tqdm.notebook import tqdm\n",
    "\n",
    "tqdm.pandas()"
   ]
  },
  {
   "cell_type": "code",
   "execution_count": 3,
   "id": "ba5fcdd3-4daf-4942-bdec-989e2c169e6c",
   "metadata": {
    "execution": {
     "iopub.execute_input": "2023-01-20T04:15:20.418669Z",
     "iopub.status.busy": "2023-01-20T04:15:20.418290Z",
     "iopub.status.idle": "2023-01-20T04:15:20.468556Z",
     "shell.execute_reply": "2023-01-20T04:15:20.467879Z",
     "shell.execute_reply.started": "2023-01-20T04:15:20.418623Z"
    }
   },
   "outputs": [
    {
     "data": {
      "text/html": [
       "\n",
       "                <script type=\"application/javascript\" id=\"jupyter_black\">\n",
       "                (function() {\n",
       "                    if (window.IPython === undefined) {\n",
       "                        return\n",
       "                    }\n",
       "                    var msg = \"WARNING: it looks like you might have loaded \" +\n",
       "                        \"jupyter_black in a non-lab notebook with \" +\n",
       "                        \"`is_lab=True`. Please double check, and if \" +\n",
       "                        \"loading with `%load_ext` please review the README!\"\n",
       "                    console.log(msg)\n",
       "                    alert(msg)\n",
       "                })()\n",
       "                </script>\n",
       "                "
      ],
      "text/plain": [
       "<IPython.core.display.HTML object>"
      ]
     },
     "metadata": {},
     "output_type": "display_data"
    }
   ],
   "source": [
    "%load_ext jupyter_black"
   ]
  },
  {
   "cell_type": "code",
   "execution_count": 4,
   "id": "7a331634-a658-4862-acd5-cb498ef7064f",
   "metadata": {
    "execution": {
     "iopub.execute_input": "2023-01-20T04:15:20.469469Z",
     "iopub.status.busy": "2023-01-20T04:15:20.469284Z",
     "iopub.status.idle": "2023-01-20T04:15:20.474584Z",
     "shell.execute_reply": "2023-01-20T04:15:20.474049Z",
     "shell.execute_reply.started": "2023-01-20T04:15:20.469454Z"
    }
   },
   "outputs": [],
   "source": [
    "np.set_printoptions(precision=4)"
   ]
  },
  {
   "cell_type": "markdown",
   "id": "44121573-5f12-45de-9286-3e7c4d79050d",
   "metadata": {},
   "source": [
    "### Import data"
   ]
  },
  {
   "cell_type": "code",
   "execution_count": 5,
   "id": "ba141e71-43b6-4129-8477-8d5160f317dc",
   "metadata": {
    "execution": {
     "iopub.execute_input": "2023-01-20T04:15:20.476335Z",
     "iopub.status.busy": "2023-01-20T04:15:20.476165Z",
     "iopub.status.idle": "2023-01-20T04:15:20.515374Z",
     "shell.execute_reply": "2023-01-20T04:15:20.514754Z",
     "shell.execute_reply.started": "2023-01-20T04:15:20.476320Z"
    }
   },
   "outputs": [],
   "source": [
    "path = \"data/\"\n",
    "# Read sequences\n",
    "sequences = list()\n",
    "with open(path + \"sequences.txt\", \"r\") as f:\n",
    "    for line in f:\n",
    "        sequences.append(line[:-1])\n",
    "\n",
    "# Split data into training and test sets\n",
    "sequences_train = list()\n",
    "sequences_test = list()\n",
    "proteins_test = list()\n",
    "train_target = list()\n",
    "with open(path + \"graph_labels.txt\", \"r\") as f:\n",
    "    for i, line in enumerate(f):\n",
    "        t = line.split(\",\")\n",
    "        if len(t[1][:-1]) == 0:\n",
    "            proteins_test.append(t[0])\n",
    "            sequences_test.append(sequences[i])\n",
    "        else:\n",
    "            sequences_train.append(sequences[i])\n",
    "            train_target.append(int(t[1][:-1]))\n",
    "\n",
    "sequences_train = np.array(sequences_train)\n",
    "train_target = np.array(train_target)\n",
    "sequences_test = np.array(sequences_test)"
   ]
  },
  {
   "cell_type": "code",
   "execution_count": 6,
   "id": "8d37beaf-7bc8-4804-b9e7-c69442ddd119",
   "metadata": {
    "execution": {
     "iopub.execute_input": "2023-01-20T04:15:20.516290Z",
     "iopub.status.busy": "2023-01-20T04:15:20.516096Z",
     "iopub.status.idle": "2023-01-20T04:15:20.531706Z",
     "shell.execute_reply": "2023-01-20T04:15:20.531136Z",
     "shell.execute_reply.started": "2023-01-20T04:15:20.516274Z"
    }
   },
   "outputs": [],
   "source": [
    "data = pd.DataFrame({\"seq\": sequences_train, \"target\": train_target})"
   ]
  },
  {
   "cell_type": "code",
   "execution_count": 7,
   "id": "9e226940-ef41-4472-81cf-aa6197057635",
   "metadata": {
    "execution": {
     "iopub.execute_input": "2023-01-20T04:15:20.532683Z",
     "iopub.status.busy": "2023-01-20T04:15:20.532481Z",
     "iopub.status.idle": "2023-01-20T04:15:20.539007Z",
     "shell.execute_reply": "2023-01-20T04:15:20.538325Z",
     "shell.execute_reply.started": "2023-01-20T04:15:20.532666Z"
    }
   },
   "outputs": [],
   "source": [
    "unseen = pd.DataFrame({\"seq\": sequences_test})"
   ]
  },
  {
   "cell_type": "code",
   "execution_count": 8,
   "id": "d50ec40a-3d0e-4cb5-9272-18352a1dd755",
   "metadata": {
    "execution": {
     "iopub.execute_input": "2023-01-20T04:15:20.539924Z",
     "iopub.status.busy": "2023-01-20T04:15:20.539750Z",
     "iopub.status.idle": "2023-01-20T04:15:21.367167Z",
     "shell.execute_reply": "2023-01-20T04:15:21.366346Z",
     "shell.execute_reply.started": "2023-01-20T04:15:20.539909Z"
    }
   },
   "outputs": [
    {
     "data": {
      "text/plain": [
       "<AxesSubplot:>"
      ]
     },
     "execution_count": 8,
     "metadata": {},
     "output_type": "execute_result"
    },
    {
     "data": {
      "image/png": "[encoded data removed]",
      "text/plain": [
       "<Figure size 432x288 with 1 Axes>"
      ]
     },
     "metadata": {
      "needs_background": "light"
     },
     "output_type": "display_data"
    }
   ],
   "source": [
    "data.target.hist(bins=17)"
   ]
  },
  {
   "cell_type": "code",
   "execution_count": 9,
   "id": "cd51e667-f8c5-4945-8da1-fb1460e584ae",
   "metadata": {
    "execution": {
     "iopub.execute_input": "2023-01-20T04:15:21.368903Z",
     "iopub.status.busy": "2023-01-20T04:15:21.368463Z",
     "iopub.status.idle": "2023-01-20T04:15:21.433538Z",
     "shell.execute_reply": "2023-01-20T04:15:21.432942Z",
     "shell.execute_reply.started": "2023-01-20T04:15:21.368876Z"
    }
   },
   "outputs": [
    {
     "data": {
      "application/vnd.jupyter.widget-view+json": {
       "model_id": "3cf4ab3372454f4cb2fefd9ce1c1be23",
       "version_major": 2,
       "version_minor": 0
      },
      "text/plain": [
       "  0%|          | 0/4888 [00:00<?, ?it/s]"
      ]
     },
     "metadata": {},
     "output_type": "display_data"
    },
    {
     "data": {
      "application/vnd.jupyter.widget-view+json": {
       "model_id": "df2be0ee8d954f048e653c14508254aa",
       "version_major": 2,
       "version_minor": 0
      },
      "text/plain": [
       "  0%|          | 0/4888 [00:00<?, ?it/s]"
      ]
     },
     "metadata": {},
     "output_type": "display_data"
    },
    {
     "name": "stdout",
     "output_type": "stream",
     "text": [
      "258.14279869067104\n",
      "mean 258.14279869067104 and std is 162.24346887570542\n"
     ]
    }
   ],
   "source": [
    "mean_carr = np.mean(data.seq.progress_apply(len))\n",
    "std_carr = np.std(data.seq.progress_apply(len))\n",
    "print(mean_carr)\n",
    "print(\"mean\", mean_carr, \"and std is\", std_carr)"
   ]
  },
  {
   "cell_type": "markdown",
   "id": "884f8a40-d81d-4c7a-ab87-6cf914da9fc4",
   "metadata": {},
   "source": [
    "We notice that the target isn't balanced, so we will take that into consideration by :\n",
    "- adding sample weight in logistic regression and the other models that supports weight to impact directly the loss function\n",
    "- we can make an oversampling using duplication which is poor or using smote (that add some guassian noise )\n",
    "- we can make an undersampling by reducing the number of majority class samples"
   ]
  },
  {
   "cell_type": "markdown",
   "id": "dcd1968a-5a81-4861-a099-c1346ec96ddc",
   "metadata": {},
   "source": [
    "### Important functions "
   ]
  },
  {
   "cell_type": "code",
   "execution_count": 10,
   "id": "6a916f1a-317a-402a-9ec6-db0923a97dd5",
   "metadata": {
    "execution": {
     "iopub.execute_input": "2023-01-20T04:15:21.434886Z",
     "iopub.status.busy": "2023-01-20T04:15:21.434412Z",
     "iopub.status.idle": "2023-01-20T04:15:21.442636Z",
     "shell.execute_reply": "2023-01-20T04:15:21.441927Z",
     "shell.execute_reply.started": "2023-01-20T04:15:21.434868Z"
    }
   },
   "outputs": [],
   "source": [
    "def softmax(x):\n",
    "    y = np.exp(x - np.max(x))\n",
    "    f_x = y / np.sum(np.exp(x))\n",
    "    return f_x\n",
    "\n",
    "\n",
    "softmax_vect = np.vectorize(softmax)"
   ]
  },
  {
   "cell_type": "code",
   "execution_count": 11,
   "id": "e8af066c-582f-4792-abaa-5f32e32f2ff3",
   "metadata": {
    "execution": {
     "iopub.execute_input": "2023-01-20T04:15:21.443810Z",
     "iopub.status.busy": "2023-01-20T04:15:21.443574Z",
     "iopub.status.idle": "2023-01-20T04:15:21.452148Z",
     "shell.execute_reply": "2023-01-20T04:15:21.451547Z",
     "shell.execute_reply.started": "2023-01-20T04:15:21.443794Z"
    }
   },
   "outputs": [],
   "source": [
    "# weighted multi-class log loss\n",
    "from sklearn.metrics import log_loss\n",
    "\n",
    "\n",
    "def weighted_mc_log_loss(y_true, y_pred, y_pred_proba):\n",
    "    loss = log_loss(y_true, y_pred_proba, labels=np.unique(y_true))\n",
    "    accuracy = round((y_true == y_pred).sum() / len(y_true) * 100, 2)\n",
    "    return print(f\"{loss = } and accuracy {accuracy = }\")"
   ]
  },
  {
   "cell_type": "code",
   "execution_count": 12,
   "id": "00dc7a6f-c7d5-4cbb-b0a7-539e42eeeb2f",
   "metadata": {
    "execution": {
     "iopub.execute_input": "2023-01-20T04:15:21.453204Z",
     "iopub.status.busy": "2023-01-20T04:15:21.453030Z",
     "iopub.status.idle": "2023-01-20T04:15:21.464892Z",
     "shell.execute_reply": "2023-01-20T04:15:21.464241Z",
     "shell.execute_reply.started": "2023-01-20T04:15:21.453191Z"
    }
   },
   "outputs": [],
   "source": [
    "def submit(y_pred_proba):\n",
    "    # Write predictions to a file\n",
    "    with open(\"../Submissions/sample_submission.csv\", \"w\") as csvfile:\n",
    "        writer = csv.writer(csvfile, delimiter=\",\")\n",
    "        lst = list()\n",
    "        for i in range(18):\n",
    "            lst.append(\"class\" + str(i))\n",
    "        lst.insert(0, \"name\")\n",
    "        writer.writerow(lst)\n",
    "        for i, protein in enumerate(proteins_test):\n",
    "            lst = y_pred_proba[i, :].tolist()\n",
    "            lst.insert(0, protein)\n",
    "            writer.writerow(lst)"
   ]
  },
  {
   "cell_type": "markdown",
   "id": "28ea347c-2cf8-4fe4-aca4-7ae63f266b1b",
   "metadata": {},
   "source": [
    "### Split data"
   ]
  },
  {
   "cell_type": "code",
   "execution_count": 13,
   "id": "a07f7c81-494c-474e-b8ff-97fe4d3fd313",
   "metadata": {
    "execution": {
     "iopub.execute_input": "2023-01-20T04:15:21.465780Z",
     "iopub.status.busy": "2023-01-20T04:15:21.465623Z",
     "iopub.status.idle": "2023-01-20T04:15:21.484365Z",
     "shell.execute_reply": "2023-01-20T04:15:21.483521Z",
     "shell.execute_reply.started": "2023-01-20T04:15:21.465766Z"
    }
   },
   "outputs": [],
   "source": [
    "from sklearn.model_selection import train_test_split\n",
    "\n",
    "X_train, X_test, y_train, y_test = train_test_split(\n",
    "    data,  # Features\n",
    "    data.target.to_numpy(),  # Target variable\n",
    "    test_size=0.2,  # 20% test size\n",
    ")\n",
    "X_train = X_train.reset_index(drop=True)  # we reste the indexes\n",
    "X_test = X_test.reset_index(drop=True)"
   ]
  },
  {
   "cell_type": "markdown",
   "id": "0d628810-a306-488c-b82b-cf58036532fa",
   "metadata": {},
   "source": [
    "# using structure"
   ]
  },
  {
   "cell_type": "code",
   "execution_count": 14,
   "id": "6cc2aae1-32bf-4772-8bb2-b001267ecc0c",
   "metadata": {
    "execution": {
     "iopub.execute_input": "2023-01-20T04:15:21.486600Z",
     "iopub.status.busy": "2023-01-20T04:15:21.486410Z",
     "iopub.status.idle": "2023-01-20T04:15:22.023657Z",
     "shell.execute_reply": "2023-01-20T04:15:22.023068Z",
     "shell.execute_reply.started": "2023-01-20T04:15:21.486586Z"
    }
   },
   "outputs": [],
   "source": [
    "import time\n",
    "import scipy.sparse as sp\n",
    "\n",
    "import torch\n",
    "import torch.nn as nn\n",
    "import torch.nn.functional as F\n",
    "from torch import optim\n",
    "\n",
    "\n",
    "def load_data():\n",
    "    \"\"\"\n",
    "    Function that loads graphs\n",
    "    \"\"\"\n",
    "    graph_indicator = np.loadtxt(path + \"graph_indicator.txt\", dtype=np.int64)\n",
    "    _, graph_size = np.unique(graph_indicator, return_counts=True)\n",
    "\n",
    "    edges = np.loadtxt(path + \"edgelist.txt\", dtype=np.int64, delimiter=\",\")\n",
    "    edges_inv = np.vstack((edges[:, 1], edges[:, 0]))\n",
    "    edges = np.vstack((edges, edges_inv.T))\n",
    "    s = edges[:, 0] * graph_indicator.size + edges[:, 1]\n",
    "    idx_sort = np.argsort(s)\n",
    "    edges = edges[idx_sort, :]\n",
    "    edges, idx_unique = np.unique(edges, axis=0, return_index=True)\n",
    "    A = sp.csr_matrix(\n",
    "        (np.ones(edges.shape[0]), (edges[:, 0], edges[:, 1])),\n",
    "        shape=(graph_indicator.size, graph_indicator.size),\n",
    "    )\n",
    "\n",
    "    x = np.loadtxt(path + \"node_attributes.txt\", delimiter=\",\")\n",
    "    edge_attr = np.loadtxt(path + \"edge_attributes.txt\", delimiter=\",\")\n",
    "    edge_attr = np.vstack((edge_attr, edge_attr))\n",
    "    edge_attr = edge_attr[idx_sort, :]\n",
    "    edge_attr = edge_attr[idx_unique, :]\n",
    "\n",
    "    adj = []\n",
    "    features = []\n",
    "    edge_features = []\n",
    "    idx_n = 0\n",
    "    idx_m = 0\n",
    "    for i in range(graph_size.size):\n",
    "        adj.append(A[idx_n : idx_n + graph_size[i], idx_n : idx_n + graph_size[i]])\n",
    "        edge_features.append(edge_attr[idx_m : idx_m + adj[i].nnz, :])\n",
    "        features.append(x[idx_n : idx_n + graph_size[i], :])\n",
    "        idx_n += graph_size[i]\n",
    "        idx_m += adj[i].nnz\n",
    "\n",
    "    return adj, features, edge_features"
   ]
  },
  {
   "cell_type": "code",
   "execution_count": 15,
   "id": "0a06e3c3-1719-45bc-b17d-57424bbe290b",
   "metadata": {
    "execution": {
     "iopub.execute_input": "2023-01-20T04:15:22.024775Z",
     "iopub.status.busy": "2023-01-20T04:15:22.024489Z",
     "iopub.status.idle": "2023-01-20T04:15:22.040633Z",
     "shell.execute_reply": "2023-01-20T04:15:22.040117Z",
     "shell.execute_reply.started": "2023-01-20T04:15:22.024758Z"
    }
   },
   "outputs": [],
   "source": [
    "def normalize_adjacency(A):\n",
    "    \"\"\"\n",
    "    Function that normalizes an adjacency matrix\n",
    "    \"\"\"\n",
    "    n = A.shape[0]\n",
    "    A += sp.identity(n)\n",
    "    degs = A.dot(np.ones(n))\n",
    "    inv_degs = np.power(degs, -1)\n",
    "    D = sp.diags(inv_degs)\n",
    "    A_normalized = D.dot(A)\n",
    "\n",
    "    return A_normalized\n",
    "\n",
    "\n",
    "def sparse_mx_to_torch_sparse_tensor(sparse_mx):\n",
    "    \"\"\"\n",
    "    Function that converts a Scipy sparse matrix to a sparse Torch tensor\n",
    "    \"\"\"\n",
    "    sparse_mx = sparse_mx.tocoo().astype(np.float32)\n",
    "    indices = torch.from_numpy(\n",
    "        np.vstack((sparse_mx.row, sparse_mx.col)).astype(np.int64)\n",
    "    )\n",
    "    values = torch.from_numpy(sparse_mx.data)\n",
    "    shape = torch.Size(sparse_mx.shape)\n",
    "    return torch.sparse.FloatTensor(indices, values, shape)"
   ]
  },
  {
   "cell_type": "code",
   "execution_count": 16,
   "id": "f55ecfc7-9ea9-4a15-83e5-18128cabacee",
   "metadata": {
    "execution": {
     "iopub.execute_input": "2023-01-20T04:15:22.041434Z",
     "iopub.status.busy": "2023-01-20T04:15:22.041265Z",
     "iopub.status.idle": "2023-01-20T04:15:48.666588Z",
     "shell.execute_reply": "2023-01-20T04:15:48.665887Z",
     "shell.execute_reply.started": "2023-01-20T04:15:22.041419Z"
    }
   },
   "outputs": [],
   "source": [
    "# Load graphs\n",
    "adj, features, edge_features = load_data()\n",
    "\n",
    "# Normalize adjacency matrices\n",
    "adj = [normalize_adjacency(A) for A in adj]\n",
    "\n",
    "# Split data into training and test sets\n",
    "adj_train = list()\n",
    "features_train = list()\n",
    "y_train = list()\n",
    "adj_test = list()\n",
    "features_test = list()\n",
    "proteins_test = list()"
   ]
  },
  {
   "cell_type": "code",
   "execution_count": 17,
   "id": "f03e358d-2664-4d0f-9450-71e561e6bf4e",
   "metadata": {
    "execution": {
     "iopub.execute_input": "2023-01-20T04:15:48.667487Z",
     "iopub.status.busy": "2023-01-20T04:15:48.667306Z",
     "iopub.status.idle": "2023-01-20T04:15:48.685844Z",
     "shell.execute_reply": "2023-01-20T04:15:48.685216Z",
     "shell.execute_reply.started": "2023-01-20T04:15:48.667472Z"
    }
   },
   "outputs": [],
   "source": [
    "with open(path + \"graph_labels.txt\", \"r\") as f:\n",
    "    for i, line in enumerate(f):\n",
    "        t = line.split(\",\")\n",
    "        if len(t[1][:-1]) == 0:\n",
    "            proteins_test.append(t[0])\n",
    "            adj_test.append(adj[i])\n",
    "            features_test.append(features[i])\n",
    "        else:\n",
    "            adj_train.append(adj[i])\n",
    "            features_train.append(features[i])\n",
    "            y_train.append(int(t[1][:-1]))"
   ]
  },
  {
   "cell_type": "code",
   "execution_count": 19,
   "id": "6be017f7-0fea-45fd-ae55-1f00d2c60aa3",
   "metadata": {
    "execution": {
     "iopub.execute_input": "2023-01-20T04:16:21.244836Z",
     "iopub.status.busy": "2023-01-20T04:16:21.244637Z",
     "iopub.status.idle": "2023-01-20T04:16:21.251087Z",
     "shell.execute_reply": "2023-01-20T04:16:21.250632Z",
     "shell.execute_reply.started": "2023-01-20T04:16:21.244820Z"
    }
   },
   "outputs": [
    {
     "data": {
      "text/plain": [
       "device(type='cuda')"
      ]
     },
     "execution_count": 19,
     "metadata": {},
     "output_type": "execute_result"
    }
   ],
   "source": [
    "# Initialize device\n",
    "device = torch.device(\"cuda\") if torch.cuda.is_available() else torch.device(\"cpu\")\n",
    "device"
   ]
  },
  {
   "cell_type": "code",
   "execution_count": 47,
   "id": "57dcd785-cbf4-4b0e-9cde-2588f5d0b055",
   "metadata": {
    "execution": {
     "iopub.execute_input": "2023-01-20T04:25:09.606490Z",
     "iopub.status.busy": "2023-01-20T04:25:09.605839Z",
     "iopub.status.idle": "2023-01-20T04:25:09.629944Z",
     "shell.execute_reply": "2023-01-20T04:25:09.629411Z",
     "shell.execute_reply.started": "2023-01-20T04:25:09.606464Z"
    }
   },
   "outputs": [],
   "source": [
    "class GNN(nn.Module):\n",
    "    \"\"\"\n",
    "    Simple message passing model that consists of 2 message passing layers\n",
    "    and the sum aggregation function\n",
    "    \"\"\"\n",
    "\n",
    "    def __init__(self, input_dim, hidden_dim, dropout, n_class):\n",
    "        super(GNN, self).__init__()\n",
    "        self.fc1 = nn.Linear(input_dim, hidden_dim)\n",
    "        self.fc2 = nn.Linear(hidden_dim, hidden_dim)\n",
    "        self.fc3 = nn.Linear(hidden_dim, hidden_dim)\n",
    "        self.fc4 = nn.Linear(hidden_dim, n_class)\n",
    "        self.bn = nn.BatchNorm1d(hidden_dim)\n",
    "        self.relu = nn.ReLU()\n",
    "        self.dropout = nn.Dropout(dropout)\n",
    "\n",
    "    def forward(self, x_in, adj, idx):\n",
    "        # first message passing layer\n",
    "        x = self.fc1(x_in)\n",
    "        x = self.relu(torch.mm(adj, x))\n",
    "        x = self.dropout(x)\n",
    "\n",
    "        # second message passing layer\n",
    "        x = self.fc2(x)\n",
    "        x = self.relu(torch.mm(adj, x))\n",
    "\n",
    "        # sum aggregator\n",
    "        idx = idx.unsqueeze(1).repeat(1, x.size(1))\n",
    "        out = torch.zeros(torch.max(idx) + 1, x.size(1)).to(x_in.device)\n",
    "        out = out.scatter_add_(0, idx, x)\n",
    "\n",
    "        # batch normalization layer\n",
    "        out = self.bn(out)\n",
    "\n",
    "        # mlp to produce output\n",
    "        out = self.relu(self.fc3(out))\n",
    "        out = self.dropout(out)\n",
    "        out = self.fc4(out)\n",
    "\n",
    "        return F.log_softmax(out, dim=1)"
   ]
  },
  {
   "cell_type": "code",
   "execution_count": 48,
   "id": "da01c00f-4b38-4257-aef9-d0c135a5ca2f",
   "metadata": {
    "execution": {
     "iopub.execute_input": "2023-01-20T04:25:10.213001Z",
     "iopub.status.busy": "2023-01-20T04:25:10.212188Z",
     "iopub.status.idle": "2023-01-20T04:25:10.230061Z",
     "shell.execute_reply": "2023-01-20T04:25:10.229574Z",
     "shell.execute_reply.started": "2023-01-20T04:25:10.212970Z"
    }
   },
   "outputs": [],
   "source": [
    "# Hyperparameters\n",
    "epochs = 100\n",
    "batch_size = 64\n",
    "n_hidden = 128\n",
    "# n_input = 86\n",
    "dropout = 0.2\n",
    "learning_rate = 0.0001\n",
    "n_class = 18\n",
    "\n",
    "# Compute number of training and test samples\n",
    "N_train = len(adj_train)\n",
    "N_test = len(adj_test)\n",
    "\n",
    "# Initializes model and optimizer\n",
    "model = GNN(n_input, n_hidden, dropout, n_class).to(device)\n",
    "optimizer = optim.Adam(model.parameters(), lr=learning_rate)\n",
    "loss_function = nn.CrossEntropyLoss()"
   ]
  },
  {
   "cell_type": "code",
   "execution_count": 49,
   "id": "3b6bb395-52b6-494c-a8be-2a12395bb145",
   "metadata": {
    "execution": {
     "iopub.execute_input": "2023-01-20T04:25:10.758516Z",
     "iopub.status.busy": "2023-01-20T04:25:10.757842Z",
     "iopub.status.idle": "2023-01-20T04:25:10.766431Z",
     "shell.execute_reply": "2023-01-20T04:25:10.765998Z",
     "shell.execute_reply.started": "2023-01-20T04:25:10.758492Z"
    }
   },
   "outputs": [],
   "source": [
    "# train set\n",
    "adj_train_g = adj_train[:4400].copy()\n",
    "features_train_g = features_train[:4400].copy()\n",
    "y_train_g = y_train[:4400].copy()\n",
    "# validation\n",
    "adj_val_g = adj_train[4400:].copy()\n",
    "features_val_g = features_train[4400:].copy()\n",
    "y_val_g = y_train[4400:].copy()"
   ]
  },
  {
   "cell_type": "code",
   "execution_count": 50,
   "id": "b86c1fb4-3c07-482c-9871-4f630960e61b",
   "metadata": {
    "execution": {
     "iopub.execute_input": "2023-01-20T04:25:11.537895Z",
     "iopub.status.busy": "2023-01-20T04:25:11.537088Z",
     "iopub.status.idle": "2023-01-20T04:25:11.574452Z",
     "shell.execute_reply": "2023-01-20T04:25:11.573945Z",
     "shell.execute_reply.started": "2023-01-20T04:25:11.537862Z"
    }
   },
   "outputs": [],
   "source": [
    "def train_gnn(adj_train, features_train, y_train, adj_val, features_val, y_val):\n",
    "    # Train model\n",
    "    N_train = len(adj_train)\n",
    "    min_val_loss = float(\"inf\")\n",
    "    for epoch in range(epochs):\n",
    "        t = time.time()\n",
    "        model.train()\n",
    "        train_loss = 0\n",
    "        correct = 0\n",
    "        count = 0\n",
    "        # Iterate over the batches\n",
    "        for i in range(0, N_train, batch_size):\n",
    "            adj_batch = list()\n",
    "            features_batch = list()\n",
    "            idx_batch = list()\n",
    "            y_batch = list()\n",
    "\n",
    "            # Create tensors\n",
    "            for j in range(i, min(N_train, i + batch_size)):\n",
    "                n = adj_train[j].shape[0]\n",
    "                adj_batch.append(adj_train[j] + sp.identity(n))\n",
    "                features_batch.append(features_train[j])\n",
    "                idx_batch.extend([j - i] * n)\n",
    "                y_batch.append(y_train[j])\n",
    "\n",
    "            adj_batch = sp.block_diag(adj_batch)\n",
    "            features_batch = np.vstack(features_batch)\n",
    "\n",
    "            adj_batch = sparse_mx_to_torch_sparse_tensor(adj_batch).to(device)\n",
    "            features_batch = torch.FloatTensor(features_batch).to(device)\n",
    "            idx_batch = torch.LongTensor(idx_batch).to(device)\n",
    "            y_batch = torch.LongTensor(y_batch).to(device)\n",
    "\n",
    "            optimizer.zero_grad()\n",
    "            output = model(features_batch, adj_batch, idx_batch)\n",
    "            loss = loss_function(output, y_batch)\n",
    "            train_loss += loss.item() * output.size(0)\n",
    "            count += output.size(0)\n",
    "            preds = output.max(1)[1].type_as(y_batch)\n",
    "            correct += torch.sum(preds.eq(y_batch).double())\n",
    "            loss.backward()\n",
    "            optimizer.step()\n",
    "\n",
    "        if epoch % 3 == 0:\n",
    "            # Evaluate model\n",
    "            model.eval()\n",
    "            y_pred_proba, y_pred = predict_test(adj_val, features_val, model)\n",
    "            val_loss = log_loss(y_val, y_pred_proba, labels=np.unique(y_val))\n",
    "            print(\n",
    "                \"Epoch: {:03d}\".format(epoch + 1),\n",
    "                \"loss_train: {:.4f}\".format(train_loss / count),\n",
    "                \"acc_train: {:.4f}\".format(correct / count),\n",
    "                \"time: {:.4f}s\".format(time.time() - t),\n",
    "                \"log_loss_val: {:.4f}\".format(val_loss),\n",
    "            )\n",
    "            if min_val_loss > val_loss:\n",
    "                print(\n",
    "                    f\"Validation Loss Decreased({min_val_loss:.6f}--->{val_loss:.6f}) \\t Saving The Model\"\n",
    "                )\n",
    "                min_val_loss = val_loss\n",
    "                # Saving State Dict\n",
    "                # torch.save(model.state_dict(), \"saved_model.pth\")\n",
    "            else:\n",
    "                print(\"Validation loss increased :(\")"
   ]
  },
  {
   "cell_type": "code",
   "execution_count": 51,
   "id": "a9b808c3-719b-499f-bccd-cb4faafccaf0",
   "metadata": {
    "execution": {
     "iopub.execute_input": "2023-01-20T04:25:12.485344Z",
     "iopub.status.busy": "2023-01-20T04:25:12.484614Z",
     "iopub.status.idle": "2023-01-20T04:25:12.505717Z",
     "shell.execute_reply": "2023-01-20T04:25:12.505269Z",
     "shell.execute_reply.started": "2023-01-20T04:25:12.485311Z"
    }
   },
   "outputs": [],
   "source": [
    "def predict_test(adj_test, features_test, model):\n",
    "    y_pred_proba = list()\n",
    "    for i in range(0, len(adj_test), batch_size):\n",
    "        adj_batch = list()\n",
    "        idx_batch = list()\n",
    "        features_batch = list()\n",
    "        y_batch = list()\n",
    "\n",
    "        # Create tensors\n",
    "        for j in range(i, min(len(adj_test), i + batch_size)):\n",
    "            n = adj_test[j].shape[0]\n",
    "            adj_batch.append(adj_test[j] + sp.identity(n))\n",
    "            features_batch.append(features_test[j])\n",
    "            idx_batch.extend([j - i] * n)\n",
    "\n",
    "        adj_batch = sp.block_diag(adj_batch)\n",
    "        features_batch = np.vstack(features_batch)\n",
    "\n",
    "        adj_batch = sparse_mx_to_torch_sparse_tensor(adj_batch).to(device)\n",
    "        features_batch = torch.FloatTensor(features_batch).to(device)\n",
    "        idx_batch = torch.LongTensor(idx_batch).to(device)\n",
    "\n",
    "        output = model(features_batch, adj_batch, idx_batch)\n",
    "        y_pred_proba.append(output)\n",
    "\n",
    "    y_pred_proba = torch.cat(y_pred_proba, dim=0)\n",
    "    y_pred_proba = torch.exp(y_pred_proba)\n",
    "    y_pred_proba = y_pred_proba.detach().cpu().numpy()\n",
    "    y_pred = y_pred_proba.argmax(axis=1)\n",
    "    return y_pred_proba, y_pred"
   ]
  },
  {
   "cell_type": "code",
   "execution_count": 52,
   "id": "5026126e-bfab-43e8-9c69-421576e0b2c7",
   "metadata": {
    "execution": {
     "iopub.execute_input": "2023-01-20T04:25:13.220218Z",
     "iopub.status.busy": "2023-01-20T04:25:13.219559Z",
     "iopub.status.idle": "2023-01-20T04:25:13.222930Z",
     "shell.execute_reply": "2023-01-20T04:25:13.222550Z",
     "shell.execute_reply.started": "2023-01-20T04:25:13.220192Z"
    }
   },
   "outputs": [],
   "source": [
    "# model.load_state_dict(torch.load(\"/notebooks/build model/gnn_model.pth\"))\n",
    "# model.eval()\n"
   ]
  },
  {
   "cell_type": "code",
   "execution_count": 53,
   "id": "6382bdd8-9b0e-41bb-8d3c-c53e04148923",
   "metadata": {
    "execution": {
     "iopub.execute_input": "2023-01-20T04:25:13.857031Z",
     "iopub.status.busy": "2023-01-20T04:25:13.856381Z",
     "iopub.status.idle": "2023-01-20T04:32:34.764712Z",
     "shell.execute_reply": "2023-01-20T04:32:34.764159Z",
     "shell.execute_reply.started": "2023-01-20T04:25:13.857007Z"
    }
   },
   "outputs": [
    {
     "name": "stdout",
     "output_type": "stream",
     "text": [
      "Epoch: 001 loss_train: 2.7649 acc_train: 0.1734 time: 4.9462s log_loss_val: 2.8207\n",
      "Validation Loss Decreased(inf--->2.820666) \t Saving The Model\n",
      "Epoch: 004 loss_train: 2.3972 acc_train: 0.2757 time: 4.6507s log_loss_val: 2.5825\n",
      "Validation Loss Decreased(2.820666--->2.582456) \t Saving The Model\n",
      "Epoch: 007 loss_train: 2.2505 acc_train: 0.3291 time: 4.7275s log_loss_val: 2.5054\n",
      "Validation Loss Decreased(2.582456--->2.505446) \t Saving The Model\n",
      "Epoch: 010 loss_train: 2.0762 acc_train: 0.3934 time: 4.8641s log_loss_val: 2.4792\n",
      "Validation Loss Decreased(2.505446--->2.479188) \t Saving The Model\n",
      "Epoch: 013 loss_train: 1.9421 acc_train: 0.4343 time: 4.6025s log_loss_val: 2.4504\n",
      "Validation Loss Decreased(2.479188--->2.450377) \t Saving The Model\n",
      "Epoch: 016 loss_train: 1.8545 acc_train: 0.4550 time: 4.7616s log_loss_val: 2.3878\n",
      "Validation Loss Decreased(2.450377--->2.387797) \t Saving The Model\n",
      "Epoch: 019 loss_train: 1.7756 acc_train: 0.4750 time: 4.5987s log_loss_val: 2.3862\n",
      "Validation Loss Decreased(2.387797--->2.386222) \t Saving The Model\n",
      "Epoch: 022 loss_train: 1.7117 acc_train: 0.4932 time: 4.7736s log_loss_val: 2.2992\n",
      "Validation Loss Decreased(2.386222--->2.299178) \t Saving The Model\n",
      "Epoch: 025 loss_train: 1.6644 acc_train: 0.5041 time: 4.6691s log_loss_val: 2.2264\n",
      "Validation Loss Decreased(2.299178--->2.226384) \t Saving The Model\n",
      "Epoch: 028 loss_train: 1.6172 acc_train: 0.5205 time: 4.7825s log_loss_val: 2.2007\n",
      "Validation Loss Decreased(2.226384--->2.200715) \t Saving The Model\n",
      "Epoch: 031 loss_train: 1.5753 acc_train: 0.5291 time: 4.5839s log_loss_val: 2.1795\n",
      "Validation Loss Decreased(2.200715--->2.179508) \t Saving The Model\n",
      "Epoch: 034 loss_train: 1.5353 acc_train: 0.5393 time: 4.8414s log_loss_val: 2.1465\n",
      "Validation Loss Decreased(2.179508--->2.146533) \t Saving The Model\n",
      "Epoch: 037 loss_train: 1.5081 acc_train: 0.5559 time: 4.8052s log_loss_val: 2.1402\n",
      "Validation Loss Decreased(2.146533--->2.140196) \t Saving The Model\n",
      "Epoch: 040 loss_train: 1.4703 acc_train: 0.5641 time: 4.6468s log_loss_val: 2.0635\n",
      "Validation Loss Decreased(2.140196--->2.063505) \t Saving The Model\n",
      "Epoch: 043 loss_train: 1.4424 acc_train: 0.5698 time: 4.6829s log_loss_val: 2.0593\n",
      "Validation Loss Decreased(2.063505--->2.059293) \t Saving The Model\n",
      "Epoch: 046 loss_train: 1.4155 acc_train: 0.5766 time: 4.7563s log_loss_val: 2.0109\n",
      "Validation Loss Decreased(2.059293--->2.010879) \t Saving The Model\n",
      "Epoch: 049 loss_train: 1.3847 acc_train: 0.5850 time: 4.6715s log_loss_val: 2.0817\n",
      "Validation loss increased :(\n",
      "Epoch: 052 loss_train: 1.3582 acc_train: 0.5961 time: 4.5397s log_loss_val: 2.0234\n",
      "Validation loss increased :(\n",
      "Epoch: 055 loss_train: 1.3352 acc_train: 0.5998 time: 4.6937s log_loss_val: 2.0518\n",
      "Validation loss increased :(\n",
      "Epoch: 058 loss_train: 1.3070 acc_train: 0.6150 time: 4.6285s log_loss_val: 1.9980\n",
      "Validation Loss Decreased(2.010879--->1.998024) \t Saving The Model\n",
      "Epoch: 061 loss_train: 1.2872 acc_train: 0.6207 time: 4.7512s log_loss_val: 2.0043\n",
      "Validation loss increased :(\n",
      "Epoch: 064 loss_train: 1.2581 acc_train: 0.6193 time: 4.6383s log_loss_val: 1.9811\n",
      "Validation Loss Decreased(1.998024--->1.981139) \t Saving The Model\n",
      "Epoch: 067 loss_train: 1.2481 acc_train: 0.6273 time: 4.8182s log_loss_val: 1.9730\n",
      "Validation Loss Decreased(1.981139--->1.972953) \t Saving The Model\n",
      "Epoch: 070 loss_train: 1.2110 acc_train: 0.6389 time: 4.7788s log_loss_val: 2.0015\n",
      "Validation loss increased :(\n",
      "Epoch: 073 loss_train: 1.1899 acc_train: 0.6402 time: 4.6065s log_loss_val: 1.9524\n",
      "Validation Loss Decreased(1.972953--->1.952439) \t Saving The Model\n",
      "Epoch: 076 loss_train: 1.1672 acc_train: 0.6498 time: 4.7974s log_loss_val: 1.9763\n",
      "Validation loss increased :(\n",
      "Epoch: 079 loss_train: 1.1466 acc_train: 0.6495 time: 4.6488s log_loss_val: 2.0099\n",
      "Validation loss increased :(\n",
      "Epoch: 082 loss_train: 1.1251 acc_train: 0.6582 time: 4.7579s log_loss_val: 1.9972\n",
      "Validation loss increased :(\n",
      "Epoch: 085 loss_train: 1.0996 acc_train: 0.6666 time: 4.8651s log_loss_val: 1.9736\n",
      "Validation loss increased :(\n",
      "Epoch: 088 loss_train: 1.0788 acc_train: 0.6766 time: 4.7271s log_loss_val: 2.0419\n",
      "Validation loss increased :(\n",
      "Epoch: 091 loss_train: 1.0578 acc_train: 0.6832 time: 4.7854s log_loss_val: 2.0010\n",
      "Validation loss increased :(\n",
      "Epoch: 094 loss_train: 1.0383 acc_train: 0.6866 time: 4.9694s log_loss_val: 2.0074\n",
      "Validation loss increased :(\n",
      "Epoch: 097 loss_train: 1.0037 acc_train: 0.6945 time: 5.0180s log_loss_val: 2.0287\n",
      "Validation loss increased :(\n",
      "Epoch: 100 loss_train: 0.9863 acc_train: 0.6998 time: 4.6347s log_loss_val: 2.0441\n",
      "Validation loss increased :(\n"
     ]
    }
   ],
   "source": [
    "train_gnn(adj_train_g, features_train_g, y_train_g, adj_val_g, features_val_g, y_val_g)"
   ]
  },
  {
   "cell_type": "code",
   "execution_count": 31,
   "id": "14cfb3e7-6679-44a2-914a-3708e51fc9ac",
   "metadata": {
    "execution": {
     "iopub.execute_input": "2023-01-20T03:20:13.943373Z",
     "iopub.status.busy": "2023-01-20T03:20:13.942473Z",
     "iopub.status.idle": "2023-01-20T03:20:15.296774Z",
     "shell.execute_reply": "2023-01-20T03:20:15.296311Z",
     "shell.execute_reply.started": "2023-01-20T03:20:13.943352Z"
    }
   },
   "outputs": [],
   "source": [
    "GNN_proba, GNN_pred = predict_test(adj_test, features_test, model)"
   ]
  },
  {
   "cell_type": "code",
   "execution_count": 34,
   "id": "506dfd22-b651-4e85-9717-ac47d834ca46",
   "metadata": {
    "execution": {
     "iopub.execute_input": "2023-01-20T03:21:48.062856Z",
     "iopub.status.busy": "2023-01-20T03:21:48.062134Z",
     "iopub.status.idle": "2023-01-20T03:21:48.171276Z",
     "shell.execute_reply": "2023-01-20T03:21:48.170478Z",
     "shell.execute_reply.started": "2023-01-20T03:21:48.062832Z"
    }
   },
   "outputs": [],
   "source": [
    "submit(GNN_proba)"
   ]
  },
  {
   "cell_type": "code",
   "execution_count": 48,
   "id": "755c7db7-e43d-44bd-be9d-5dd2584cd228",
   "metadata": {
    "execution": {
     "iopub.execute_input": "2023-01-20T03:05:56.227859Z",
     "iopub.status.busy": "2023-01-20T03:05:56.227298Z",
     "iopub.status.idle": "2023-01-20T03:05:56.234204Z",
     "shell.execute_reply": "2023-01-20T03:05:56.233395Z",
     "shell.execute_reply.started": "2023-01-20T03:05:56.227835Z"
    }
   },
   "outputs": [
    {
     "name": "stdout",
     "output_type": "stream",
     "text": [
      "loss = 1.6898060926918796 and accuracy accuracy = 55.12\n"
     ]
    }
   ],
   "source": [
    "weighted_mc_log_loss(y_val_g, GNN_pred, GNN_proba)"
   ]
  },
  {
   "cell_type": "code",
   "execution_count": 62,
   "id": "86ded0c0-85f6-4ceb-a1d1-7f9cb06f6d78",
   "metadata": {
    "execution": {
     "iopub.execute_input": "2023-01-20T04:38:19.180806Z",
     "iopub.status.busy": "2023-01-20T04:38:19.180529Z",
     "iopub.status.idle": "2023-01-20T04:38:19.675500Z",
     "shell.execute_reply": "2023-01-20T04:38:19.674823Z",
     "shell.execute_reply.started": "2023-01-20T04:38:19.180788Z"
    }
   },
   "outputs": [],
   "source": [
    "features_svm = np.array([features.mean(0) for features in features_train])"
   ]
  },
  {
   "cell_type": "code",
   "execution_count": 64,
   "id": "3375e13b-3f48-4596-91fd-108d427b9fae",
   "metadata": {
    "execution": {
     "iopub.execute_input": "2023-01-20T04:42:39.013897Z",
     "iopub.status.busy": "2023-01-20T04:42:39.013632Z",
     "iopub.status.idle": "2023-01-20T04:42:39.020245Z",
     "shell.execute_reply": "2023-01-20T04:42:39.019605Z",
     "shell.execute_reply.started": "2023-01-20T04:42:39.013878Z"
    }
   },
   "outputs": [],
   "source": [
    "features_train_svm = features_svm[:4400]\n",
    "features_test_svm = features_svm[4400:]\n",
    "y_train_g, y_test_g = y_train[:4400], y_train[4400:]"
   ]
  },
  {
   "cell_type": "code",
   "execution_count": 67,
   "id": "8cfff35d-885b-4d01-a652-d9568ac9d050",
   "metadata": {
    "execution": {
     "iopub.execute_input": "2023-01-20T04:44:23.784525Z",
     "iopub.status.busy": "2023-01-20T04:44:23.783789Z",
     "iopub.status.idle": "2023-01-20T04:44:44.545200Z",
     "shell.execute_reply": "2023-01-20T04:44:44.544609Z",
     "shell.execute_reply.started": "2023-01-20T04:44:23.784501Z"
    }
   },
   "outputs": [
    {
     "data": {
      "text/html": [
       "<style>#sk-container-id-2 {color: black;background-color: white;}#sk-container-id-2 pre{padding: 0;}#sk-container-id-2 div.sk-toggleable {background-color: white;}#sk-container-id-2 label.sk-toggleable__label {cursor: pointer;display: block;width: 100%;margin-bottom: 0;padding: 0.3em;box-sizing: border-box;text-align: center;}#sk-container-id-2 label.sk-toggleable__label-arrow:before {content: \"▸\";float: left;margin-right: 0.25em;color: #696969;}#sk-container-id-2 label.sk-toggleable__label-arrow:hover:before {color: black;}#sk-container-id-2 div.sk-estimator:hover label.sk-toggleable__label-arrow:before {color: black;}#sk-container-id-2 div.sk-toggleable__content {max-height: 0;max-width: 0;overflow: hidden;text-align: left;background-color: #f0f8ff;}#sk-container-id-2 div.sk-toggleable__content pre {margin: 0.2em;color: black;border-radius: 0.25em;background-color: #f0f8ff;}#sk-container-id-2 input.sk-toggleable__control:checked~div.sk-toggleable__content {max-height: 200px;max-width: 100%;overflow: auto;}#sk-container-id-2 input.sk-toggleable__control:checked~label.sk-toggleable__label-arrow:before {content: \"▾\";}#sk-container-id-2 div.sk-estimator input.sk-toggleable__control:checked~label.sk-toggleable__label {background-color: #d4ebff;}#sk-container-id-2 div.sk-label input.sk-toggleable__control:checked~label.sk-toggleable__label {background-color: #d4ebff;}#sk-container-id-2 input.sk-hidden--visually {border: 0;clip: rect(1px 1px 1px 1px);clip: rect(1px, 1px, 1px, 1px);height: 1px;margin: -1px;overflow: hidden;padding: 0;position: absolute;width: 1px;}#sk-container-id-2 div.sk-estimator {font-family: monospace;background-color: #f0f8ff;border: 1px dotted black;border-radius: 0.25em;box-sizing: border-box;margin-bottom: 0.5em;}#sk-container-id-2 div.sk-estimator:hover {background-color: #d4ebff;}#sk-container-id-2 div.sk-parallel-item::after {content: \"\";width: 100%;border-bottom: 1px solid gray;flex-grow: 1;}#sk-container-id-2 div.sk-label:hover label.sk-toggleable__label {background-color: #d4ebff;}#sk-container-id-2 div.sk-serial::before {content: \"\";position: absolute;border-left: 1px solid gray;box-sizing: border-box;top: 0;bottom: 0;left: 50%;z-index: 0;}#sk-container-id-2 div.sk-serial {display: flex;flex-direction: column;align-items: center;background-color: white;padding-right: 0.2em;padding-left: 0.2em;position: relative;}#sk-container-id-2 div.sk-item {position: relative;z-index: 1;}#sk-container-id-2 div.sk-parallel {display: flex;align-items: stretch;justify-content: center;background-color: white;position: relative;}#sk-container-id-2 div.sk-item::before, #sk-container-id-2 div.sk-parallel-item::before {content: \"\";position: absolute;border-left: 1px solid gray;box-sizing: border-box;top: 0;bottom: 0;left: 50%;z-index: -1;}#sk-container-id-2 div.sk-parallel-item {display: flex;flex-direction: column;z-index: 1;position: relative;background-color: white;}#sk-container-id-2 div.sk-parallel-item:first-child::after {align-self: flex-end;width: 50%;}#sk-container-id-2 div.sk-parallel-item:last-child::after {align-self: flex-start;width: 50%;}#sk-container-id-2 div.sk-parallel-item:only-child::after {width: 0;}#sk-container-id-2 div.sk-dashed-wrapped {border: 1px dashed gray;margin: 0 0.4em 0.5em 0.4em;box-sizing: border-box;padding-bottom: 0.4em;background-color: white;}#sk-container-id-2 div.sk-label label {font-family: monospace;font-weight: bold;display: inline-block;line-height: 1.2em;}#sk-container-id-2 div.sk-label-container {text-align: center;}#sk-container-id-2 div.sk-container {/* jupyter's `normalize.less` sets `[hidden] { display: none; }` but bootstrap.min.css set `[hidden] { display: none !important; }` so we also need the `!important` here to be able to override the default hidden behavior on the sphinx rendered scikit-learn.org. See: https://github.com/scikit-learn/scikit-learn/issues/21755 */display: inline-block !important;position: relative;}#sk-container-id-2 div.sk-text-repr-fallback {display: none;}</style><div id=\"sk-container-id-2\" class=\"sk-top-container\"><div class=\"sk-text-repr-fallback\"><pre>SVC(probability=True)</pre><b>In a Jupyter environment, please rerun this cell to show the HTML representation or trust the notebook. <br />On GitHub, the HTML representation is unable to render, please try loading this page with nbviewer.org.</b></div><div class=\"sk-container\" hidden><div class=\"sk-item\"><div class=\"sk-estimator sk-toggleable\"><input class=\"sk-toggleable__control sk-hidden--visually\" id=\"sk-estimator-id-2\" type=\"checkbox\" checked><label for=\"sk-estimator-id-2\" class=\"sk-toggleable__label sk-toggleable__label-arrow\">SVC</label><div class=\"sk-toggleable__content\"><pre>SVC(probability=True)</pre></div></div></div></div></div>"
      ],
      "text/plain": [
       "SVC(probability=True)"
      ]
     },
     "execution_count": 67,
     "metadata": {},
     "output_type": "execute_result"
    }
   ],
   "source": [
    "from sklearn.svm import SVC\n",
    "\n",
    "svc = SVC(kernel=\"rbf\", probability=True)\n",
    "svc.fit(features_train_svm, y_train_g)"
   ]
  },
  {
   "cell_type": "code",
   "execution_count": 71,
   "id": "3a848c27-16bd-4908-b6d8-a2c25963e477",
   "metadata": {
    "execution": {
     "iopub.execute_input": "2023-01-20T04:45:57.970085Z",
     "iopub.status.busy": "2023-01-20T04:45:57.969833Z",
     "iopub.status.idle": "2023-01-20T04:45:59.588637Z",
     "shell.execute_reply": "2023-01-20T04:45:59.587609Z",
     "shell.execute_reply.started": "2023-01-20T04:45:57.970067Z"
    }
   },
   "outputs": [
    {
     "name": "stdout",
     "output_type": "stream",
     "text": [
      "loss = 2.275820301830954 and accuracy accuracy = 19.06\n"
     ]
    }
   ],
   "source": [
    "y_pred_proba = svc.predict_proba(features_test_svm)\n",
    "y_pred = svc.predict(features_test_svm)\n",
    "weighted_mc_log_loss(y_test_g, y_pred, y_pred_proba)"
   ]
  },
  {
   "cell_type": "code",
   "execution_count": 69,
   "id": "ea1f9d4e-1a2a-4b26-9f21-bc3b455b0773",
   "metadata": {
    "execution": {
     "iopub.execute_input": "2023-01-20T04:45:17.822433Z",
     "iopub.status.busy": "2023-01-20T04:45:17.822176Z",
     "iopub.status.idle": "2023-01-20T04:45:17.831538Z",
     "shell.execute_reply": "2023-01-20T04:45:17.830954Z",
     "shell.execute_reply.started": "2023-01-20T04:45:17.822415Z"
    }
   },
   "outputs": [],
   "source": [
    "# weighted multi-class log loss\n",
    "from sklearn.metrics import log_loss\n",
    "\n",
    "\n",
    "def weighted_mc_log_loss(y_true, y_pred, y_pred_proba):\n",
    "    loss = log_loss(y_true, y_pred_proba, labels=np.unique(y_true))\n",
    "    accuracy = round((y_true == y_pred).sum() / len(y_true) * 100, 2)\n",
    "    return print(f\"{loss = } and accuracy {accuracy = }\")"
   ]
  },
  {
   "cell_type": "code",
   "execution_count": null,
   "id": "03dd6a35-7b3e-4a5a-a935-e8862ca4ef08",
   "metadata": {},
   "outputs": [],
   "source": []
  }
 ],
 "metadata": {
  "kernelspec": {
   "display_name": "Python 3 (ipykernel)",
   "language": "python",
   "name": "python3"
  },
  "language_info": {
   "codemirror_mode": {
    "name": "ipython",
    "version": 3
   },
   "file_extension": ".py",
   "mimetype": "text/x-python",
   "name": "python",
   "nbconvert_exporter": "python",
   "pygments_lexer": "ipython3",
   "version": "3.9.13"
  }
 },
 "nbformat": 4,
 "nbformat_minor": 5
}
