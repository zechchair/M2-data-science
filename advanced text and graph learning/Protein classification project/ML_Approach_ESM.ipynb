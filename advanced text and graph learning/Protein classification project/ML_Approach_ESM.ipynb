{
 "cells": [
  {
   "cell_type": "markdown",
   "id": "bfd9c5aa-4a4d-4f6e-a3b4-c758851856d3",
   "metadata": {},
   "source": [
    "# In this notebook we will ain catbboost / xgboost model then compare it with GCN"
   ]
  },
  {
   "cell_type": "code",
   "execution_count": 1,
   "id": "d514801b-cb8f-49c6-85c5-84a49a687ee2",
   "metadata": {
    "execution": {
     "iopub.execute_input": "2023-01-22T21:33:24.200943Z",
     "iopub.status.busy": "2023-01-22T21:33:24.200195Z",
     "iopub.status.idle": "2023-01-22T21:33:24.204210Z",
     "shell.execute_reply": "2023-01-22T21:33:24.203736Z",
     "shell.execute_reply.started": "2023-01-22T21:33:24.200878Z"
    },
    "tags": []
   },
   "outputs": [],
   "source": [
    "# from IPython.display import clear_output\n",
    "\n",
    "\n",
    "# # !pip install tensorflow\n",
    "# # !pip install  spacy\n",
    "# # !pip install tqdm\n",
    "# # !pip install plotly\n",
    "# !pip install jupyter-black\n",
    "# !pip install imblearn\n",
    "# # !pip install transformers\n",
    "# # !pip install sentencepiece\n",
    "# !pip install catboost\n",
    "\n",
    "# # clear_output()"
   ]
  },
  {
   "cell_type": "code",
   "execution_count": 2,
   "id": "0de08d6f-df86-4914-99b9-776359ccc214",
   "metadata": {
    "execution": {
     "iopub.execute_input": "2023-01-22T21:33:24.205708Z",
     "iopub.status.busy": "2023-01-22T21:33:24.205066Z",
     "iopub.status.idle": "2023-01-22T21:33:24.208091Z",
     "shell.execute_reply": "2023-01-22T21:33:24.207624Z",
     "shell.execute_reply.started": "2023-01-22T21:33:24.205689Z"
    },
    "tags": []
   },
   "outputs": [],
   "source": [
    "# import transformers"
   ]
  },
  {
   "cell_type": "markdown",
   "id": "aab47875-d7b8-467e-9f9a-824abb3b9105",
   "metadata": {},
   "source": [
    "## Data preprocessing"
   ]
  },
  {
   "cell_type": "markdown",
   "id": "8b92068b-ba2c-4f7d-b774-e77d9743c4f9",
   "metadata": {},
   "source": [
    "### Import libraries"
   ]
  },
  {
   "cell_type": "code",
   "execution_count": 3,
   "id": "0f3f4560-096a-4342-9371-ccb1bbaef8b0",
   "metadata": {
    "execution": {
     "iopub.execute_input": "2023-01-22T21:33:27.543950Z",
     "iopub.status.busy": "2023-01-22T21:33:27.543241Z",
     "iopub.status.idle": "2023-01-22T21:33:28.228938Z",
     "shell.execute_reply": "2023-01-22T21:33:28.228230Z",
     "shell.execute_reply.started": "2023-01-22T21:33:27.543924Z"
    },
    "tags": []
   },
   "outputs": [],
   "source": [
    "import csv\n",
    "import re\n",
    "import numpy as np\n",
    "from sklearn.metrics import accuracy_score, log_loss\n",
    "from sklearn.feature_extraction.text import TfidfVectorizer\n",
    "from sklearn.linear_model import LogisticRegression\n",
    "import pandas as pd\n",
    "from sklearn.neighbors import KNeighborsClassifier\n",
    "from sklearn.metrics import accuracy_score\n",
    "import pandas as pd\n",
    "from sklearn.metrics import classification_report\n",
    "from tqdm.notebook import tqdm\n",
    "\n",
    "tqdm.pandas()"
   ]
  },
  {
   "cell_type": "code",
   "execution_count": 4,
   "id": "ba5fcdd3-4daf-4942-bdec-989e2c169e6c",
   "metadata": {
    "execution": {
     "iopub.execute_input": "2023-01-22T21:33:29.115298Z",
     "iopub.status.busy": "2023-01-22T21:33:29.114559Z",
     "iopub.status.idle": "2023-01-22T21:33:29.164878Z",
     "shell.execute_reply": "2023-01-22T21:33:29.164252Z",
     "shell.execute_reply.started": "2023-01-22T21:33:29.115272Z"
    },
    "tags": []
   },
   "outputs": [
    {
     "data": {
      "text/html": [
       "\n",
       "                <script type=\"application/javascript\" id=\"jupyter_black\">\n",
       "                (function() {\n",
       "                    if (window.IPython === undefined) {\n",
       "                        return\n",
       "                    }\n",
       "                    var msg = \"WARNING: it looks like you might have loaded \" +\n",
       "                        \"jupyter_black in a non-lab notebook with \" +\n",
       "                        \"`is_lab=True`. Please double check, and if \" +\n",
       "                        \"loading with `%load_ext` please review the README!\"\n",
       "                    console.log(msg)\n",
       "                    alert(msg)\n",
       "                })()\n",
       "                </script>\n",
       "                "
      ],
      "text/plain": [
       "<IPython.core.display.HTML object>"
      ]
     },
     "metadata": {},
     "output_type": "display_data"
    }
   ],
   "source": [
    "%load_ext jupyter_black"
   ]
  },
  {
   "cell_type": "code",
   "execution_count": 5,
   "id": "7a331634-a658-4862-acd5-cb498ef7064f",
   "metadata": {
    "execution": {
     "iopub.execute_input": "2023-01-22T21:33:30.028447Z",
     "iopub.status.busy": "2023-01-22T21:33:30.027771Z",
     "iopub.status.idle": "2023-01-22T21:33:30.034112Z",
     "shell.execute_reply": "2023-01-22T21:33:30.033461Z",
     "shell.execute_reply.started": "2023-01-22T21:33:30.028421Z"
    },
    "tags": []
   },
   "outputs": [],
   "source": [
    "np.set_printoptions(precision=4)"
   ]
  },
  {
   "cell_type": "code",
   "execution_count": 6,
   "id": "00dc7a6f-c7d5-4cbb-b0a7-539e42eeeb2f",
   "metadata": {
    "execution": {
     "iopub.execute_input": "2023-01-22T21:33:31.776198Z",
     "iopub.status.busy": "2023-01-22T21:33:31.775283Z",
     "iopub.status.idle": "2023-01-22T21:33:31.789764Z",
     "shell.execute_reply": "2023-01-22T21:33:31.789060Z",
     "shell.execute_reply.started": "2023-01-22T21:33:31.776170Z"
    },
    "tags": []
   },
   "outputs": [],
   "source": [
    "def submit(y_pred_proba, name=\"\"):\n",
    "    # Write predictions to a file\n",
    "    with open(\"../Submissions/\" + name + \"ML_Approach_ESM.csv\", \"w\") as csvfile:\n",
    "        writer = csv.writer(csvfile, delimiter=\",\")\n",
    "        lst = list()\n",
    "        for i in range(18):\n",
    "            lst.append(\"class\" + str(i))\n",
    "        lst.insert(0, \"name\")\n",
    "        writer.writerow(lst)\n",
    "        for i, protein in enumerate(proteins_test):\n",
    "            lst = y_pred_proba[i, :].tolist()\n",
    "            lst.insert(0, protein)\n",
    "            writer.writerow(lst)"
   ]
  },
  {
   "cell_type": "code",
   "execution_count": 7,
   "id": "a3501096-163b-4730-9547-eb72aefe84f9",
   "metadata": {
    "execution": {
     "iopub.execute_input": "2023-01-22T21:33:33.363554Z",
     "iopub.status.busy": "2023-01-22T21:33:33.363270Z",
     "iopub.status.idle": "2023-01-22T21:33:33.378998Z",
     "shell.execute_reply": "2023-01-22T21:33:33.378366Z",
     "shell.execute_reply.started": "2023-01-22T21:33:33.363534Z"
    }
   },
   "outputs": [],
   "source": [
    "### Important functions\n",
    "\n",
    "\n",
    "def softmax(x):\n",
    "    y = np.exp(x - np.max(x))\n",
    "    f_x = y / np.sum(np.exp(x))\n",
    "    return f_x\n",
    "\n",
    "\n",
    "softmax_vect = np.vectorize(softmax)\n",
    "\n",
    "# weighted multi-class log loss\n",
    "from sklearn.metrics import log_loss\n",
    "\n",
    "\n",
    "def weighted_mc_log_loss(y_true, y_pred, y_pred_proba):\n",
    "    loss = log_loss(y_true, y_pred_proba, labels=np.unique(y_true))\n",
    "    accuracy = round((y_true == y_pred).sum() / len(y_true) * 100, 2)\n",
    "    return print(f\"{loss = } and accuracy {accuracy = }\")"
   ]
  },
  {
   "cell_type": "markdown",
   "id": "44121573-5f12-45de-9286-3e7c4d79050d",
   "metadata": {},
   "source": [
    "### Import data"
   ]
  },
  {
   "cell_type": "code",
   "execution_count": 8,
   "id": "84831f60-33fd-4e57-af63-8fbc37a943cd",
   "metadata": {
    "execution": {
     "iopub.execute_input": "2023-01-22T21:33:37.061001Z",
     "iopub.status.busy": "2023-01-22T21:33:37.060704Z",
     "iopub.status.idle": "2023-01-22T21:33:37.624119Z",
     "shell.execute_reply": "2023-01-22T21:33:37.623486Z",
     "shell.execute_reply.started": "2023-01-22T21:33:37.060979Z"
    },
    "tags": []
   },
   "outputs": [],
   "source": [
    "import time\n",
    "import scipy.sparse as sp\n",
    "\n",
    "import torch\n",
    "import torch.nn as nn\n",
    "import torch.nn.functional as F\n",
    "from torch import optim\n",
    "\n",
    "path = \"./data/\"\n",
    "\n",
    "\n",
    "def load_data():\n",
    "    \"\"\"\n",
    "    Function that loads graphs\n",
    "    \"\"\"\n",
    "    graph_indicator = np.loadtxt(path + \"graph_indicator.txt\", dtype=np.int64)\n",
    "    _, graph_size = np.unique(graph_indicator, return_counts=True)\n",
    "\n",
    "    edges = np.loadtxt(path + \"edgelist.txt\", dtype=np.int64, delimiter=\",\")\n",
    "    edges_inv = np.vstack((edges[:, 1], edges[:, 0]))\n",
    "    edges = np.vstack((edges, edges_inv.T))\n",
    "    s = edges[:, 0] * graph_indicator.size + edges[:, 1]\n",
    "    idx_sort = np.argsort(s)\n",
    "    edges = edges[idx_sort, :]\n",
    "    edges, idx_unique = np.unique(edges, axis=0, return_index=True)\n",
    "    A = sp.csr_matrix(\n",
    "        (np.ones(edges.shape[0]), (edges[:, 0], edges[:, 1])),\n",
    "        shape=(graph_indicator.size, graph_indicator.size),\n",
    "    )\n",
    "\n",
    "    x = np.loadtxt(path + \"node_attributes.txt\", delimiter=\",\")\n",
    "    edge_attr = np.loadtxt(path + \"edge_attributes.txt\", delimiter=\",\")\n",
    "    edge_attr = np.vstack((edge_attr, edge_attr))\n",
    "    edge_attr = edge_attr[idx_sort, :]\n",
    "    edge_attr = edge_attr[idx_unique, :]\n",
    "\n",
    "    adj = []\n",
    "    features = []\n",
    "    edge_features = []\n",
    "    idx_n = 0\n",
    "    idx_m = 0\n",
    "    for i in range(graph_size.size):\n",
    "        adj.append(A[idx_n : idx_n + graph_size[i], idx_n : idx_n + graph_size[i]])\n",
    "        edge_features.append(edge_attr[idx_m : idx_m + adj[i].nnz, :])\n",
    "        features.append(x[idx_n : idx_n + graph_size[i], :])\n",
    "        idx_n += graph_size[i]\n",
    "        idx_m += adj[i].nnz\n",
    "\n",
    "    return adj, features, edge_features"
   ]
  },
  {
   "cell_type": "code",
   "execution_count": 9,
   "id": "03e29c94-8443-47dc-b99e-1e9c85077958",
   "metadata": {
    "execution": {
     "iopub.execute_input": "2023-01-22T21:33:38.084712Z",
     "iopub.status.busy": "2023-01-22T21:33:38.084092Z",
     "iopub.status.idle": "2023-01-22T21:33:38.100903Z",
     "shell.execute_reply": "2023-01-22T21:33:38.100304Z",
     "shell.execute_reply.started": "2023-01-22T21:33:38.084689Z"
    },
    "tags": []
   },
   "outputs": [],
   "source": [
    "def normalize_adjacency(A):\n",
    "    \"\"\"\n",
    "    Function that normalizes an adjacency matrix\n",
    "    \"\"\"\n",
    "    n = A.shape[0]\n",
    "    A += sp.identity(n)\n",
    "    degs = A.dot(np.ones(n))\n",
    "    inv_degs = np.power(degs, -1)\n",
    "    D = sp.diags(inv_degs)\n",
    "    A_normalized = D.dot(A)\n",
    "\n",
    "    return A_normalized\n",
    "\n",
    "\n",
    "def sparse_mx_to_torch_sparse_tensor(sparse_mx):\n",
    "    \"\"\"\n",
    "    Function that converts a Scipy sparse matrix to a sparse Torch tensor\n",
    "    \"\"\"\n",
    "    sparse_mx = sparse_mx.tocoo().astype(np.float32)\n",
    "    indices = torch.from_numpy(\n",
    "        np.vstack((sparse_mx.row, sparse_mx.col)).astype(np.int64)\n",
    "    )\n",
    "    values = torch.from_numpy(sparse_mx.data)\n",
    "    shape = torch.Size(sparse_mx.shape)\n",
    "    return torch.sparse.FloatTensor(indices, values, shape)"
   ]
  },
  {
   "cell_type": "code",
   "execution_count": 10,
   "id": "d85c3a3f-8d37-440b-8a7e-32a83908d15e",
   "metadata": {
    "execution": {
     "iopub.execute_input": "2023-01-22T21:33:58.454211Z",
     "iopub.status.busy": "2023-01-22T21:33:58.453912Z",
     "iopub.status.idle": "2023-01-22T21:33:58.459159Z",
     "shell.execute_reply": "2023-01-22T21:33:58.458569Z",
     "shell.execute_reply.started": "2023-01-22T21:33:58.454188Z"
    },
    "tags": []
   },
   "outputs": [],
   "source": [
    "y_train = list()\n",
    "proteins_test = list()"
   ]
  },
  {
   "cell_type": "code",
   "execution_count": 11,
   "id": "cbe57092-99e5-4732-bedd-a68a6e0b16e2",
   "metadata": {
    "execution": {
     "iopub.execute_input": "2023-01-22T21:34:11.343537Z",
     "iopub.status.busy": "2023-01-22T21:34:11.342984Z",
     "iopub.status.idle": "2023-01-22T21:34:11.358063Z",
     "shell.execute_reply": "2023-01-22T21:34:11.357369Z",
     "shell.execute_reply.started": "2023-01-22T21:34:11.343514Z"
    },
    "tags": []
   },
   "outputs": [],
   "source": [
    "with open(path + \"graph_labels.txt\", \"r\") as f:\n",
    "    for i, line in enumerate(f):\n",
    "        t = line.split(\",\")\n",
    "        if len(t[1][:-1]) == 0:\n",
    "            pass\n",
    "            proteins_test.append(t[0])\n",
    "        else:\n",
    "            y_train.append(int(t[1][:-1]))"
   ]
  },
  {
   "cell_type": "code",
   "execution_count": 19,
   "id": "42505a15-dd88-4772-9533-66545b017afc",
   "metadata": {
    "execution": {
     "iopub.execute_input": "2023-01-22T21:39:16.198895Z",
     "iopub.status.busy": "2023-01-22T21:39:16.198349Z",
     "iopub.status.idle": "2023-01-22T21:39:50.943268Z",
     "shell.execute_reply": "2023-01-22T21:39:50.942493Z",
     "shell.execute_reply.started": "2023-01-22T21:39:16.198873Z"
    },
    "tags": []
   },
   "outputs": [],
   "source": [
    "import joblib as joblib\n",
    "\n",
    "# features_train = joblib.load(\"new_features_3B_params.sav\")\n",
    "features_test = joblib.load(\"new_features_test_3B_params.sav\")\n",
    "n_input = features_train[0].shape[1]"
   ]
  },
  {
   "cell_type": "code",
   "execution_count": 18,
   "id": "382eefde-9d81-4dcb-a9c5-afab34e9a8e2",
   "metadata": {
    "execution": {
     "iopub.execute_input": "2023-01-22T21:38:54.042438Z",
     "iopub.status.busy": "2023-01-22T21:38:54.042142Z",
     "iopub.status.idle": "2023-01-22T21:38:54.055563Z",
     "shell.execute_reply": "2023-01-22T21:38:54.054778Z",
     "shell.execute_reply.started": "2023-01-22T21:38:54.042416Z"
    },
    "tags": []
   },
   "outputs": [
    {
     "data": {
      "text/plain": [
       "2646"
      ]
     },
     "execution_count": 20,
     "metadata": {},
     "output_type": "execute_result"
    }
   ],
   "source": [
    "features_train[0].shape, len(features_train)"
   ]
  },
  {
   "cell_type": "code",
   "execution_count": 27,
   "id": "52d0ff3c-9e4c-4e84-b69c-48516b3435ed",
   "metadata": {
    "execution": {
     "iopub.execute_input": "2023-01-22T21:40:53.522077Z",
     "iopub.status.busy": "2023-01-22T21:40:53.521562Z",
     "iopub.status.idle": "2023-01-22T21:40:53.615114Z",
     "shell.execute_reply": "2023-01-22T21:40:53.614646Z",
     "shell.execute_reply.started": "2023-01-22T21:40:53.522054Z"
    }
   },
   "outputs": [
    {
     "data": {
      "text/plain": [
       "752"
      ]
     },
     "execution_count": 27,
     "metadata": {},
     "output_type": "execute_result"
    }
   ],
   "source": [
    "import gc\n",
    "# del features_train\n",
    "del features_test\n",
    "gc.collect()"
   ]
  },
  {
   "cell_type": "code",
   "execution_count": 22,
   "id": "d50ec40a-3d0e-4cb5-9272-18352a1dd755",
   "metadata": {
    "execution": {
     "iopub.execute_input": "2023-01-22T21:40:31.579244Z",
     "iopub.status.busy": "2023-01-22T21:40:31.578952Z",
     "iopub.status.idle": "2023-01-22T21:40:32.163152Z",
     "shell.execute_reply": "2023-01-22T21:40:32.162411Z",
     "shell.execute_reply.started": "2023-01-22T21:40:31.579222Z"
    },
    "tags": []
   },
   "outputs": [],
   "source": [
    "# features_seq_train = [feature.sum(0) for feature in features_train]\n",
    "features_seq_test = [feature.sum(0) for feature in features_test]"
   ]
  },
  {
   "cell_type": "code",
   "execution_count": 180,
   "id": "9548940b-8567-437e-98fa-44695eab4192",
   "metadata": {
    "tags": []
   },
   "outputs": [],
   "source": [
    "# features_seq_train_edges = []\n",
    "# for i in range(len(features_train)):\n",
    "#     feat_concatenated = np.concatenate(\n",
    "#         [features_train[i].mean(0), 0.2 * edge_features[i].mean(0)], axis=0\n",
    "#     )\n",
    "#     features_seq_train_edges += [feat_concatenated]\n",
    "# len(features_seq_train_edges), features_seq_train_edges[0].shape"
   ]
  },
  {
   "cell_type": "code",
   "execution_count": 42,
   "id": "cd51e667-f8c5-4945-8da1-fb1460e584ae",
   "metadata": {
    "execution": {
     "iopub.execute_input": "2023-01-22T21:59:15.982787Z",
     "iopub.status.busy": "2023-01-22T21:59:15.982251Z",
     "iopub.status.idle": "2023-01-22T21:59:15.998462Z",
     "shell.execute_reply": "2023-01-22T21:59:15.997846Z",
     "shell.execute_reply.started": "2023-01-22T21:59:15.982764Z"
    },
    "tags": []
   },
   "outputs": [],
   "source": [
    "from sklearn.model_selection import train_test_split\n",
    "\n",
    "X_train, X_test, y_train_cat, y_test_cat = train_test_split(\n",
    "    features_seq_train, y_train, test_size=0.1, random_state=42\n",
    ")"
   ]
  },
  {
   "cell_type": "markdown",
   "id": "0b2d65ef-5d67-4fd6-9185-187cbc93f59e",
   "metadata": {},
   "source": [
    " #### Xgboost part"
   ]
  },
  {
   "cell_type": "code",
   "execution_count": 29,
   "id": "05a39049-febb-48e4-b994-bcc4feadada0",
   "metadata": {
    "execution": {
     "iopub.execute_input": "2023-01-22T21:45:32.856423Z",
     "iopub.status.busy": "2023-01-22T21:45:32.855891Z",
     "iopub.status.idle": "2023-01-22T21:45:33.062736Z",
     "shell.execute_reply": "2023-01-22T21:45:33.061945Z",
     "shell.execute_reply.started": "2023-01-22T21:45:32.856401Z"
    }
   },
   "outputs": [],
   "source": [
    "import xgboost as xgb"
   ]
  },
  {
   "cell_type": "code",
   "execution_count": 46,
   "id": "5f93c508-a5ac-43b1-9294-92fa0c9acc63",
   "metadata": {
    "execution": {
     "iopub.execute_input": "2023-01-22T22:00:18.327917Z",
     "iopub.status.busy": "2023-01-22T22:00:18.327211Z",
     "iopub.status.idle": "2023-01-22T22:02:11.148861Z",
     "shell.execute_reply": "2023-01-22T22:02:11.148244Z",
     "shell.execute_reply.started": "2023-01-22T22:00:18.327891Z"
    }
   },
   "outputs": [
    {
     "name": "stdout",
     "output_type": "stream",
     "text": [
      "XGBClassifier(base_score=0.5, booster='gbtree', callbacks=None,\n",
      "              colsample_bylevel=1, colsample_bynode=1, colsample_bytree=1,\n",
      "              early_stopping_rounds=None, enable_categorical=False,\n",
      "              eval_metric=None, gamma=0, gpu_id=0, grow_policy='depthwise',\n",
      "              importance_type=None, interaction_constraints='',\n",
      "              learning_rate=0.300000012, max_bin=256, max_cat_to_onehot=4,\n",
      "              max_delta_step=0, max_depth=6, max_leaves=0, min_child_weight=1,\n",
      "              missing=nan, monotone_constraints='()', n_estimators=100,\n",
      "              n_jobs=0, num_parallel_tree=3, objective='multi:softprob',\n",
      "              predictor='gpu_predictor', random_state=0, reg_alpha=0, ...)\n"
     ]
    }
   ],
   "source": [
    "model = xgb.XGBClassifier(\n",
    "    tree_method=\"gpu_hist\",\n",
    "    gpu_id=0,\n",
    "    n_estimators=100,\n",
    "    num_parallel_tree=3,\n",
    "    max_depth=6,\n",
    "    predictor=\"gpu_predictor\",\n",
    ")\n",
    "model.fit(X_train, y_train_cat)\n",
    "print(model)"
   ]
  },
  {
   "cell_type": "code",
   "execution_count": 47,
   "id": "e8c15ef3-c268-434a-8937-73701c6f38a9",
   "metadata": {
    "execution": {
     "iopub.execute_input": "2023-01-22T22:02:11.150145Z",
     "iopub.status.busy": "2023-01-22T22:02:11.149935Z",
     "iopub.status.idle": "2023-01-22T22:02:11.337735Z",
     "shell.execute_reply": "2023-01-22T22:02:11.337103Z",
     "shell.execute_reply.started": "2023-01-22T22:02:11.150125Z"
    }
   },
   "outputs": [
    {
     "name": "stdout",
     "output_type": "stream",
     "text": [
      "0.7730061349693251\n",
      "loss = 0.8903337762916159 and accuracy accuracy = 77.3\n"
     ]
    }
   ],
   "source": [
    "print(model.score(X_test, y_test_cat))\n",
    "y_pred = model.predict(X_test)\n",
    "y_pred_proba_cat = model.predict_proba(X_test)\n",
    "weighted_mc_log_loss(y_test_cat, y_pred, y_pred_proba_cat)"
   ]
  },
  {
   "cell_type": "markdown",
   "id": "e4615121-dd8b-43c4-8ad5-fb7ca695509f",
   "metadata": {},
   "source": [
    "### catboost part "
   ]
  },
  {
   "cell_type": "code",
   "execution_count": 48,
   "id": "5ca3299a-de35-4bbd-b00f-92a21eeb2c8e",
   "metadata": {
    "execution": {
     "iopub.execute_input": "2023-01-22T22:04:09.509653Z",
     "iopub.status.busy": "2023-01-22T22:04:09.509000Z",
     "iopub.status.idle": "2023-01-22T22:11:18.007581Z",
     "shell.execute_reply": "2023-01-22T22:11:18.007004Z",
     "shell.execute_reply.started": "2023-01-22T22:04:09.509629Z"
    },
    "tags": []
   },
   "outputs": [
    {
     "data": {
      "text/plain": [
       "<catboost.core.CatBoostClassifier at 0x7ff12f95f9a0>"
      ]
     },
     "execution_count": 48,
     "metadata": {},
     "output_type": "execute_result"
    }
   ],
   "source": [
    "from catboost import CatBoostClassifier\n",
    "\n",
    "model1 = CatBoostClassifier(\n",
    "    iterations=3000,\n",
    "    task_type=\"GPU\",\n",
    "    devices=\"0:1\",\n",
    "    loss_function=\"MultiClass\",\n",
    "    use_best_model=True,  # loss_function=\"MultiClassOneVsAll\"\n",
    ")\n",
    "\n",
    "model1.fit(X_train, y_train_cat, eval_set=(X_test, y_test_cat), verbose=False)"
   ]
  },
  {
   "cell_type": "code",
   "execution_count": 49,
   "id": "58a36331-e4b8-44e5-b904-1d70c41e41ba",
   "metadata": {
    "execution": {
     "iopub.execute_input": "2023-01-22T22:12:32.064144Z",
     "iopub.status.busy": "2023-01-22T22:12:32.063549Z",
     "iopub.status.idle": "2023-01-22T22:12:32.069398Z",
     "shell.execute_reply": "2023-01-22T22:12:32.068618Z",
     "shell.execute_reply.started": "2023-01-22T22:12:32.064120Z"
    }
   },
   "outputs": [
    {
     "name": "stdout",
     "output_type": "stream",
     "text": [
      "2536\n"
     ]
    }
   ],
   "source": [
    "print(model1.get_best_iteration())"
   ]
  },
  {
   "cell_type": "code",
   "execution_count": 53,
   "id": "6f2e7441-6cfa-4b63-a76c-1a6501ffadb5",
   "metadata": {
    "execution": {
     "iopub.execute_input": "2023-01-22T22:18:22.779221Z",
     "iopub.status.busy": "2023-01-22T22:18:22.778518Z",
     "iopub.status.idle": "2023-01-22T22:18:23.591085Z",
     "shell.execute_reply": "2023-01-22T22:18:23.590597Z",
     "shell.execute_reply.started": "2023-01-22T22:18:22.779194Z"
    },
    "tags": []
   },
   "outputs": [
    {
     "name": "stdout",
     "output_type": "stream",
     "text": [
      "0.7995910020449898\n",
      "loss = 0.7449225561244002 and accuracy accuracy = 6942.54\n"
     ]
    }
   ],
   "source": [
    "print(model1.score(X_test, y_test_cat))\n",
    "y_pred = model1.predict(X_test)\n",
    "y_pred_proba_cat = model1.predict_proba(X_test)\n",
    "weighted_mc_log_loss(y_test_cat, y_pred, y_pred_proba_cat)"
   ]
  },
  {
   "cell_type": "code",
   "execution_count": 51,
   "id": "2a34bc6b-d286-4731-87ef-939c8809751f",
   "metadata": {
    "execution": {
     "iopub.execute_input": "2023-01-22T22:12:48.988120Z",
     "iopub.status.busy": "2023-01-22T22:12:48.987265Z",
     "iopub.status.idle": "2023-01-22T22:12:49.641745Z",
     "shell.execute_reply": "2023-01-22T22:12:49.641175Z",
     "shell.execute_reply.started": "2023-01-22T22:12:48.988092Z"
    }
   },
   "outputs": [],
   "source": [
    "y_pred_proba_cat = model1.predict_proba(features_seq_test)"
   ]
  },
  {
   "cell_type": "code",
   "execution_count": 52,
   "id": "8f26746d-744d-4c65-8809-3fd06caf7dd2",
   "metadata": {
    "execution": {
     "iopub.execute_input": "2023-01-22T22:13:27.725419Z",
     "iopub.status.busy": "2023-01-22T22:13:27.724633Z",
     "iopub.status.idle": "2023-01-22T22:13:27.771065Z",
     "shell.execute_reply": "2023-01-22T22:13:27.770555Z",
     "shell.execute_reply.started": "2023-01-22T22:13:27.725392Z"
    }
   },
   "outputs": [],
   "source": [
    "submit(y_pred_proba_cat, \"3_B_0_75_\")"
   ]
  },
  {
   "cell_type": "markdown",
   "id": "0e1df366-40db-4996-8991-7e01ea19e309",
   "metadata": {},
   "source": [
    "### random forest "
   ]
  },
  {
   "cell_type": "code",
   "execution_count": 160,
   "id": "3b243a0c-83ed-4b20-92ab-b23f22f7fd17",
   "metadata": {},
   "outputs": [
    {
     "data": {
      "text/html": [
       "<style>#sk-container-id-19 {color: black;background-color: white;}#sk-container-id-19 pre{padding: 0;}#sk-container-id-19 div.sk-toggleable {background-color: white;}#sk-container-id-19 label.sk-toggleable__label {cursor: pointer;display: block;width: 100%;margin-bottom: 0;padding: 0.3em;box-sizing: border-box;text-align: center;}#sk-container-id-19 label.sk-toggleable__label-arrow:before {content: \"▸\";float: left;margin-right: 0.25em;color: #696969;}#sk-container-id-19 label.sk-toggleable__label-arrow:hover:before {color: black;}#sk-container-id-19 div.sk-estimator:hover label.sk-toggleable__label-arrow:before {color: black;}#sk-container-id-19 div.sk-toggleable__content {max-height: 0;max-width: 0;overflow: hidden;text-align: left;background-color: #f0f8ff;}#sk-container-id-19 div.sk-toggleable__content pre {margin: 0.2em;color: black;border-radius: 0.25em;background-color: #f0f8ff;}#sk-container-id-19 input.sk-toggleable__control:checked~div.sk-toggleable__content {max-height: 200px;max-width: 100%;overflow: auto;}#sk-container-id-19 input.sk-toggleable__control:checked~label.sk-toggleable__label-arrow:before {content: \"▾\";}#sk-container-id-19 div.sk-estimator input.sk-toggleable__control:checked~label.sk-toggleable__label {background-color: #d4ebff;}#sk-container-id-19 div.sk-label input.sk-toggleable__control:checked~label.sk-toggleable__label {background-color: #d4ebff;}#sk-container-id-19 input.sk-hidden--visually {border: 0;clip: rect(1px 1px 1px 1px);clip: rect(1px, 1px, 1px, 1px);height: 1px;margin: -1px;overflow: hidden;padding: 0;position: absolute;width: 1px;}#sk-container-id-19 div.sk-estimator {font-family: monospace;background-color: #f0f8ff;border: 1px dotted black;border-radius: 0.25em;box-sizing: border-box;margin-bottom: 0.5em;}#sk-container-id-19 div.sk-estimator:hover {background-color: #d4ebff;}#sk-container-id-19 div.sk-parallel-item::after {content: \"\";width: 100%;border-bottom: 1px solid gray;flex-grow: 1;}#sk-container-id-19 div.sk-label:hover label.sk-toggleable__label {background-color: #d4ebff;}#sk-container-id-19 div.sk-serial::before {content: \"\";position: absolute;border-left: 1px solid gray;box-sizing: border-box;top: 0;bottom: 0;left: 50%;z-index: 0;}#sk-container-id-19 div.sk-serial {display: flex;flex-direction: column;align-items: center;background-color: white;padding-right: 0.2em;padding-left: 0.2em;position: relative;}#sk-container-id-19 div.sk-item {position: relative;z-index: 1;}#sk-container-id-19 div.sk-parallel {display: flex;align-items: stretch;justify-content: center;background-color: white;position: relative;}#sk-container-id-19 div.sk-item::before, #sk-container-id-19 div.sk-parallel-item::before {content: \"\";position: absolute;border-left: 1px solid gray;box-sizing: border-box;top: 0;bottom: 0;left: 50%;z-index: -1;}#sk-container-id-19 div.sk-parallel-item {display: flex;flex-direction: column;z-index: 1;position: relative;background-color: white;}#sk-container-id-19 div.sk-parallel-item:first-child::after {align-self: flex-end;width: 50%;}#sk-container-id-19 div.sk-parallel-item:last-child::after {align-self: flex-start;width: 50%;}#sk-container-id-19 div.sk-parallel-item:only-child::after {width: 0;}#sk-container-id-19 div.sk-dashed-wrapped {border: 1px dashed gray;margin: 0 0.4em 0.5em 0.4em;box-sizing: border-box;padding-bottom: 0.4em;background-color: white;}#sk-container-id-19 div.sk-label label {font-family: monospace;font-weight: bold;display: inline-block;line-height: 1.2em;}#sk-container-id-19 div.sk-label-container {text-align: center;}#sk-container-id-19 div.sk-container {/* jupyter's `normalize.less` sets `[hidden] { display: none; }` but bootstrap.min.css set `[hidden] { display: none !important; }` so we also need the `!important` here to be able to override the default hidden behavior on the sphinx rendered scikit-learn.org. See: https://github.com/scikit-learn/scikit-learn/issues/21755 */display: inline-block !important;position: relative;}#sk-container-id-19 div.sk-text-repr-fallback {display: none;}</style><div id=\"sk-container-id-19\" class=\"sk-top-container\"><div class=\"sk-text-repr-fallback\"><pre>RandomForestClassifier(criterion=&#x27;log_loss&#x27;, max_depth=10, n_estimators=1000,\n",
       "                       random_state=0)</pre><b>In a Jupyter environment, please rerun this cell to show the HTML representation or trust the notebook. <br />On GitHub, the HTML representation is unable to render, please try loading this page with nbviewer.org.</b></div><div class=\"sk-container\" hidden><div class=\"sk-item\"><div class=\"sk-estimator sk-toggleable\"><input class=\"sk-toggleable__control sk-hidden--visually\" id=\"sk-estimator-id-19\" type=\"checkbox\" checked><label for=\"sk-estimator-id-19\" class=\"sk-toggleable__label sk-toggleable__label-arrow\">RandomForestClassifier</label><div class=\"sk-toggleable__content\"><pre>RandomForestClassifier(criterion=&#x27;log_loss&#x27;, max_depth=10, n_estimators=1000,\n",
       "                       random_state=0)</pre></div></div></div></div></div>"
      ],
      "text/plain": [
       "RandomForestClassifier(criterion='log_loss', max_depth=10, n_estimators=1000,\n",
       "                       random_state=0)"
      ]
     },
     "execution_count": 160,
     "metadata": {},
     "output_type": "execute_result"
    }
   ],
   "source": [
    "from sklearn.ensemble import RandomForestClassifier\n",
    "\n",
    "rf = RandomForestClassifier(\n",
    "    max_depth=10, criterion=\"log_loss\", n_estimators=1000, random_state=0\n",
    ")\n",
    "rf.fit(X_train, y_train_cat)"
   ]
  },
  {
   "cell_type": "code",
   "execution_count": 161,
   "id": "544df3ac-dd7e-4978-9c3c-f376ce5d0ca9",
   "metadata": {
    "tags": []
   },
   "outputs": [
    {
     "name": "stdout",
     "output_type": "stream",
     "text": [
      "0.7096114519427403\n",
      "loss = 1.1549422379770247 and accuracy accuracy = 70.96\n"
     ]
    }
   ],
   "source": [
    "print(rf.score(X_test, y_test_cat))\n",
    "y_pred = rf.predict(X_test)\n",
    "y_pred_proba_rf = rf.predict_proba(X_test)\n",
    "weighted_mc_log_loss(y_test_cat, y_pred, y_pred_proba)"
   ]
  },
  {
   "cell_type": "code",
   "execution_count": 148,
   "id": "ea0eb609-c6ba-4c05-9fba-849428edea07",
   "metadata": {},
   "outputs": [],
   "source": [
    "y_pred_proba_cat_rf = (y_pred_proba_rf + y_pred_proba_cat) / 2"
   ]
  },
  {
   "cell_type": "code",
   "execution_count": 149,
   "id": "93007784-8c2a-4188-86d4-8ce17164f660",
   "metadata": {},
   "outputs": [
    {
     "data": {
      "text/plain": [
       "0.921897223727007"
      ]
     },
     "execution_count": 149,
     "metadata": {},
     "output_type": "execute_result"
    }
   ],
   "source": [
    "y_pred_proba_cat_rf = (y_pred_proba_rf + y_pred_proba_cat) / 2\n",
    "log_loss(y_test_cat, y_pred_proba_cat_rf, labels=np.unique(y_test_cat))"
   ]
  },
  {
   "cell_type": "markdown",
   "id": "7864cce6-fd67-41a3-9fad-3e667eb2fdde",
   "metadata": {
    "jp-MarkdownHeadingCollapsed": true,
    "tags": []
   },
   "source": [
    "## We tried predicting the mean of probabilities using sum cat_prob* 0,5 + GCN_proba * 0.5\n"
   ]
  },
  {
   "cell_type": "code",
   "execution_count": 27,
   "id": "816d7bbe-280f-4016-ac13-18049496dd8e",
   "metadata": {
    "tags": []
   },
   "outputs": [],
   "source": [
    "import pandas as pd\n",
    "import csv\n",
    "\n",
    "ems_gcn = pd.read_csv(\"../Submissions/geometric_GCNcov_150_param.csv\")\n",
    "catboost = pd.read_csv(\"../Submissions/ML_Approach_ESM.csv\")"
   ]
  },
  {
   "cell_type": "code",
   "execution_count": null,
   "id": "75716124-cf52-4a7d-941c-58294011230d",
   "metadata": {
    "tags": []
   },
   "outputs": [],
   "source": [
    "csv_total = pd.concat([catboost, ems_gcn], axis=1)\n",
    "csv_total.shape"
   ]
  },
  {
   "cell_type": "code",
   "execution_count": null,
   "id": "db1c7cf7-aa70-41d6-9523-e735d3f0246c",
   "metadata": {
    "tags": []
   },
   "outputs": [],
   "source": [
    "np.concatenate([catboost.to_numpy()[:, 0],catboost.to_numpy()[:,1:]*0.55 + 0.45*ems_gcn.to_numpy()[:,1:]],axis=1)"
   ]
  },
  {
   "cell_type": "code",
   "execution_count": null,
   "id": "e7150da6-820c-472c-ad23-b1593e2e1133",
   "metadata": {
    "tags": []
   },
   "outputs": [],
   "source": [
    "catboost.to_numpy()[:, 0]"
   ]
  },
  {
   "cell_type": "code",
   "execution_count": 66,
   "id": "cc1d0eee-fc38-48c7-8963-b76657ceb23c",
   "metadata": {
    "execution": {
     "iopub.execute_input": "2023-01-22T01:56:37.340895Z",
     "iopub.status.busy": "2023-01-22T01:56:37.340616Z",
     "iopub.status.idle": "2023-01-22T01:56:37.350200Z",
     "shell.execute_reply": "2023-01-22T01:56:37.349676Z",
     "shell.execute_reply.started": "2023-01-22T01:56:37.340876Z"
    }
   },
   "outputs": [],
   "source": [
    "df = catboost.to_numpy()[:, 1:] * 0.55 + 0.45 * ems_gcn.to_numpy()[:, 1:]"
   ]
  },
  {
   "cell_type": "code",
   "execution_count": 73,
   "id": "46e3f197-ae87-46e8-83bd-fbe373106fe2",
   "metadata": {
    "execution": {
     "iopub.execute_input": "2023-01-22T02:00:49.511071Z",
     "iopub.status.busy": "2023-01-22T02:00:49.510521Z",
     "iopub.status.idle": "2023-01-22T02:00:49.577229Z",
     "shell.execute_reply": "2023-01-22T02:00:49.576595Z",
     "shell.execute_reply.started": "2023-01-22T02:00:49.511049Z"
    }
   },
   "outputs": [],
   "source": [
    "submit(df, \"sum_cat_gcn\")"
   ]
  },
  {
   "cell_type": "markdown",
   "id": "446d0321-f4a3-4ee4-8e68-2949f4a000e3",
   "metadata": {},
   "source": [
    "# Weighted model\n",
    "In the following we tried to concatenate the probabilities predicted by GCN, with those predicted with Catboosting, then training a weak learner to learn the best combinaison to have the highest accuracy .\n",
    "\n",
    "- we take the probabilities using GCN model and we concatenate it with Porbabilities using Catbbosting, \n",
    "- We use logistic regression , in order to learn which combinaision is fair enought between the concatenated , using lasso to select significant features"
   ]
  },
  {
   "cell_type": "code",
   "execution_count": 28,
   "id": "d9d4cba7-e32a-40d5-bd23-5b9305510cd8",
   "metadata": {},
   "outputs": [
    {
     "name": "stdout",
     "output_type": "stream",
     "text": [
      "GNN(\n",
      "  (layer1): GCNConv(726, 64)\n",
      "  (layer2): GCNConv(64, 32)\n",
      "  (decoder): Linear(in_features=32, out_features=18, bias=True)\n",
      ")\n"
     ]
    }
   ],
   "source": [
    "import torch\n",
    "import torch.nn.functional as F\n",
    "import torch.nn as nn\n",
    "from torch_geometric.nn import GCNConv, GATConv, GINConv, global_add_pool, SAGEConv\n",
    "from torch_geometric.nn import global_mean_pool\n",
    "\n",
    "num_node_features = features_train[0].shape[1]\n",
    "num_classes = 18\n",
    "\n",
    "device = torch.device(\"cuda\") if torch.cuda.is_available() else torch.device(\"cpu\")\n",
    "\n",
    "\n",
    "class GNN(torch.nn.Module):\n",
    "    def __init__(\n",
    "        self,\n",
    "        model_name=\"GCN\",\n",
    "        hidden_channels=[64, 64, 32],\n",
    "        num_heads=[1, 1, 1],\n",
    "        dropout=0.02,\n",
    "        n_classes=num_classes,\n",
    "        input_dim=num_node_features,\n",
    "    ):\n",
    "        super(GNN, self).__init__()\n",
    "        self.n_classes = n_classes\n",
    "        self.dropout = dropout\n",
    "        self.hidden_dim = hidden_channels[2]\n",
    "        self.model_name = model_name\n",
    "\n",
    "        if model_name == \"GCN\":\n",
    "            self.layer1 = GCNConv(\n",
    "                in_channels=input_dim, out_channels=hidden_channels[1]\n",
    "            )\n",
    "            self.layer2 = GCNConv(\n",
    "                in_channels=hidden_channels[1], out_channels=hidden_channels[2]\n",
    "            )\n",
    "            # self.layer3 = GCNConv(\n",
    "            #     in_channels=hidden_channels[1], out_channels=hidden_channels[2]\n",
    "            # )\n",
    "\n",
    "        elif model_name == \"GAT\":\n",
    "            self.layer1 = GATConv(\n",
    "                in_channels=input_dim,\n",
    "                out_channels=hidden_channels[0],\n",
    "                heads=num_heads[0],\n",
    "                edge_dim=5,\n",
    "            )\n",
    "            self.layer2 = GATConv(\n",
    "                hidden_channels[0] * num_heads[0],\n",
    "                hidden_channels[1],\n",
    "                heads=num_heads[1],\n",
    "                edge_dim=5,\n",
    "            )\n",
    "            self.layer3 = GATConv(\n",
    "                hidden_channels[1] * num_heads[1],\n",
    "                hidden_channels[2],\n",
    "                heads=1,\n",
    "                edge_dim=5,\n",
    "                concat=False,\n",
    "            )\n",
    "\n",
    "        elif model_name == \"GraphSAGE\":\n",
    "            self.layer1 = SAGEConv(input_dim, hidden_channels[0], aggr=\"lstm\")\n",
    "            self.layer2 = SAGEConv(hidden_channels[0], hidden_channels[1], aggr=\"lstm\")\n",
    "            self.layer3 = SAGEConv(hidden_channels[1], hidden_channels[2], aggr=\"lstm\")\n",
    "\n",
    "        self.decoder = nn.Linear(hidden_channels[2], n_classes)\n",
    "\n",
    "    def forward(self, x, edge_index, edge_attr, batch):\n",
    "        if self.model_name == \"GAT\":\n",
    "            x = F.dropout(x, p=self.dropout, training=self.training)\n",
    "            x = self.layer1(x, edge_index, edge_attr)\n",
    "            x = F.elu(x)\n",
    "\n",
    "            x = F.dropout(x, p=self.dropout, training=self.training)\n",
    "            x = self.layer2(x, edge_index, edge_attr)\n",
    "            x = F.elu(x)\n",
    "\n",
    "            x = F.dropout(x, p=self.dropout, training=self.training)\n",
    "            x = self.layer3(x, edge_index, edge_attr)\n",
    "        else:\n",
    "            x = F.dropout(x, p=self.dropout, training=self.training)\n",
    "            x = self.layer1(x, edge_index)\n",
    "            x = F.elu(x)\n",
    "            x = F.dropout(x, p=self.dropout, training=self.training)\n",
    "\n",
    "            x = self.layer2(x, edge_index)\n",
    "\n",
    "            # x = F.relu(x)\n",
    "            # x = F.dropout(x, p=self.dropout, training=self.training)\n",
    "            # x = self.layer3(x, edge_index)\n",
    "        x = F.elu(x)\n",
    "        x = global_mean_pool(x, batch)\n",
    "        # x = global_add_pool(x, batch)\n",
    "        # x = F.dropout(x, p=self.dropout, training=self.training)\n",
    "\n",
    "        x = self.decoder(x)\n",
    "        return x\n",
    "        # return F.log_softmax(x, dim=-1)\n",
    "\n",
    "\n",
    "model = GNN().to(device)\n",
    "print(model)"
   ]
  },
  {
   "cell_type": "code",
   "execution_count": 29,
   "id": "ea302fc7-2d9a-4ade-92b8-ed22624c67ca",
   "metadata": {},
   "outputs": [
    {
     "data": {
      "text/plain": [
       "GNN(\n",
       "  (layer1): GCNConv(726, 64)\n",
       "  (layer2): GCNConv(64, 32)\n",
       "  (decoder): Linear(in_features=32, out_features=18, bias=True)\n",
       ")"
      ]
     },
     "execution_count": 29,
     "metadata": {},
     "output_type": "execute_result"
    }
   ],
   "source": [
    "model.load_state_dict(torch.load(\"saved_model_150m_params_GAT.pth\"))\n",
    "model.eval()"
   ]
  },
  {
   "cell_type": "code",
   "execution_count": 30,
   "id": "b62d7a55-26a8-470f-8fc7-6cce8bbe0d09",
   "metadata": {},
   "outputs": [],
   "source": [
    "softmax = nn.Softmax(dim=1)\n",
    "\n",
    "\n",
    "def predict(loader):\n",
    "    model.eval()\n",
    "\n",
    "    correct = 0\n",
    "    pred = []\n",
    "    for data in loader:  # Iterate in batches over the training/test dataset.\n",
    "        data.to(device)\n",
    "        out = model(data.x, data.edge_index, _, data.batch)\n",
    "        out = softmax(out)\n",
    "        pred.append(out.to(\"cpu\").numpy())\n",
    "        # pred.append(out.argmax(dim=1))  # Use the class with highest probability.\n",
    "\n",
    "    return np.concatenate(pred, axis=0)  # Derive ratio of correct predictions. , proba"
   ]
  },
  {
   "cell_type": "code",
   "execution_count": 31,
   "id": "f521bc72-3c79-4520-8b89-4c40b491f147",
   "metadata": {
    "tags": []
   },
   "outputs": [],
   "source": [
    "from torch_geometric.data import Data\n",
    "\n",
    "\n",
    "def get_Data(adj_train, features_train, edge_features_train, y_train):\n",
    "    data = []\n",
    "    for i in range(len(features_train)):\n",
    "        adj_t = torch.tensor(adj_train[i].todense())\n",
    "        edge_index = adj_t.nonzero().t().contiguous()\n",
    "        x = torch.tensor(features_train[i]).float()\n",
    "        edge_attr = torch.tensor(edge_features_train[i]).float()\n",
    "\n",
    "        data.append(Data(x=x, edge_index=edge_index, edge_attr=edge_attr, y=y_train[i]))\n",
    "    return data\n",
    "\n",
    "\n",
    "data_obj = get_Data(adj_train, features_train, edge_features_train, y_train)"
   ]
  },
  {
   "cell_type": "code",
   "execution_count": 32,
   "id": "9da7f8f2-7d5d-4521-a9ab-d0551f5e6097",
   "metadata": {
    "tags": []
   },
   "outputs": [],
   "source": [
    "def get_Data_pred(adj_train, features_train, edge_features_train):\n",
    "    data = []\n",
    "    for i in range(len(features_train)):\n",
    "        adj_t = torch.tensor(adj_train[i].todense())\n",
    "        edge_index = adj_t.nonzero().t().contiguous()\n",
    "        x = torch.tensor(features_train[i]).float()\n",
    "        edge_attr = torch.tensor(edge_features_train[i]).float()\n",
    "\n",
    "        data.append(Data(x=x, edge_index=edge_index, edge_attr=edge_attr))\n",
    "    return data\n",
    "\n",
    "\n",
    "data_obj_pred = get_Data_pred(adj_test, features_test, edge_features_test)"
   ]
  },
  {
   "cell_type": "code",
   "execution_count": 33,
   "id": "47c41d39-40e5-43ab-9452-9e1e1c8b64f6",
   "metadata": {
    "tags": []
   },
   "outputs": [],
   "source": [
    "from torch_geometric.loader import DataLoader\n",
    "\n",
    "train_loader = DataLoader(data_obj, batch_size=32, shuffle=False)\n",
    "pred_loader = DataLoader(data_obj_pred, batch_size=32, shuffle=False)"
   ]
  },
  {
   "cell_type": "code",
   "execution_count": 34,
   "id": "89dd7ee4-c12e-4679-8656-281f62b82add",
   "metadata": {},
   "outputs": [],
   "source": [
    "with torch.no_grad():\n",
    "    predictions_proba_gcn = predict(train_loader)"
   ]
  },
  {
   "cell_type": "code",
   "execution_count": 101,
   "id": "b9bf78bb-adaf-4b7d-b7a8-dae4073128ea",
   "metadata": {},
   "outputs": [],
   "source": [
    "with torch.no_grad():\n",
    "    predictions_proba_gcn_sub = predict(pred_loader)"
   ]
  },
  {
   "cell_type": "code",
   "execution_count": 100,
   "id": "a6bd19fc-455c-44d5-9380-55cc69bb47b3",
   "metadata": {},
   "outputs": [],
   "source": [
    "# predictions_proba_catboost = model1.predict_proba(features_seq_train)  # target_train\n",
    "predictions_proba_catboost_sub = model1.predict_proba(features_seq_test)  # target_train"
   ]
  },
  {
   "cell_type": "code",
   "execution_count": 38,
   "id": "8b521be7-d93e-4878-8702-3d31de6901fb",
   "metadata": {},
   "outputs": [
    {
     "data": {
      "text/plain": [
       "True"
      ]
     },
     "execution_count": 38,
     "metadata": {},
     "output_type": "execute_result"
    }
   ],
   "source": [
    "predictions_proba_gcn.shape == predictions_proba_catboost.shape"
   ]
  },
  {
   "cell_type": "code",
   "execution_count": 39,
   "id": "2e172bbd-a396-4dfc-9a34-d6345b9df1b5",
   "metadata": {},
   "outputs": [],
   "source": [
    "dataset_prob = np.concatenate(\n",
    "    [predictions_proba_catboost, predictions_proba_gcn], axis=1\n",
    ")"
   ]
  },
  {
   "cell_type": "code",
   "execution_count": 102,
   "id": "8634c3ae-4d84-463b-8ce4-38b4802041db",
   "metadata": {},
   "outputs": [],
   "source": [
    "dataset_prob_sub = np.concatenate(\n",
    "    [predictions_proba_catboost_sub, predictions_proba_gcn_sub], axis=1\n",
    ")"
   ]
  },
  {
   "cell_type": "code",
   "execution_count": 40,
   "id": "5046ebf3-7dbf-4402-9324-2f3e266d5ef1",
   "metadata": {},
   "outputs": [
    {
     "data": {
      "text/plain": [
       "(4888, 36)"
      ]
     },
     "execution_count": 40,
     "metadata": {},
     "output_type": "execute_result"
    }
   ],
   "source": [
    "dataset_prob.shape"
   ]
  },
  {
   "cell_type": "code",
   "execution_count": 41,
   "id": "712c9030-db08-4541-8583-a339a3cbc1fc",
   "metadata": {},
   "outputs": [],
   "source": [
    "X_train_ada, X_test_ada, y_train_ada, y_test_ada = train_test_split(\n",
    "    dataset_prob, y_train, test_size=0.10, random_state=42\n",
    ")"
   ]
  },
  {
   "cell_type": "code",
   "execution_count": 97,
   "id": "1f947315-5a09-48e7-a958-8d14ed9a85fd",
   "metadata": {},
   "outputs": [
    {
     "data": {
      "text/html": [
       "<style>#sk-container-id-13 {color: black;background-color: white;}#sk-container-id-13 pre{padding: 0;}#sk-container-id-13 div.sk-toggleable {background-color: white;}#sk-container-id-13 label.sk-toggleable__label {cursor: pointer;display: block;width: 100%;margin-bottom: 0;padding: 0.3em;box-sizing: border-box;text-align: center;}#sk-container-id-13 label.sk-toggleable__label-arrow:before {content: \"▸\";float: left;margin-right: 0.25em;color: #696969;}#sk-container-id-13 label.sk-toggleable__label-arrow:hover:before {color: black;}#sk-container-id-13 div.sk-estimator:hover label.sk-toggleable__label-arrow:before {color: black;}#sk-container-id-13 div.sk-toggleable__content {max-height: 0;max-width: 0;overflow: hidden;text-align: left;background-color: #f0f8ff;}#sk-container-id-13 div.sk-toggleable__content pre {margin: 0.2em;color: black;border-radius: 0.25em;background-color: #f0f8ff;}#sk-container-id-13 input.sk-toggleable__control:checked~div.sk-toggleable__content {max-height: 200px;max-width: 100%;overflow: auto;}#sk-container-id-13 input.sk-toggleable__control:checked~label.sk-toggleable__label-arrow:before {content: \"▾\";}#sk-container-id-13 div.sk-estimator input.sk-toggleable__control:checked~label.sk-toggleable__label {background-color: #d4ebff;}#sk-container-id-13 div.sk-label input.sk-toggleable__control:checked~label.sk-toggleable__label {background-color: #d4ebff;}#sk-container-id-13 input.sk-hidden--visually {border: 0;clip: rect(1px 1px 1px 1px);clip: rect(1px, 1px, 1px, 1px);height: 1px;margin: -1px;overflow: hidden;padding: 0;position: absolute;width: 1px;}#sk-container-id-13 div.sk-estimator {font-family: monospace;background-color: #f0f8ff;border: 1px dotted black;border-radius: 0.25em;box-sizing: border-box;margin-bottom: 0.5em;}#sk-container-id-13 div.sk-estimator:hover {background-color: #d4ebff;}#sk-container-id-13 div.sk-parallel-item::after {content: \"\";width: 100%;border-bottom: 1px solid gray;flex-grow: 1;}#sk-container-id-13 div.sk-label:hover label.sk-toggleable__label {background-color: #d4ebff;}#sk-container-id-13 div.sk-serial::before {content: \"\";position: absolute;border-left: 1px solid gray;box-sizing: border-box;top: 0;bottom: 0;left: 50%;z-index: 0;}#sk-container-id-13 div.sk-serial {display: flex;flex-direction: column;align-items: center;background-color: white;padding-right: 0.2em;padding-left: 0.2em;position: relative;}#sk-container-id-13 div.sk-item {position: relative;z-index: 1;}#sk-container-id-13 div.sk-parallel {display: flex;align-items: stretch;justify-content: center;background-color: white;position: relative;}#sk-container-id-13 div.sk-item::before, #sk-container-id-13 div.sk-parallel-item::before {content: \"\";position: absolute;border-left: 1px solid gray;box-sizing: border-box;top: 0;bottom: 0;left: 50%;z-index: -1;}#sk-container-id-13 div.sk-parallel-item {display: flex;flex-direction: column;z-index: 1;position: relative;background-color: white;}#sk-container-id-13 div.sk-parallel-item:first-child::after {align-self: flex-end;width: 50%;}#sk-container-id-13 div.sk-parallel-item:last-child::after {align-self: flex-start;width: 50%;}#sk-container-id-13 div.sk-parallel-item:only-child::after {width: 0;}#sk-container-id-13 div.sk-dashed-wrapped {border: 1px dashed gray;margin: 0 0.4em 0.5em 0.4em;box-sizing: border-box;padding-bottom: 0.4em;background-color: white;}#sk-container-id-13 div.sk-label label {font-family: monospace;font-weight: bold;display: inline-block;line-height: 1.2em;}#sk-container-id-13 div.sk-label-container {text-align: center;}#sk-container-id-13 div.sk-container {/* jupyter's `normalize.less` sets `[hidden] { display: none; }` but bootstrap.min.css set `[hidden] { display: none !important; }` so we also need the `!important` here to be able to override the default hidden behavior on the sphinx rendered scikit-learn.org. See: https://github.com/scikit-learn/scikit-learn/issues/21755 */display: inline-block !important;position: relative;}#sk-container-id-13 div.sk-text-repr-fallback {display: none;}</style><div id=\"sk-container-id-13\" class=\"sk-top-container\"><div class=\"sk-text-repr-fallback\"><pre>LogisticRegression(C=0.5, l1_ratio=0.0, penalty=&#x27;elasticnet&#x27;, solver=&#x27;saga&#x27;)</pre><b>In a Jupyter environment, please rerun this cell to show the HTML representation or trust the notebook. <br />On GitHub, the HTML representation is unable to render, please try loading this page with nbviewer.org.</b></div><div class=\"sk-container\" hidden><div class=\"sk-item\"><div class=\"sk-estimator sk-toggleable\"><input class=\"sk-toggleable__control sk-hidden--visually\" id=\"sk-estimator-id-13\" type=\"checkbox\" checked><label for=\"sk-estimator-id-13\" class=\"sk-toggleable__label sk-toggleable__label-arrow\">LogisticRegression</label><div class=\"sk-toggleable__content\"><pre>LogisticRegression(C=0.5, l1_ratio=0.0, penalty=&#x27;elasticnet&#x27;, solver=&#x27;saga&#x27;)</pre></div></div></div></div></div>"
      ],
      "text/plain": [
       "LogisticRegression(C=0.5, l1_ratio=0.0, penalty='elasticnet', solver='saga')"
      ]
     },
     "execution_count": 97,
     "metadata": {},
     "output_type": "execute_result"
    }
   ],
   "source": [
    "from sklearn.linear_model import LogisticRegression\n",
    "\n",
    "clf = LogisticRegression(penalty=\"elasticnet\", l1_ratio=0.0, C=0.5, solver=\"saga\")\n",
    "clf.fit(X_train_ada, y_train_ada)"
   ]
  },
  {
   "cell_type": "code",
   "execution_count": 103,
   "id": "d169b607-881c-4862-bd4a-6796ef9cc659",
   "metadata": {},
   "outputs": [],
   "source": [
    "pred_ada = clf.predict(X_test_ada)\n",
    "pred_proba_ada = clf.predict_proba(dataset_prob_sub)\n",
    "\n",
    "# clf.score(X_test_ada, y_test_ada)"
   ]
  },
  {
   "cell_type": "code",
   "execution_count": 99,
   "id": "5b810aff-e7d4-4a6e-8bb3-b2b288188a35",
   "metadata": {},
   "outputs": [
    {
     "data": {
      "text/plain": [
       "0.9415871087485389"
      ]
     },
     "execution_count": 99,
     "metadata": {},
     "output_type": "execute_result"
    }
   ],
   "source": [
    "log_loss(y_test_ada, pred_proba_ada, labels=np.unique(y_test_ada))"
   ]
  },
  {
   "cell_type": "code",
   "execution_count": 104,
   "id": "4dd01e42-b1bf-42bf-833a-ddc6167075d4",
   "metadata": {},
   "outputs": [],
   "source": [
    "submit(pred_proba_ada, \"tkharbi9a\")"
   ]
  },
  {
   "cell_type": "code",
   "execution_count": 57,
   "id": "1650a760-b6f8-43f8-a0c0-a3c9bdd6f08b",
   "metadata": {},
   "outputs": [],
   "source": [
    "pred = (predictions_proba_catboost + predictions_proba_gcn) / 2"
   ]
  }
 ],
 "metadata": {
  "kernelspec": {
   "display_name": "Python 3 (ipykernel)",
   "language": "python",
   "name": "python3"
  },
  "language_info": {
   "codemirror_mode": {
    "name": "ipython",
    "version": 3
   },
   "file_extension": ".py",
   "mimetype": "text/x-python",
   "name": "python",
   "nbconvert_exporter": "python",
   "pygments_lexer": "ipython3",
   "version": "3.10.6"
  }
 },
 "nbformat": 4,
 "nbformat_minor": 5
}
